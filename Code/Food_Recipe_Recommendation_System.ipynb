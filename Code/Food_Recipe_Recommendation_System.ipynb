{
  "cells": [
    {
      "cell_type": "markdown",
      "metadata": {
        "id": "8LtoqedD1y0_"
      },
      "source": [
        "# **Food Recipe Recommender System**\n",
        "\n",
        "## **Kaggle - [foodRecSys-VI](https://www.kaggle.com/elisaxxygao/foodrecsysv1)**"
      ]
    },
    {
      "cell_type": "markdown",
      "metadata": {
        "id": "_dxWAgYu86Lh"
      },
      "source": [
        "## **Google Drive Connection For Kaggle Dataset Access**"
      ]
    },
    {
      "cell_type": "code",
      "execution_count": null,
      "metadata": {
        "colab": {
          "base_uri": "https://localhost:8080/"
        },
        "id": "FBOpNTTr8zuO",
        "outputId": "feef2542-7a6d-4773-8004-4061e9a22edb"
      },
      "outputs": [
        {
          "output_type": "stream",
          "name": "stdout",
          "text": [
            "Drive already mounted at /content/drive; to attempt to forcibly remount, call drive.mount(\"/content/drive\", force_remount=True).\n"
          ]
        }
      ],
      "source": [
        "from google.colab import drive\n",
        "drive.mount('/content/drive')"
      ]
    },
    {
      "cell_type": "markdown",
      "metadata": {
        "id": "VkdblDPMHQIY"
      },
      "source": [
        "## **Introduction to Recommendation Systems**\n",
        "- Lectures [[41 - 45]](https://www.youtube.com/watch?v=1JRrCEgiyHM&list=PLLssT5z_DsK9JDLcT8T62VtzwyW9LNepV&index=41) "
      ]
    },
    {
      "cell_type": "markdown",
      "metadata": {
        "id": "70GjSZ-Z9Uw_"
      },
      "source": [
        "## **Introduction to 'Surprise'**\n",
        "- https://github.com/NicolasHug/Surprise \n",
        "- [Basic Functions](https://surprise.readthedocs.io/en/stable/getting_started.html)\n",
        "- [Prediction Algorithms](https://surprise.readthedocs.io/en/stable/prediction_algorithms_package.html)\n",
        "- Surprise is a Python scikit for building and analysing recommender systems that deal with explicit rating data"
      ]
    },
    {
      "cell_type": "markdown",
      "metadata": {
        "id": "tHLEgWfE-Bzl"
      },
      "source": [
        "## **Surprise Setup**"
      ]
    },
    {
      "cell_type": "code",
      "execution_count": null,
      "metadata": {
        "colab": {
          "base_uri": "https://localhost:8080/"
        },
        "id": "wC395hbn2LUW",
        "outputId": "459d87cb-774e-4e35-d8ce-7078c16365bb"
      },
      "outputs": [
        {
          "name": "stdout",
          "output_type": "stream",
          "text": [
            "Collecting scikit-surprise\n",
            "  Using cached scikit-surprise-1.1.1.tar.gz (11.8 MB)\n",
            "Requirement already satisfied: joblib>=0.11 in /usr/local/lib/python3.7/dist-packages (from scikit-surprise) (1.1.0)\n",
            "Requirement already satisfied: numpy>=1.11.2 in /usr/local/lib/python3.7/dist-packages (from scikit-surprise) (1.19.5)\n",
            "Requirement already satisfied: scipy>=1.0.0 in /usr/local/lib/python3.7/dist-packages (from scikit-surprise) (1.4.1)\n",
            "Requirement already satisfied: six>=1.10.0 in /usr/local/lib/python3.7/dist-packages (from scikit-surprise) (1.15.0)\n",
            "Building wheels for collected packages: scikit-surprise\n",
            "  Building wheel for scikit-surprise (setup.py) ... \u001b[?25l\u001b[?25hdone\n",
            "  Created wheel for scikit-surprise: filename=scikit_surprise-1.1.1-cp37-cp37m-linux_x86_64.whl size=1623232 sha256=82644dca05790208b6b3e8978b4e680c09c9def47a63f368964091a55d2ac2df\n",
            "  Stored in directory: /root/.cache/pip/wheels/76/44/74/b498c42be47b2406bd27994e16c5188e337c657025ab400c1c\n",
            "Successfully built scikit-surprise\n",
            "Installing collected packages: scikit-surprise\n",
            "Successfully installed scikit-surprise-1.1.1\n"
          ]
        }
      ],
      "source": [
        "!pip install scikit-surprise"
      ]
    },
    {
      "cell_type": "markdown",
      "metadata": {
        "id": "mLffW9EAM2-X"
      },
      "source": [
        "## **Using Custom Dataset [Data Frames] :** \n",
        "- https://surprise.readthedocs.io/en/stable/getting_started.html\n",
        "- Pandas is used to read CSV's\n",
        "- Reader defines the format of the Utility Matrix"
      ]
    },
    {
      "cell_type": "code",
      "execution_count": null,
      "metadata": {
        "colab": {
          "base_uri": "https://localhost:8080/"
        },
        "id": "eeKGhWFFNLfS",
        "outputId": "0abed3da-4eb8-48d3-c33b-5366b93a4e77"
      },
      "outputs": [
        {
          "data": {
            "text/plain": [
              "<surprise.dataset.DatasetAutoFolds at 0x7fa7413de610>"
            ]
          },
          "execution_count": 58,
          "metadata": {},
          "output_type": "execute_result"
        }
      ],
      "source": [
        "import pandas as pd\n",
        "\n",
        "from surprise import Dataset\n",
        "from surprise import Reader\n",
        "\n",
        "file_path = '/content/drive/MyDrive/ML/Kaggle_Dataset/core-data-train_rating.csv'\n",
        "reader = Reader(line_format=\"user item rating\", skip_lines=1, rating_scale=(1,5))\n",
        "df = pd.read_csv(file_path)[:100000]\n",
        "df.drop(\"dateLastModified\", axis=1, inplace=True)\n",
        "data = Dataset.load_from_df(df, reader=reader)\n",
        "\n",
        "data\n"
      ]
    },
    {
      "cell_type": "markdown",
      "metadata": {
        "id": "mxJzPyw7nXch"
      },
      "source": [
        "## **Cross-Validation and Testing**"
      ]
    },
    {
      "cell_type": "markdown",
      "metadata": {
        "id": "FpjqdnHlQwzA"
      },
      "source": [
        "### Automatic Cross-Validation : \n",
        "- https://surprise.readthedocs.io/en/stable/getting_started.html\n",
        "- `cross_validate()` - runs a cross-validation procedure and computes some accuracy measures\n",
        "- `algo` - prediction algorithm used\n",
        "- `data` - utility matrix to be processed\n",
        "- `measures` - accuracy/error measures on various folds\n",
        "- `cv` - number of folds\n",
        "- `verbose` - whether to print estimate bias, similarity etc"
      ]
    },
    {
      "cell_type": "code",
      "execution_count": null,
      "metadata": {
        "colab": {
          "base_uri": "https://localhost:8080/"
        },
        "id": "VHVHFd4pQ2Gm",
        "outputId": "9629ed59-6a6d-42f1-be50-d11faa3b6c65"
      },
      "outputs": [
        {
          "name": "stdout",
          "output_type": "stream",
          "text": [
            "Evaluating RMSE, MAE of algorithm SVD on 5 split(s).\n",
            "\n",
            "                  Fold 1  Fold 2  Fold 3  Fold 4  Fold 5  Mean    Std     \n",
            "RMSE (testset)    0.8225  0.8194  0.8189  0.8145  0.8077  0.8166  0.0051  \n",
            "MAE (testset)     0.6027  0.6002  0.5988  0.5970  0.5941  0.5986  0.0029  \n",
            "Fit time          5.49    5.63    5.43    5.21    5.32    5.42    0.14    \n",
            "Test time         0.17    0.18    0.18    0.19    0.21    0.19    0.01    \n"
          ]
        },
        {
          "data": {
            "text/plain": [
              "{'fit_time': (5.488012075424194,\n",
              "  5.634807109832764,\n",
              "  5.432241439819336,\n",
              "  5.2131736278533936,\n",
              "  5.320219039916992),\n",
              " 'test_mae': array([0.60271279, 0.60024937, 0.5988361 , 0.59696385, 0.59413068]),\n",
              " 'test_rmse': array([0.82245193, 0.81939062, 0.81888201, 0.81453997, 0.80765453]),\n",
              " 'test_time': (0.17419123649597168,\n",
              "  0.17972517013549805,\n",
              "  0.18015050888061523,\n",
              "  0.18920516967773438,\n",
              "  0.21079540252685547)}"
            ]
          },
          "execution_count": 46,
          "metadata": {},
          "output_type": "execute_result"
        }
      ],
      "source": [
        "from surprise.model_selection import cross_validate\n",
        "from surprise import SVD\n",
        "\n",
        "algo = SVD()\n",
        "\n",
        "cross_validate(algo, data, measures=['RMSE', 'MAE'], cv=5, verbose=True)"
      ]
    },
    {
      "cell_type": "markdown",
      "metadata": {
        "id": "mr7QL7W2Rcu_"
      },
      "source": [
        "### Train-Test Split, Fit, Test and Predict - Alternative to Cross-Validation\n",
        "- https://surprise.readthedocs.io/en/stable/getting_started.html\n",
        "- `train_test_split()` - samples a trainset and testset with given sizes\n",
        "- `fit()` - to train algorithms to trainset\n",
        "- `test()` - return the predictions made rom the testset\n",
        "- `predict()` - fro directly predicting the ratings for a user-item pair\n",
        "- `data` - utility matrix to be processed\n",
        "- `test_size` - fraction of model to be considered as test dataset"
      ]
    },
    {
      "cell_type": "code",
      "execution_count": null,
      "metadata": {
        "colab": {
          "base_uri": "https://localhost:8080/"
        },
        "id": "R-FZdnZASXTD",
        "outputId": "0241fec1-5ebf-444b-b003-20df0a56eac4"
      },
      "outputs": [
        {
          "name": "stdout",
          "output_type": "stream",
          "text": [
            "RMSE: 0.8224\n",
            "MAE:  0.6041\n"
          ]
        },
        {
          "data": {
            "text/plain": [
              "0.6040962001267112"
            ]
          },
          "execution_count": 47,
          "metadata": {},
          "output_type": "execute_result"
        }
      ],
      "source": [
        "from surprise import accuracy\n",
        "from surprise.model_selection import train_test_split\n",
        "from surprise import SVD\n",
        "\n",
        "algo = SVD()\n",
        "trainset, testset = train_test_split(data, test_size=0.25)\n",
        "algo.fit(trainset)\n",
        "predictions = algo.test(testset)\n",
        "accuracy.rmse(predictions)\n",
        "accuracy.mae(predictions)"
      ]
    },
    {
      "cell_type": "markdown",
      "metadata": {
        "id": "pt9e2zAHcgMf"
      },
      "source": [
        "## **Prediction Algorithms**"
      ]
    },
    {
      "cell_type": "markdown",
      "metadata": {
        "id": "J1S-j19nj0HD"
      },
      "source": [
        "### KNN Basics\n",
        "- https://surprise.readthedocs.io/en/stable/knn_inspired.html\n",
        "- Basic collaborative filtering algorithm\n",
        "- `k` - maximum number of neighbours yo be taken into account\n",
        "- `min_k` - minimum number of neighbours yo be taken into account\n",
        "- `sim_options` - a dictionary of options for the similarity measure\n",
        "- `verbose` - whether to print trace maessages of bias estimation, similarity etc"
      ]
    },
    {
      "cell_type": "code",
      "execution_count": null,
      "metadata": {
        "colab": {
          "base_uri": "https://localhost:8080/"
        },
        "id": "vmFsH9uwdftG",
        "outputId": "9f4042de-fe95-447e-97e8-844ddba0d4b7"
      },
      "outputs": [
        {
          "name": "stdout",
          "output_type": "stream",
          "text": [
            "Computing the cosine similarity matrix...\n",
            "Done computing similarity matrix.\n",
            "RMSE: 0.8692\n",
            "MAE:  0.6711\n"
          ]
        },
        {
          "data": {
            "text/plain": [
              "0.6711032614656601"
            ]
          },
          "execution_count": 6,
          "metadata": {},
          "output_type": "execute_result"
        }
      ],
      "source": [
        "from surprise.prediction_algorithms.knns import KNNBasic\n",
        "\n",
        "algorithm1 = KNNBasic(k=20, min_k=5, sim_options={\"name\":\"cosine\"}, verbose=True)\n",
        "algorithm1.fit(trainset)\n",
        "predictions1 = algorithm1.test(testset)\n",
        "accuracy.rmse(predictions1)\n",
        "accuracy.mae(predictions1)"
      ]
    },
    {
      "cell_type": "markdown",
      "metadata": {
        "id": "SVixgKZke5RY"
      },
      "source": [
        "#### **Tuning Parameters of KNNBasics**"
      ]
    },
    {
      "cell_type": "markdown",
      "metadata": {
        "id": "kt_YzIH4jPlG"
      },
      "source": [
        "##### `k` values"
      ]
    },
    {
      "cell_type": "code",
      "execution_count": null,
      "metadata": {
        "colab": {
          "base_uri": "https://localhost:8080/"
        },
        "id": "wfzyn33NfOZJ",
        "outputId": "a65c3cdd-0fea-41f9-d880-73578ce569b9"
      },
      "outputs": [
        {
          "name": "stdout",
          "output_type": "stream",
          "text": [
            "Computing the cosine similarity matrix...\n",
            "Done computing similarity matrix.\n",
            "RMSE: 0.8711\n",
            "MAE:  0.6706\n",
            "Computing the cosine similarity matrix...\n",
            "Done computing similarity matrix.\n",
            "RMSE: 0.8692\n",
            "MAE:  0.6711\n",
            "Computing the cosine similarity matrix...\n",
            "Done computing similarity matrix.\n",
            "RMSE: 0.8689\n",
            "MAE:  0.6715\n",
            "Computing the cosine similarity matrix...\n",
            "Done computing similarity matrix.\n",
            "RMSE: 0.8688\n",
            "MAE:  0.6716\n",
            "Computing the cosine similarity matrix...\n",
            "Done computing similarity matrix.\n",
            "RMSE: 0.8688\n",
            "MAE:  0.6717\n"
          ]
        }
      ],
      "source": [
        "from surprise.prediction_algorithms.knns import KNNBasic\n",
        "import numpy as np\n",
        "import matplotlib.pyplot as plt\n",
        "\n",
        "k_values = [10, 20, 30, 40, 50]\n",
        "rmse_errors = []\n",
        "mae_errors = []\n",
        "\n",
        "for k in k_values:\n",
        "  temp_algo = KNNBasic(k=k, min_k=5, sim_options={\"name\":\"cosine\"}, verbose=True)\n",
        "  temp_algo.fit(trainset)\n",
        "  temp_pred = temp_algo.test(testset)\n",
        "  rmse_errors.append(accuracy.rmse(temp_pred))\n",
        "  mae_errors.append(accuracy.mae(temp_pred))"
      ]
    },
    {
      "cell_type": "markdown",
      "metadata": {
        "id": "JVqfWDkYhUpc"
      },
      "source": [
        "###### Root Mean Square Error Values - Decreases with increase in maximum number of neighbours"
      ]
    },
    {
      "cell_type": "code",
      "execution_count": null,
      "metadata": {
        "colab": {
          "base_uri": "https://localhost:8080/",
          "height": 282
        },
        "id": "BLCSUk7ZhVk2",
        "outputId": "b725e3af-98d6-467c-fde2-e602ebe4c971"
      },
      "outputs": [
        {
          "data": {
            "text/plain": [
              "<function matplotlib.pyplot.show>"
            ]
          },
          "execution_count": 8,
          "metadata": {},
          "output_type": "execute_result"
        },
        {
          "data": {
            "image/png": "[encoded data removed]",
            "text/plain": [
              "<Figure size 432x288 with 1 Axes>"
            ]
          },
          "metadata": {},
          "output_type": "display_data"
        }
      ],
      "source": [
        "plt.plot(np.array(k_values), np.array(rmse_errors), label=\"RMSE\")\n",
        "plt.show"
      ]
    },
    {
      "cell_type": "markdown",
      "metadata": {
        "id": "uCYbIUSXhBSf"
      },
      "source": [
        "###### Mean Absolute Error Values - Increases with increase in maximum number of neighbours"
      ]
    },
    {
      "cell_type": "code",
      "execution_count": null,
      "metadata": {
        "colab": {
          "base_uri": "https://localhost:8080/",
          "height": 282
        },
        "id": "w0ZSnYXghGvX",
        "outputId": "90d73856-c563-49be-d1ce-20fb0d3aebf4"
      },
      "outputs": [
        {
          "data": {
            "text/plain": [
              "<function matplotlib.pyplot.show>"
            ]
          },
          "execution_count": 9,
          "metadata": {},
          "output_type": "execute_result"
        },
        {
          "data": {
            "image/png": "[encoded data removed]",
            "text/plain": [
              "<Figure size 432x288 with 1 Axes>"
            ]
          },
          "metadata": {},
          "output_type": "display_data"
        }
      ],
      "source": [
        "plt.plot(np.array(k_values), np.array(mae_errors), label=\"MAE\")\n",
        "plt.show"
      ]
    },
    {
      "cell_type": "markdown",
      "metadata": {
        "id": "ak4J_W9Uhrgc"
      },
      "source": [
        "##### `min_k` values"
      ]
    },
    {
      "cell_type": "code",
      "execution_count": null,
      "metadata": {
        "colab": {
          "base_uri": "https://localhost:8080/"
        },
        "id": "jN9vvAXMhwUn",
        "outputId": "53e2ae13-4cf9-445d-de42-be378c3c8f59"
      },
      "outputs": [
        {
          "name": "stdout",
          "output_type": "stream",
          "text": [
            "Computing the cosine similarity matrix...\n",
            "Done computing similarity matrix.\n",
            "RMSE: 0.8931\n",
            "MAE:  0.6731\n",
            "Computing the cosine similarity matrix...\n",
            "Done computing similarity matrix.\n",
            "RMSE: 0.8727\n",
            "MAE:  0.6706\n",
            "Computing the cosine similarity matrix...\n",
            "Done computing similarity matrix.\n",
            "RMSE: 0.8668\n",
            "MAE:  0.6722\n",
            "Computing the cosine similarity matrix...\n",
            "Done computing similarity matrix.\n",
            "RMSE: 0.8647\n",
            "MAE:  0.6741\n",
            "Computing the cosine similarity matrix...\n",
            "Done computing similarity matrix.\n",
            "RMSE: 0.8638\n",
            "MAE:  0.6759\n"
          ]
        }
      ],
      "source": [
        "from surprise.prediction_algorithms.knns import KNNBasic\n",
        "import numpy as np\n",
        "import matplotlib.pyplot as plt\n",
        "\n",
        "min_k_values = [2, 4, 6, 8, 10]\n",
        "rmse_errors = []\n",
        "mae_errors = []\n",
        "\n",
        "for min_k in min_k_values:\n",
        "  temp_algo = KNNBasic(k=30, min_k=min_k, sim_options={\"name\":\"cosine\"}, verbose=True)\n",
        "  temp_algo.fit(trainset)\n",
        "  temp_pred = temp_algo.test(testset)\n",
        "  rmse_errors.append(accuracy.rmse(temp_pred))\n",
        "  mae_errors.append(accuracy.mae(temp_pred))"
      ]
    },
    {
      "cell_type": "markdown",
      "metadata": {
        "id": "ChPwTvCxiBDi"
      },
      "source": [
        "###### Root Mean Square Error Values - Decreases with increase in minimum number of neighbours"
      ]
    },
    {
      "cell_type": "code",
      "execution_count": null,
      "metadata": {
        "colab": {
          "base_uri": "https://localhost:8080/",
          "height": 282
        },
        "id": "CuRFl7rziCMd",
        "outputId": "921e3182-b38d-49cc-8244-107b6297de26"
      },
      "outputs": [
        {
          "data": {
            "text/plain": [
              "<function matplotlib.pyplot.show>"
            ]
          },
          "execution_count": 11,
          "metadata": {},
          "output_type": "execute_result"
        },
        {
          "data": {
            "image/png": "[encoded data removed]",
            "text/plain": [
              "<Figure size 432x288 with 1 Axes>"
            ]
          },
          "metadata": {},
          "output_type": "display_data"
        }
      ],
      "source": [
        "plt.plot(np.array(min_k_values), np.array(rmse_errors), label=\"RMSE\")\n",
        "plt.show"
      ]
    },
    {
      "cell_type": "markdown",
      "metadata": {
        "id": "Zks79vhWiT-z"
      },
      "source": [
        "###### Mean Absolute Error Values - Increases with increase in minimum number of neighbours"
      ]
    },
    {
      "cell_type": "code",
      "execution_count": null,
      "metadata": {
        "colab": {
          "base_uri": "https://localhost:8080/",
          "height": 282
        },
        "id": "RpNRTX_5iXR-",
        "outputId": "ae6c8bc5-0082-402e-dc56-91aded5f35d7"
      },
      "outputs": [
        {
          "data": {
            "text/plain": [
              "<function matplotlib.pyplot.show>"
            ]
          },
          "execution_count": 12,
          "metadata": {},
          "output_type": "execute_result"
        },
        {
          "data": {
            "image/png": "[encoded data removed]",
            "text/plain": [
              "<Figure size 432x288 with 1 Axes>"
            ]
          },
          "metadata": {},
          "output_type": "display_data"
        }
      ],
      "source": [
        "plt.plot(np.array(min_k_values), np.array(mae_errors), label=\"MAE\")\n",
        "plt.show"
      ]
    },
    {
      "cell_type": "markdown",
      "metadata": {
        "id": "Dd2UbstDioKY"
      },
      "source": [
        "### KNN With Means\n",
        "- https://surprise.readthedocs.io/en/stable/knn_inspired.html\n",
        "- Basic collaborative filtering algorithm, taking into account the mean ratings of each user\n",
        "- `k` - maximum number of neighbours yo be taken into account\n",
        "- `min_k` - minimum number of neighbours yo be taken into account\n",
        "- `sim_options` - a dictionary of options for the similarity measure\n",
        "- `verbose` - whether to print trace maessages of bias estimation, similarity etc"
      ]
    },
    {
      "cell_type": "code",
      "execution_count": null,
      "metadata": {
        "colab": {
          "base_uri": "https://localhost:8080/"
        },
        "id": "1vJlFL9hi3T_",
        "outputId": "315d6f0a-69cc-4beb-b5ca-9016722d8632"
      },
      "outputs": [
        {
          "name": "stdout",
          "output_type": "stream",
          "text": [
            "Computing the cosine similarity matrix...\n",
            "Done computing similarity matrix.\n",
            "RMSE: 0.8475\n",
            "MAE:  0.6002\n"
          ]
        },
        {
          "data": {
            "text/plain": [
              "0.6002265636795177"
            ]
          },
          "execution_count": 6,
          "metadata": {},
          "output_type": "execute_result"
        }
      ],
      "source": [
        "from surprise.prediction_algorithms.knns import KNNWithMeans\n",
        "\n",
        "algorithm2 = KNNWithMeans(k=20, min_k=5, sim_options={\"name\":\"cosine\"}, verbose=True)\n",
        "algorithm2.fit(trainset)\n",
        "predictions2 = algorithm2.test(testset)\n",
        "accuracy.rmse(predictions2)\n",
        "accuracy.mae(predictions2)"
      ]
    },
    {
      "cell_type": "markdown",
      "metadata": {
        "id": "G2eFWpjvkKtV"
      },
      "source": [
        "#### **Tuning Parameters of KNNWithMeans**"
      ]
    },
    {
      "cell_type": "markdown",
      "metadata": {
        "id": "3610O10nkNhG"
      },
      "source": [
        "##### `k` values"
      ]
    },
    {
      "cell_type": "code",
      "execution_count": null,
      "metadata": {
        "colab": {
          "base_uri": "https://localhost:8080/"
        },
        "id": "lpJO7E4mka2o",
        "outputId": "e7dd7343-6ece-41bb-e291-95f2bef1f5c3"
      },
      "outputs": [
        {
          "name": "stdout",
          "output_type": "stream",
          "text": [
            "Computing the cosine similarity matrix...\n",
            "Done computing similarity matrix.\n",
            "RMSE: 0.8567\n",
            "MAE:  0.6066\n",
            "Computing the cosine similarity matrix...\n",
            "Done computing similarity matrix.\n",
            "RMSE: 0.8551\n",
            "MAE:  0.6057\n",
            "Computing the cosine similarity matrix...\n",
            "Done computing similarity matrix.\n",
            "RMSE: 0.8549\n",
            "MAE:  0.6055\n",
            "Computing the cosine similarity matrix...\n",
            "Done computing similarity matrix.\n",
            "RMSE: 0.8549\n",
            "MAE:  0.6054\n",
            "Computing the cosine similarity matrix...\n",
            "Done computing similarity matrix.\n",
            "RMSE: 0.8548\n",
            "MAE:  0.6053\n"
          ]
        }
      ],
      "source": [
        "from surprise.prediction_algorithms.knns import KNNWithMeans\n",
        "import numpy as np\n",
        "import matplotlib.pyplot as plt\n",
        "\n",
        "k_values = [10, 20, 30, 40, 50]\n",
        "rmse_errors = []\n",
        "mae_errors = []\n",
        "\n",
        "for k in k_values:\n",
        "  temp_algo = KNNWithMeans(k=k, min_k=5, sim_options={\"name\":\"cosine\"}, verbose=True)\n",
        "  temp_algo.fit(trainset)\n",
        "  temp_pred = temp_algo.test(testset)\n",
        "  rmse_errors.append(accuracy.rmse(temp_pred))\n",
        "  mae_errors.append(accuracy.mae(temp_pred))"
      ]
    },
    {
      "cell_type": "markdown",
      "metadata": {
        "id": "r3ugGQU-kpB9"
      },
      "source": [
        "###### Root Mean Square Error Values - Decreases with increase in maximum number of neighbours"
      ]
    },
    {
      "cell_type": "code",
      "execution_count": null,
      "metadata": {
        "colab": {
          "base_uri": "https://localhost:8080/",
          "height": 282
        },
        "id": "gyq-WjU6ksUj",
        "outputId": "3f19e374-6607-4d97-897c-3e246ffaecd7"
      },
      "outputs": [
        {
          "data": {
            "text/plain": [
              "<function matplotlib.pyplot.show>"
            ]
          },
          "execution_count": 15,
          "metadata": {},
          "output_type": "execute_result"
        },
        {
          "data": {
            "image/png": "[encoded data removed]",
            "text/plain": [
              "<Figure size 432x288 with 1 Axes>"
            ]
          },
          "metadata": {},
          "output_type": "display_data"
        }
      ],
      "source": [
        "plt.plot(np.array(k_values), np.array(rmse_errors), label=\"RMSE\")\n",
        "plt.show"
      ]
    },
    {
      "cell_type": "markdown",
      "metadata": {
        "id": "z3W8HFoZk1Fv"
      },
      "source": [
        "###### Mean Absolute Error Values - Increases with increase in maximum number of neighbours"
      ]
    },
    {
      "cell_type": "code",
      "execution_count": null,
      "metadata": {
        "colab": {
          "base_uri": "https://localhost:8080/",
          "height": 283
        },
        "id": "c2GnKoEwk1jg",
        "outputId": "612dccbe-f037-4b63-e584-19b77017b3fd"
      },
      "outputs": [
        {
          "data": {
            "text/plain": [
              "<function matplotlib.pyplot.show>"
            ]
          },
          "execution_count": 16,
          "metadata": {},
          "output_type": "execute_result"
        },
        {
          "data": {
            "image/png": "[encoded data removed]",
            "text/plain": [
              "<Figure size 432x288 with 1 Axes>"
            ]
          },
          "metadata": {},
          "output_type": "display_data"
        }
      ],
      "source": [
        "plt.plot(np.array(k_values), np.array(mae_errors), label=\"MAE\")\n",
        "plt.show"
      ]
    },
    {
      "cell_type": "markdown",
      "metadata": {
        "id": "etHkgS3rk-k6"
      },
      "source": [
        "##### `min_k` values"
      ]
    },
    {
      "cell_type": "code",
      "execution_count": null,
      "metadata": {
        "colab": {
          "base_uri": "https://localhost:8080/"
        },
        "id": "0mPW6V0alCeV",
        "outputId": "11c3b8f9-fa73-449d-c319-741b9ad6260a"
      },
      "outputs": [
        {
          "name": "stdout",
          "output_type": "stream",
          "text": [
            "Computing the cosine similarity matrix...\n",
            "Done computing similarity matrix.\n",
            "RMSE: 0.8714\n",
            "MAE:  0.6119\n",
            "Computing the cosine similarity matrix...\n",
            "Done computing similarity matrix.\n",
            "RMSE: 0.8576\n",
            "MAE:  0.6060\n",
            "Computing the cosine similarity matrix...\n",
            "Done computing similarity matrix.\n",
            "RMSE: 0.8534\n",
            "MAE:  0.6054\n",
            "Computing the cosine similarity matrix...\n",
            "Done computing similarity matrix.\n",
            "RMSE: 0.8521\n",
            "MAE:  0.6063\n",
            "Computing the cosine similarity matrix...\n",
            "Done computing similarity matrix.\n",
            "RMSE: 0.8519\n",
            "MAE:  0.6073\n"
          ]
        }
      ],
      "source": [
        "from surprise.prediction_algorithms.knns import KNNWithMeans\n",
        "import numpy as np\n",
        "import matplotlib.pyplot as plt\n",
        "\n",
        "min_k_values = [2, 4, 6, 8, 10]\n",
        "rmse_errors = []\n",
        "mae_errors = []\n",
        "\n",
        "for min_k in min_k_values:\n",
        "  temp_algo = KNNWithMeans(k=30, min_k=min_k, sim_options={\"name\":\"cosine\"}, verbose=True)\n",
        "  temp_algo.fit(trainset)\n",
        "  temp_pred = temp_algo.test(testset)\n",
        "  rmse_errors.append(accuracy.rmse(temp_pred))\n",
        "  mae_errors.append(accuracy.mae(temp_pred))"
      ]
    },
    {
      "cell_type": "markdown",
      "metadata": {
        "id": "X8Po6BlElJFM"
      },
      "source": [
        "###### Root Mean Square Error Values - Decreases with increase in minimum number of neighbours"
      ]
    },
    {
      "cell_type": "code",
      "execution_count": null,
      "metadata": {
        "colab": {
          "base_uri": "https://localhost:8080/",
          "height": 282
        },
        "id": "OI4XRfnolL56",
        "outputId": "dba283ed-6045-4ff9-b20a-1c4e96c0893a"
      },
      "outputs": [
        {
          "data": {
            "text/plain": [
              "<function matplotlib.pyplot.show>"
            ]
          },
          "execution_count": 18,
          "metadata": {},
          "output_type": "execute_result"
        },
        {
          "data": {
            "image/png": "[encoded data removed]",
            "text/plain": [
              "<Figure size 432x288 with 1 Axes>"
            ]
          },
          "metadata": {},
          "output_type": "display_data"
        }
      ],
      "source": [
        "plt.plot(np.array(min_k_values), np.array(rmse_errors), label=\"RMSE\")\n",
        "plt.show"
      ]
    },
    {
      "cell_type": "markdown",
      "metadata": {
        "id": "UHF67Qd2lMfv"
      },
      "source": [
        "###### Mean Absolute Error Values - Increases with increase in minimum number of neighbours"
      ]
    },
    {
      "cell_type": "code",
      "execution_count": null,
      "metadata": {
        "colab": {
          "base_uri": "https://localhost:8080/",
          "height": 282
        },
        "id": "sd-ubTCblPzd",
        "outputId": "046e461f-02f0-4ca2-9b18-82c62f453250"
      },
      "outputs": [
        {
          "data": {
            "text/plain": [
              "<function matplotlib.pyplot.show>"
            ]
          },
          "execution_count": 19,
          "metadata": {},
          "output_type": "execute_result"
        },
        {
          "data": {
            "image/png": "[encoded data removed]",
            "text/plain": [
              "<Figure size 432x288 with 1 Axes>"
            ]
          },
          "metadata": {},
          "output_type": "display_data"
        }
      ],
      "source": [
        "plt.plot(np.array(min_k_values), np.array(mae_errors), label=\"MAE\")\n",
        "plt.show"
      ]
    },
    {
      "cell_type": "markdown",
      "metadata": {
        "id": "78jjLZLOoGw1"
      },
      "source": [
        "## **Dimensionality Reduction**\n",
        "- Lectures [[46 - 50]](https://www.youtube.com/watch?v=yLdOS6xyM_Q&list=PLLssT5z_DsK9JDLcT8T62VtzwyW9LNepV&index=46) "
      ]
    },
    {
      "cell_type": "markdown",
      "metadata": {
        "id": "aANdYhRUX3hQ"
      },
      "source": [
        "## **Prediction Algorithms - Matrix Factorization**\n",
        "- https://albertauyeung.github.io/2017/04/23/python-matrix-factorization.html\n",
        "- https://surprise.readthedocs.io/en/stable/matrix_factorization.html"
      ]
    },
    {
      "cell_type": "markdown",
      "metadata": {
        "id": "F_MHE9M9Yi1O"
      },
      "source": [
        "### SVD\n",
        "- https://surprise.readthedocs.io/en/stable/matrix_factorization.html\n",
        "- Matrix Factorization-Based Algorithm\n",
        "- `n_factors` - The number of factors\n",
        "- `n_epochs` - The number of iteration of the SGD procedure\n",
        "- `lr_all` - The learning rate for all parameters\n",
        "- `reg_all` - The regularization term for all parameters"
      ]
    },
    {
      "cell_type": "code",
      "execution_count": null,
      "metadata": {
        "colab": {
          "base_uri": "https://localhost:8080/"
        },
        "id": "LMYg6a18F6yn",
        "outputId": "7dadd5e6-35ff-4427-aaeb-468cf14ae37f"
      },
      "outputs": [
        {
          "name": "stdout",
          "output_type": "stream",
          "text": [
            "RMSE: 0.8199\n",
            "MAE:  0.6006\n"
          ]
        },
        {
          "data": {
            "text/plain": [
              "0.6006405864572494"
            ]
          },
          "execution_count": 5,
          "metadata": {},
          "output_type": "execute_result"
        }
      ],
      "source": [
        "from surprise.prediction_algorithms.matrix_factorization import SVD\n",
        "\n",
        "algorithm3 = SVD()\n",
        "algorithm3.fit(trainset)\n",
        "predictions3 = algorithm3.test(testset)\n",
        "accuracy.rmse(predictions3)\n",
        "accuracy.mae(predictions3)"
      ]
    },
    {
      "cell_type": "markdown",
      "metadata": {
        "id": "3-sNZQsqHvYV"
      },
      "source": [
        "#### **Tuning Parameters of SVD**"
      ]
    },
    {
      "cell_type": "markdown",
      "metadata": {
        "id": "2E9hseMCH-7j"
      },
      "source": [
        "##### `n_factors` values"
      ]
    },
    {
      "cell_type": "code",
      "execution_count": null,
      "metadata": {
        "colab": {
          "base_uri": "https://localhost:8080/",
          "height": 404
        },
        "id": "fPdxp2tIIHSr",
        "outputId": "370a87df-1a1f-45df-8fe6-354d75839d0e"
      },
      "outputs": [
        {
          "name": "stdout",
          "output_type": "stream",
          "text": [
            "RMSE: 0.8243\n",
            "RMSE: 0.8244\n",
            "RMSE: 0.8241\n",
            "RMSE: 0.8253\n",
            "RMSE: 0.8260\n",
            "RMSE: 0.8251\n",
            "RMSE: 0.8282\n"
          ]
        },
        {
          "data": {
            "text/plain": [
              "<function matplotlib.pyplot.show>"
            ]
          },
          "execution_count": 11,
          "metadata": {},
          "output_type": "execute_result"
        },
        {
          "data": {
            "image/png": "[encoded data removed]",
            "text/plain": [
              "<Figure size 432x288 with 1 Axes>"
            ]
          },
          "metadata": {},
          "output_type": "display_data"
        }
      ],
      "source": [
        "from surprise.prediction_algorithms.matrix_factorization import SVD\n",
        "import numpy as np\n",
        "import matplotlib.pyplot as plt\n",
        "\n",
        "n_factors_values = [70, 80, 90, 100, 110, 120, 130]\n",
        "rmse_errors = []\n",
        "\n",
        "for n_factors in n_factors_values:\n",
        "  temp_algo = SVD(n_factors=n_factors)\n",
        "  temp_algo.fit(trainset)\n",
        "  temp_pred = temp_algo.test(testset)\n",
        "  rmse_errors.append(accuracy.rmse(temp_pred))\n",
        "plt.plot(np.array(n_factors_values), np.array(rmse_errors))\n",
        "plt.show"
      ]
    },
    {
      "cell_type": "markdown",
      "metadata": {
        "id": "CoY5zLXgJZaf"
      },
      "source": [
        "##### `n_epochs` values"
      ]
    },
    {
      "cell_type": "code",
      "execution_count": null,
      "metadata": {
        "colab": {
          "base_uri": "https://localhost:8080/",
          "height": 369
        },
        "id": "AmegZ4AmJgL4",
        "outputId": "826acf7f-afea-44ae-b6a0-909c5d8ace90"
      },
      "outputs": [
        {
          "name": "stdout",
          "output_type": "stream",
          "text": [
            "RMSE: 0.8234\n",
            "RMSE: 0.8251\n",
            "RMSE: 0.8262\n",
            "RMSE: 0.8257\n",
            "RMSE: 0.8270\n"
          ]
        },
        {
          "data": {
            "text/plain": [
              "<function matplotlib.pyplot.show>"
            ]
          },
          "execution_count": 15,
          "metadata": {},
          "output_type": "execute_result"
        },
        {
          "data": {
            "image/png": "[encoded data removed]",
            "text/plain": [
              "<Figure size 432x288 with 1 Axes>"
            ]
          },
          "metadata": {},
          "output_type": "display_data"
        }
      ],
      "source": [
        "from surprise.prediction_algorithms.matrix_factorization import SVD\n",
        "import numpy as np\n",
        "import matplotlib.pyplot as plt\n",
        "\n",
        "n_epochs_values = [16, 18, 20, 22, 24]\n",
        "rmse_errors = []\n",
        "\n",
        "for n_epochs in n_epochs_values:\n",
        "  temp_algo = SVD(n_epochs=n_epochs)\n",
        "  temp_algo.fit(trainset)\n",
        "  temp_pred = temp_algo.test(testset)\n",
        "  rmse_errors.append(accuracy.rmse(temp_pred))\n",
        "plt.plot(np.array(n_epochs_values), np.array(rmse_errors))\n",
        "plt.show"
      ]
    },
    {
      "cell_type": "markdown",
      "metadata": {
        "id": "p10LaaBcK3PY"
      },
      "source": [
        "##### `lr_all` values"
      ]
    },
    {
      "cell_type": "code",
      "execution_count": null,
      "metadata": {
        "colab": {
          "base_uri": "https://localhost:8080/",
          "height": 369
        },
        "id": "zLr2OjBLLOFr",
        "outputId": "3f0bf54c-dedc-4a6e-fd27-1a7b88e8f9a4"
      },
      "outputs": [
        {
          "name": "stdout",
          "output_type": "stream",
          "text": [
            "RMSE: 0.8240\n",
            "RMSE: 0.8279\n",
            "RMSE: 0.8274\n",
            "RMSE: 0.8305\n",
            "RMSE: 0.8320\n"
          ]
        },
        {
          "data": {
            "text/plain": [
              "<function matplotlib.pyplot.show>"
            ]
          },
          "execution_count": 16,
          "metadata": {},
          "output_type": "execute_result"
        },
        {
          "data": {
            "image/png": "[encoded data removed]",
            "text/plain": [
              "<Figure size 432x288 with 1 Axes>"
            ]
          },
          "metadata": {},
          "output_type": "display_data"
        }
      ],
      "source": [
        "from surprise.prediction_algorithms.matrix_factorization import SVD\n",
        "import numpy as np\n",
        "import matplotlib.pyplot as plt\n",
        "\n",
        "lr_all_values = [0.005, 0.006, 0.007, 0.008, 0.009]\n",
        "rmse_errors = []\n",
        "\n",
        "for lr_all in lr_all_values:\n",
        "  temp_algo = SVD(lr_all=lr_all)\n",
        "  temp_algo.fit(trainset)\n",
        "  temp_pred = temp_algo.test(testset)\n",
        "  rmse_errors.append(accuracy.rmse(temp_pred))\n",
        "plt.plot(np.array(lr_all_values), np.array(rmse_errors))\n",
        "plt.show"
      ]
    },
    {
      "cell_type": "markdown",
      "metadata": {
        "id": "q97-9KAtMK0Y"
      },
      "source": [
        "##### `reg_all` values"
      ]
    },
    {
      "cell_type": "code",
      "execution_count": null,
      "metadata": {
        "colab": {
          "base_uri": "https://localhost:8080/",
          "height": 369
        },
        "id": "tXC_UdLeMMu7",
        "outputId": "1e3ec929-c580-4d1b-c0d3-77bb9174a24c"
      },
      "outputs": [
        {
          "name": "stdout",
          "output_type": "stream",
          "text": [
            "RMSE: 0.8267\n",
            "RMSE: 0.8253\n",
            "RMSE: 0.8235\n",
            "RMSE: 0.8231\n",
            "RMSE: 0.8233\n"
          ]
        },
        {
          "data": {
            "text/plain": [
              "<function matplotlib.pyplot.show>"
            ]
          },
          "execution_count": 20,
          "metadata": {},
          "output_type": "execute_result"
        },
        {
          "data": {
            "image/png": "[encoded data removed]",
            "text/plain": [
              "<Figure size 432x288 with 1 Axes>"
            ]
          },
          "metadata": {},
          "output_type": "display_data"
        }
      ],
      "source": [
        "from surprise.prediction_algorithms.matrix_factorization import SVD\n",
        "import numpy as np\n",
        "import matplotlib.pyplot as plt\n",
        "\n",
        "reg_all_values = [0.01, 0.02, 0.03, 0.04, 0.05]\n",
        "rmse_errors = []\n",
        "\n",
        "for reg_all in reg_all_values:\n",
        "  temp_algo = SVD(reg_all=reg_all)\n",
        "  temp_algo.fit(trainset)\n",
        "  temp_pred = temp_algo.test(testset)\n",
        "  rmse_errors.append(accuracy.rmse(temp_pred))\n",
        "plt.plot(np.array(reg_all_values), np.array(rmse_errors))\n",
        "plt.show"
      ]
    },
    {
      "cell_type": "markdown",
      "metadata": {
        "id": "_dRJJNtyZqcb"
      },
      "source": [
        "### SVDpp\n",
        "- https://surprise.readthedocs.io/en/stable/matrix_factorization.html\n",
        "- Matrix Factorization-Based Algorithm, taking into account the implicit ratings\n",
        "- `n_factors` - The number of factors\n",
        "- `n_epochs` - The number of iteration of the SGD procedure\n",
        "- `lr_all` - The learning rate for all parameters\n",
        "- `reg_all` - The regularization term for all parameters"
      ]
    },
    {
      "cell_type": "code",
      "execution_count": null,
      "metadata": {
        "colab": {
          "base_uri": "https://localhost:8080/"
        },
        "id": "RDIIBE-AHCmf",
        "outputId": "a3dcc336-4bcc-4b8e-c037-76fb1883e8df"
      },
      "outputs": [
        {
          "name": "stdout",
          "output_type": "stream",
          "text": [
            "RMSE: 0.8132\n",
            "MAE:  0.5931\n"
          ]
        },
        {
          "data": {
            "text/plain": [
              "0.5930601223565333"
            ]
          },
          "execution_count": 8,
          "metadata": {},
          "output_type": "execute_result"
        }
      ],
      "source": [
        "from surprise.prediction_algorithms.matrix_factorization import SVDpp\n",
        "\n",
        "algorithm4 = SVDpp()\n",
        "algorithm4.fit(trainset)\n",
        "predictions4 = algorithm4.test(testset)\n",
        "accuracy.rmse(predictions4)\n",
        "accuracy.mae(predictions4)"
      ]
    },
    {
      "cell_type": "markdown",
      "metadata": {
        "id": "qLZhJxEDHyNd"
      },
      "source": [
        "#### **Tuning Parameters of SVDpp**"
      ]
    },
    {
      "cell_type": "markdown",
      "metadata": {
        "id": "5Do3JgZnIKxR"
      },
      "source": [
        "##### `n_factors` values"
      ]
    },
    {
      "cell_type": "code",
      "execution_count": null,
      "metadata": {
        "colab": {
          "base_uri": "https://localhost:8080/"
        },
        "id": "J1Q_FQMLIL2i",
        "outputId": "0d7c573e-07ad-43e8-9bf7-3a96e695308a"
      },
      "outputs": [
        {
          "name": "stdout",
          "output_type": "stream",
          "text": [
            "RMSE: 0.8313\n",
            "RMSE: 0.8327\n"
          ]
        }
      ],
      "source": [
        "from surprise.prediction_algorithms.matrix_factorization import SVDpp\n",
        "import numpy as np\n",
        "import matplotlib.pyplot as plt\n",
        "\n",
        "n_factors_values = [90, 100, 110]\n",
        "rmse_errors = []\n",
        "\n",
        "for n_factors in n_factors_values:\n",
        "  temp_algo = SVDpp(n_factors=n_factors)\n",
        "  temp_algo.fit(trainset)\n",
        "  temp_pred = temp_algo.test(testset)\n",
        "  rmse_errors.append(accuracy.rmse(temp_pred))\n",
        "plt.plot(np.array(n_factors_values), np.array(rmse_errors))\n",
        "plt.show"
      ]
    },
    {
      "cell_type": "markdown",
      "metadata": {
        "id": "goWHN3N0Ji_Y"
      },
      "source": [
        "##### `n_epochs` values"
      ]
    },
    {
      "cell_type": "code",
      "execution_count": null,
      "metadata": {
        "id": "oDlgFGXYJjkJ"
      },
      "outputs": [],
      "source": [
        "from surprise.prediction_algorithms.matrix_factorization import SVDpp\n",
        "import numpy as np\n",
        "import matplotlib.pyplot as plt\n",
        "\n",
        "n_epochs_values = [18, 20, 22]\n",
        "rmse_errors = []\n",
        "\n",
        "for n_epochs in n_epochs_values:\n",
        "  temp_algo = SVDpp(n_epochs=n_epochs)\n",
        "  temp_algo.fit(trainset)\n",
        "  temp_pred = temp_algo.test(testset)\n",
        "  rmse_errors.append(accuracy.rmse(temp_pred))\n",
        "plt.plot(np.array(n_epochs_values), np.array(rmse_errors))\n",
        "plt.show"
      ]
    },
    {
      "cell_type": "markdown",
      "metadata": {
        "id": "djiGAxelLDY0"
      },
      "source": [
        "##### `lr_all` values"
      ]
    },
    {
      "cell_type": "code",
      "execution_count": null,
      "metadata": {
        "id": "AWtfVi9vLGGc"
      },
      "outputs": [],
      "source": [
        "from surprise.prediction_algorithms.matrix_factorization import SVDpp\n",
        "import numpy as np\n",
        "import matplotlib.pyplot as plt\n",
        "\n",
        "lr_all_values = [0.005, 0.007, 0.009]\n",
        "rmse_errors = []\n",
        "\n",
        "for lr_all in lr_all_values:\n",
        "  temp_algo = SVDpp(lr_all=lr_all)\n",
        "  temp_algo.fit(trainset)\n",
        "  temp_pred = temp_algo.test(testset)\n",
        "  rmse_errors.append(accuracy.rmse(temp_pred))\n",
        "plt.plot(np.array(lr_all_values), np.array(rmse_errors))\n",
        "plt.show"
      ]
    },
    {
      "cell_type": "markdown",
      "metadata": {
        "id": "6QE-zGWpMO9H"
      },
      "source": [
        "##### `reg_all` values"
      ]
    },
    {
      "cell_type": "code",
      "execution_count": null,
      "metadata": {
        "id": "pzHoQPXhMPTN"
      },
      "outputs": [],
      "source": [
        "from surprise.prediction_algorithms.matrix_factorization import SVDpp\n",
        "import numpy as np\n",
        "import matplotlib.pyplot as plt\n",
        "\n",
        "reg_all_values = [0.01, 0.02, 0.03]\n",
        "rmse_errors = []\n",
        "\n",
        "for reg_all in reg_all_values:\n",
        "  temp_algo = SVDpp(reg_all=reg_all)\n",
        "  temp_algo.fit(trainset)\n",
        "  temp_pred = temp_algo.test(testset)\n",
        "  rmse_errors.append(accuracy.rmse(temp_pred))\n",
        "plt.plot(np.array(reg_all_values), np.array(rmse_errors))\n",
        "plt.show"
      ]
    },
    {
      "cell_type": "markdown",
      "metadata": {
        "id": "fnKK0yEfZqxp"
      },
      "source": [
        "### NMF\n",
        "- https://surprise.readthedocs.io/en/stable/matrix_factorization.html\n",
        "- Matrix Factorization-Based Algorithm and Collaborative Filtering\n",
        "- `n_factors` - The number of factors\n",
        "- `n_epochs` - The number of iteration of the SGD procedure\n",
        "- `lr_all` - The learning rate for all parameters\n",
        "- `reg_all` - The regularization term for all parameters"
      ]
    },
    {
      "cell_type": "code",
      "execution_count": null,
      "metadata": {
        "colab": {
          "base_uri": "https://localhost:8080/"
        },
        "id": "hhMQI0pqHKwI",
        "outputId": "db917d53-5259-4836-dc5e-5d6c59e218aa"
      },
      "outputs": [
        {
          "name": "stdout",
          "output_type": "stream",
          "text": [
            "RMSE: 1.0011\n",
            "MAE:  0.7697\n"
          ]
        },
        {
          "data": {
            "text/plain": [
              "0.7697061465305305"
            ]
          },
          "execution_count": 9,
          "metadata": {},
          "output_type": "execute_result"
        }
      ],
      "source": [
        "from surprise.prediction_algorithms.matrix_factorization import NMF\n",
        "\n",
        "algorithm5 = NMF()\n",
        "algorithm5.fit(trainset)\n",
        "predictions5 = algorithm5.test(testset)\n",
        "accuracy.rmse(predictions5)\n",
        "accuracy.mae(predictions5)"
      ]
    },
    {
      "cell_type": "markdown",
      "metadata": {
        "id": "r33-eM6IHzxE"
      },
      "source": [
        "#### **Tuning Parameters of NMF**"
      ]
    },
    {
      "cell_type": "markdown",
      "metadata": {
        "id": "wQsJoY9zIMjs"
      },
      "source": [
        "##### `n_factors` values"
      ]
    },
    {
      "cell_type": "code",
      "execution_count": null,
      "metadata": {
        "colab": {
          "base_uri": "https://localhost:8080/",
          "height": 405
        },
        "id": "FSwy-EorINEE",
        "outputId": "5e4c7f65-760f-4147-fa8a-7bc00895819c"
      },
      "outputs": [
        {
          "name": "stdout",
          "output_type": "stream",
          "text": [
            "RMSE: 0.9590\n",
            "RMSE: 0.9640\n",
            "RMSE: 0.9692\n",
            "RMSE: 0.9711\n",
            "RMSE: 0.9726\n",
            "RMSE: 0.9759\n",
            "RMSE: 0.9770\n"
          ]
        },
        {
          "data": {
            "text/plain": [
              "<function matplotlib.pyplot.show>"
            ]
          },
          "execution_count": 13,
          "metadata": {},
          "output_type": "execute_result"
        },
        {
          "data": {
            "image/png": "[encoded data removed]",
            "text/plain": [
              "<Figure size 432x288 with 1 Axes>"
            ]
          },
          "metadata": {},
          "output_type": "display_data"
        }
      ],
      "source": [
        "from surprise.prediction_algorithms.matrix_factorization import NMF\n",
        "import numpy as np\n",
        "import matplotlib.pyplot as plt\n",
        "\n",
        "n_factors_values = [80, 90, 100, 110, 120]\n",
        "rmse_errors = []\n",
        "\n",
        "for n_factors in n_factors_values:\n",
        "  temp_algo = NMF(n_factors=n_factors)\n",
        "  temp_algo.fit(trainset)\n",
        "  temp_pred = temp_algo.test(testset)\n",
        "  rmse_errors.append(accuracy.rmse(temp_pred))\n",
        "plt.plot(np.array(n_factors_values), np.array(rmse_errors))\n",
        "plt.show"
      ]
    },
    {
      "cell_type": "markdown",
      "metadata": {
        "id": "7C0hsEuSJlin"
      },
      "source": [
        "##### `n_epochs` values"
      ]
    },
    {
      "cell_type": "code",
      "execution_count": null,
      "metadata": {
        "colab": {
          "base_uri": "https://localhost:8080/",
          "height": 369
        },
        "id": "rIx1Xw1gJl0h",
        "outputId": "fd275de8-517a-4691-825d-4ed33452df96"
      },
      "outputs": [
        {
          "name": "stdout",
          "output_type": "stream",
          "text": [
            "RMSE: 1.0504\n",
            "RMSE: 1.0444\n",
            "RMSE: 1.0253\n",
            "RMSE: 1.0249\n",
            "RMSE: 1.0327\n"
          ]
        },
        {
          "data": {
            "text/plain": [
              "<function matplotlib.pyplot.show>"
            ]
          },
          "execution_count": 14,
          "metadata": {},
          "output_type": "execute_result"
        },
        {
          "data": {
            "image/png": "[encoded data removed]",
            "text/plain": [
              "<Figure size 432x288 with 1 Axes>"
            ]
          },
          "metadata": {},
          "output_type": "display_data"
        }
      ],
      "source": [
        "from surprise.prediction_algorithms.matrix_factorization import NMF\n",
        "import numpy as np\n",
        "import matplotlib.pyplot as plt\n",
        "\n",
        "n_epochs_values = [16, 18, 20, 22, 24]\n",
        "rmse_errors = []\n",
        "\n",
        "for n_epochs in n_epochs_values:\n",
        "  temp_algo = NMF(n_epochs=n_epochs)\n",
        "  temp_algo.fit(trainset)\n",
        "  temp_pred = temp_algo.test(testset)\n",
        "  rmse_errors.append(accuracy.rmse(temp_pred))\n",
        "plt.plot(np.array(n_epochs_values), np.array(rmse_errors))\n",
        "plt.show"
      ]
    },
    {
      "cell_type": "markdown",
      "metadata": {
        "id": "TFaFRa4mLHOa"
      },
      "source": [
        "##### `lr_all` values"
      ]
    },
    {
      "cell_type": "code",
      "execution_count": null,
      "metadata": {
        "colab": {
          "base_uri": "https://localhost:8080/",
          "height": 369
        },
        "id": "TDNYAuBZLHfO",
        "outputId": "267e07c7-c8d3-4447-d8ef-752756c2c27c"
      },
      "outputs": [
        {
          "name": "stdout",
          "output_type": "stream",
          "text": [
            "RMSE: 1.0068\n",
            "RMSE: 1.0059\n",
            "RMSE: 1.0115\n",
            "RMSE: 1.0101\n",
            "RMSE: 1.0097\n"
          ]
        },
        {
          "data": {
            "text/plain": [
              "<function matplotlib.pyplot.show>"
            ]
          },
          "execution_count": 18,
          "metadata": {},
          "output_type": "execute_result"
        },
        {
          "data": {
            "image/png": "[encoded data removed]",
            "text/plain": [
              "<Figure size 432x288 with 1 Axes>"
            ]
          },
          "metadata": {},
          "output_type": "display_data"
        }
      ],
      "source": [
        "from surprise.prediction_algorithms.matrix_factorization import NMF\n",
        "import numpy as np\n",
        "import matplotlib.pyplot as plt\n",
        "\n",
        "lr_all_values = [0.005, 0.006, 0.007, 0.008, 0.009]\n",
        "rmse_errors = []\n",
        "\n",
        "for lr_all in lr_all_values:\n",
        "  temp_algo = NMF(lr_bi=lr_all, lr_bu=lr_all)\n",
        "  temp_algo.fit(trainset)\n",
        "  temp_pred = temp_algo.test(testset)\n",
        "  rmse_errors.append(accuracy.rmse(temp_pred))\n",
        "plt.plot(np.array(lr_all_values), np.array(rmse_errors))\n",
        "plt.show"
      ]
    },
    {
      "cell_type": "markdown",
      "metadata": {
        "id": "Rvc60wE-MQfR"
      },
      "source": [
        "##### `reg_all` values"
      ]
    },
    {
      "cell_type": "code",
      "execution_count": null,
      "metadata": {
        "colab": {
          "base_uri": "https://localhost:8080/",
          "height": 369
        },
        "id": "2dp5l9QRMQvm",
        "outputId": "f2893541-9d9d-4f52-a4e4-8191943520ba"
      },
      "outputs": [
        {
          "name": "stdout",
          "output_type": "stream",
          "text": [
            "RMSE: 1.1017\n",
            "RMSE: 1.0678\n",
            "RMSE: 1.0439\n",
            "RMSE: 1.0310\n",
            "RMSE: 1.0226\n"
          ]
        },
        {
          "data": {
            "text/plain": [
              "<function matplotlib.pyplot.show>"
            ]
          },
          "execution_count": 22,
          "metadata": {},
          "output_type": "execute_result"
        },
        {
          "data": {
            "image/png": "[encoded data removed]",
            "text/plain": [
              "<Figure size 432x288 with 1 Axes>"
            ]
          },
          "metadata": {},
          "output_type": "display_data"
        }
      ],
      "source": [
        "from surprise.prediction_algorithms.matrix_factorization import NMF\n",
        "import numpy as np\n",
        "import matplotlib.pyplot as plt\n",
        "\n",
        "reg_all_values = [0.01, 0.02, 0.03, 0.04, 0.05]\n",
        "rmse_errors = []\n",
        "\n",
        "for reg_all in reg_all_values:\n",
        "  temp_algo = NMF(reg_bu=reg_all, reg_bi=reg_all, reg_pu=reg_all, reg_qi=reg_all)\n",
        "  temp_algo.fit(trainset)\n",
        "  temp_pred = temp_algo.test(testset)\n",
        "  rmse_errors.append(accuracy.rmse(temp_pred))\n",
        "plt.plot(np.array(reg_all_values), np.array(rmse_errors))\n",
        "plt.show"
      ]
    },
    {
      "cell_type": "markdown",
      "metadata": {
        "id": "hPmAi2Z9t-Wh"
      },
      "source": [
        "## Getting Top N Predictions\n",
        "- https://github.com/NicolasHug/Surprise/blob/master/examples/top_n_recommendations.py"
      ]
    },
    {
      "cell_type": "markdown",
      "metadata": {
        "id": "dc2FaZDCyPO4"
      },
      "source": [
        "##### Function to Convert Recipe ID to Recipe Name"
      ]
    },
    {
      "cell_type": "code",
      "execution_count": null,
      "metadata": {
        "id": "8eO4PhE2ylIL"
      },
      "outputs": [],
      "source": [
        "def recipe_ID_to_Name():\n",
        "\n",
        "  recipe_df = pd.read_csv('/content/drive/MyDrive/ML/Kaggle_Dataset/core-data_recipe.csv')\n",
        "  recipe_id_name = dict()\n",
        "\n",
        "  for index, row in recipe_df.iterrows():\n",
        "    recipe_id = int(row['recipe_id'])\n",
        "    recipe_name = row['recipe_name']\n",
        "    recipe_id_name[recipe_id] = recipe_name \n",
        "    \n",
        "  return recipe_id_name "
      ]
    },
    {
      "cell_type": "code",
      "execution_count": null,
      "metadata": {
        "id": "yeCnhV0PzpZP"
      },
      "outputs": [],
      "source": [
        "recipe_id_name = recipe_ID_to_Name()"
      ]
    },
    {
      "cell_type": "markdown",
      "metadata": {
        "id": "82Q9y5uMz6A8"
      },
      "source": [
        "##### Making Predictions (SVD)"
      ]
    },
    {
      "cell_type": "code",
      "execution_count": null,
      "metadata": {
        "id": "cK-scXgF0Ys_"
      },
      "outputs": [],
      "source": [
        "from surprise import SVD\n",
        "\n",
        "algo = SVD()\n",
        "algo.fit(trainset)\n",
        "predictions = algo.test(testset)"
      ]
    },
    {
      "cell_type": "markdown",
      "metadata": {
        "id": "eSRKe80F02jR"
      },
      "source": [
        "##### Getting Top N Predictions"
      ]
    },
    {
      "cell_type": "code",
      "execution_count": null,
      "metadata": {
        "id": "ae4pgGA207QY"
      },
      "outputs": [],
      "source": [
        "from collections import defaultdict\n",
        "\n",
        "def get_top_n_predictions(predictions, top_n):\n",
        "  top_n_predictions = defaultdict(list)\n",
        "\n",
        "  for uid, iid, true_r, est, _ in predictions:\n",
        "    top_n_predictions[uid].append((iid, est))\n",
        "  \n",
        "  for uid, user_ratings in top_n_predictions.items():\n",
        "    user_ratings.sort(key = lambda x:x[1], reverse = True)\n",
        "    top_n_predictions[uid] = user_ratings[:top_n]\n",
        "  \n",
        "  return top_n_predictions"
      ]
    },
    {
      "cell_type": "code",
      "execution_count": null,
      "metadata": {
        "id": "UEzM-WsC1o_T"
      },
      "outputs": [],
      "source": [
        "top_n_predictions = get_top_n_predictions(predictions=predictions, top_n=3)"
      ]
    },
    {
      "cell_type": "markdown",
      "metadata": {
        "id": "6_MpOfVv32MH"
      },
      "source": [
        "##### Printing Top N Predictions"
      ]
    },
    {
      "cell_type": "code",
      "execution_count": null,
      "metadata": {
        "id": "kke5-GKt36ME"
      },
      "outputs": [],
      "source": [
        "def print_top_n_predictions(top_n_predictions, n_users):\n",
        "  count = 0\n",
        "\n",
        "  for uid, user_ratings in top_n_predictions.items():\n",
        "    print(uid, \",\", [recipe_id_name[iid] for iid, est in user_ratings])\n",
        "\n",
        "    count += 1\n",
        "    if count == n_users:\n",
        "      break"
      ]
    },
    {
      "cell_type": "code",
      "execution_count": null,
      "metadata": {
        "colab": {
          "base_uri": "https://localhost:8080/"
        },
        "id": "Q3wJ7URY42mT",
        "outputId": "6f332bbd-3b1f-4546-e175-21ab8ce43a2d"
      },
      "outputs": [
        {
          "name": "stdout",
          "output_type": "stream",
          "text": [
            "1770296 , ['Cajun Chicken Pasta', 'Aussie Chicken', 'Sunrise Salad']\n",
            "1032812 , ['Best Big, Fat, Chewy Chocolate Chip Cookie', 'Roast Sticky Chicken-Rotisserie Style', 'Broiled Tilapia Parmesan']\n",
            "3571626 , ['Sloppy Joes II', 'Vera Cruz Tomatoes', 'Zucchini Patties']\n",
            "557341 , [\"Chantal's New York Cheesecake\", 'Roasted New Potato Salad With Olives', 'Lemon Poppy Seed Bundt Cake']\n",
            "425681 , ['Spiced Pumpkin Seeds', \"Brooke's Best Bombshell Brownies\", 'Pecan Praline Cookies']\n",
            "1792605 , ['Hearty Breakfast Cookies', 'All Day Macaroni and Cheese']\n",
            "1685787 , ['Picante Chicken', \"Aunt Teen's Creamy Chocolate Fudge\", 'Condiment Chops']\n",
            "71634 , ['Cranberry Sauce', \"Alyson's Broccoli Salad\", 'Slow Cooker Beef Stew IV']\n",
            "1910838 , ['Pumpkin Bread IV', \"Mrs. Sigg's Snickerdoodles\", 'Slow Cooker Ham']\n",
            "2248760 , ['Spicy Bean Salsa', 'Country Apple Dumplings', 'Greek Baklava']\n"
          ]
        }
      ],
      "source": [
        "print_top_n_predictions(top_n_predictions, 10)"
      ]
    },
    {
      "cell_type": "markdown",
      "metadata": {
        "id": "jyhkBKsc5RyI"
      },
      "source": [
        "## Calculating FSA Scores of Recipes\n",
        "- https://en.wikipedia.org/wiki/Traffic_light_rating_system"
      ]
    },
    {
      "cell_type": "markdown",
      "metadata": {
        "id": "KMrf6MMK5qRc"
      },
      "source": [
        "##### Fetching Nutritions in All Recipes"
      ]
    },
    {
      "cell_type": "code",
      "execution_count": null,
      "metadata": {
        "id": "iYRXEnNn5xFZ"
      },
      "outputs": [],
      "source": [
        "import ast # To convert Stringed Dictionary in CSV to Python Dicitionary\n",
        "\n",
        "def recipe_id_to_Nutritions():\n",
        "  \n",
        "  recipe_df = pd.read_csv('/content/drive/MyDrive/ML/Kaggle_Dataset/core-data_recipe.csv')\n",
        "  recipe_id_nutritions = dict()\n",
        "\n",
        "  for index, row in recipe_df.iterrows():\n",
        "    recipe_id = int(row['recipe_id'])\n",
        "    recipe_nutritions = ast.literal_eval(row['nutritions'])\n",
        "    recipe_id_nutritions[recipe_id] = recipe_nutritions\n",
        "  \n",
        "  return recipe_id_nutritions"
      ]
    },
    {
      "cell_type": "code",
      "execution_count": null,
      "metadata": {
        "id": "l33LIQMVG152"
      },
      "outputs": [],
      "source": [
        "recipe_id_nutritions = recipe_id_to_Nutritions()"
      ]
    },
    {
      "cell_type": "markdown",
      "metadata": {
        "id": "H9o3VC4FHD62"
      },
      "source": [
        "##### Calculate FSA Score of Nutrient"
      ]
    },
    {
      "cell_type": "code",
      "execution_count": null,
      "metadata": {
        "id": "Mqbc_loLHL2-"
      },
      "outputs": [],
      "source": [
        "nutrient_limits = {'fat' : (3, 17.5), 'saturatedFat' : (1.5, 5), 'sugars' : (5, 22.5)}"
      ]
    },
    {
      "cell_type": "code",
      "execution_count": null,
      "metadata": {
        "id": "OtAdArskHhsz"
      },
      "outputs": [],
      "source": [
        "def calculate_nutrient_fsa(recipe_id, nutrient):\n",
        "\n",
        "  if recipe_id_nutritions[recipe_id][nutrient]['amount'] <= nutrient_limits[nutrient][0]:\n",
        "    return 1\n",
        "  elif recipe_id_nutritions[recipe_id][nutrient]['amount'] <= nutrient_limits[nutrient][1]:\n",
        "    return 2\n",
        "  else:\n",
        "    return 3"
      ]
    },
    {
      "cell_type": "markdown",
      "metadata": {
        "id": "H5pXFsfPIcsI"
      },
      "source": [
        "##### Calculate FSA Score of Recipe"
      ]
    },
    {
      "cell_type": "code",
      "execution_count": null,
      "metadata": {
        "id": "4xSG_5ZdIhMY"
      },
      "outputs": [],
      "source": [
        "def calculate_recipe_fsa(recipe_id):\n",
        "\n",
        "  fsa_score = calculate_nutrient_fsa(recipe_id, 'fat')\n",
        "  fsa_score += calculate_nutrient_fsa(recipe_id, 'saturatedFat')\n",
        "  fsa_score += calculate_nutrient_fsa(recipe_id, 'sugars')\n",
        "\n",
        "  return fsa_score"
      ]
    },
    {
      "cell_type": "markdown",
      "metadata": {
        "id": "tj9WBHVyKDqE"
      },
      "source": [
        "##### Calculate FSA Scores for All Recipes"
      ]
    },
    {
      "cell_type": "code",
      "execution_count": null,
      "metadata": {
        "id": "9DRA6Pp8IpBK"
      },
      "outputs": [],
      "source": [
        "recipe_fsa = dict()"
      ]
    },
    {
      "cell_type": "code",
      "execution_count": null,
      "metadata": {
        "id": "dh257VhuKK0z"
      },
      "outputs": [],
      "source": [
        "for recipe_id in recipe_id_name:\n",
        "  \n",
        "  recipe_fsa[recipe_id] = calculate_recipe_fsa(recipe_id)"
      ]
    },
    {
      "cell_type": "markdown",
      "metadata": {
        "id": "uU6CBnbcKoe_"
      },
      "source": [
        "##### Print FSA Scores"
      ]
    },
    {
      "cell_type": "code",
      "execution_count": null,
      "metadata": {
        "colab": {
          "base_uri": "https://localhost:8080/"
        },
        "id": "TCs81nK2KsIp",
        "outputId": "8d3dac29-800d-4366-d705-9f5f0ff0c7a7"
      },
      "outputs": [
        {
          "name": "stdout",
          "output_type": "stream",
          "text": [
            "Pork Loin, Apples, and Sauerkraut : 6\n",
            "Foolproof Rosemary Chicken Wings : 7\n",
            "Chicken Pesto Paninis : 7\n",
            "Potato Bacon Pizza : 5\n",
            "Latin-Inspired Spicy Cream Chicken Stew : 6\n",
            "Reuben Sandwich I : 7\n",
            "Turkey Black Bean Burgers : 5\n",
            "Cranberry Pork Chops II : 7\n",
            "Schnitzel Sandwich : 8\n",
            "Pam's Bierocks : 6\n"
          ]
        }
      ],
      "source": [
        "count = 0\n",
        "\n",
        "for recipe_id in recipe_fsa:\n",
        "  print(recipe_id_name[recipe_id], \":\", recipe_fsa[recipe_id])\n",
        "\n",
        "  count += 1\n",
        "  if count == 10:\n",
        "    break"
      ]
    },
    {
      "cell_type": "markdown",
      "metadata": {
        "id": "0bgYfcnmNlnv"
      },
      "source": [
        "## Natural Language Processing - Text Processing\n",
        "- https://www.datacamp.com/community/tutorials/text-analytics-beginners-nltk"
      ]
    },
    {
      "cell_type": "markdown",
      "metadata": {
        "id": "Ku6GRuKYTTUI"
      },
      "source": [
        "##### NLTK Setup"
      ]
    },
    {
      "cell_type": "code",
      "execution_count": null,
      "metadata": {
        "colab": {
          "base_uri": "https://localhost:8080/"
        },
        "id": "IOs_2CthSbQg",
        "outputId": "122647a7-fc01-45bb-b399-ca21cb1a9cc2"
      },
      "outputs": [
        {
          "name": "stdout",
          "output_type": "stream",
          "text": [
            "[nltk_data] Downloading package punkt to /root/nltk_data...\n",
            "[nltk_data]   Package punkt is already up-to-date!\n",
            "[nltk_data] Downloading package wordnet to /root/nltk_data...\n",
            "[nltk_data]   Package wordnet is already up-to-date!\n",
            "[nltk_data] Downloading package averaged_perceptron_tagger to\n",
            "[nltk_data]     /root/nltk_data...\n",
            "[nltk_data]   Package averaged_perceptron_tagger is already up-to-\n",
            "[nltk_data]       date!\n"
          ]
        },
        {
          "data": {
            "text/plain": [
              "True"
            ]
          },
          "execution_count": 65,
          "metadata": {},
          "output_type": "execute_result"
        }
      ],
      "source": [
        "from nltk.tokenize import word_tokenize\n",
        "from nltk.stem.wordnet import WordNetLemmatizer\n",
        "import nltk\n",
        "nltk.download('punkt')\n",
        "nltk.download('wordnet')\n",
        "nltk.download('averaged_perceptron_tagger')"
      ]
    },
    {
      "cell_type": "markdown",
      "metadata": {
        "id": "zKcwzcsO00-i"
      },
      "source": [
        "##### Retaining Nouns from Ingredients"
      ]
    },
    {
      "cell_type": "code",
      "execution_count": null,
      "metadata": {
        "id": "PUQBGjAZ1Cgh"
      },
      "outputs": [],
      "source": [
        "def recipe_id_to_ingredients():\n",
        "\n",
        "  recipe_df = pd.read_csv('/content/drive/MyDrive/ML/Kaggle_Dataset/core-data_recipe.csv')\n",
        "  recipe_id_ingredients = dict()\n",
        "\n",
        "  lemm = WordNetLemmatizer()\n",
        "\n",
        "  for index, row in recipe_df.iterrows():\n",
        "    recipe_id = int(row['recipe_id'])\n",
        "    ingredient_list = row['ingredients'].split('^')\n",
        "\n",
        "    processed_ingredients = []\n",
        "\n",
        "    for ingredient in ingredient_list:\n",
        "      tokenized_words = word_tokenize(ingredient)\n",
        "      \n",
        "      lemmatized_words = []\n",
        "\n",
        "      for word in tokenized_words:\n",
        "        lemmatized_words.append(lemm.lemmatize(word))\n",
        "\n",
        "      ingredient_words = []\n",
        "      pos_tagged = nltk.pos_tag(lemmatized_words)\n",
        "\n",
        "      for word, tag in pos_tagged:\n",
        "        if tag not in ('NN', 'NNP', 'NNS', 'NNPS') or word in ('water', 'degrees', 'F', 'C', '%', 'Addition', 'Additions', '-less-sodium', '-', '*', 'Additional', 'degree', 'Rub'):\n",
        "          continue\n",
        "        elif tag in ('NNS', 'NNPS'):\n",
        "          ingredient_words.append(word[:-1])\n",
        "        else:\n",
        "          ingredient_words.append(word)\n",
        "      \n",
        "      temp_ingredient = \" \".join(ingredient_words)\n",
        "      if temp_ingredient != \"\":\n",
        "        processed_ingredients.append(temp_ingredient)\n",
        "\n",
        "    if len(processed_ingredients) > 0:\n",
        "      recipe_id_ingredients[recipe_id] = list(sorted(set(processed_ingredients)))\n",
        "\n",
        "  return recipe_id_ingredients"
      ]
    },
    {
      "cell_type": "code",
      "execution_count": null,
      "metadata": {
        "id": "TFWy0AEK5efU"
      },
      "outputs": [],
      "source": [
        "recipe_id_ingredients = recipe_id_to_ingredients()"
      ]
    },
    {
      "cell_type": "markdown",
      "metadata": {
        "id": "4BdjypcB8aST"
      },
      "source": [
        "##### Printing the Ingredients"
      ]
    },
    {
      "cell_type": "code",
      "execution_count": null,
      "metadata": {
        "colab": {
          "base_uri": "https://localhost:8080/"
        },
        "id": "IOugM5cO5nSB",
        "outputId": "c9c6c2c6-96c6-4e2c-8210-e28c82c658e3"
      },
      "outputs": [
        {
          "name": "stdout",
          "output_type": "stream",
          "text": [
            "Pork Loin, Apples, and Sauerkraut : ['Granny Smith apple', 'apple cider', 'boneless pork loin roast', 'brown sugar', 'caraway seed', 'ground pepper', 'onion', 'powder', 'salt', 'sauerkraut']\n",
            "Foolproof Rosemary Chicken Wings : ['chicken wing', 'head garlic', 'oil', 'pepper', 'salt', 'sprig rosemary']\n",
            "Chicken Pesto Paninis : ['Monterey Jack cheese', 'basil pesto', 'bell pepper', 'bread', 'chicken', 'onion']\n",
            "Potato Bacon Pizza : ['Crust', 'Parmesan cheese', 'Sauce', 'butter', 'flour', 'honey', 'mozzarella cheese', 'oil', 'potato', 'strip bacon', 'whipping cream', 'yeast']\n",
            "Latin-Inspired Spicy Cream Chicken Stew : ['bean', 'cilantro', 'cream cheese', 'ground cumin', 'ground pepper', 'kerne corn', 'salsa', 'skinless boneless breast half', 'taco', 'tomato']\n",
            "Reuben Sandwich I : ['beef', 'butter', 'mozzarella cheese', 'rye bread', 'sauerkraut']\n",
            "Turkey Black Bean Burgers : ['bean', 'egg', 'garlic', 'ground cumin', 'ground turkey', 'onion', 'oregano', 'parsley', 'sea salt ground pepper', 'tomato']\n",
            "Cranberry Pork Chops II : ['ground pepper', 'pork chop', 'salt', 'sugar']\n",
            "Schnitzel Sandwich : ['bread crumb', 'egg', 'flour', 'leaf romaine lettuce', 'lemon', 'mayonnaise', 'mustard', 'oil', 'pepper sauce Tabasco®', 'roll split', 'salt ground pepper', 'skinless boneless chicken breast']\n",
            "Pam's Bierocks : ['butter', 'cabbage', 'egg', 'flour', 'ground beef', 'margarine', 'onion', 'pepper', 'salt', 'sugar', 'yeast']\n"
          ]
        }
      ],
      "source": [
        "count = 0\n",
        "\n",
        "for recipe_id in recipe_id_ingredients:\n",
        "  print(recipe_id_name[recipe_id], \":\", recipe_id_ingredients[recipe_id])\n",
        "\n",
        "  count += 1\n",
        "  if count == 10:\n",
        "    break"
      ]
    },
    {
      "cell_type": "markdown",
      "metadata": {
        "id": "wvjTopXz8tCe"
      },
      "source": [
        "##### Collecting Total Ingredient Set"
      ]
    },
    {
      "cell_type": "code",
      "execution_count": null,
      "metadata": {
        "id": "Bf3IKyoO8zcI"
      },
      "outputs": [],
      "source": [
        "total_ingredients_list = []\n",
        "for ingredients in recipe_id_ingredients.values():\n",
        "  for ingredient in ingredients:\n",
        "    total_ingredients_list.append(ingredient)"
      ]
    },
    {
      "cell_type": "code",
      "execution_count": null,
      "metadata": {
        "colab": {
          "base_uri": "https://localhost:8080/"
        },
        "id": "WnFUDW9h9KWk",
        "outputId": "0ebf424e-84e9-4a75-9620-e09cf35053af"
      },
      "outputs": [
        {
          "name": "stdout",
          "output_type": "stream",
          "text": [
            "14805\n"
          ]
        }
      ],
      "source": [
        "total_ingredients_set = list(sorted(set(total_ingredients_list)))\n",
        "print(len(total_ingredients_set))"
      ]
    },
    {
      "cell_type": "markdown",
      "metadata": {
        "id": "jLcKZPgI9hiW"
      },
      "source": [
        "## Calculating PMI Using Bipartite Graph\n",
        "- https://networkx.org/documentation/stable/tutorial.html"
      ]
    },
    {
      "cell_type": "markdown",
      "metadata": {
        "id": "OJvAErs3_T_D"
      },
      "source": [
        "##### Creating Edges"
      ]
    },
    {
      "cell_type": "code",
      "execution_count": null,
      "metadata": {
        "id": "jNQS9_0F_Nye"
      },
      "outputs": [],
      "source": [
        "edges = []\n",
        "\n",
        "for recipe_id in recipe_id_ingredients:\n",
        "  for ingredient in recipe_id_ingredients[recipe_id]:\n",
        "    edges.append((recipe_id, ingredient))"
      ]
    },
    {
      "cell_type": "markdown",
      "metadata": {
        "id": "ZiKGzVQY_04O"
      },
      "source": [
        "Creating a Bipartite Graph"
      ]
    },
    {
      "cell_type": "code",
      "execution_count": null,
      "metadata": {
        "id": "rGQBCrSJ_5b3"
      },
      "outputs": [],
      "source": [
        "import networkx as nx\n",
        "from networkx.algorithms import bipartite"
      ]
    },
    {
      "cell_type": "code",
      "execution_count": null,
      "metadata": {
        "id": "B_bb7bIVABFX"
      },
      "outputs": [],
      "source": [
        "recipe_df = pd.read_csv('/content/drive/MyDrive/ML/Kaggle_Dataset/core-data_recipe.csv')\n",
        "B = nx.Graph()\n",
        "B.add_nodes_from(list(recipe_df['recipe_id']), bipartite = 0)\n",
        "B.add_nodes_from(total_ingredients_set, bipartite = 1)\n",
        "B.add_edges_from(edges)"
      ]
    },
    {
      "cell_type": "code",
      "execution_count": null,
      "metadata": {
        "id": "V-GndUQEBPP-"
      },
      "outputs": [],
      "source": [
        "G = bipartite.weighted_projected_graph(B, total_ingredients_set)"
      ]
    },
    {
      "cell_type": "code",
      "execution_count": null,
      "metadata": {
        "id": "vvidwSg-BvhG"
      },
      "outputs": [],
      "source": [
        "adjacency_matrix = G.adj"
      ]
    },
    {
      "cell_type": "markdown",
      "metadata": {
        "id": "I5SlhijbCdYz"
      },
      "source": [
        "##### Calcuating PMI Score of an Ingredient"
      ]
    },
    {
      "cell_type": "code",
      "execution_count": null,
      "metadata": {
        "id": "vuNNTjlICz2v"
      },
      "outputs": [],
      "source": [
        "def calculate_pmi_ingredient(ingredient):\n",
        "  s = 0\n",
        "  \n",
        "  for key in adjacency_matrix[ingredient]:\n",
        "    s += adjacency_matrix[ingredient][key]['weight']\n",
        "\n",
        "  return s"
      ]
    },
    {
      "cell_type": "code",
      "execution_count": null,
      "metadata": {
        "id": "6MBqg61SDWRW"
      },
      "outputs": [],
      "source": [
        "ingredient_pmi = dict()"
      ]
    },
    {
      "cell_type": "code",
      "execution_count": null,
      "metadata": {
        "id": "RPEnQ_EwDdsK"
      },
      "outputs": [],
      "source": [
        "for ingredient in total_ingredients_set:\n",
        "  ingredient_pmi[ingredient] = calculate_pmi_ingredient(ingredient)"
      ]
    },
    {
      "cell_type": "markdown",
      "metadata": {
        "id": "gp1rr0VWEDIk"
      },
      "source": [
        "##### Calculating PMI Value for Pair of Ingredients"
      ]
    },
    {
      "cell_type": "code",
      "execution_count": null,
      "metadata": {
        "id": "Ek_SzhM4ENK8"
      },
      "outputs": [],
      "source": [
        "from math import log\n",
        "\n",
        "def calculate_pmi_pair(a, b):\n",
        "  try:\n",
        "    pab = adjacency_matrix[a][b]['weight']\n",
        "  except:\n",
        "    return 0\n",
        "\n",
        "  pa = ingredient_pmi[a]\n",
        "  pb = ingredient_pmi[b]\n",
        "\n",
        "  return log((pab * len(list(recipe_df['recipe_id']))) / (pa * pb))"
      ]
    },
    {
      "cell_type": "markdown",
      "metadata": {
        "id": "WgtrPYPxFHrO"
      },
      "source": [
        "Calculating PMI Score of a Recipe"
      ]
    },
    {
      "cell_type": "code",
      "execution_count": null,
      "metadata": {
        "id": "NJwo5r7sFLyX"
      },
      "outputs": [],
      "source": [
        "def calculate_pmi_recipe(recipe_id):\n",
        "  ingredients = recipe_id_ingredients[recipe_id]\n",
        "\n",
        "  if len(ingredients) < 2:\n",
        "    return 0\n",
        "\n",
        "  max_pmi_score = 0\n",
        "\n",
        "  for i in range(len(ingredients)):\n",
        "    for j in range(i+1, len(ingredients)):\n",
        "      pmi = calculate_pmi_pair(ingredients[i], ingredients[j])\n",
        "\n",
        "      if pmi > max_pmi_score:\n",
        "        max_pmi_score = pmi\n",
        "  \n",
        "  return max_pmi_score"
      ]
    },
    {
      "cell_type": "markdown",
      "metadata": {
        "id": "1CHl2eAnGLoQ"
      },
      "source": [
        "##### Calculating PMI Scores of All Recipes"
      ]
    },
    {
      "cell_type": "code",
      "execution_count": null,
      "metadata": {
        "id": "DwsW0Aw5GK-b"
      },
      "outputs": [],
      "source": [
        "recipe_id_pmi = dict()"
      ]
    },
    {
      "cell_type": "code",
      "execution_count": null,
      "metadata": {
        "id": "PNVbVgFhGVEI"
      },
      "outputs": [],
      "source": [
        "for recipe_id in recipe_id_ingredients:\n",
        "  recipe_id_pmi[recipe_id] = calculate_pmi_recipe(recipe_id)"
      ]
    },
    {
      "cell_type": "markdown",
      "metadata": {
        "id": "wiw09-suGvQ7"
      },
      "source": [
        "##### Normalizing PMI Scores"
      ]
    },
    {
      "cell_type": "code",
      "execution_count": null,
      "metadata": {
        "id": "VFfUyiFEGyzy"
      },
      "outputs": [],
      "source": [
        "def normalise_pmi_scores(recipe_id_pmi, upper_bound = 5):\n",
        "  pmi_values = list(recipe_id_pmi.values())\n",
        "  \n",
        "  mn = min(pmi_values)\n",
        "  mx = max(pmi_values)\n",
        "\n",
        "  for recipe_id in recipe_id_pmi:\n",
        "    recipe_id_pmi[recipe_id] = ((recipe_id_pmi[recipe_id] - mn)/(mx - mn)) * upper_bound\n",
        "  return recipe_id_pmi"
      ]
    },
    {
      "cell_type": "code",
      "execution_count": null,
      "metadata": {
        "id": "cMHDj2DpHmhe"
      },
      "outputs": [],
      "source": [
        "recipe_id_pmi = normalise_pmi_scores(recipe_id_pmi)"
      ]
    },
    {
      "cell_type": "markdown",
      "metadata": {
        "id": "PT1f6YRdHu5p"
      },
      "source": [
        "##### Printing PMI Scores of Recipes"
      ]
    },
    {
      "cell_type": "code",
      "execution_count": null,
      "metadata": {
        "id": "sAuTPx6EHx7e"
      },
      "outputs": [],
      "source": [
        "count = 0\n",
        "\n",
        "for recipe_id in recipe_id_pmi:\n",
        "  print(recipe_id_name[recipe_id], ':', recipe_id_pmi[recipe_id])\n",
        "\n",
        "  count += 1\n",
        "  if count == 10:\n",
        "    break"
      ]
    },
    {
      "cell_type": "markdown",
      "metadata": {
        "id": "5rPD36lQ1wS4"
      },
      "source": [
        "## Creating Dataset of Recipes via Web Scrapping"
      ]
    },
    {
      "cell_type": "markdown",
      "metadata": {
        "id": "g-TSUFQn14UQ"
      },
      "source": [
        "### Scrapping from https://www.indianhealthyrecipes.com/recipes/"
      ]
    },
    {
      "cell_type": "markdown",
      "metadata": {
        "id": "oReLTUY42ivp"
      },
      "source": [
        "#### Set of Web Scrapping"
      ]
    },
    {
      "cell_type": "code",
      "execution_count": null,
      "metadata": {
        "colab": {
          "base_uri": "https://localhost:8080/"
        },
        "id": "iTpug5qD2zGf",
        "outputId": "d933bb69-b201-4dd7-fd5f-737dd336e512"
      },
      "outputs": [
        {
          "name": "stdout",
          "output_type": "stream",
          "text": [
            "Requirement already satisfied: html5lib in /usr/local/lib/python3.7/dist-packages (1.0.1)\n",
            "Requirement already satisfied: six>=1.9 in /usr/local/lib/python3.7/dist-packages (from html5lib) (1.15.0)\n",
            "Requirement already satisfied: webencodings in /usr/local/lib/python3.7/dist-packages (from html5lib) (0.5.1)\n",
            "Requirement already satisfied: requests in /usr/local/lib/python3.7/dist-packages (2.23.0)\n",
            "Requirement already satisfied: urllib3!=1.25.0,!=1.25.1,<1.26,>=1.21.1 in /usr/local/lib/python3.7/dist-packages (from requests) (1.24.3)\n",
            "Requirement already satisfied: certifi>=2017.4.17 in /usr/local/lib/python3.7/dist-packages (from requests) (2021.10.8)\n",
            "Requirement already satisfied: chardet<4,>=3.0.2 in /usr/local/lib/python3.7/dist-packages (from requests) (3.0.4)\n",
            "Requirement already satisfied: idna<3,>=2.5 in /usr/local/lib/python3.7/dist-packages (from requests) (2.10)\n",
            "Requirement already satisfied: bs4 in /usr/local/lib/python3.7/dist-packages (0.0.1)\n",
            "Requirement already satisfied: beautifulsoup4 in /usr/local/lib/python3.7/dist-packages (from bs4) (4.6.3)\n"
          ]
        }
      ],
      "source": [
        "!pip install html5lib\n",
        "!pip install requests\n",
        "!pip install bs4"
      ]
    },
    {
      "cell_type": "markdown",
      "metadata": {
        "id": "DOGwimjv3OVd"
      },
      "source": [
        "#### Web Scrapping Recipe Links - https://www.indianhealthyrecipes.com/recipes/"
      ]
    },
    {
      "cell_type": "code",
      "execution_count": null,
      "metadata": {
        "id": "cSwQ2Q963S9C"
      },
      "outputs": [],
      "source": [
        "import requests\n",
        "from bs4 import BeautifulSoup"
      ]
    },
    {
      "cell_type": "code",
      "execution_count": null,
      "metadata": {
        "id": "pCzMQrrc3orz"
      },
      "outputs": [],
      "source": [
        "url = \"https://www.indianhealthyrecipes.com/recipes/\"\n",
        "contents = requests.get(url).content\n",
        "\n",
        "soup = BeautifulSoup(contents, 'html5lib')\n",
        "tags = soup('a')\n",
        "\n",
        "links = []\n",
        "for tag in tags:\n",
        "  links.append(tag.get('href', None))"
      ]
    },
    {
      "cell_type": "code",
      "execution_count": null,
      "metadata": {
        "id": "V7dIRoUT4YGE"
      },
      "outputs": [],
      "source": [
        "new_links = []\n",
        "\n",
        "for link in links:\n",
        "  if link != None and link.startswith('https://'):\n",
        "    new_links.append(link)\n",
        "\n",
        "links = new_links"
      ]
    },
    {
      "cell_type": "code",
      "execution_count": null,
      "metadata": {
        "id": "IzZ_kwg46Vwo"
      },
      "outputs": [],
      "source": [
        "links = links[:1072]\n",
        "links = links[55:]"
      ]
    },
    {
      "cell_type": "code",
      "execution_count": null,
      "metadata": {
        "colab": {
          "base_uri": "https://localhost:8080/"
        },
        "id": "pPaUEXxC5yPI",
        "outputId": "241a77d8-5007-4c89-93f3-8d3d1cac3743"
      },
      "outputs": [
        {
          "name": "stdout",
          "output_type": "stream",
          "text": [
            "https://www.indianhealthyrecipes.com/achari-chicken/\n",
            "https://www.indianhealthyrecipes.com/achari-paneer-masala-recipe/\n",
            "https://www.indianhealthyrecipes.com/adai-recipe-adai-dosa/\n",
            "https://www.indianhealthyrecipes.com/aglio-olio/\n",
            "https://www.indianhealthyrecipes.com/ajwain-paratha-recipe/\n",
            "https://www.indianhealthyrecipes.com/akki-roti-recipe-akki-rotti/\n",
            "https://www.indianhealthyrecipes.com/alasanda-vada-recipe-lobia-vada-baked-and-fried-recipes/\n",
            "https://www.indianhealthyrecipes.com/alasandalu-kura-bobbarlu-curry-recipe/\n",
            "https://www.indianhealthyrecipes.com/allam-pachadi/\n",
            "https://www.indianhealthyrecipes.com/almond-burfi-using-coconut-palm-sugar-or-jaggery/\n",
            "https://www.indianhealthyrecipes.com/carrot-smoothie/\n",
            "https://www.indianhealthyrecipes.com/homemade-almond-badam-milk-powder/\n",
            "https://www.indianhealthyrecipes.com/almond-yogurt-recipe/\n",
            "https://www.indianhealthyrecipes.com/aloo-baingan-masala-recipe/\n",
            "https://www.indianhealthyrecipes.com/aloo-bhujia/\n",
            "https://www.indianhealthyrecipes.com/hyderabadi-aloo-dum-biryani-potato-biryani/\n",
            "https://www.indianhealthyrecipes.com/aloo-bonda-recipe-how-to-make-potato-bonda/\n",
            "https://www.indianhealthyrecipes.com/potato-capsicum-masala-north-karnataka-recipe/\n",
            "https://www.indianhealthyrecipes.com/aloo-chaat-recipe/\n",
            "https://www.indianhealthyrecipes.com/potato-egg-curry-aloo-egg-curry-recipe/\n"
          ]
        }
      ],
      "source": [
        "count = 0\n",
        "\n",
        "for link in links:\n",
        "  print(link)\n",
        "\n",
        "  count += 1\n",
        "  if count == 20:\n",
        "    break"
      ]
    },
    {
      "cell_type": "markdown",
      "metadata": {
        "id": "1NWo4r0yIYWJ"
      },
      "source": [
        "#### Retrieving Informations of a Single Recipe from a Single Link"
      ]
    },
    {
      "cell_type": "markdown",
      "metadata": {
        "id": "6rjhgX5N9JfE"
      },
      "source": [
        "##### Retrieving Name of a Single Recipe"
      ]
    },
    {
      "cell_type": "code",
      "execution_count": null,
      "metadata": {
        "id": "Ae_Lj0hI9IoX"
      },
      "outputs": [],
      "source": [
        "def get_recipe_name(link):\n",
        "  temp_url = link\n",
        "  temp_contents = requests.get(temp_url).content\n",
        "\n",
        "  bs = BeautifulSoup(temp_contents, 'html5lib')\n",
        "  try:\n",
        "    h1 = bs('h1')\n",
        "    recipe_name = h1[0].text\n",
        "\n",
        "    return recipe_name\n",
        "  \n",
        "  except:\n",
        "    return -1\n"
      ]
    },
    {
      "cell_type": "code",
      "execution_count": null,
      "metadata": {
        "colab": {
          "base_uri": "https://localhost:8080/",
          "height": 35
        },
        "id": "1ml-BF2l9dDs",
        "outputId": "acedfe77-64b5-4e8e-bb81-e4bb3e19880a"
      },
      "outputs": [
        {
          "data": {
            "application/vnd.google.colaboratory.intrinsic+json": {
              "type": "string"
            },
            "text/plain": [
              "'Achari chicken'"
            ]
          },
          "execution_count": 335,
          "metadata": {},
          "output_type": "execute_result"
        }
      ],
      "source": [
        "get_recipe_name(links[0])"
      ]
    },
    {
      "cell_type": "markdown",
      "metadata": {
        "id": "YbUI8YOHDg_i"
      },
      "source": [
        "##### Retrieving Image URL of a Single Recipe"
      ]
    },
    {
      "cell_type": "code",
      "execution_count": null,
      "metadata": {
        "id": "JxKKic5XDnt_"
      },
      "outputs": [],
      "source": [
        "def get_recipe_image(link):\n",
        "  temp_url = link\n",
        "  temp_contents = requests.get(temp_url).content\n",
        "\n",
        "  bs = BeautifulSoup(temp_contents, 'html5lib')\n",
        "  try:\n",
        "    img = bs('img')\n",
        "    \n",
        "    for i in img:\n",
        "      if i.parent.parent.get('class', None)[0] == 'wp-block-image':\n",
        "        return i.get('src', -1)\n",
        "    \n",
        "    return -1\n",
        "\n",
        "  except:\n",
        "    return -1"
      ]
    },
    {
      "cell_type": "code",
      "execution_count": null,
      "metadata": {
        "colab": {
          "base_uri": "https://localhost:8080/",
          "height": 35
        },
        "id": "VjxP6X2IFMCp",
        "outputId": "91575bba-b646-4980-dba8-0a0923f95da7"
      },
      "outputs": [
        {
          "data": {
            "application/vnd.google.colaboratory.intrinsic+json": {
              "type": "string"
            },
            "text/plain": [
              "'https://www.indianhealthyrecipes.com/wp-content/uploads/2020/01/achari-chicken.jpg'"
            ]
          },
          "execution_count": 337,
          "metadata": {},
          "output_type": "execute_result"
        }
      ],
      "source": [
        "get_recipe_image(links[0])"
      ]
    },
    {
      "cell_type": "markdown",
      "metadata": {
        "id": "5z4duuDk7l4U"
      },
      "source": [
        "##### Retrieving nutritions of a Single Recipe"
      ]
    },
    {
      "cell_type": "code",
      "execution_count": null,
      "metadata": {
        "id": "6tn6_VSz7sEL"
      },
      "outputs": [],
      "source": [
        "def get_recipe_nutritions(link):\n",
        "  temp_url = link\n",
        "  temp_contents = requests.get(temp_url).content\n",
        "\n",
        "  bs = BeautifulSoup(temp_contents, 'html5lib')\n",
        "  try:\n",
        "    nutritions = bs.find('div', class_ = 'wprm-nutrition-label')\n",
        "    nutritional_items = nutritions.find_all('div', class_ = 'nutrition-item')\n",
        "\n",
        "    nutrients_list = dict()\n",
        "\n",
        "    for item in nutritional_items:\n",
        "      try:\n",
        "        main = item.find('span', class_ = 'nutrition-main')\n",
        "        nutrient_name = main.find('strong').text\n",
        "        quantity = main.text.replace(nutrient_name, \"\").strip()\n",
        "      \n",
        "      except:\n",
        "        continue\n",
        "\n",
        "      count = 0\n",
        "      for letter in quantity:\n",
        "        if ord(letter) not in range(48, 58) and letter != '.':\n",
        "          break\n",
        "        count += 1\n",
        "      \n",
        "      nutrient_details = dict()\n",
        "      nutrient_details['amount'] = quantity[:count]\n",
        "      if count == len(quantity):\n",
        "        nutrient_details['unit'] = None\n",
        "      else:\n",
        "        nutrient_details['unit'] = quantity[count:]\n",
        "\n",
        "      nutrients_list[nutrient_name] = nutrient_details\n",
        "\n",
        "    return nutrients_list\n",
        "\n",
        "  except Exception as e:\n",
        "    return -1"
      ]
    },
    {
      "cell_type": "code",
      "execution_count": null,
      "metadata": {
        "colab": {
          "base_uri": "https://localhost:8080/"
        },
        "id": "Er7DzLbT_8__",
        "outputId": "11723e80-684e-4960-827d-25e19395bc84"
      },
      "outputs": [
        {
          "data": {
            "text/plain": [
              "{'Calcium': {'amount': '20', 'unit': 'mg'},\n",
              " 'Calories': {'amount': '218', 'unit': None},\n",
              " 'Carbohydrates': {'amount': '38', 'unit': 'g'},\n",
              " 'Fat': {'amount': '5', 'unit': 'g'},\n",
              " 'Iron': {'amount': '1', 'unit': 'mg'},\n",
              " 'Potassium': {'amount': '143', 'unit': 'mg'},\n",
              " 'Protein': {'amount': '4', 'unit': 'g'},\n",
              " 'Sodium': {'amount': '273', 'unit': 'mg'},\n",
              " 'Vitamin A': {'amount': '80', 'unit': 'IU'},\n",
              " 'Vitamin C': {'amount': '9.7', 'unit': 'mg'}}"
            ]
          },
          "execution_count": 341,
          "metadata": {},
          "output_type": "execute_result"
        }
      ],
      "source": [
        "get_recipe_nutritions(links[5])"
      ]
    },
    {
      "cell_type": "markdown",
      "metadata": {
        "id": "b4IiMXZkBy1C"
      },
      "source": [
        "##### Retrieving Ingredients of a Single Recipe"
      ]
    },
    {
      "cell_type": "code",
      "execution_count": null,
      "metadata": {
        "id": "jxDf4_lgCI8H"
      },
      "outputs": [],
      "source": [
        "def get_recipe_ingredients(link):\n",
        "  temp_url = link\n",
        "  temp_contents = requests.get(temp_url).content\n",
        "\n",
        "  bs = BeautifulSoup(temp_contents, 'html5lib')\n",
        "  try:\n",
        "    ingredients_list_container = bs.find('div', class_ = 'wprm-recipe-ingredients-container')\n",
        "    ingredients_groups = ingredients_list_container.find_all('div', class_ = 'wprm-recipe-ingredient-group')\n",
        "\n",
        "    ingredients_list = []\n",
        "\n",
        "    for group in ingredients_groups:\n",
        "      \n",
        "      try:\n",
        "        items = group.find_all('li')\n",
        "\n",
        "        for item in items:\n",
        "          spans = item.find_all('span')[2:]\n",
        "          if item.find('span', class_ = 'wprm-recipe-ingredient-notes') != None:\n",
        "            spans.remove(item.find('span', class_ = 'wprm-recipe-ingredient-notes'))\n",
        "          \n",
        "          ingredient = \" \".join([i.text for i in spans])\n",
        "          ingredients_list.append(ingredient)\n",
        "\n",
        "      except:\n",
        "        continue\n",
        "\n",
        "    return ingredients_list\n",
        "  \n",
        "  except:\n",
        "    return -1"
      ]
    },
    {
      "cell_type": "code",
      "execution_count": null,
      "metadata": {
        "colab": {
          "base_uri": "https://localhost:8080/"
        },
        "id": "twz-qLmlCI9t",
        "outputId": "5e7f76d8-f673-472e-eb58-115108ef2aec"
      },
      "outputs": [
        {
          "data": {
            "text/plain": [
              "['4 dried red chilies',\n",
              " '2 tablespoons coriander seeds',\n",
              " '¼ tablespoon mustard seeds',\n",
              " '1 tablespoon cumin seeds',\n",
              " '2 Pinches fenugreek seeds',\n",
              " '1½ tablespoons fennel seeds ',\n",
              " '1 cup onions',\n",
              " '¾ cup tomatoes ',\n",
              " '2 tablespoons oil',\n",
              " '½ to ¾ tsp kalonji ',\n",
              " '1 pinch mustard',\n",
              " '1/8 teaspoon asafoetida',\n",
              " '1 tablespoon ginger garlic paste',\n",
              " '¼ teaspoon turmeric',\n",
              " '1½ teaspoon chilli powder',\n",
              " '1½ teaspoon sugar',\n",
              " '1 teaspoon salt',\n",
              " '½ cup curd',\n",
              " '½ cup hot water',\n",
              " '½ kg chicken',\n",
              " '1 tablespoon pickle',\n",
              " '2 tablespoons coriander leaves',\n",
              " '1 teaspoon shredded ginger ']"
            ]
          },
          "execution_count": 343,
          "metadata": {},
          "output_type": "execute_result"
        }
      ],
      "source": [
        "get_recipe_ingredients(links[0])"
      ]
    },
    {
      "cell_type": "markdown",
      "metadata": {
        "id": "HKZ0_4ktGzLs"
      },
      "source": [
        "##### Retrieving Instructions of a Single Recipe"
      ]
    },
    {
      "cell_type": "code",
      "execution_count": null,
      "metadata": {
        "id": "A1BrxdLRG1-M"
      },
      "outputs": [],
      "source": [
        "def get_recipe_instructions(link):\n",
        "  temp_url = link\n",
        "  temp_contents = requests.get(temp_url).content\n",
        "\n",
        "  bs = BeautifulSoup(temp_contents, 'html5lib')\n",
        "  try:\n",
        "    recipe_instructions = []\n",
        "\n",
        "    instructions_groups = bs.find_all('div', class_ = 'wprm-recipe-instruction-group')\n",
        "    for group in instructions_groups:\n",
        "      items = group.find_all('li')\n",
        "\n",
        "      for item in items:\n",
        "        instruction = item.find('div', class_ = 'wprm-recipe-instruction-text')\n",
        "        recipe_instructions.append(instruction.text.strip())\n",
        "\n",
        "    return recipe_instructions\n",
        "\n",
        "  except:\n",
        "    return -1"
      ]
    },
    {
      "cell_type": "code",
      "execution_count": null,
      "metadata": {
        "colab": {
          "base_uri": "https://localhost:8080/"
        },
        "id": "kN3j7qQYG3HL",
        "outputId": "47b3b2fd-1b07-4d4b-ac48-494fff195b0a"
      },
      "outputs": [
        {
          "data": {
            "text/plain": [
              "['Prepare the achari spice powder by adding red chilies, coriander seeds, cumin, mustard, fennel seeds and methi seeds to a spice jar.',\n",
              " 'Make a fine powder set aside.',\n",
              " 'Beat the yogurt well with a whisk until smooth.',\n",
              " 'Heat oil in a pan. If using mustard oil, heat it until smoky hot.',\n",
              " 'Add kalonji seeds & mustard.\\xa0When they splutter add hing.',\n",
              " 'Next add onions and saute until golden stirring often.',\n",
              " 'Add ginger garlic paste and fry till the raw smell goes away.\\xa0Reduce the flame and stir in the achari spice powder.',\n",
              " 'Saute until a nice aroma comes out just for 1 to 2 mins. Avoid over frying as it can turn bitter.',\n",
              " 'Pour the tomato puree and saute till the masala thickens.\\xa0Then add red chili powder, turmeric, salt and sugar.',\n",
              " 'Saute on a low heat for 2 to 3 mins until the masala leaves the pan.\\xa0Take a tablespoon of this masala and mix it with the whisked yogurt.',\n",
              " 'Ensure flame is very low at this stage and add half of the yogurt. Stir well to incorporate it with the onion tomato masala.',\n",
              " 'Add the rest of the yogurt and mix well.\\xa0Cook until the masala leaves the pan.',\n",
              " 'Transfer the chicken and saute it for about 3 to 4 mins on a low heat.',\n",
              " 'When the chicken turns pale, cover and cook for about 3 to 5 mins stirring occasionally.',\n",
              " 'By now chicken releases some moisture, based on this add some hot water to make a thick masala. You may need anywhere in between ½ to 1 cup water depending on the chicken. If you prefer your curry to be on the thicker side & not runny you will need only half cup.',\n",
              " 'Cover and cook until the chicken is tender & cooked fully.\\xa0If using achaar or pickle, stir it at this stage. Taste it and add more salt or sugar at this stage.',\n",
              " 'Add ginger juliennes. Cover & rest the achari chicken for at least 30 mins before serving.',\n",
              " 'If desired squeeze in some lemon juice before serving. Serve with basmati rice, roti or naan.']"
            ]
          },
          "execution_count": 345,
          "metadata": {},
          "output_type": "execute_result"
        }
      ],
      "source": [
        "get_recipe_instructions(links[0])"
      ]
    },
    {
      "cell_type": "markdown",
      "metadata": {
        "id": "gfRmYI1_Izoq"
      },
      "source": [
        "#### Retrieving Information of all Recipes from the Links Scrapped"
      ]
    },
    {
      "cell_type": "code",
      "execution_count": null,
      "metadata": {
        "id": "gtMmpHEoI7Jw"
      },
      "outputs": [],
      "source": [
        "recipe_informations = []"
      ]
    },
    {
      "cell_type": "code",
      "execution_count": null,
      "metadata": {
        "id": "Bj1FMaFJJagK"
      },
      "outputs": [],
      "source": [
        "for link in links:\n",
        "  recipe_name = get_recipe_name(link)\n",
        "  recipe_image = get_recipe_image(link)\n",
        "  recipe_nutritions = get_recipe_nutritions(link)\n",
        "  recipe_ingredients = get_recipe_ingredients(link)\n",
        "  recipe_instructions = get_recipe_instructions(link)\n",
        "\n",
        "  if recipe_name == -1 or recipe_image == -1 or recipe_nutritions == -1 or recipe_ingredients == -1 or recipe_instructions == -1:\n",
        "    continue\n",
        "\n",
        "  recipe_info = []\n",
        "  recipe_info.append(recipe_name)\n",
        "  recipe_info.append(recipe_image)\n",
        "  recipe_info.append(\"^\".join(recipe_ingredients))\n",
        "  recipe_info.append(\"^\".join(recipe_instructions))\n",
        "  recipe_info.append(recipe_nutritions)\n",
        "\n",
        "  recipe_informations.append(recipe_info)"
      ]
    },
    {
      "cell_type": "code",
      "execution_count": null,
      "metadata": {
        "colab": {
          "base_uri": "https://localhost:8080/"
        },
        "id": "N6ZPIOYZKg1f",
        "outputId": "5749aee6-7ab5-45df-feec-2aa37dd2fc5d"
      },
      "outputs": [
        {
          "name": "stdout",
          "output_type": "stream",
          "text": [
            "['Achari chicken', 'https://www.indianhealthyrecipes.com/wp-content/uploads/2020/01/achari-chicken.jpg', '4 dried red chilies^2 tablespoons coriander seeds^¼ tablespoon mustard seeds^1 tablespoon cumin seeds^2 Pinches fenugreek seeds^1½ tablespoons fennel seeds ^1 cup onions^¾ cup tomatoes ^2 tablespoons oil^½ to ¾ tsp kalonji ^1 pinch mustard^1/8 teaspoon asafoetida^1 tablespoon ginger garlic paste^¼ teaspoon turmeric^1½ teaspoon chilli powder^1½ teaspoon sugar^1 teaspoon salt^½ cup curd^½ cup hot water^½ kg chicken^1 tablespoon pickle^2 tablespoons coriander leaves^1 teaspoon shredded ginger ', 'Prepare the achari spice powder by adding red chilies, coriander seeds, cumin, mustard, fennel seeds and methi seeds to a spice jar.^Make a fine powder set aside.^Beat the yogurt well with a whisk until smooth.^Heat oil in a pan. If using mustard oil, heat it until smoky hot.^Add kalonji seeds & mustard.\\xa0When they splutter add hing.^Next add onions and saute until golden stirring often.^Add ginger garlic paste and fry till the raw smell goes away.\\xa0Reduce the flame and stir in the achari spice powder.^Saute until a nice aroma comes out just for 1 to 2 mins. Avoid over frying as it can turn bitter.^Pour the tomato puree and saute till the masala thickens.\\xa0Then add red chili powder, turmeric, salt and sugar.^Saute on a low heat for 2 to 3 mins until the masala leaves the pan.\\xa0Take a tablespoon of this masala and mix it with the whisked yogurt.^Ensure flame is very low at this stage and add half of the yogurt. Stir well to incorporate it with the onion tomato masala.^Add the rest of the yogurt and mix well.\\xa0Cook until the masala leaves the pan.^Transfer the chicken and saute it for about 3 to 4 mins on a low heat.^When the chicken turns pale, cover and cook for about 3 to 5 mins stirring occasionally.^By now chicken releases some moisture, based on this add some hot water to make a thick masala. You may need anywhere in between ½ to 1 cup water depending on the chicken. If you prefer your curry to be on the thicker side & not runny you will need only half cup.^Cover and cook until the chicken is tender & cooked fully.\\xa0If using achaar or pickle, stir it at this stage. Taste it and add more salt or sugar at this stage.^Add ginger juliennes. Cover & rest the achari chicken for at least 30 mins before serving.^If desired squeeze in some lemon juice before serving. Serve with basmati rice, roti or naan.', {'Calories': {'amount': '431', 'unit': None}, 'Fat': {'amount': '29', 'unit': 'g'}, 'Cholesterol': {'amount': '100', 'unit': 'mg'}, 'Sodium': {'amount': '732', 'unit': 'mg'}, 'Potassium': {'amount': '687', 'unit': 'mg'}, 'Carbohydrates': {'amount': '16', 'unit': 'g'}, 'Protein': {'amount': '28', 'unit': 'g'}, 'Vitamin A': {'amount': '1041', 'unit': 'IU'}, 'Vitamin C': {'amount': '78', 'unit': 'mg'}, 'Calcium': {'amount': '152', 'unit': 'mg'}, 'Iron': {'amount': '4', 'unit': 'mg'}}]\n",
            "['Achari paneer recipe', 'https://www.indianhealthyrecipes.com/wp-content/uploads/2021/06/achari-paneer-recipe.jpg', '1 tbsp coriander seeds^2 red chilies^1 tbsp fennel seeds ^1 tsp cumin^½ tsp mustard^Pinch methi seeds^1/3 to ½ cup tomatoes ^1/3 to ½ cup green capsicum^1 ½ tbsp mustard oil^1 to 1 ½ tbsp oil^½ tsp kalonji ^1/8 tsp asafoetida^½ cup onions^1 tsp ginger garlic paste^1/8 tsp turmeric^1 tsp chilli powder^1 tsp sugar^½ tsp salt^1/3 cup fresh curd^¾ cup water^200 grams cubed paneer^Handful coriander leaves^Shredded ginger little (optional)^Lemon juice (optional to add if desired)', 'Add red chilies, coriander seeds, fennel seeds, cumin, mustard and methi seeds to a spice jar. Make a fine powder set aside.^Puree tomatoes and capsicum. Set this aside as well.^Heat oil in a pan. Add kalonji seeds.\\xa0When they splutter add hing.\\xa0Immediately add finely chopped onions and saute until golden.^Add ginger garlic paste and saute till the raw smell goes away.\\xa0Lower the flame and add in the achari spice powder.^Saute till a nice aroma comes out just for 1 to 2 mins. Do not over fry to prevent bitterness.\\xa0Pour the tomato capsicum puree.^Saute till the moisture evaporates. The mixture turns thick.\\xa0Add red chili powder, turmeric, salt and sugar.^Mix and fry on a low heat for 2 mins. The masala leaves the pan by now.\\xa0Add half of the curd to the pan. Mix well with spice masala.^Add the other half and repeat it.\\xa0Cook until the masala leaves the pan.\\xa0Pour water and make a gravy.^Cover and cook until the gravy thickens.\\xa0At this stage you will see traces of oil on top. Mix everything well.\\xa0Add paneer and ginger.^Mix and cover the pan.\\xa0Cook on a low heat for 2 mins.\\xa0Add coriander leaves and turn off the heat.^Transfer achari paneer masala to a serving bowl. If you prefer more tang, then add lemon juice.', {'Calories': {'amount': '108', 'unit': None}, 'Fat': {'amount': '8', 'unit': 'g'}, 'Sodium': {'amount': '422', 'unit': 'mg'}, 'Potassium': {'amount': '218', 'unit': 'mg'}, 'Carbohydrates': {'amount': '9', 'unit': 'g'}, 'Protein': {'amount': '1', 'unit': 'g'}, 'Vitamin A': {'amount': '555', 'unit': 'IU'}, 'Vitamin C': {'amount': '45.9', 'unit': 'mg'}, 'Calcium': {'amount': '51', 'unit': 'mg'}, 'Iron': {'amount': '1.5', 'unit': 'mg'}}]\n",
            "['Adai Recipe | Adai Dosa', 'https://www.indianhealthyrecipes.com/wp-content/uploads/2021/07/adai-recipe.jpg', '¾ cup rice ^¼ cup chana dal^¼ cup toor dal^2 tablespoons moong dal^2 tablespoons urad dal^¾  to 1 inch ginger^4 to 5 red chilies^¾  to 1 teaspoon cumin seeds^⅛ teaspoon Hing^½ teaspoon salt ^Water^2 tablespoons Oil^1 small onion ^2 tablespoons coriander leaves', 'Add all the lentils – chana, toor, urad and moong dal to a large bowl. Wash them very well a few times.^Next add red chilies to the rice. Pour enough water and soak them for 2 to 4 hours. You can also leave them overnight for 8 hours.^Add rice to another large bowl and rinse a few times. You can soak it for 2 to 4 hours to overnight.^When you are ready to grind the batter, drain the water and rinse them well.^Add rice and red chilies to a blender jar along with ¼ cup fresh water. Blend to a slightly coarse paste or thick batter, adding more water as required. Batter has to be thick. Transfer this to a bowl.^Add dal, cumin and ginger to the jar. Also ¼ cup water and blend to a slightly coarse thick batter, adding more water if required.^Mix this with the rice batter. The batter has to be thick yet of spreading consistency. Allow to rest for 2 to 4 hours. You can also skip resting.^Heat a pan. Add few drops of oil and smear it all over the pan with a kitchen tissue. Heat the pan well on a medium heat.^While the pan heats, add chopped onions, salt, hing, coriander leaves to the batter. Mix everything well. Taste test and adjust salt.^If you prefer to make thick adai, the consistency of the batter must be thick but of spreading consistency.^If you prefer thin adai, then add more water as needed. Mix well to bring the consistency to a slightly less thick batter, not runny. The batter must be easily spreadable on the pan.^Regulate the flame to medium. Make sure the pan is hot.^Pour one ladle of batter and spread it quickly like a dosa. Spread it to thick or thin adai as per your liking.^Add ½ tsp oil or ghee across the edges. Cook on a medium heat.^When it gets cooked on one side, the edges loosen from the pan slightly. Turn it and cook on the other side as well. Make sure it is cooked on both the sides until crisp.^To make the next adai be sure to heat the pan well. It should be hot but not smoking hot.^Serve adai dosa with coconut chutney or any other chutney.', {'Calories': {'amount': '163', 'unit': None}, 'Fat': {'amount': '3', 'unit': 'g'}, 'Sodium': {'amount': '148', 'unit': 'mg'}, 'Potassium': {'amount': '196', 'unit': 'mg'}, 'Carbohydrates': {'amount': '25', 'unit': 'g'}, 'Protein': {'amount': '6', 'unit': 'g'}, 'Vitamin A': {'amount': '25', 'unit': 'IU'}, 'Vitamin C': {'amount': '4', 'unit': 'mg'}, 'Calcium': {'amount': '23', 'unit': 'mg'}, 'Iron': {'amount': '1.7', 'unit': 'mg'}}]\n",
            "['Aglio Olio Recipe', 'https://www.indianhealthyrecipes.com/wp-content/uploads/2022/01/aglio-olio.jpg', '250 grams spaghetti^1 tbsp garlic^1 tsp red chili flakes^2 tbsps olive oil^1 tbsp olive oil^2 to 3 tbsps parsley^¾ to 1 tsp salt^2 tbsps Parmesan cheese', 'Bring ample amount of water to a rapid boil in a large pot.^Add spaghetti and cook following the instructions on the pack. I cooked for 7 minutes.^Drain and reserve ½ cup stock.^In a large pan, add oil and heat it.^Saute garlic on a low to medium heat until it begins to shrink. Take care not to burn otherwise it will lend a bitter taste to the spaghetti.^Add red chilli flakes and saute for 30 seconds.^Pour the reserved water and salt to the pan. Be careful while you do this, as the hot water may splash.^Check if there is enough salt.^Mix and cook until the sauce reduces to half the original quantity, about ¼ cup.^Add the cooked pasta. Switch off the stove. Mix everything well and set aside for 3 to 4 minutes.^Add chopped parsley and cheese if desired. Serve aglio olio immediately with a salad on the side.', {'Calories': {'amount': '682', 'unit': None}, 'Fat': {'amount': '27', 'unit': 'g'}, 'Cholesterol': {'amount': '15', 'unit': 'mg'}, 'Sodium': {'amount': '118', 'unit': 'mg'}, 'Potassium': {'amount': '275', 'unit': 'mg'}, 'Carbohydrates': {'amount': '88', 'unit': 'g'}, 'Protein': {'amount': '19', 'unit': 'g'}, 'Vitamin A': {'amount': '615', 'unit': 'IU'}, 'Vitamin C': {'amount': '3.9', 'unit': 'mg'}, 'Calcium': {'amount': '140', 'unit': 'mg'}, 'Iron': {'amount': '1.9', 'unit': 'mg'}}]\n",
            "['Ajwain paratha recipe | How to make carom seeds paratha', 'https://www.indianhealthyrecipes.com/wp-content/uploads/2016/03/ajwain-paratha-recipe.jpg', '2 cups whole wheat flour^2 tsps oil^salt^1 tsp ajwain^¾ to 1 cup water^ghee', 'To a mixing bowl add flour, salt and oil. Add water as needed and make a smooth dough.^Knead it well to a soft dough. Wrap it in a moist cloth and keep it covered. You can also keep it in a bowl and cover. Allow to rest for 30 mins.^Divide the dough to 8 equal parts. Sprinkle the rolling area with little flour. Flatten a ball and sprinkle little flour over it.^Begin to roll it evenly to 6 to 7 inch round layer. Sprinkle ajwain or powder evenly all over. Roll the layer once more lightly.^Fold half of it. Repeat folding to make a triangle.^Roll this evenly to make about 8 inch paratha.^Heat a tawa over a medium high flame. While the tawa heats, you can roll the next paratha. When it is hot enough place the parantha on the tawa. Within few seconds you will see bubbles. Then flip it and cook on both the sides until it puffs and gets golden brown spots. Smear ghee all over.^If you are a novice cook, then roll and fry them in 2 batches. Roll 4 parathas and finish frying them. Then make the rest and fry.^Serve with a curry.^Stack ajwain paratha in a kitchen tissue or a cotton cloth to keep them soft.', {'Calories': {'amount': '113', 'unit': None}, 'Fat': {'amount': '1', 'unit': 'g'}, 'Sodium': {'amount': '1', 'unit': 'mg'}, 'Potassium': {'amount': '108', 'unit': 'mg'}, 'Carbohydrates': {'amount': '21', 'unit': 'g'}, 'Protein': {'amount': '4', 'unit': 'g'}, 'Calcium': {'amount': '10', 'unit': 'mg'}, 'Iron': {'amount': '1.1', 'unit': 'mg'}}]\n",
            "['Akki roti (Rice flour roti)', 'https://www.indianhealthyrecipes.com/wp-content/uploads/2021/07/akki-roti.jpg', '1 cup rice flour^1 small  onion^3 tablespoons coconut^½ carrot ^2 green chilli^2 to 3 tablespoons coriander leaves^½ teaspoon cumin^1/3 teaspoon Salt^½ teaspoon ginger grated^water^1 tablespoon oil^2 to 3 tablespoons sabsige soppu^1 tablespoon chana dal ', 'Wash and chop very finely 1 small onions, 2 green chilies and handful of coriander leaves. Grate\\xa0½ carrot & ½ teaspoon ginger. If using sabsige, rinse well and chop finely.^Add 1 cup flour to a large mixing bowl along with 1/3 teaspoon salt, ½ teaspoon cumin, chopped onions, chilies, coriander leaves and carrots. Mix everything well. You can also add about 2 to 3 tablespoons grated coconut & 2 to 3 tablespoons dill leaves.^Pour water little by little and make a soft dough. The dough must be smooth and moist.\\xa0Divide the dough to 4 equal balls. Roll to smooth. Keep the bowl covered to prevent drying up.^You can make akki roti on a greased banana leaf, moist handkerchief, foil or parchment paper.^Place a ball on the moist cloth or foil or greased banana leaf.^Begin to spread it lightly with your fingers to make a round roti. If the edges of akki roti crack, then dip your fingers in water and join the cracks. Then continue to spread it.^It can be made thick or thin to suit your taste. If making thick, make 3 finger sized wholes with one and half inches apart.^Heat the greased tawa on a medium high flame.\\xa0 Lift the banana leaf or parchment paper and reverse it on the hot tawa, the roti facing the tawa. Gently peel off the leaf.^When the base firms up & golden, flip it. Toast it on both the sides. After flipping it sprinkle some oil.\\xa0Press down with a spatula to cook evenly.^Remove akki roti when you see brown spots. Do not over cook it may turn hard.\\xa0While you toast the akki roti, make another one on the leaf or cloth. Transfer to the tawa after the first one is done.^If you are making directly on the tawa then you will need 2 tawas to use them alternately. Or cool the tawa completely and then spread the next roti.^Lightly grease a cool tawa & keep it on a kitchen counter. Place the ball on the tawa and spread it directly to a thin akki roti.\\xa0 Place the tawa now on the stove and cook until the base firms. Then flip & cook on the other side until done. Press down with a spatula to cook evenly.^To make the next akki roti either use another cool tawa or wait until the first one cools completely. If you try to spread the dough on the hot tawa it will get stuck and not spread at all.\\xa0Serve akki roti with chutney.', {'Calories': {'amount': '218', 'unit': None}, 'Fat': {'amount': '5', 'unit': 'g'}, 'Sodium': {'amount': '273', 'unit': 'mg'}, 'Potassium': {'amount': '143', 'unit': 'mg'}, 'Carbohydrates': {'amount': '38', 'unit': 'g'}, 'Protein': {'amount': '4', 'unit': 'g'}, 'Vitamin A': {'amount': '80', 'unit': 'IU'}, 'Vitamin C': {'amount': '9.7', 'unit': 'mg'}, 'Calcium': {'amount': '20', 'unit': 'mg'}, 'Iron': {'amount': '1', 'unit': 'mg'}}]\n",
            "['Alasanda vada | Lobia vada | Black eyed pea fritters', 'https://www.indianhealthyrecipes.com/wp-content/uploads/2012/09/baked-alasanda-vada.jpg', '2 cups black eyed peas^¼ tsp turmeric^1 ½ tbsp rice flour^1 tsp ginger garlic paste^½ tsp cumin^1 Fistful coriander leaves^1/4 cup onions^Oil', 'Wash & soak alasandalu or lobia for 4 to 6 hours. Drain water thoroughly. Grind ½ of the lobia to a semi smooth paste (though not to coarse) and the other ½ to a coarse paste with very little water and enough salt. I used 25 ml water. Do not add too much water, else they will not turn out to be crispy.^Make sure that there are no left over whole alasandalu, they can burst while frying. If you opt for deep frying.^Mix all the other ingredients except oil.^Grease a cling wrap or a plastic sheet or a foil. Or can even grease your palm and make alasanda vada or patties and proceed further. Traditionally they are made with a hole in the center for quick and even cooking. Can even make without if you are not comfortable doing so.^If opting for deep fried alasanda vada, heat the oil till hot, medium the flame and fry these vada / patties evenly by flipping them to both the sides. Do not crowd your fry pan. Fry these till you feel they are cooked fully, usually a medium flame and frying for 3 to 4 mins wil do perfect for me, but this depends on the size of your vada. If you try this on a high flame, they can be browned faster without being cooked inside. Once fried properly, drain them on a kitchen tissue. To keep them crispy for longer time, refry them for a min.^If you like to go for the baking alasanda vada, make the vadas with a hole in the center. Preheat the oven to 220 C, place theses alasanda vada on a greased baking tray. Brush them with oil, this is done to avoid dryness and to get a crisp texture. Bake them for 12 to 15 mins on one side and for 4 to 6 mins on the other side. This depends on the size of the vadas you make.for the first side keep checking after 12 mins and the other side after 4 mins. Take care not to burn and make sure they are cooked fully.', {'Calories': {'amount': '156', 'unit': None}, 'Sodium': {'amount': '7', 'unit': 'mg'}, 'Potassium': {'amount': '353', 'unit': 'mg'}, 'Carbohydrates': {'amount': '28', 'unit': 'g'}, 'Protein': {'amount': '9', 'unit': 'g'}, 'Vitamin A': {'amount': '35', 'unit': 'IU'}, 'Vitamin C': {'amount': '3.3', 'unit': 'mg'}, 'Calcium': {'amount': '32', 'unit': 'mg'}, 'Iron': {'amount': '3.3', 'unit': 'mg'}}]\n",
            "['Alasandalu curry recipe | bobbarlu curry | lobia curry', 'https://www.indianhealthyrecipes.com/wp-content/uploads/2013/04/alasandula-kura-recipe.jpg', '1 cup alasandalu^½ cup onions^1 green chili^1 tomato^1 potato^Leafy veggies like spinach or methi as needed^1 sprig curry leaves^¾ tsp ginger garlic paste^½ tsp chili powder^¼ to ½ tsp garam masala^¼ tsp mustard^½ tsp cumin^Oil', 'To make bobbarlu curry, wash and soak alasandalu for at least 8 to 10 hrs.^Pressure cook till soft not mushy. I pressure cook for 2 whistles.^Take 2 tbsp. boiled alasandalu /lobia and grind to smooth paste with little water. Set aside the rest of the black eyed beans.^Heat a pan with oil, add curry leaves, chili, mustard and cumin, once they begin to crackle, add hing.^Add onions, sprinkle some salt and fry till they turn pink.^Add ginger garlic paste and sauté till the raw smell goes away.^Add tomato, turmeric and little more salt. Fry till the tomatoes turn mushy, totally mushy.^Add boiled potatoes or any leafy veggies and sauté for a min.^Add red chili powder and fry for a min.^Pour water as needed and bring it to a boil.^Add the ground paste, beans and garam masala. Cook on a low flame for 5 to 7 mins with the lid closed. Adjust more or less water as needed.^Serve alasandalu curry with roti or rice.', {'Calories': {'amount': '134', 'unit': None}, 'Sodium': {'amount': '75', 'unit': 'mg'}, 'Potassium': {'amount': '588', 'unit': 'mg'}, 'Carbohydrates': {'amount': '26', 'unit': 'g'}, 'Protein': {'amount': '7', 'unit': 'g'}, 'Vitamin A': {'amount': '500', 'unit': 'IU'}, 'Vitamin C': {'amount': '30.9', 'unit': 'mg'}, 'Calcium': {'amount': '45', 'unit': 'mg'}, 'Iron': {'amount': '4.2', 'unit': 'mg'}}]\n",
            "['Allam pachadi | Andhra style ginger pickle recipe', 'https://www.indianhealthyrecipes.com/wp-content/uploads/2019/03/allam-pachadi.jpg', '250 grams Ginger^¼ tsp turmeric powder^100 grams tamarind^50 to 75 grams jaggery^6 tbsp Red chili powder^Salt^1 tbsp fenugreek seeds^2 sprig curry leaves^1 tsp mustard^90 ml oil^2 red chilies^garlic^1 Pinch hing', 'Wash ginger under running water to remove mud and dirt. Peel off the skin if desired. Dry it for some time or overnight on an absorbent paper or cloth.^Soak tamarind in boiled and cooled water till we need it. Do not use lot of water, it must be just enough to soak the tamarind, so that we get a thick paste.^Dry roast 1 tbsp. Fenugreek seeds and powder them to fine powder. Set aside only 1 tbsp. powder to use.^Chop ginger to bite sized pieces and fry them on a medium flame till they turn slightly golden in little oil, for 3 to 4 minutes. Cool these completely^Blend it in a mixer to a smooth paste without adding water. Do not let the blender heat up.^Squeeze filter the tamarind pulp to remove impurities. We need thick tamarind paste, if it is thin, then boil the filtered tamarind to thicken.^All the ingredients need to be cool at this stage. Add the tamarind pulp, red chili powder, turmeric and salt to the ginger mix. Blend well again.^Add jaggery and blend again. Do not add the sweetener before you blend all the other ingredients well since this will thicken the mix and the mixer becomes loaded. Check the taste of the pickle now, it has to taste sour, sweet, hot and spicy. Adjust any taste as needed.^To finish off add methi powder and mix.^Heat the rest of the oil in a pan, add mustard and garlic. Add curry leaves, red chilies and hing. fry till the leaves turn crisp. Off the stove. Add the ginger pickle to the seasoning and mix well in the hot pan.^Cool completely and store allam pachadi in a glass bottle.', {'Calories': {'amount': '1500', 'unit': None}, 'Fat': {'amount': '98', 'unit': 'g'}, 'Sodium': {'amount': '1003', 'unit': 'mg'}, 'Potassium': {'amount': '1939', 'unit': 'mg'}, 'Carbohydrates': {'amount': '167', 'unit': 'g'}, 'Protein': {'amount': '13', 'unit': 'g'}, 'Vitamin A': {'amount': '15240', 'unit': 'IU'}, 'Vitamin C': {'amount': '212.9', 'unit': 'mg'}, 'Calcium': {'amount': '281', 'unit': 'mg'}, 'Iron': {'amount': '16.6', 'unit': 'mg'}}]\n",
            "['Almond burfi recipe with jaggery | Badam barfi with jaggery', 'https://www.indianhealthyrecipes.com/wp-content/uploads/2014/02/badam-burfi-using-jaggery.jpg', '1 ½ cups almonds^1 ¼ cups jaggery^¼ cup water^1 pinch green cardamom powder^oil^1 tsp sesame seeds', 'Please follow the step by step instructions for making almond burfi.', {'Calories': {'amount': '79', 'unit': None}, 'Fat': {'amount': '3', 'unit': 'g'}, 'Potassium': {'amount': '45', 'unit': 'mg'}, 'Carbohydrates': {'amount': '11', 'unit': 'g'}, 'Protein': {'amount': '1', 'unit': 'g'}, 'Calcium': {'amount': '21', 'unit': 'mg'}, 'Iron': {'amount': '0.3', 'unit': 'mg'}}]\n",
            "['Almond Carrot Smoothie  recipe', 'https://www.indianhealthyrecipes.com/wp-content/uploads/2012/05/almond-carrot-smoothie-recipe.jpg', '8 to 10 almonds^1/2 cup carrots^1/2 cup grapes^sugar', 'If you like to steam the carrots, steam until soft.^Add all the ingredients to a blender jar till smooth.^Serve immediately', {'Calories': {'amount': '124', 'unit': None}, 'Fat': {'amount': '4', 'unit': 'g'}, 'Sodium': {'amount': '45', 'unit': 'mg'}, 'Potassium': {'amount': '405', 'unit': 'mg'}, 'Carbohydrates': {'amount': '21', 'unit': 'g'}, 'Protein': {'amount': '2', 'unit': 'g'}, 'Vitamin A': {'amount': '10690', 'unit': 'IU'}, 'Vitamin C': {'amount': '6.2', 'unit': 'mg'}, 'Calcium': {'amount': '42', 'unit': 'mg'}, 'Iron': {'amount': '0.8', 'unit': 'mg'}}]\n",
            "['Almond powder (Badam milk powder)', 'https://www.indianhealthyrecipes.com/wp-content/uploads/2012/07/badam-milk-powder-recipe.jpg', '1 cup almonds^2 to 3 cups water', \"Bring 2 to 3 cups of water to a rolling boil. Pour the almonds and leave them for 1 to 2 mins.^Drain them to a colander and rinse under cold running water. Drain completely.^Spread them on a clean cotton cloth. The skin of almonds loosens.^Peel off the skin. Pat them dry on a clean dry cloth.^Roast these almonds in a heavy bottom pan on a low flame until completely dry & moisture free. You can also do this in your oven on the lowest heat (60 C or 140 F) setting for 20 mins, stirring after 10 mins.^Do not brown the almonds but they must turn crunchy after roasting. Cool them completely.^Add them to a dry grinder like a spice jar or coffee grinder. Grind in intervals of 15 to 20 seconds on a minimum speed until you get a fine powder. Do not blend them for too long at a stretch as they begin to release oil making the power lumpy.^If your grinder isn't powerful enough, then sieve it to separate the coarse nuts. Grind the coarse nuts again.^Store almond powder in an air tight container. Stays good for several months at room temperature. If you live in a humid weather, then refrigerate it.^To make the milk, add 2 to 3 tablespoons of the almond powder to a cup. Pour ¼ cup boiling hot milk or water. Add your favorite flavorings like ⅛ teaspoon cardamom powder or 4 strands of crushed saffron. You can also stir in your sweetener. Let it sit for 10 mins, then top with more milk or water as desired.^Top your cereals: Sprinkle the almond powder on your grown-up or toddler’s cereals. This is a good way of serving almonds to toddlers who cannot still chew nuts.^You can also add this to desserts, ladoos, cookies and milkshakes.\", {'Calories': {'amount': '69', 'unit': None}, 'Fat': {'amount': '6', 'unit': 'g'}, 'Sodium': {'amount': '2', 'unit': 'mg'}, 'Potassium': {'amount': '84', 'unit': 'mg'}, 'Carbohydrates': {'amount': '3', 'unit': 'g'}, 'Protein': {'amount': '3', 'unit': 'g'}, 'Calcium': {'amount': '33', 'unit': 'mg'}, 'Iron': {'amount': '1', 'unit': 'mg'}}]\n",
            "['Almond yogurt recipe', 'https://www.indianhealthyrecipes.com/wp-content/uploads/2021/01/almond-yogurt-recipe.jpg', '1 cup almonds^yogurt starter', 'Bring 2 cups water to a rolling boil. Add almonds and turn off the heat. Rest them for 2 minutes and remove them to a colander. Pour cold water over the almonds and rinse them well.^The skins will loosen. Peel them and rinse them. Soak them in 3 cups of clean water for 6 hours.^After 6 hours, discard the water and rinse them well to get rid of the enzyme-inhibitors and anti-nutrients.^Transfer them to a clean grinder. I use the chutney grinder jar. Pour half cup water and begin to blend until smooth. Keep adding water as need to get a thick paste like consistency. The mixture has to as smooth as possible. You may adjust the amount of water while you blend. Check my pictures for consistency and texture.^Transfer this to a steel bowl. Heat 1 cup water in a pot until hot enough. Turn off and place the bowl of almond mixture in the water and keep stirring until it becomes warm. This takes some time about 4 to 5 minutes.^Spoon this to a clean dry glass or ceramic container. Add your yogurt starter. If using powdered starter, dissolve it in 1 tbsp water and then stir it.^Cover and keep this in a warm place for 3 to 8 hours depending on the temperature. When almond yogurt is ready you will notice a faint smell of the cultures. If this is your first try, keep checking every 3 hours so you know when it is done perfectly. If you leave it too long it will begin to ferment and rise. It can become inedible.^Serve almond yogurt fresh. You can also refrigerate for 2 to 3 days.', {'Calories': {'amount': '822', 'unit': None}, 'Fat': {'amount': '71', 'unit': 'g'}, 'Sodium': {'amount': '1', 'unit': 'mg'}, 'Potassium': {'amount': '1008', 'unit': 'mg'}, 'Carbohydrates': {'amount': '31', 'unit': 'g'}, 'Protein': {'amount': '30', 'unit': 'g'}, 'Calcium': {'amount': '378', 'unit': 'mg'}, 'Iron': {'amount': '5', 'unit': 'mg'}}]\n",
            "['Aloo Baingan Recipe', 'https://www.indianhealthyrecipes.com/wp-content/uploads/2021/07/aloo-baingan.jpg', '1 cup chopped onions^250 grams potatoes^250 grams eggplants^¾ cup tomato puree^1 green chilli ^2 tablespoons oil^½ to ¾ teaspoon cumin seeds^½ tablespoon ginger garlic paste ^1/8 teaspoon turmeric^½ to ¾ teaspoon salt ^¾ to 1 teaspoon red chili powder ^1 to 1 ¼ teaspoon garam masala ^1 to 1 ½ teaspoon coriander powder ^¼ cup water for semi dry^1 tablespoon coriander leaves', 'Peel and slice potatoes lengthwise to ½ inch thickness and keep them immersed in a bowl of water until used.^Add ¼ teaspoon salt to a large bowl of water. Rinse and slice eggplants lengthwise to 1 inch thickness and add them to the salted water.^Pour oil to a hot pan and add cumin seeds. When they sizzle add onions and saute them until lightly golden. Don’t brown them.^Add ginger garlic paste and saute just for 30 to 40 seconds, do not brown it.^Remove the sliced potatoes from the water and add them to the pan. Stir fry for 2 to 3 minutes until they look slightly transparent.^Lower the heat and cook them covered until half cooked. They are slightly tender but still undercooked at this stage.^Then remove the eggplants and add them to the pan. Stir fry for 2 to 3 minutes until the skin of eggplants discolor.^Cover and cook on a low heat until potatoes are completely cooked and fork tender, but not mushy. While you cook keep checking in between and give a stir to ensure the veggies are not burnt.^Once the potatoes and eggplants are tender and fully cooked, sprinkle salt, turmeric, red chilli powder, garam masala and coriander powder. Gently mix and stir fry for 1 to 2 minutes.^Turn the flame to medium, pour the tomato puree and mix well. Fry the aloo baingan until all of the raw smell from tomatoes vanishes. By then the masala also turns thick and clings on to the veggies.^Pour ¼ cup water to make a semi dry aloo baingan. For a gravy version, pour 1 to 1¼ cup hot boiling water and mix. Taste test and add more salt if required. Simmer for a few minutes without covering until the curry thickens.^Turn off the heat and garnish with coriander leaves.', {'Calories': {'amount': '166', 'unit': None}, 'Fat': {'amount': '10', 'unit': 'g'}, 'Sodium': {'amount': '477', 'unit': 'mg'}, 'Potassium': {'amount': '612', 'unit': 'mg'}, 'Carbohydrates': {'amount': '18', 'unit': 'g'}, 'Protein': {'amount': '3', 'unit': 'g'}, 'Vitamin A': {'amount': '556', 'unit': 'IU'}, 'Vitamin C': {'amount': '19', 'unit': 'mg'}, 'Calcium': {'amount': '46', 'unit': 'mg'}, 'Iron': {'amount': '2', 'unit': 'mg'}}]\n",
            "['Aloo bhujia', 'https://www.indianhealthyrecipes.com/wp-content/uploads/2020/09/aloo-bhujia.jpg', '250 grams boiled potatoes^2 cups besan^1 tablespoon hot oil^1 teaspoon salt^¾ teaspoon mint powder^¼ teaspoon kashmiri red chilli powder^¼ teaspoon black pepper powder^½  teaspoon chaat masala^¼ teaspoon ginger powder^½ teaspoon garlic powder^⅓ teaspoon garam masala^⅓ teaspoon cumin powder^⅛ to ¼ teaspoon hing^2 to 2½ cups oil^¼ teaspoon chaat masala^¼ teaspoon black pepper powder^¼ teaspoon mint powder', 'Sieve flour to a large bowl and set aside.^Grate boiled potatoes with a fine grater. Break down any crumbs of potatoes left in the gratings.^Add all of the spice powders and salt. Mix well.^Measure and spread 1½ cup of flour over the potato mixture.^Heat 1 tablespoon oil until very hot in a frying pan. Remove it before the oil begins to smoke. Pour it over the flour.^Carefully using a spoon mix the oil with the flour. Mix everything well with your hand to make a non-sticky dough.^If the dough is sticky, then add 1 to 2 tbsps more besan each time and mix until you get a stiff & non-sticky dough. (check pictures above).^Taste test and add more salt or any other spice you prefer. Cover and keep this aside.^Pour oil to a frying pan and heat it on a medium flame.^While the oil heats, grease your sev maker and fit the plate/attachment with the smallest holes. If you want to make them slightly thicker, you can also use the next size.^Divide the dough to 2 to 3 parts and shape them to logs. (check pictures in the post)^Fill the mould with a log and keep the sev maker ready.^Check if the oil is hot enough to fry by dropping a small portion of dough. It has to come up immediately without browning. This is the right temperature.^Gently press down the sev maker over the hot oil, moving your hand in a circular motion. Since aloo bhujia dough is stiff and sticky, you will need to break down the ends using a spoon.^Fry aloo bhujia on a medium flame. They take only 2 to 3 mins to get fried. Invert them once they become firm.^Soon they become firm, crisp and light golden. Do not brown them. Remove them to a steel colander.^Continue to make the next batch. Ensure the oil is hot enough and not extremely hot as aloo bhujia will burn/brown. As soon as they cool, transfer them to a air tight container.^Crush them gently to break down. Sprinkle chaat masala, black pepper and mint powder over aloo bhujia.', {'Calories': {'amount': '753', 'unit': None}, 'Fat': {'amount': '74', 'unit': 'g'}, 'Sodium': {'amount': '311', 'unit': 'mg'}, 'Potassium': {'amount': '254', 'unit': 'mg'}, 'Carbohydrates': {'amount': '18', 'unit': 'g'}, 'Protein': {'amount': '7', 'unit': 'g'}, 'Vitamin A': {'amount': '31', 'unit': 'IU'}, 'Calcium': {'amount': '14', 'unit': 'mg'}, 'Iron': {'amount': '2', 'unit': 'mg'}}]\n",
            "['Aloo dum biryani | Potato biryani', 'https://www.indianhealthyrecipes.com/wp-content/uploads/2020/02/aloo-biryani.jpg', '3 potatoes^1 onion^2 green chilies^3 tbsp coriander leaves^3 tbsp mint leaves^8 strands saffron^3 tbsps oil^1 bay leaf^2 green cardamoms^2 inch cinnamon^4 cloves^½ tsp shahi jeera^1 star anise^¾ cup curd^½ tbsp red chili powder^¼ tsp turmeric^¾ tbsp Ginger garlic paste^½ to ¾ tbsp biryani masala^Salt^1 tsp oil^1 ½ cups basmathi^1 bay leaf^2 inch cinnamon^3 green cardamom^¼ tsp shahi jeera^Salt', 'Add 3 tbsps of ghee or oil in a pan and fry potatoes till they are almost cooked. It takes around 10 mins. Set these aside and fry the onions until golden like fried onions. Set these aside as well. You can also par boil the potatoes and use, if they are from cold storage, otherwise they will be uncooked in the biryani.^Pour 3/4 cup curd to a mixing bowl. Add red chili powder, turmeric, ginger garlic paste, fried onions, salt and biryani masala. Mix this very well and check the spice and salt. If needed add more.^Next add the cooked or fried potatoes to the marination ingredients. Marinate for at least 30 mins or until the rice gets cooked. Keep this aside.^Wash and soak rice for 20 to 30 minutes.^Add bay leaf, shahi jeera, cardamoms, cinnamon, salt and oil to 4 cups of boiling water. When the water begins to boil rapidly, add the drained rice. Cook until it is done al dente or 90% cooked, not mushy. Drain off the rice and set aside.^Pour ghee to the biryani pot or pan. Saute green chilies, bay leaf, cardamoms, cinnamon, cloves, shahi jeera and star anise for a minute.^Add the marinated potatoes along with the yogurt, cook till the oil begins to separate and potatoes are tender, just cooked and not mushy. At the end a thick gravy should be remaining. Lower the flame.^On another burner, heat a tawa for dum process.^Sprinkle coriander and mint leaves to the cooked mixture. Layer rice evenly, then the fried onions, again the coriander and mint leaves, pour the saffron milk evenly all over.^Seal the rim with an airtight lid or foil, for the steam to be trapped inside.^Transfer the potato biryani pot to the hot tawa. Cook for 10 to 12 mins on a medium to low flame. Switch off the stove. Leave the pan covered for another 10 to 20 minutes for the flavors to enhance.^Serve aloo dum biryani with a raita.', {'Calories': {'amount': '710', 'unit': None}, 'Fat': {'amount': '20', 'unit': 'g'}, 'Sodium': {'amount': '179', 'unit': 'mg'}, 'Potassium': {'amount': '1117', 'unit': 'mg'}, 'Carbohydrates': {'amount': '113', 'unit': 'g'}, 'Protein': {'amount': '19', 'unit': 'g'}, 'Vitamin A': {'amount': '415', 'unit': 'IU'}, 'Vitamin C': {'amount': '33.2', 'unit': 'mg'}, 'Calcium': {'amount': '197', 'unit': 'mg'}, 'Iron': {'amount': '9.5', 'unit': 'mg'}}]\n",
            "['Aloo bonda recipe', 'https://www.indianhealthyrecipes.com/wp-content/uploads/2012/05/aloo-bonda-recipe-1.jpg', '1 ¼ cup potatoes^1 small  onion^1 ½ tbsps Oil^1/8 tsp turmeric^1 sprig  curry leaves ^¼ tsp mustard^¼ tsp jeera^1 tsp urad dal^½ tsp ginger ^Salt^2 green chilies^¼ tsp coriander powder^2 pinches saunf ^¼ tsp garam masala^Salt^lemon juice^2 tbsp coriander leaves^½ cup besan ^2 to 3 tbsp rice flour^water^Salt^2 pinches chili powder^1 pinch turmeric^Oil', 'Steam or boil potatoes without making them mushy. You can boil in a pot or cooker.^Pour oil to a hot pan. Add dal, mustard and cumin.\\xa0 Fry until the dal turns golden.^Saute ginger just for 30 secs.^Next add onions,salt, curry leaves and green chilies. Fry them.^When the onions turn golden, add the turmeric, garam masala, coriander powder and saunf.^Add potatoes and mash them a bit without making them mushy.^Mix well. Sprinkle lemon juice and coriander leaves.^Cool this and make 6 to 8 balls.^Add besan, rice flour, salt, chili powder and turmeric to a large mixing bowl.^Pour enough water little by little and mix it well to make a batter that is neither too thin or nor too thick.\\xa0 The batter must be moderately thick and smooth.^Beat the batter well.^Heat oil in a deep fry pan or kadai.^When the oil is hot enough, do the heat test by dropping a drop of batter. It must raise in the oil slowly and should not sink or turn brown quickly.^With the help of a tbsp dip each ball in the batter, swipe off the excess and drop in the hot oil.^Each batch you can fry about 3 to 4 balls depending on the size of your pan and oil used.^After a minute begin to stir and fry until golden.^Repeat making all until all the balls are done.^Drain the golden fried aloo bonda on to a kitchen tissue.^Serve aloo bonda hot or warm with chai or chutney.', {'Calories': {'amount': '156', 'unit': None}, 'Fat': {'amount': '9', 'unit': 'g'}, 'Sodium': {'amount': '309', 'unit': 'mg'}, 'Potassium': {'amount': '270', 'unit': 'mg'}, 'Carbohydrates': {'amount': '14', 'unit': 'g'}, 'Protein': {'amount': '3', 'unit': 'g'}, 'Vitamin A': {'amount': '125', 'unit': 'IU'}, 'Vitamin C': {'amount': '16.2', 'unit': 'mg'}, 'Calcium': {'amount': '27', 'unit': 'mg'}, 'Iron': {'amount': '2.1', 'unit': 'mg'}}]\n",
            "['Aloo capsicum (aloo shimla mirch)', 'https://www.indianhealthyrecipes.com/wp-content/uploads/2012/10/aloo-capsicum-recipe.jpg', '1 ½ teaspoons oil^½ teaspoon cumin^1 large onion^½ teaspoon ginger^1 green chilli^2 large potatoes^½ cup capsicum^½ teaspoon kasuri methi^¼ teaspoon amchur powder^1 Pinch turmeric^Salt^¼ to ½ teaspoon red chili powder^¼ to ½ teaspoon garam masala powder', 'Wash and peel potatoes. Cube them to\\xa0¾ inch size and keep them immersed in a bowl of water.^Add oil to a hot pan. When the oil turns hot add cumin seeds & fry them till they begin to splutter. Next add in onions and green chilies. Fry until transparent stirring often.^Then add ginger and fry till a nice smell begins to come out. Drain the water from potatoes and add them to the pan. Saute for 2 minutes. Cook covered on a low to medium heat until fork tender or soft. If needed sprinkle little water while cooking.^Lastly add capsicum, kasuri methi, turmeric, red chili powder, garam masala and then salt as needed.\\xa0Stir well and fry until the capsicum is done yet crunchy.^Adjust salt and chilli powder if needed. Serve aloo capsicum with rice, bread or roti. Sprinkle some lemon juice if you desire.', {'Calories': {'amount': '193', 'unit': None}, 'Fat': {'amount': '3', 'unit': 'g'}, 'Sodium': {'amount': '31', 'unit': 'mg'}, 'Potassium': {'amount': '1038', 'unit': 'mg'}, 'Carbohydrates': {'amount': '34', 'unit': 'g'}, 'Protein': {'amount': '6', 'unit': 'g'}, 'Vitamin A': {'amount': '1265', 'unit': 'IU'}, 'Vitamin C': {'amount': '75.9', 'unit': 'mg'}, 'Calcium': {'amount': '77', 'unit': 'mg'}, 'Iron': {'amount': '7.5', 'unit': 'mg'}}]\n",
            "['Aloo chaat recipe (potato chaat)', 'https://www.indianhealthyrecipes.com/wp-content/uploads/2021/07/aloo-chaat.jpg', '2 large  potatoes ^1 tablespoon oil^1 teaspoon ginger^1 green chili^½  teaspoon cumin powder^⅛ teaspoon salt ^½ teaspoon chaat masala powder^¼ to ½  teaspoon red chilli powder^1 tablespoon coriander leaves^2 to 4 tablespoons nylon sev^2 tablespoon pomegranate arils^½  to ¾ teaspoon lemon juice^¼ to ½   cup coriander leaves^4 to 6 mint leaves^1 garlic^1/8 inch ginger^1 teaspoon fried gram^1 tablespoon water^¼ teaspoon salt ', 'Wash and peel potatoes. Cube them to 1 inch pieces and soak in water until used.^Optional – To make green chutney, add coriander leaves, pudina, garlic, ginger, fried gram and salt to a mini blender jar.\\xa0Add 1 tbsp water.\\xa0Make a fine smooth green chutney. Set this aside.^Boil potatoes till al dente. They must be just cooked without turning mushy. You can steam or pressure cook or boil them in a pot. Cool these completely and cube.^Add oil to a pan and heat it. Add ginger or garlic and green chili.^Next add the potatoes and saute on a high flame until golden and little crisp.\\xa0Turn off the stove.^Parboil cubed potatoes for few minutes. Drain and wipe off excess moisture.^Heat half cup oil in a deep pan. When the oil is hot enough drop the potato cubes and deep fry until crisp and cooked through. Remove to a mixing plate.^Next to the hot fried potatoes, add red chilli powder, chaat masala powder, very little salt and cumin powder.^Add green chutney, tamarind chutney or lemon juice. Check the salt and spice.^Mix well and transfer aloo chaat to a serving plate.^Add some coriander leaves, sev and pomegranate arils or raisins and cashews.\\xa0Serve aloo chaat immediately.', {'Calories': {'amount': '184', 'unit': None}, 'Fat': {'amount': '8', 'unit': 'g'}, 'Sodium': {'amount': '439', 'unit': 'mg'}, 'Potassium': {'amount': '1442', 'unit': 'mg'}, 'Carbohydrates': {'amount': '23', 'unit': 'g'}, 'Protein': {'amount': '8', 'unit': 'g'}, 'Vitamin A': {'amount': '2055', 'unit': 'IU'}, 'Vitamin C': {'amount': '179.1', 'unit': 'mg'}, 'Calcium': {'amount': '389', 'unit': 'mg'}, 'Iron': {'amount': '13.7', 'unit': 'mg'}}]\n",
            "['Aloo egg curry | Potato egg curry | Aloo anda curry', 'https://www.indianhealthyrecipes.com/wp-content/uploads/2015/07/potato-egg-curry-recipe.jpg', '4 eggs^1 to 1 ½ tbsp. oil^½ tsp cumin^2 to 3 green cardamoms ^1 ½ cup onions ^¾ cup tomatoes ^1 ½ tsp ginger garlic paste^1/8 tsp turmeric^salt^1 tsp garam masala^½ to ¾ tsp red chili powder^3 to 4 potatoes^2 tbsps coriander leaves^½ tsp coriander powder ', 'Boil eggs and remove the shells. Pierce them with a fork or a knife randomly. Set aside.^Heat a pan with oil, add cumin and cardamoms and allow to sizzle,^Add onions and fry until golden, fry ginger garlic until the raw smell is gone.^Add tomatoes, salt and turmeric. Fry until they turn soft and mushy.^Add the chili powder and masala powder. Stir and fry for 1 to 2 minutes.^Add potatoes and fry for 2 to 3 minutes.^Add water enough to cook the potatoes. Cover and simmer until the aloo is done.^Add eggs and cook covered until the gravy thickens. Add more water to make more gravy or evaporate the moisture to make a dry curry.^Add chopped coriander leaves and coriander powder.^Cover and switch off.', {'Calories': {'amount': '108', 'unit': None}, 'Fat': {'amount': '4', 'unit': 'g'}, 'Cholesterol': {'amount': '163', 'unit': 'mg'}, 'Sodium': {'amount': '126', 'unit': 'mg'}, 'Potassium': {'amount': '322', 'unit': 'mg'}, 'Carbohydrates': {'amount': '10', 'unit': 'g'}, 'Protein': {'amount': '7', 'unit': 'g'}, 'Vitamin A': {'amount': '390', 'unit': 'IU'}, 'Vitamin C': {'amount': '14.6', 'unit': 'mg'}, 'Calcium': {'amount': '66', 'unit': 'mg'}, 'Iron': {'amount': '2.1', 'unit': 'mg'}}]\n"
          ]
        }
      ],
      "source": [
        "count = 0\n",
        "\n",
        "for recipe_info in recipe_informations:\n",
        "  print(recipe_info)\n",
        "\n",
        "  count += 1\n",
        "  if count == 20:\n",
        "    break"
      ]
    },
    {
      "cell_type": "code",
      "execution_count": null,
      "metadata": {
        "colab": {
          "base_uri": "https://localhost:8080/"
        },
        "id": "C3wVZVJwLV-f",
        "outputId": "038f64ef-379c-438c-cc42-aa179cfbaaa0"
      },
      "outputs": [
        {
          "data": {
            "text/plain": [
              "980"
            ]
          },
          "execution_count": 349,
          "metadata": {},
          "output_type": "execute_result"
        }
      ],
      "source": [
        "len(recipe_informations)"
      ]
    },
    {
      "cell_type": "markdown",
      "metadata": {
        "id": "eGqGMyRTYshd"
      },
      "source": [
        "#### Converting Recipe Information into CSV"
      ]
    },
    {
      "cell_type": "code",
      "execution_count": null,
      "metadata": {
        "id": "d1ZRQ70_ZF5w"
      },
      "outputs": [],
      "source": [
        "columns = ['recipe_name', 'image_url', 'ingredients', 'cooking_directions', 'nutritions']"
      ]
    },
    {
      "cell_type": "code",
      "execution_count": null,
      "metadata": {
        "id": "5ZfmjE4NZcmQ"
      },
      "outputs": [],
      "source": [
        "df = pd.DataFrame(recipe_informations, columns = columns)"
      ]
    },
    {
      "cell_type": "code",
      "execution_count": null,
      "metadata": {
        "colab": {
          "base_uri": "https://localhost:8080/",
          "height": 641
        },
        "id": "AUIUn3EeZmkh",
        "outputId": "ca51fdd0-2038-4b9c-9ae4-38a01832c597"
      },
      "outputs": [
        {
          "data": {
            "text/html": [
              "\n",
              "  <div id=\"df-0c3a6e1a-7ec1-41f9-8aaa-e94ab22d3b09\">\n",
              "    <div class=\"colab-df-container\">\n",
              "      <div>\n",
              "<style scoped>\n",
              "    .dataframe tbody tr th:only-of-type {\n",
              "        vertical-align: middle;\n",
              "    }\n",
              "\n",
              "    .dataframe tbody tr th {\n",
              "        vertical-align: top;\n",
              "    }\n",
              "\n",
              "    .dataframe thead th {\n",
              "        text-align: right;\n",
              "    }\n",
              "</style>\n",
              "<table border=\"1\" class=\"dataframe\">\n",
              "  <thead>\n",
              "    <tr style=\"text-align: right;\">\n",
              "      <th></th>\n",
              "      <th>recipe_name</th>\n",
              "      <th>image_url</th>\n",
              "      <th>ingredients</th>\n",
              "      <th>cooking_directions</th>\n",
              "      <th>nutritions</th>\n",
              "    </tr>\n",
              "  </thead>\n",
              "  <tbody>\n",
              "    <tr>\n",
              "      <th>0</th>\n",
              "      <td>Achari chicken</td>\n",
              "      <td>https://www.indianhealthyrecipes.com/wp-conten...</td>\n",
              "      <td>4 dried red chilies^2 tablespoons coriander se...</td>\n",
              "      <td>Prepare the achari spice powder by adding red ...</td>\n",
              "      <td>{'Calories': {'amount': '431', 'unit': None}, ...</td>\n",
              "    </tr>\n",
              "    <tr>\n",
              "      <th>1</th>\n",
              "      <td>Achari paneer recipe</td>\n",
              "      <td>https://www.indianhealthyrecipes.com/wp-conten...</td>\n",
              "      <td>1 tbsp coriander seeds^2 red chilies^1 tbsp fe...</td>\n",
              "      <td>Add red chilies, coriander seeds, fennel seeds...</td>\n",
              "      <td>{'Calories': {'amount': '108', 'unit': None}, ...</td>\n",
              "    </tr>\n",
              "    <tr>\n",
              "      <th>2</th>\n",
              "      <td>Adai Recipe | Adai Dosa</td>\n",
              "      <td>https://www.indianhealthyrecipes.com/wp-conten...</td>\n",
              "      <td>¾ cup rice ^¼ cup chana dal^¼ cup toor dal^2 t...</td>\n",
              "      <td>Add all the lentils – chana, toor, urad and mo...</td>\n",
              "      <td>{'Calories': {'amount': '163', 'unit': None}, ...</td>\n",
              "    </tr>\n",
              "    <tr>\n",
              "      <th>3</th>\n",
              "      <td>Aglio Olio Recipe</td>\n",
              "      <td>https://www.indianhealthyrecipes.com/wp-conten...</td>\n",
              "      <td>250 grams spaghetti^1 tbsp garlic^1 tsp red ch...</td>\n",
              "      <td>Bring ample amount of water to a rapid boil in...</td>\n",
              "      <td>{'Calories': {'amount': '682', 'unit': None}, ...</td>\n",
              "    </tr>\n",
              "    <tr>\n",
              "      <th>4</th>\n",
              "      <td>Ajwain paratha recipe | How to make carom seed...</td>\n",
              "      <td>https://www.indianhealthyrecipes.com/wp-conten...</td>\n",
              "      <td>2 cups whole wheat flour^2 tsps oil^salt^1 tsp...</td>\n",
              "      <td>To a mixing bowl add flour, salt and oil. Add ...</td>\n",
              "      <td>{'Calories': {'amount': '113', 'unit': None}, ...</td>\n",
              "    </tr>\n",
              "    <tr>\n",
              "      <th>...</th>\n",
              "      <td>...</td>\n",
              "      <td>...</td>\n",
              "      <td>...</td>\n",
              "      <td>...</td>\n",
              "      <td>...</td>\n",
              "    </tr>\n",
              "    <tr>\n",
              "      <th>975</th>\n",
              "      <td>White sauce pasta</td>\n",
              "      <td>https://www.indianhealthyrecipes.com/wp-conten...</td>\n",
              "      <td>1 cup pasta^1½ cup warm milk^1½ tablespoon all...</td>\n",
              "      <td>Bring 4 cups water to a boil in a large pot al...</td>\n",
              "      <td>{'Calories': {'amount': '486', 'unit': None}, ...</td>\n",
              "    </tr>\n",
              "    <tr>\n",
              "      <th>976</th>\n",
              "      <td>Yam fry recipe | Suran stir fry | kandagadda v...</td>\n",
              "      <td>https://www.indianhealthyrecipes.com/wp-conten...</td>\n",
              "      <td>1 cup yam^1 green chili^½ tsp ginger garlic pa...</td>\n",
              "      <td>Soak yam in water for about 15 minutes for the...</td>\n",
              "      <td>{'Calories': {'amount': '97', 'unit': None}, '...</td>\n",
              "    </tr>\n",
              "    <tr>\n",
              "      <th>977</th>\n",
              "      <td>Zarda recipe (Sweet rice recipe)</td>\n",
              "      <td>https://www.indianhealthyrecipes.com/wp-conten...</td>\n",
              "      <td>1 cup  basmati rice^5 cups  water^yellow food ...</td>\n",
              "      <td>Wash rice at least thrice and soak in lots of ...</td>\n",
              "      <td>{'Calories': {'amount': '478', 'unit': None}, ...</td>\n",
              "    </tr>\n",
              "    <tr>\n",
              "      <th>978</th>\n",
              "      <td>Zucchini curry (Courgette curry)</td>\n",
              "      <td>https://www.indianhealthyrecipes.com/wp-conten...</td>\n",
              "      <td>250 grams zucchini^1 cup onions^1 cup tomatoes...</td>\n",
              "      <td>Rinse onions, tomatoes, chilies, ginger and fi...</td>\n",
              "      <td>{'Calories': {'amount': '147', 'unit': None}, ...</td>\n",
              "    </tr>\n",
              "    <tr>\n",
              "      <th>979</th>\n",
              "      <td>Zucchini stir fry</td>\n",
              "      <td>https://www.indianhealthyrecipes.com/wp-conten...</td>\n",
              "      <td>1½ cups zucchini^1 small onion^½ cup bell pepp...</td>\n",
              "      <td>Rinse all the veggies. Slice onions and bell p...</td>\n",
              "      <td>{'Calories': {'amount': '133', 'unit': None}, ...</td>\n",
              "    </tr>\n",
              "  </tbody>\n",
              "</table>\n",
              "<p>980 rows × 5 columns</p>\n",
              "</div>\n",
              "      <button class=\"colab-df-convert\" onclick=\"convertToInteractive('df-0c3a6e1a-7ec1-41f9-8aaa-e94ab22d3b09')\"\n",
              "              title=\"Convert this dataframe to an interactive table.\"\n",
              "              style=\"display:none;\">\n",
              "        \n",
              "  <svg xmlns=\"http://www.w3.org/2000/svg\" height=\"24px\"viewBox=\"0 0 24 24\"\n",
              "       width=\"24px\">\n",
              "    <path d=\"M0 0h24v24H0V0z\" fill=\"none\"/>\n",
              "    <path d=\"M18.56 5.44l.94 2.06.94-2.06 2.06-.94-2.06-.94-.94-2.06-.94 2.06-2.06.94zm-11 1L8.5 8.5l.94-2.06 2.06-.94-2.06-.94L8.5 2.5l-.94 2.06-2.06.94zm10 10l.94 2.06.94-2.06 2.06-.94-2.06-.94-.94-2.06-.94 2.06-2.06.94z\"/><path d=\"M17.41 7.96l-1.37-1.37c-.4-.4-.92-.59-1.43-.59-.52 0-1.04.2-1.43.59L10.3 9.45l-7.72 7.72c-.78.78-.78 2.05 0 2.83L4 21.41c.39.39.9.59 1.41.59.51 0 1.02-.2 1.41-.59l7.78-7.78 2.81-2.81c.8-.78.8-2.07 0-2.86zM5.41 20L4 18.59l7.72-7.72 1.47 1.35L5.41 20z\"/>\n",
              "  </svg>\n",
              "      </button>\n",
              "      \n",
              "  <style>\n",
              "    .colab-df-container {\n",
              "      display:flex;\n",
              "      flex-wrap:wrap;\n",
              "      gap: 12px;\n",
              "    }\n",
              "\n",
              "    .colab-df-convert {\n",
              "      background-color: #E8F0FE;\n",
              "      border: none;\n",
              "      border-radius: 50%;\n",
              "      cursor: pointer;\n",
              "      display: none;\n",
              "      fill: #1967D2;\n",
              "      height: 32px;\n",
              "      padding: 0 0 0 0;\n",
              "      width: 32px;\n",
              "    }\n",
              "\n",
              "    .colab-df-convert:hover {\n",
              "      background-color: #E2EBFA;\n",
              "      box-shadow: 0px 1px 2px rgba(60, 64, 67, 0.3), 0px 1px 3px 1px rgba(60, 64, 67, 0.15);\n",
              "      fill: #174EA6;\n",
              "    }\n",
              "\n",
              "    [theme=dark] .colab-df-convert {\n",
              "      background-color: #3B4455;\n",
              "      fill: #D2E3FC;\n",
              "    }\n",
              "\n",
              "    [theme=dark] .colab-df-convert:hover {\n",
              "      background-color: #434B5C;\n",
              "      box-shadow: 0px 1px 3px 1px rgba(0, 0, 0, 0.15);\n",
              "      filter: drop-shadow(0px 1px 2px rgba(0, 0, 0, 0.3));\n",
              "      fill: #FFFFFF;\n",
              "    }\n",
              "  </style>\n",
              "\n",
              "      <script>\n",
              "        const buttonEl =\n",
              "          document.querySelector('#df-0c3a6e1a-7ec1-41f9-8aaa-e94ab22d3b09 button.colab-df-convert');\n",
              "        buttonEl.style.display =\n",
              "          google.colab.kernel.accessAllowed ? 'block' : 'none';\n",
              "\n",
              "        async function convertToInteractive(key) {\n",
              "          const element = document.querySelector('#df-0c3a6e1a-7ec1-41f9-8aaa-e94ab22d3b09');\n",
              "          const dataTable =\n",
              "            await google.colab.kernel.invokeFunction('convertToInteractive',\n",
              "                                                     [key], {});\n",
              "          if (!dataTable) return;\n",
              "\n",
              "          const docLinkHtml = 'Like what you see? Visit the ' +\n",
              "            '<a target=\"_blank\" href=https://colab.research.google.com/notebooks/data_table.ipynb>data table notebook</a>'\n",
              "            + ' to learn more about interactive tables.';\n",
              "          element.innerHTML = '';\n",
              "          dataTable['output_type'] = 'display_data';\n",
              "          await google.colab.output.renderOutput(dataTable, element);\n",
              "          const docLink = document.createElement('div');\n",
              "          docLink.innerHTML = docLinkHtml;\n",
              "          element.appendChild(docLink);\n",
              "        }\n",
              "      </script>\n",
              "    </div>\n",
              "  </div>\n",
              "  "
            ],
            "text/plain": [
              "                                           recipe_name  ...                                         nutritions\n",
              "0                                       Achari chicken  ...  {'Calories': {'amount': '431', 'unit': None}, ...\n",
              "1                                 Achari paneer recipe  ...  {'Calories': {'amount': '108', 'unit': None}, ...\n",
              "2                              Adai Recipe | Adai Dosa  ...  {'Calories': {'amount': '163', 'unit': None}, ...\n",
              "3                                    Aglio Olio Recipe  ...  {'Calories': {'amount': '682', 'unit': None}, ...\n",
              "4    Ajwain paratha recipe | How to make carom seed...  ...  {'Calories': {'amount': '113', 'unit': None}, ...\n",
              "..                                                 ...  ...                                                ...\n",
              "975                                  White sauce pasta  ...  {'Calories': {'amount': '486', 'unit': None}, ...\n",
              "976  Yam fry recipe | Suran stir fry | kandagadda v...  ...  {'Calories': {'amount': '97', 'unit': None}, '...\n",
              "977                   Zarda recipe (Sweet rice recipe)  ...  {'Calories': {'amount': '478', 'unit': None}, ...\n",
              "978                   Zucchini curry (Courgette curry)  ...  {'Calories': {'amount': '147', 'unit': None}, ...\n",
              "979                                  Zucchini stir fry  ...  {'Calories': {'amount': '133', 'unit': None}, ...\n",
              "\n",
              "[980 rows x 5 columns]"
            ]
          },
          "execution_count": 354,
          "metadata": {},
          "output_type": "execute_result"
        }
      ],
      "source": [
        "df"
      ]
    },
    {
      "cell_type": "code",
      "execution_count": null,
      "metadata": {
        "id": "HKOQFcs-Z9QF"
      },
      "outputs": [],
      "source": [
        "df.to_csv(\"/content/drive/MyDrive/Manual_Dataset/data_recipe_indianhealthyrecipes.csv\")"
      ]
    },
    {
      "cell_type": "markdown",
      "metadata": {
        "id": "1EYrevZeVth0"
      },
      "source": [
        "## Creating Dataset of Recipes via Web Scrapping"
      ]
    },
    {
      "cell_type": "markdown",
      "metadata": {
        "id": "nmfzdwTxVzWx"
      },
      "source": [
        "### Scrapping from https://www.pcrm.org/good-nutrition/plant-based-diets/recipes"
      ]
    },
    {
      "cell_type": "markdown",
      "metadata": {
        "id": "Lx05oypCWN7o"
      },
      "source": [
        "#### Web Scrapping Recipe Links - https://www.pcrm.org/good-nutrition/plant-based-diets/recipes"
      ]
    },
    {
      "cell_type": "code",
      "execution_count": null,
      "metadata": {
        "id": "0Ae9M6DYWO6W"
      },
      "outputs": [],
      "source": [
        "import requests\n",
        "from bs4 import BeautifulSoup"
      ]
    },
    {
      "cell_type": "code",
      "execution_count": null,
      "metadata": {
        "id": "nmQRXL33WY01"
      },
      "outputs": [],
      "source": [
        "links = []\n",
        "\n",
        "for i in range(26):\n",
        "  url = \"https://www.pcrm.org/good-nutrition/plant-based-diets/recipes?recipe_keys=&page=\"+str(i)\n",
        "  contents = requests.get(url).content\n",
        "\n",
        "  soup = BeautifulSoup(contents, 'html5lib')\n",
        "  recipes_container = soup.find('div', class_ = 'views-element-container')\n",
        "  recipe_rows = recipes_container.find_all('div', class_ = 'views-row')\n",
        "\n",
        "  for row in recipe_rows:\n",
        "    link = \"https://www.pcrm.org\" + row.find('a', class_ = 'f-teaser-title').get('href',None)\n",
        "\n",
        "    if link != None:\n",
        "      links.append(link)"
      ]
    },
    {
      "cell_type": "code",
      "execution_count": null,
      "metadata": {
        "colab": {
          "base_uri": "https://localhost:8080/"
        },
        "id": "I_tZa_SodQn1",
        "outputId": "379c5ac1-b369-4172-d098-d710c1ef85dd"
      },
      "outputs": [
        {
          "name": "stdout",
          "output_type": "stream",
          "text": [
            "https://www.pcrm.org/good-nutrition/plant-based-diets/recipes/thai-crunch-salad-peanut-dressing\n",
            "https://www.pcrm.org/good-nutrition/plant-based-diets/recipes/carrot-halwa\n",
            "https://www.pcrm.org/good-nutrition/plant-based-diets/recipes/huevos-rancheros\n",
            "https://www.pcrm.org/good-nutrition/plant-based-diets/recipes/ambrosia\n",
            "https://www.pcrm.org/good-nutrition/plant-based-diets/recipes/autumn-stew\n",
            "https://www.pcrm.org/good-nutrition/plant-based-diets/recipes/banana-ginger-pancakes\n",
            "https://www.pcrm.org/good-nutrition/plant-based-diets/recipes/berry-overnight-oats\n",
            "https://www.pcrm.org/good-nutrition/plant-based-diets/recipes/baked-oatmeal-cups\n",
            "https://www.pcrm.org/good-nutrition/plant-based-diets/recipes/broccoli-burritos\n",
            "https://www.pcrm.org/good-nutrition/plant-based-diets/recipes/lentil-cucumber-salad\n",
            "https://www.pcrm.org/good-nutrition/plant-based-diets/recipes/ten-minute-mixed-veggie-stir-fry\n",
            "https://www.pcrm.org/good-nutrition/plant-based-diets/recipes/chocolate-mousse\n",
            "https://www.pcrm.org/recipes/costa-rican-rice-and-beans-gallo-pinto\n",
            "https://www.pcrm.org/good-nutrition/plant-based-diets/recipes/roasted-chickpeas\n",
            "https://www.pcrm.org/good-nutrition/plant-based-diets/recipes/sweet-potato-hash\n",
            "https://www.pcrm.org/good-nutrition/plant-based-diets/recipes/quick-rice-pudding\n",
            "https://www.pcrm.org/good-nutrition/plant-based-diets/recipes/fruited-breakfast-quinoa\n",
            "https://www.pcrm.org/good-nutrition/plant-based-diets/recipes/black-eyed-peas-sweet-potatoes-and-greens\n",
            "https://www.pcrm.org/good-nutrition/plant-based-diets/recipes/yes-you-can-black-bean-chili\n",
            "https://www.pcrm.org/good-nutrition/plant-based-diets/recipes/breakfast-sweet-potato-pudding\n"
          ]
        }
      ],
      "source": [
        "count = 0\n",
        "\n",
        "for link in links:\n",
        "  print(link)\n",
        "\n",
        "  count += 1\n",
        "  if count == 20:\n",
        "    break"
      ]
    },
    {
      "cell_type": "code",
      "execution_count": null,
      "metadata": {
        "colab": {
          "base_uri": "https://localhost:8080/"
        },
        "id": "MzDmxBqQd-Yh",
        "outputId": "836afa95-e2ad-4fd7-f41a-6dcd8a9dc5ff"
      },
      "outputs": [
        {
          "data": {
            "text/plain": [
              "242"
            ]
          },
          "execution_count": 359,
          "metadata": {},
          "output_type": "execute_result"
        }
      ],
      "source": [
        "len(links)"
      ]
    },
    {
      "cell_type": "markdown",
      "metadata": {
        "id": "uTsI5iMReFOF"
      },
      "source": [
        "#### Retrieving Informations of a Single Recipe from a Single Link"
      ]
    },
    {
      "cell_type": "code",
      "execution_count": null,
      "metadata": {
        "colab": {
          "base_uri": "https://localhost:8080/"
        },
        "id": "hqSF17HufhFw",
        "outputId": "5bd44bb5-f1c0-4f40-c6c9-9e40e378955f"
      },
      "outputs": [
        {
          "name": "stdout",
          "output_type": "stream",
          "text": [
            "https://www.pcrm.org/good-nutrition/plant-based-diets/recipes/thai-crunch-salad-peanut-dressing\n"
          ]
        }
      ],
      "source": [
        "print(links[0])"
      ]
    },
    {
      "cell_type": "code",
      "execution_count": null,
      "metadata": {
        "id": "OsdDWhjwePZY"
      },
      "outputs": [],
      "source": [
        "temp_url = 'https://www.pcrm.org/good-nutrition/plant-based-diets/recipes/orange-you-bananas-kale-smoothie'\n",
        "temp_contents = requests.get(temp_url).content\n",
        "\n",
        "bs = BeautifulSoup(temp_contents, 'html5lib')"
      ]
    },
    {
      "cell_type": "markdown",
      "metadata": {
        "id": "POuKL_P8eFx7"
      },
      "source": [
        "##### Retrieving Name of a Single Recipe"
      ]
    },
    {
      "cell_type": "code",
      "execution_count": null,
      "metadata": {
        "id": "ghmcZYRseEja"
      },
      "outputs": [],
      "source": [
        "def get_recipe_name_2(bs):\n",
        "  try:\n",
        "    recipe_name = bs.find('h1', class_ = 'h1 h1-- article-billboard__title').text.strip()\n",
        "\n",
        "    return recipe_name\n",
        "\n",
        "  except:\n",
        "    return -1"
      ]
    },
    {
      "cell_type": "code",
      "execution_count": null,
      "metadata": {
        "colab": {
          "base_uri": "https://localhost:8080/",
          "height": 35
        },
        "id": "fF_Nm94le0uW",
        "outputId": "555a6e27-0a48-4c64-adac-fc402922c196"
      },
      "outputs": [
        {
          "data": {
            "application/vnd.google.colaboratory.intrinsic+json": {
              "type": "string"
            },
            "text/plain": [
              "'Orange You Bananas for Kale Smoothie'"
            ]
          },
          "execution_count": 364,
          "metadata": {},
          "output_type": "execute_result"
        }
      ],
      "source": [
        "get_recipe_name_2(bs)"
      ]
    },
    {
      "cell_type": "markdown",
      "metadata": {
        "id": "_20e0kgpgN5O"
      },
      "source": [
        "##### Retrieving Image URL of a Single Recipe"
      ]
    },
    {
      "cell_type": "code",
      "execution_count": null,
      "metadata": {
        "id": "5586ICVigOiY"
      },
      "outputs": [],
      "source": [
        "def get_recipe_image_2(bs):\n",
        "  try:\n",
        "    recipe_image = \"https://www.pcrm.org\" + bs.find('img', class_ = 'figure__img figure__img-- u-mb2').get('src', None)\n",
        "\n",
        "    return recipe_image\n",
        "\n",
        "  except:\n",
        "    return -1"
      ]
    },
    {
      "cell_type": "code",
      "execution_count": null,
      "metadata": {
        "colab": {
          "base_uri": "https://localhost:8080/",
          "height": 35
        },
        "id": "GmODZVMtge6p",
        "outputId": "8a442010-78aa-49e9-de80-3bf8a11499e6"
      },
      "outputs": [
        {
          "data": {
            "application/vnd.google.colaboratory.intrinsic+json": {
              "type": "string"
            },
            "text/plain": [
              "'https://www.pcrm.org/sites/default/files/2019-11/Orange-You-Bananas-for-Kale-Smoothie.jpg'"
            ]
          },
          "execution_count": 366,
          "metadata": {},
          "output_type": "execute_result"
        }
      ],
      "source": [
        "get_recipe_image_2(bs)"
      ]
    },
    {
      "cell_type": "markdown",
      "metadata": {
        "id": "yA0Nj3gahJ9f"
      },
      "source": [
        "##### Retrieving Nutritions of a Single Recipe"
      ]
    },
    {
      "cell_type": "code",
      "execution_count": null,
      "metadata": {
        "id": "Kx9mPKcrhKPv"
      },
      "outputs": [],
      "source": [
        "def get_recipe_nutritions_2(bs):\n",
        "  try:\n",
        "    a = bs.find('a', id = 'nutrition_facts')\n",
        "    recipe_nutritions_container = a.find_next_sibling()\n",
        "    recipe_nutrients_p = recipe_nutritions_container.find_all('p')[1]\n",
        "\n",
        "    quantities = recipe_nutrients_p.text\n",
        "    nutrients = quantities.split('\\n')\n",
        "    \n",
        "    new_nutrients = []\n",
        "    for nutrient in nutrients:\n",
        "      new_nutrients.append(nutrient.strip())\n",
        "\n",
        "    nutrients = new_nutrients\n",
        "\n",
        "    recipe_nutrients = dict()\n",
        "\n",
        "    for nutrient in nutrients:\n",
        "      n = nutrient[:nutrient.find(':')]\n",
        "      quantity = nutrient[nutrient.find(':') + 2:].split(\" \")\n",
        "      amount = quantity[0]\n",
        "      try:\n",
        "        unit = quantity[1]\n",
        "      except:\n",
        "        unit = None\n",
        "\n",
        "      if amount[-1] == '%':\n",
        "        amount = amount[:-1]\n",
        "        unit = '%'\n",
        "\n",
        "      nutrient_info = dict()\n",
        "      nutrient_info['amount'] = amount\n",
        "      nutrient_info['unit'] = unit\n",
        "\n",
        "      recipe_nutrients[n] = nutrient_info\n",
        "  \n",
        "    return recipe_nutrients\n",
        "\n",
        "  except:\n",
        "    return -1"
      ]
    },
    {
      "cell_type": "code",
      "execution_count": null,
      "metadata": {
        "colab": {
          "base_uri": "https://localhost:8080/"
        },
        "id": "5QTHsAtni554",
        "outputId": "0032c753-410a-4c4e-dd74-dd1cd262e042"
      },
      "outputs": [
        {
          "data": {
            "text/plain": [
              "{'Beta-Carotene': {'amount': '2,464', 'unit': 'mcg'},\n",
              " 'Calcium': {'amount': '99', 'unit': 'mg'},\n",
              " 'Calories': {'amount': '110', 'unit': None},\n",
              " 'Calories from Fat': {'amount': '8.5', 'unit': '%'},\n",
              " 'Carbohydrates': {'amount': '24.5', 'unit': 'g'},\n",
              " 'Cholesterol': {'amount': '0', 'unit': 'mg'},\n",
              " 'Fat': {'amount': '1.1', 'unit': 'g'},\n",
              " 'Fiber': {'amount': '3.8', 'unit': 'g'},\n",
              " 'Iron': {'amount': '1', 'unit': 'mg'},\n",
              " 'Protein': {'amount': '3.1', 'unit': 'g'},\n",
              " 'Saturated Fat': {'amount': '0.2', 'unit': 'g'},\n",
              " 'Sodium': {'amount': '36', 'unit': 'mg'},\n",
              " 'Sugar': {'amount': '14.9', 'unit': 'g'},\n",
              " 'Vitamin C': {'amount': '33.1', 'unit': 'mg'},\n",
              " 'Vitamin E': {'amount': '1.2', 'unit': 'mg'}}"
            ]
          },
          "execution_count": 368,
          "metadata": {},
          "output_type": "execute_result"
        }
      ],
      "source": [
        "get_recipe_nutritions_2(bs)"
      ]
    },
    {
      "cell_type": "markdown",
      "metadata": {
        "id": "Vkc5hlpZl5vJ"
      },
      "source": [
        "##### Retrieving Ingredients of a Single Recipe"
      ]
    },
    {
      "cell_type": "code",
      "execution_count": null,
      "metadata": {
        "id": "IUxk9433l5Bl"
      },
      "outputs": [],
      "source": [
        "def get_recipe_ingredients_2(bs):\n",
        "  try:\n",
        "    a = bs.find('a', id = 'ingredients')\n",
        "\n",
        "    recipe_ingredients = []\n",
        "    \n",
        "    main = a.find_next_sibling()\n",
        "    ingredients_container = main.find_all('ul')[0]\n",
        "    ingredients_li = ingredients_container.find_all('li')\n",
        "\n",
        "    for li in ingredients_li:\n",
        "      recipe_ingredients.append(li.text)\n",
        "\n",
        "    return recipe_ingredients\n",
        "\n",
        "  except Exception as e:\n",
        "    #print(e)\n",
        "    return -1"
      ]
    },
    {
      "cell_type": "code",
      "execution_count": null,
      "metadata": {
        "colab": {
          "base_uri": "https://localhost:8080/"
        },
        "id": "SulgJESJl3SD",
        "outputId": "0537b008-ef66-4df1-d013-069d69f95085"
      },
      "outputs": [
        {
          "data": {
            "text/plain": [
              "['orange, peeled (1)',\n",
              " 'grapes (1 cup)',\n",
              " 'banana (1)',\n",
              " 'pear, cored (1)',\n",
              " 'soy, almond, or rice milk (1 cup)',\n",
              " 'fresh kale or spinach (2 cups)',\n",
              " 'ice cubes (your preference)']"
            ]
          },
          "execution_count": 370,
          "metadata": {},
          "output_type": "execute_result"
        }
      ],
      "source": [
        "get_recipe_ingredients_2(bs)"
      ]
    },
    {
      "cell_type": "markdown",
      "metadata": {
        "id": "qYddw-d6otHB"
      },
      "source": [
        "##### Retrieving Instructions of a Single Recipe"
      ]
    },
    {
      "cell_type": "code",
      "execution_count": null,
      "metadata": {
        "id": "vv7qSTt2oyTI"
      },
      "outputs": [],
      "source": [
        "def get_recipe_instructions_2(bs):\n",
        "  try:\n",
        "    a = bs.find('a', id = 'directions')\n",
        "\n",
        "    recipe_instructions = []\n",
        "\n",
        "    instructions_container = a.find_next_sibling()\n",
        "    instructions = instructions_container.find_all('p')\n",
        "\n",
        "    for instruction in instructions:\n",
        "      recipe_instructions.append(instruction.text)\n",
        "\n",
        "    return recipe_instructions\n",
        "\n",
        "  except:\n",
        "    return -1"
      ]
    },
    {
      "cell_type": "code",
      "execution_count": null,
      "metadata": {
        "colab": {
          "base_uri": "https://localhost:8080/"
        },
        "id": "qQInTQE1oyVz",
        "outputId": "f663fae2-3efe-4f88-a3b4-f0f1468f349e"
      },
      "outputs": [
        {
          "data": {
            "text/plain": [
              "['Place all ingredients in the blender for 1 minute, or until desired smoothness is achieved.',\n",
              " 'Add ice cubes, if using, and process further to desired temperature.']"
            ]
          },
          "execution_count": 372,
          "metadata": {},
          "output_type": "execute_result"
        }
      ],
      "source": [
        "get_recipe_instructions_2(bs)"
      ]
    },
    {
      "cell_type": "markdown",
      "metadata": {
        "id": "01hh2vZIrMuj"
      },
      "source": [
        "#### Retrieving Information of all Recipes from the Links Scrapped"
      ]
    },
    {
      "cell_type": "code",
      "execution_count": null,
      "metadata": {
        "id": "OR4DhybwrNMP"
      },
      "outputs": [],
      "source": [
        "recipe_informations_2 = []"
      ]
    },
    {
      "cell_type": "code",
      "execution_count": null,
      "metadata": {
        "id": "Qf9k86bErXRd"
      },
      "outputs": [],
      "source": [
        "count = 0\n",
        "\n",
        "for link in links:\n",
        "  temp_contents = requests.get(link).content\n",
        "\n",
        "  bs = BeautifulSoup(temp_contents, 'html5lib')\n",
        "\n",
        "  recipe_name = get_recipe_name_2(bs)\n",
        "  recipe_image = get_recipe_image_2(bs)\n",
        "  recipe_nutritions = get_recipe_nutritions_2(bs)\n",
        "  recipe_ingredients = get_recipe_ingredients_2(bs)\n",
        "  recipe_instructions = get_recipe_instructions_2(bs)\n",
        "\n",
        "  if recipe_name == -1 or recipe_image == -1 or recipe_nutritions == -1 or recipe_ingredients == -1 or recipe_instructions == -1:\n",
        "    continue\n",
        "\n",
        "  count += 1\n",
        "  recipe_info = []\n",
        "  recipe_info.append(recipe_name)\n",
        "  recipe_info.append(recipe_image)\n",
        "  recipe_info.append(\"^\".join(recipe_ingredients))\n",
        "  recipe_info.append(\"^\".join(recipe_instructions))\n",
        "  recipe_info.append(recipe_nutritions)\n",
        "\n",
        "  recipe_informations_2.append(recipe_info)"
      ]
    },
    {
      "cell_type": "code",
      "execution_count": null,
      "metadata": {
        "colab": {
          "base_uri": "https://localhost:8080/"
        },
        "id": "9HfrumUWsdZ2",
        "outputId": "2a745545-3509-4ec8-ef79-4551e9a0cd37"
      },
      "outputs": [
        {
          "name": "stdout",
          "output_type": "stream",
          "text": [
            "['Carrot Halwa', 'https://www.pcrm.org/sites/default/files/halwa.jpg', 'raw cashews (1/4 cup)^grated carrots (4 cups)^golden raisins (1/4 cup)^ground cardamom (1/2 tsp.)^agave nectar, raw sugar, or jaggery, or to taste (1/4 tsp.)^roasted almond slivers, for garnish (1 tsp.)', 'To make cashew paste, place 1/4 cup (33 grams) raw cashews in 1 cup (240 milliliters) of water to soak for half an hour.^After cashews are soaked, place them in a food processor and process into a fairly smooth paste. To achieve a more paste-like texture, pour out the water and continue to grind the cashews and then add a little water if needed to achieve desired consistency.^In a medium sauce pan with a steamer, cook carrots until tender when pierced with a fork.\\xa0^Add cashew paste, raisins, and cardamom and cook until heated through, about 2 minutes.\\xa0^Taste the dish and add agave nectar, raw sugar, or jaggery as desired. Garnish with almond slivers before serving, if desired.', {'Calories': {'amount': '97', 'unit': None}, 'Fat': {'amount': '2', 'unit': 'g'}, 'Saturated Fat': {'amount': '0.3', 'unit': 'g'}, 'Calories from Fat': {'amount': '18', 'unit': '%'}, 'Cholesterol': {'amount': '0', 'unit': 'mg'}, 'Protein': {'amount': '2', 'unit': 'g'}, 'Carbohydrates': {'amount': '19.4', 'unit': 'g'}, 'Sugar': {'amount': '11.6', 'unit': 'g'}, 'Fiber': {'amount': '3.6', 'unit': 'g'}, 'Sodium': {'amount': '79', 'unit': 'mg'}, 'Calcium': {'amount': '44', 'unit': 'mg'}, 'Iron': {'amount': '0.7', 'unit': 'mg'}, 'Vitamin C': {'amount': '6.8', 'unit': 'mg'}, 'Beta-Carotene': {'amount': '11,026', 'unit': 'mcg'}, 'Vitamin E': {'amount': '0.9', 'unit': 'mg'}}]\n",
            "['Huevos Rancheros', 'https://www.pcrm.org/sites/default/files/huevos-rancheros-8.jpg', 'extra firm tofu (8 ounces)^Yukon Gold potato, cubed (1)^salt (1/4 tsp.)^ground turmeric (2 tsp.)^chili powder (1/2 tsp.)^salsa (1/2 cup)^tortillas or pieces of toast (3)^chopped fresh cilantro (3 tbsp.)^Roma tomato, diced (1)', 'Crumble the tofu in a mixing bowl.^Cube and cook the potato by steaming it for about 5 minutes.^While steaming, heat a skillet over medium heat. Add tofu and salt and cook for about 3 to 4 minutes, stirring gently and slowly.^Add the turmeric, chili powder, and potato, cooking for 1 minute more.^Add the salsa.^Place equal portions of the scrambled tofu on each tortilla (can use flour tortillas or toast), then top with fresh cilantro and tomato.^Leftovers: Heat the scrambled tofu over medium heat for about 3 minutes, adding the salsa after about 1 minute. Cook for another 2 minutes and then complete with the other ingredients.', {'Calories': {'amount': '255', 'unit': None}, 'Fat': {'amount': '3.6', 'unit': 'g'}, 'Saturated Fat': {'amount': '0.5', 'unit': 'g'}, 'Calories from Fat': {'amount': '12', 'unit': '%'}, 'Cholesterol': {'amount': '0', 'unit': 'mg'}, 'Protein': {'amount': '12.4', 'unit': 'g'}, 'Carbohydrate': {'amount': '47.5', 'unit': 'g'}, 'Sugar': {'amount': '3.8', 'unit': 'g'}, 'Fiber': {'amount': '8.4', 'unit': 'g'}, 'Sodium': {'amount': '608', 'unit': 'mg'}, 'Calcium': {'amount': '108', 'unit': 'mg'}, 'Iron': {'amount': '4.6', 'unit': 'mg'}, 'Vitamin C': {'amount': '12.6', 'unit': 'mg'}, 'Beta-Carotene': {'amount': '340', 'unit': 'mcg'}, 'Vitamin E': {'amount': '1.1', 'unit': 'mg'}}]\n",
            "['Ambrosia', 'https://www.pcrm.org/sites/default/files/ambrosia-salad-4.jpg', 'oranges, peeled and chopped (2)^pineapple chunks (2 cups)^banana, sliced (1)^shredded coconut (1/4 cup)^dried cranberries (1/8 cup)^orange juice concentrate (1 tablespoon)^almond extract, optional (1/2 teaspoon)^water (1 tablespoon)', 'Combine the oranges, pineapple, banana, coconut, and cranberries in a medium bowl.^Combine the orange juice concentrate, water, and optional almond extract in a small bowl.^Pour over the fruit and toss until evenly distributed.^Stored in a covered container in the refrigerator, leftover ambrosia (without the banana) will keep for up to 2 days.', {'Calories': {'amount': '188', 'unit': None}, 'Protein': {'amount': '1.8', 'unit': 'g'}, 'Carbohydrate': {'amount': '43.3', 'unit': 'g'}, 'Sugar': {'amount': '35.3', 'unit': 'g'}, 'Total Fat': {'amount': '2.4', 'unit': 'g'}, 'Calories from Fat': {'amount': '11.5', 'unit': '%'}, 'Fiber': {'amount': '3.9', 'unit': 'g'}, 'Sodium': {'amount': '17', 'unit': 'mg'}}]\n",
            "['Autumn Stew', 'https://www.pcrm.org/sites/default/files/autumn-stew-6.jpg', 'water, divided (1 1/2 cups)^reduced-sodium soy sauce (1 tbsp.)^onion, chopped (1)^red bell pepper, seeded and diced (1)^cloves garlic, minced (4)^butternut squash, about 1 pound (1)^crushed tomatoes (1 15-ounce can)^dried oregano (1 1/2 tsp.)^chili powder (1 tsp.)^ground cumin (1/2 tsp.)^black pepper (1/4 tsp.)^kidney beans, undrained (1 15-ounce can)^corn, undrained, or 2 cups frozen corn (1 15-ounce can)', 'Heat 1/2 cup of water and soy sauce in a large pot.^Add onion, bell pepper, and garlic. Cook over medium heat until onion is soft and most of the water has evaporated, about 5 minutes.^Peel squash, then cut it in half. Scoop out seeds and discard. Cut squash into 1/2-inch cubes (you should have about 4 cups).^Add squash to cooked onions along with tomatoes, 1 cup water, oregano, chili powder, cumin, and black pepper.\\xa0Cover and simmer until squash is just tender when pierced with a fork, about 20 minutes.^Add kidney beans and corn and their liquids and cook 5 minutes longer.^For special occasions, serve it in a pumpkin that has been hollowed out and baked until just tender.', {'Calories': {'amount': '226', 'unit': None}, 'Fat': {'amount': '2.3', 'unit': 'g'}, 'Saturated Fat': {'amount': '0.4', 'unit': 'g'}, 'Calories from Fat': {'amount': '8.6', 'unit': '%'}, 'Cholesterol': {'amount': '0', 'unit': 'mg'}, 'Protein': {'amount': '10.5', 'unit': 'g'}, 'Carbohydrates': {'amount': '46', 'unit': 'g'}, 'Sugar': {'amount': '13', 'unit': 'g'}, 'Fiber': {'amount': '12', 'unit': 'g'}, 'Sodium': {'amount': '607', 'unit': 'mg'}, 'Calcium': {'amount': '145', 'unit': 'mg'}, 'Iron': {'amount': '3.2', 'unit': 'mg'}, 'Vitamin C': {'amount': '70.7', 'unit': 'mg'}, 'Beta-Carotene': {'amount': '5,369', 'unit': 'mcg'}, 'Vitamin E': {'amount': '2.8', 'unit': 'mg'}}]\n",
            "['Banana-Ginger Pancakes', 'https://www.pcrm.org/sites/default/files/banana-pancakes.jpg', 'whole-wheat pastry flour (1 1/4 cups)^baking powder (2 tsp.)^ground ginger (1 1/2 tsp.)^salt (1/4 tsp.)^agave nectar (2 tbsp.)^vanilla soy milk (1 1/4 cups)^unsweetened applesauce (2 tbsp.)^vanilla extract (1 tsp.)^mashed bananas (1 cup)^vegetable oil cooking spray (to taste)', 'In a medium bowl, combine the flour, baking powder, ginger, and salt.^In another bowl, combine the agave nectar, soy milk, applesauce, and vanilla.^Add the liquid to the flour mixture. Mix until just combined (the batter will be lumpy).^Add the bananas.^Heat a large skillet over medium heat, then coat with cooking spray.^Pour 1/4 cup (60 milliliters) of batter onto the hot skillet.^The pancake is ready to flip when tiny bubbles appear on the top and burst, and the pancake is lightly browned on the edges. Flip the pancake and cook for about 1-2 minutes, until the underside is lightly browned. Adjust your heat so that the pancakes cook for about 1-2 minutes per side.', {'Calories': {'amount': '268', 'unit': None}, 'Fat': {'amount': '2.2', 'unit': 'g'}, 'Saturated Fat': {'amount': '0.4', 'unit': 'g'}, 'Calories from Fat': {'amount': '6.9', 'unit': '%'}, 'Cholesterol': {'amount': '0', 'unit': 'mg'}, 'Protein': {'amount': '8.6', 'unit': 'g'}, 'Carbohydrate': {'amount': '57.4', 'unit': 'g'}, 'Sugar': {'amount': '16.7', 'unit': 'g'}, 'Fiber': {'amount': '7.1', 'unit': 'g'}, 'Sodium': {'amount': '442', 'unit': 'mg'}, 'Calcium': {'amount': '267', 'unit': 'mg'}, 'Iron': {'amount': '3.2', 'unit': 'mg'}, 'Vitamin C': {'amount': '5.3', 'unit': 'mg'}, 'Beta-Carotene': {'amount': '19', 'unit': 'mcg'}, 'Vitamin E': {'amount': '1.6', 'unit': 'mg'}}]\n",
            "['Berry Overnight Oats', 'https://www.pcrm.org/sites/default/files/berry-oats_0.jpg', 'rolled oats (1 cup)^raspberries or mixed berries (such as blueberries, strawberries, and blackberries) (1 cup)^low-fat nondairy milk, plus more for serving, if desired (1 cup + 1-2 tbsp.)^chia seeds (1/2 tbsp.)^coconut nectar or pure maple syrup (2 tbsp.)^pinch of sea salt (to taste)', 'In a bowl or large jar, combine the oats, berries, nondairy milk, chia seeds, nectar or syrup, and salt.^Cover and refrigerate overnight (or for at least several hours).^Serve with more milk to thin, if desired, and also try some additional add-ins (see note).^\\xa0^Note: When serving, you can add other toppings, including more berries, sliced ripe banana, a sprinkle of cocoa nibs, or 1 to 2 tablespoons of hemp or pumpkin seeds.', {'Calories': {'amount': '326', 'unit': None}, 'Protein': {'amount': '9', 'unit': 'g'}, 'Carbohydrate': {'amount': '64', 'unit': 'g'}, 'Sugar': {'amount': '21', 'unit': 'g'}, 'Total Fat': {'amount': '5', 'unit': 'g'}, 'Calories from Fat': {'amount': '13', 'unit': '%'}, 'Fiber': {'amount': '14', 'unit': 'g'}, 'Sodium': {'amount': '205', 'unit': 'mg'}}]\n",
            "['Baked Oatmeal Cups', 'https://www.pcrm.org/sites/default/files/_MG_4502.JPG', 'rolled oats (3 cups)^oat flour (1/2 cup)^flax meal (3 tbsp.)^cinnamon (1 tbsp.)^sea salt (1/8 tsp., rounded)^banana, overripe (2 cups)^brown rice syrup (1/3 cup)^raisins (1/3 cup)^nondairy chocolate chips (2 tbsp.)', 'Line a muffin pan with 15 parchment cupcake liners.^Preheat the oven to 350 F/177 C.^In a large mixing bowl, combine oats, oat flour, flax meal, cinnamon, and salt. Stir to combine.^Mash or puree the bananas. Ideally, use those that are overripe, using a food processor or immersion blender.\\xa0This should come out to about 1 1/3 cups / 300 grams of mashed banana.^Add the banana, brown rice syrup (see note), raisins, and chocolate chips (if using). Stir until thoroughly combined.^\\xa0^Note: Don’t substitute maple syrup for brown syrup; it’s not thick or sticky enough. Use overripe (freckled) bananas. Not only are they more digestible, they also offer a great deal of natural sweetness.\\xa0^Using a cookie scoop, place 1/4 to 1/3 cup / 60 to 80 milliliters of the batter in each muffin cup. Use a spatula or your fingers to lightly pack in the mixture. (Dampen your fingers to make it easier.)^Bake for 20 minutes.^Remove and let cool in the pan for about 5 minutes, and then transfer to cooling rack.^Enjoy warm or cooled. Store in an airtight container in the fridge.', {'Saturated Fat': {'amount': '0.9', 'unit': 'g'}, 'Calories from Fat': {'amount': '11.8', 'unit': '%'}, 'Cholesterol': {'amount': '0', 'unit': 'mg'}, 'Protein': {'amount': '10.2', 'unit': 'g'}, 'Carbohydrates': {'amount': '89.1', 'unit': 'g'}, 'Sugar': {'amount': '29.9', 'unit': 'g'}, 'Fiber': {'amount': '10.8', 'unit': 'g'}, 'Sodium': {'amount': '70', 'unit': 'mg'}, 'Calcium': {'amount': '73', 'unit': 'mg'}, 'Iron': {'amount': '3.5', 'unit': 'mg'}, 'Vitamin C': {'amount': '8.3', 'unit': 'mg'}, 'Beta-Carotene': {'amount': '38', 'unit': 'mcg'}, 'Vitamin E': {'amount': '0.4', 'unit': 'mg'}}]\n",
            "['Lentil Cucumber Salad', 'https://www.pcrm.org/sites/default/files/Lentil%20Salad%207_0.jpg', 'brown or green lentils (1 cup)^tomato, diced (1 cup)^cucumber, peeled and diced (1 cup)^orange or red pepper, cubed (1 cup)^garlic, finely chopped (1 clove)^olives, chopped (1 tbsp.)^fresh basil, chopped (1 tbsp.)^balsamic vinegar (1/4 cup)', 'Sort and rinse the dry lentils (brown or green) to make sure they have no stones and pour into a large pot of water.^Boil gently for 20 minutes or until tender. It should yield about 3 cups cooked. Strain and let cool on a tray in the refrigerator.^Prep remaining ingredients by dicing the tomato, bell pepper (orange or any color), and cucumber (you should have 1 cup of each chopped), mincing the garlic, chopping the olives, and slicing the basil (you should have about 1/4 teaspoon chopped).^In a large bowl, mix the lentils with the balsamic vinegar and the remaining ingredients. Season with salt and pepper if desired.^Serve the salad cold.', {'Calories': {'amount': '198', 'unit': None}, 'Fat': {'amount': '1.0', 'unit': 'g'}, 'Saturated Fat': {'amount': '0.2', 'unit': 'g'}, 'Calories from Fat': {'amount': '4', 'unit': '%'}, 'Cholesterol': {'amount': '0', 'unit': 'mg'}, 'Protein': {'amount': '13.2', 'unit': 'g'}, 'Carbohydrates': {'amount': '36.0', 'unit': 'g'}, 'Sugar': {'amount': '6.3', 'unit': 'g'}, 'Fiber': {'amount': '9.9', 'unit': 'g'}, 'Sodium': {'amount': '37', 'unit': 'mg'}, 'Calcium': {'amount': '53', 'unit': 'mg'}, 'Iron': {'amount': '5.0', 'unit': 'mg'}, 'Vitamin C': {'amount': '40.4', 'unit': 'mg'}, 'Beta-Carotene': {'amount': '1,966', 'unit': 'mcg'}, 'Vitamin E': {'amount': '0.6', 'unit': 'mg'}}]\n",
            "['Costa Rican Rice and Beans (Gallo Pinto)', 'https://www.pcrm.org/sites/default/files/gallo-pinto-10.jpg', 'onion, diced (1/2)^red bell pepper, diced (1)^garlic, minced (2 cloves)^water (7/8 cup)^salt (1/4 tsp.)^rice (1/2 cup)^cooked black beans, rinsed (3/4 cup)^hot sauce (to taste)', 'Over medium heat, dice and saute the onion and bell pepper in a dry pot until the onion turns a light brown color.^Add the minced garlic and saute for 1 minute.^Add 7/8 cup (210 milliliters) water and salt and bring the water to a boil.^Add the rice, bring the water back to a boil, cover the pot, and reduce the heat to low.^Cook the rice for about 20 minutes.^Remove from the heat, stir in the beans, and dress the Gallo Pinto with hot sauce.', {'Calories': {'amount': '226', 'unit': None}, 'Protein': {'amount': '9', 'unit': 'g'}, 'Carbohydrate': {'amount': '44', 'unit': 'g'}, 'Sugar': {'amount': '4', 'unit': 'g'}, 'Total Fat': {'amount': '2', 'unit': 'g'}, 'Calories from Fat': {'amount': '6', 'unit': '%'}, 'Fiber': {'amount': '9', 'unit': 'g'}, 'Sodium': {'amount': '290', 'unit': 'mg'}}]\n",
            "['Sweet Potato Hash', 'https://www.pcrm.org/sites/default/files/sweet-potato-hash_0.jpg', 'sweet potatoes, peeled and cut in 1/2-inch pieces (2 pounds)^vegetable broth (1/4 cup)^garlic cloves, minced (3)^small onion, chopped (1)^small red bell pepper, chopped (1)^small green bell pepper, chopped (1)^sweet paprika (1 tbsp.)^kosher or sea salt (to taste)^freshly ground black pepper (to taste)', 'Prep ingredients by peeling and cutting potatoes into 1/2-inch (1.3 centimeter) pieces (you should have about 2 pounds (900 grams) of potatoes), mincing the garlic, chopping the onion, and chopping the bell peppers (you can use any color bell pepper you prefer).^Place sweet potatoes in a large saucepan and cover with water. Simmer for 15 to 17 minutes until tender. Drain and set aside.^Heat broth in a large skillet over medium heat. Cook garlic, onion, and bell peppers for about 4 minutes.^Add paprika, salt, and black pepper and continue to cook for 5 minutes until vegetables are soft. Add the sweet potatoes and cook to heat through. Add additional salt or pepper to taste if needed.', {'Calories': {'amount': '198', 'unit': None}, 'Fat': {'amount': '0.7', 'unit': 'g'}, 'Saturated Fat': {'amount': '0.1', 'unit': 'g'}, 'Calories from Fat': {'amount': '2.8', 'unit': '%'}, 'Cholesterol': {'amount': '0', 'unit': 'mg'}, 'Protein': {'amount': '4', 'unit': 'g'}, 'Carbohydrate': {'amount': '46', 'unit': 'g'}, 'Sugar': {'amount': '15', 'unit': 'g'}, 'Fiber': {'amount': '7', 'unit': 'g'}, 'Sodium': {'amount': '105', 'unit': 'mg'}, 'Calcium': {'amount': '76', 'unit': 'mg'}, 'Iron': {'amount': '2.2', 'unit': 'mg'}, 'Vitamin C': {'amount': '74', 'unit': 'mg'}, 'Beta-Carotene': {'amount': '22,197', 'unit': 'mcg'}, 'Vitamin E': {'amount': '3', 'unit': 'mg'}}]\n",
            "['Quick Rice Pudding', 'https://www.pcrm.org/sites/default/files/rice-pudding-banana.jpg', 'plain or vanilla soy milk (1 1/2 cups)^cornstarch or arrowroot powder (1 tsp.)^cooked brown rice (2 cups)^maple syrup (1/4 cup)^raisins (1/3 cup)^cinnamon (1/4 tsp.)^vanilla extract (1 tsp.)^almond extract (1/2 tsp.)', 'Pour soy milk into a medium saucepan and add the cornstarch or arrowroot powder. Add the rice, maple syrup, raisins, and cinnamon, and cook over medium heat.^Cook for 3 minutes, then remove from heat and add vanilla and almond extracts. Serve hot or cold.', {'Calories': {'amount': '254', 'unit': None}, 'Saturated Fat': {'amount': '1.8', 'unit': 'g'}, 'Calories from Fat': {'amount': '6.5', 'unit': '%'}, 'Cholesterol': {'amount': '0', 'unit': 'mg'}, 'Protein': {'amount': '5.7', 'unit': 'g'}, 'Carbohydrates': {'amount': '53.9', 'unit': 'g'}, 'Sugar': {'amount': '21.6', 'unit': 'g'}, 'Fiber': {'amount': '1.8', 'unit': 'g'}, 'Sodium': {'amount': '57', 'unit': 'mg'}, 'Calcium': {'amount': '142', 'unit': 'mg'}, 'Iron': {'amount': '2.4', 'unit': 'mg'}, 'Vitamin C': {'amount': '0.6', 'unit': 'mg'}, 'Beta-Carotene': {'amount': '1', 'unit': 'mcg'}, 'Vitamin E': {'amount': '1.3', 'unit': 'mg'}}]\n",
            "['Fruited Breakfast Quinoa', 'https://www.pcrm.org/sites/default/files/quinoa-cereal-berries.jpg', 'dry quinoa, well-rinsed (1/2 cup)^vanilla rice milk (1 1/2 cups)^raisins (2 tbsp.)^chopped fresh or canned apricots (1 cup)^vanilla extract (1/4 tsp.)^berries (to taste)^peach slices, optional (to taste)', 'Combine quinoa and rice milk in a medium saucepan. Bring to a slow simmer, then cover and cook for about 15 minutes until the quinoa is tender.^Stir in raisins, chopped apricots (1 cup (243 grams) canned works, too), and vanilla, and then transfer about 1 1/2 cups (263 grams) to a blender and purée. Return pureed mixture to the pan and stir to mix. Serve warm or chilled. Add berries or peaches, if desired.', {'Calories': {'amount': '322', 'unit': None}, 'Fat': {'amount': '4.8', 'unit': 'g'}, 'Saturated Fat': {'amount': '0.5', 'unit': 'g'}, 'Calories from Fat': {'amount': '15', 'unit': '%'}, 'Cholesterol': {'amount': '0', 'unit': 'mg'}, 'Protein': {'amount': '9', 'unit': 'g'}, 'Carbohydrates': {'amount': '61', 'unit': 'g'}, 'Sugar': {'amount': '24.6', 'unit': 'g'}, 'Fiber': {'amount': '5', 'unit': 'g'}, 'Sodium': {'amount': '83', 'unit': 'mg'}, 'Calcium': {'amount': '260', 'unit': 'mg'}, 'Iron': {'amount': '2.7', 'unit': 'mg'}, 'Vitamin C': {'amount': '8.5', 'unit': 'mg'}, 'Beta-Carotene': {'amount': '906', 'unit': 'mcg'}, 'Vitamin E': {'amount': '2.4', 'unit': 'mg'}}]\n",
            "['Black-Eyed Peas with Sweet Potatoes and Greens', 'https://www.pcrm.org/sites/default/files/black-eyed-peas-potatoes.jpg', 'frozen kale, chard, or collard greens (1 10-ounce package)^low-sodium vegetable broth (4 cups)^frozen black-eyed peas, thawed and drained (2 10-ounce packages)^cooked sweet potato, chopped; or 1 18-ounce can vacuum-packed unsweetened sweet potatoes, drained, rinsed, and chopped (2 cups)^liquid smoke (a few dashes)', 'Thaw frozen greens in the microwave or a bowl of boiling water. If preferred, chard or collards can be substituted for kale. Chop and combine with broth, thawed from frozen black-eyed peas, minced garlic, chopped sweet potatoes (can use an 18-ounce (510 gram) can vacuum-packed unsweetened sweet potatoes, drained, rinsed, and chopped), and liquid smoke in a large saucepan.^Bring to a boil, stirring often, then reduce heat and simmer for 20 to 30 minutes.', {'Calories': {'amount': '412', 'unit': None}, 'Fat': {'amount': '4', 'unit': 'g'}, 'Calories from fat': {'amount': '8', 'unit': '%'}, 'Cholesterol': {'amount': '0', 'unit': 'mg'}, 'Protein': {'amount': '32', 'unit': 'g'}, 'Carbohydrates': {'amount': '74', 'unit': 'g'}, 'Sugar': {'amount': '1', 'unit': 'g'}, 'Fiber': {'amount': '22', 'unit': 'g'}, 'Sodium': {'amount': '127', 'unit': 'mg'}}]\n",
            "['Yes-You-Can Black Bean Chili', 'https://www.pcrm.org/sites/default/files/black-bean-chili-7.jpg', 'low-sodium black beans, drained, liquid reserved (1 25-ounce can)^low-sodium salsa (1 16-ounce jar or container)^frozen corn (8 ounces)^freshly squeezed lime juice (optional)^fresh cilantro (optional)^hot sauce (optional)', 'If using canned beans, drain them and reserve some of the liquid. If making beans from dry, reserve some cooking liquid. Mix drained beans, fresh or frozen corn, and salsa in a 5-quart pot. Add the reserved liquid to reach desired consistency. The more liquid, the “soupier” the chili will become.^Cook over medium heat for 10 minutes or until hot. Add optional toppings such as fresh lime juice, chopped cilantro, and/or hot sauce just before serving.', {'Calories': {'amount': '243', 'unit': None}, 'Protein': {'amount': '13.1', 'unit': 'g'}, 'Carbohydrate': {'amount': '49', 'unit': 'g'}, 'Sugar': {'amount': '5.6', 'unit': 'g'}, 'Total Fat': {'amount': '1.3', 'unit': 'g'}, 'Calories from Fat': {'amount': '4.8', 'unit': '%'}, 'Fiber': {'amount': '15.8', 'unit': 'g'}, 'Sodium': {'amount': '244', 'unit': 'mg'}}]\n",
            "['Breakfast Sweet Potato Pudding', 'https://www.pcrm.org/sites/default/files/sweet-potato-pudding-5.jpg', 'rolled oats (1/3 cup)^soy or rice milk (1/2 cup)^cooked sweet potato or yam (1 cup)^maple syrup (1 tbsp.)^cinnamon (1/4 tsp.)', 'Bake or microwave 1 large sweet potato or yam until soft. Then, combine about 200 grams of the cooked potato with all ingredients in a blender.^Blend until smooth and serve.', {'Calories': {'amount': '211', 'unit': None}, 'Fat': {'amount': '2', 'unit': 'g'}, 'Saturated Fat': {'amount': '0.4', 'unit': 'g'}, 'Calories from Fat': {'amount': '8', 'unit': '%'}, 'Cholesterol': {'amount': '0', 'unit': 'mg'}, 'Protein': {'amount': '6.3', 'unit': 'g'}, 'Carbohydrates': {'amount': '43', 'unit': 'g'}, 'Sugar': {'amount': '14.6', 'unit': 'g'}, 'Fiber': {'amount': '6.4', 'unit': 'g'}, 'Sodium': {'amount': '123', 'unit': 'mg'}, 'Calcium': {'amount': '146', 'unit': 'mg'}, 'Iron': {'amount': '1.8', 'unit': 'mg'}, 'Vitamin C': {'amount': '25', 'unit': 'mg'}, 'Beta-Carotene': {'amount': '14,703', 'unit': 'mcg'}, 'Vitamin E': {'amount': '1', 'unit': 'mg'}}]\n",
            "['Lentil Pumpkin Curry', 'https://www.pcrm.org/sites/default/files/lentil-pumpkin-curry.jpg', 'water (2 tbsp.)^finely chopped onion (1 cup)^mild curry powder (1 tbsp.)^ground coriander (1 tsp.)^ground cinnamon (1/2 tsp.)^garam masala (1/2 tsp.)^sea salt (1 tsp.)^dried green or brown lentils, rinsed and drained (1 1/2 cups)^pumpkin puree or sweet potato puree (1 15-ounce can)^water (2 3/4 cups)^chopped apples (2 cups)^squeezed lemon juice, optional (1 1/2 tbsp.)', \"In a large pot, combine 2 tablespoons water, onion, curry powder, coriander, cinnamon, garam masala, and salt. Cover and cook over medium or medium-high heat, stirring once, for 4 to 5 minutes, until onion starts to soften. If the onion sticks, add another splash of water.^Add the lentils and stir for a few minutes, then add the pumpkin and the water. Increase the heat to high and bring to a boil. Reduce the heat to low, add the apples, cover, and simmer for 45 to 50 minutes (or longer), until the lentils are tender and the water is absorbed.^If the curry is too liquid for your taste, you can reduce it (uncovered) for another 15 minutes or so. Add the lemon juice, stir to incorporate, and serve.^If you'd like some heat, add 1/4 teaspoon or more crushed red pepper flakes or a spicier curry powder along with the other spices when sautéing the onions.\", {'Calories': {'amount': '257', 'unit': None}, 'Protein': {'amount': '16', 'unit': 'g'}, 'Carbohydrate': {'amount': '50', 'unit': 'g'}, 'Sugar': {'amount': '10', 'unit': 'g'}, 'Total Fat': {'amount': '1', 'unit': 'g'}, 'Calories from Fat': {'amount': '4', 'unit': '%'}, 'Fiber': {'amount': '14', 'unit': 'g'}, 'Sodium': {'amount': '483', 'unit': 'mg'}}]\n",
            "['Sweet Potato Burritos', 'https://www.pcrm.org/sites/default/files/alzheimers-diet-sweet-potato-burrito.jpg', 'sweet potatoes, peeled and diced (2 cups)^frozen corn kernels (1 cup)^low-sodium black beans, drained and rinsed (1 15-ounce can)^very thinly sliced green onion (1 teaspoon)^fresh lime juice (1 tablespoon)^chili powder (1 teaspoon)^sea salt (to taste)^freshly ground black pepper (to taste)^8-inch whole-wheat tortillas, warmed (4)^prepared salsa (1 cup)^shredded lettuce (2 cups)', 'Place the sweet potatoes in a medium saucepan and add water to come an inch up the sides. Place over medium-high heat and bring to a boil; cook for 5 minutes, or until the sweet potatoes are tender.^Add the corn and cook 1 more minute.^Drain and transfer to a large bowl.^Add the black beans, green onion, lime juice, and chili powder; season with salt and pepper to taste.^Divide the filling among the tortillas, top with the salsa and lettuce, roll the burritos, and serve.', {'Calories': {'amount': '298', 'unit': None}, 'Protein': {'amount': '13', 'unit': 'g'}, 'Carbohydrate': {'amount': '62', 'unit': 'g'}, 'Sugar': {'amount': '8\\xa0g', 'unit': None}, 'Total Fat': {'amount': '2\\xa0g', 'unit': None}, 'Calories from Fat': {'amount': '7', 'unit': '%'}, 'Fiber': {'amount': '15', 'unit': 'g'}, 'Sodium': {'amount': '891\\xa0mg', 'unit': None}}]\n",
            "['Cinnamon-Raisin Oatmeal', 'https://www.pcrm.org/sites/default/files/2021-05/cinnamon-oatmeal_0.jpg', 'water (4 cups)^old-fashioned rolled oats (2 cups)^raisins (1/2 cup)^cinnamon (1/2 tsp.)^salt (1/4 tsp.)^vanilla soy or rice milk, optional (to taste)', 'Combine 2 cups (480 milliliters) of water with all ingredients, except nondairy milk, in a heavy saucepan. Bring to a boil.^Lower heat, and cook, stirring occasionally, for about 10 minutes, or until cooked to your liking.^Serve plain or with vanilla nondairy milk, if desired.^Variation: For Cinnamon-Apricot Oatmeal, replace raisins with 1/2 cup (180 grams) chopped dried apricots. Cook as directed.^Variation 2: For Cinnamon-Apple Oatmeal, reduce water to 3 1/4 cups (780 milliliters) and replace raisins with 1 apple, peeled and coarsely chopped. Cook as directed.', {'Calories': {'amount': '220', 'unit': None}, 'Fat': {'amount': '3.2', 'unit': 'g'}, 'Saturated Fat': {'amount': '0.5', 'unit': 'g'}, 'Calories from Fat': {'amount': '12.4', 'unit': '%'}, 'Cholesterol': {'amount': '0', 'unit': 'mg'}, 'Protein': {'amount': '2.6', 'unit': 'g'}, 'Carbohydrates': {'amount': '42.6', 'unit': 'g'}, 'Sugar': {'amount': '12.3', 'unit': 'g'}, 'Fiber': {'amount': '5.4', 'unit': 'g'}, 'Sodium': {'amount': '168', 'unit': 'mg'}, 'Calcium': {'amount': '50', 'unit': 'mg'}, 'Iron': {'amount': '2.3', 'unit': 'mg'}, 'Vitamin C': {'amount': '0.5', 'unit': 'mg'}, 'Beta-Carotene': {'amount': '1\\xa0mcg', 'unit': None}, 'Vitamin E': {'amount': '0.2', 'unit': 'mg'}}]\n",
            "['Fruit Kebabs With Peach Cream Dip', 'https://www.pcrm.org/sites/default/files/fruit-kabobs3.jpg', 'purple seedless grapes (1 cup)^chopped fresh mango (1 cup)^oranges (2)^bananas (2)^apple (1)^low-fat peach-flavored soy yogurt (2 6-ounce containers)^vanilla extract (1 tsp.)^cinnamon (2 tsp.)', 'Chop fruit into large chunks or rounds so that they feed easily onto a skewer.^In a small bowl, mix yogurt (peach, lemon, or another flavor), vanilla, and cinnamon.^Place 6 to 8 pieces of fruit on each skewer and serve with yogurt dip.', {'Calories': {'amount': '241', 'unit': None}, 'Protein': {'amount': '2.6', 'unit': 'g'}, 'Carbohydrate': {'amount': '59.4', 'unit': 'g'}, 'Sugar': {'amount': '38.9', 'unit': 'g'}, 'Fat': {'amount': '1.8', 'unit': 'g'}, 'Saturated Fat': {'amount': '0.2', 'unit': 'g'}, 'Calories from Fat': {'amount': '6.3', 'unit': '%'}, 'Fiber': {'amount': '7.4', 'unit': 'g'}, 'Sodium': {'amount': '30', 'unit': 'mg'}, 'Cholesterol': {'amount': '0', 'unit': 'mg'}, 'Calcium': {'amount': '153', 'unit': 'mg'}, 'Iron': {'amount': '0.8', 'unit': 'mg'}, 'Vitamin C': {'amount': '59.3', 'unit': 'mg'}, 'Beta-Carotene': {'amount': '411', 'unit': 'mcg'}, 'Vitamin E': {'amount': '1.5', 'unit': 'mg'}}]\n",
            "['Perfect Portobello Burger', 'https://www.pcrm.org/sites/default/files/portabella-burger-_MG_4573.jpg', 'garlic cloves, sliced along the length (3)^salt (1/4 tsp.)^smoked paprika, common paprika can be substituted if smoked is not available (1/2 tsp.)^portobello mushrooms, destemmed, it is not necessary to remove the gills (2 large)^whole-wheat buns (2)^malt vinegar, balsamic can be substituted (to taste)^red pepper, roasted and cut in half (1)^romaine lettuce, about the size of a portobello (2 pieces)^yellow onion, thinly sliced, optional (1/4)', 'Prep ingredients by thinly slicing the garlic, destemming the mushrooms (keeping the gills intact), slicing the roasted red pepper in half lengthwise, and thinly slicing the yellow onion if using as a burger topping.\\xa0^Add about 1/4 inch (0.6 centimenters) of water to a saute pan and bring it to just above medium heat. Add the garlic, salt, and smoked paprika (or another paprika if smoked is not available) to the water and stir. Add the portobello caps. Cook until the portobello is no longer raw on either side. Replenish the water as necessary so that the portobello and garlic are not left to cook in a dry pan. Once the portobello is cooked, allow the water to evaporate from the pan.^Options: Over medium-high heat, saute the sliced onion until it is golden brown and very soft. If it starts to stick, add a very thin layer of water to the pan and repeat until the onion has fully cooked and is thoroughly browned. Add the onion to the burger once the portobellos are done. You can also toast the buns either in the oven directly on the rack at 350 F for 2 to 3 minutes or in a dry pan over medium heat for about 2 minutes.^Immediately remove it from the heat and stir the portobellos so that they pick up the residual salt and smoked paprika on the bottom of the pan. Remove everything from the pan as soon as possible and set the portobellos and garlic aside. Sprinkle or quickly dip the bottom buns in the malt vinegar. Add the portobellos, roasted red pepper halves, and arugula (or another leafy green of choice), and slices of yellow onion if using to the buns and serve.', {'Calories': {'amount': '169', 'unit': None}, 'Fat': {'amount': '2', 'unit': 'g'}, 'Saturated Fat': {'amount': '0.4', 'unit': 'g'}, 'Calories from Fat': {'amount': '11', 'unit': '%'}, 'Cholesterol': {'amount': '0', 'unit': 'mg'}, 'Protein': {'amount': '9', 'unit': 'g'}, 'Carbohydrates': {'amount': '30', 'unit': 'g'}, 'Sugar': {'amount': '8', 'unit': 'g'}, 'Fiber': {'amount': '6', 'unit': 'g'}, 'Sodium': {'amount': '505', 'unit': 'mg'}, 'Calcium': {'amount': '99', 'unit': 'mg'}, 'Iron': {'amount': '2', 'unit': 'mg'}, 'Vitamin C': {'amount': '80', 'unit': 'mg'}, 'Beta-Carotene': {'amount': '2,759', 'unit': 'mcg'}, 'Vitamin E': {'amount': '2.3', 'unit': 'mg'}}]\n"
          ]
        }
      ],
      "source": [
        "count = 0\n",
        "\n",
        "for recipe_info in recipe_informations_2:\n",
        "  print(recipe_info)\n",
        "\n",
        "  count += 1\n",
        "  if count == 20:\n",
        "    break"
      ]
    },
    {
      "cell_type": "code",
      "execution_count": null,
      "metadata": {
        "colab": {
          "base_uri": "https://localhost:8080/"
        },
        "id": "SUJ42CBatY6g",
        "outputId": "8242180c-a405-40a6-ec36-d3e860e818ff"
      },
      "outputs": [
        {
          "data": {
            "text/plain": [
              "186"
            ]
          },
          "execution_count": 376,
          "metadata": {},
          "output_type": "execute_result"
        }
      ],
      "source": [
        "len(recipe_informations_2)"
      ]
    },
    {
      "cell_type": "markdown",
      "metadata": {
        "id": "xN2rvqQNsqVN"
      },
      "source": [
        "#### Converting Recipe Information into CSV"
      ]
    },
    {
      "cell_type": "code",
      "execution_count": null,
      "metadata": {
        "id": "Cj5nbgjvs0hH"
      },
      "outputs": [],
      "source": [
        "columns = ['recipe_name', 'image_url', 'ingredients', 'cooking_directions', 'nutritions']"
      ]
    },
    {
      "cell_type": "code",
      "execution_count": null,
      "metadata": {
        "id": "dHJYhg-Lspik"
      },
      "outputs": [],
      "source": [
        "df = pd.DataFrame(recipe_informations_2, columns = columns)"
      ]
    },
    {
      "cell_type": "code",
      "execution_count": null,
      "metadata": {
        "colab": {
          "base_uri": "https://localhost:8080/",
          "height": 468
        },
        "id": "mUo9OA33tWU7",
        "outputId": "ea74bf8d-af32-4c75-8485-a6097d56dcce"
      },
      "outputs": [
        {
          "data": {
            "text/html": [
              "\n",
              "  <div id=\"df-9f38aff4-f304-40ab-b0cf-6c4fcd903845\">\n",
              "    <div class=\"colab-df-container\">\n",
              "      <div>\n",
              "<style scoped>\n",
              "    .dataframe tbody tr th:only-of-type {\n",
              "        vertical-align: middle;\n",
              "    }\n",
              "\n",
              "    .dataframe tbody tr th {\n",
              "        vertical-align: top;\n",
              "    }\n",
              "\n",
              "    .dataframe thead th {\n",
              "        text-align: right;\n",
              "    }\n",
              "</style>\n",
              "<table border=\"1\" class=\"dataframe\">\n",
              "  <thead>\n",
              "    <tr style=\"text-align: right;\">\n",
              "      <th></th>\n",
              "      <th>recipe_name</th>\n",
              "      <th>image_url</th>\n",
              "      <th>ingredients</th>\n",
              "      <th>cooking_directions</th>\n",
              "      <th>nutritions</th>\n",
              "    </tr>\n",
              "  </thead>\n",
              "  <tbody>\n",
              "    <tr>\n",
              "      <th>0</th>\n",
              "      <td>Carrot Halwa</td>\n",
              "      <td>https://www.pcrm.org/sites/default/files/halwa...</td>\n",
              "      <td>raw cashews (1/4 cup)^grated carrots (4 cups)^...</td>\n",
              "      <td>To make cashew paste, place 1/4 cup (33 grams)...</td>\n",
              "      <td>{'Calories': {'amount': '97', 'unit': None}, '...</td>\n",
              "    </tr>\n",
              "    <tr>\n",
              "      <th>1</th>\n",
              "      <td>Huevos Rancheros</td>\n",
              "      <td>https://www.pcrm.org/sites/default/files/huevo...</td>\n",
              "      <td>extra firm tofu (8 ounces)^Yukon Gold potato, ...</td>\n",
              "      <td>Crumble the tofu in a mixing bowl.^Cube and co...</td>\n",
              "      <td>{'Calories': {'amount': '255', 'unit': None}, ...</td>\n",
              "    </tr>\n",
              "    <tr>\n",
              "      <th>2</th>\n",
              "      <td>Ambrosia</td>\n",
              "      <td>https://www.pcrm.org/sites/default/files/ambro...</td>\n",
              "      <td>oranges, peeled and chopped (2)^pineapple chun...</td>\n",
              "      <td>Combine the oranges, pineapple, banana, coconu...</td>\n",
              "      <td>{'Calories': {'amount': '188', 'unit': None}, ...</td>\n",
              "    </tr>\n",
              "    <tr>\n",
              "      <th>3</th>\n",
              "      <td>Autumn Stew</td>\n",
              "      <td>https://www.pcrm.org/sites/default/files/autum...</td>\n",
              "      <td>water, divided (1 1/2 cups)^reduced-sodium soy...</td>\n",
              "      <td>Heat 1/2 cup of water and soy sauce in a large...</td>\n",
              "      <td>{'Calories': {'amount': '226', 'unit': None}, ...</td>\n",
              "    </tr>\n",
              "    <tr>\n",
              "      <th>4</th>\n",
              "      <td>Banana-Ginger Pancakes</td>\n",
              "      <td>https://www.pcrm.org/sites/default/files/banan...</td>\n",
              "      <td>whole-wheat pastry flour (1 1/4 cups)^baking p...</td>\n",
              "      <td>In a medium bowl, combine the flour, baking po...</td>\n",
              "      <td>{'Calories': {'amount': '268', 'unit': None}, ...</td>\n",
              "    </tr>\n",
              "    <tr>\n",
              "      <th>...</th>\n",
              "      <td>...</td>\n",
              "      <td>...</td>\n",
              "      <td>...</td>\n",
              "      <td>...</td>\n",
              "      <td>...</td>\n",
              "    </tr>\n",
              "    <tr>\n",
              "      <th>181</th>\n",
              "      <td>Arugula and Pear Salad</td>\n",
              "      <td>https://www.pcrm.org/sites/default/files/2019-...</td>\n",
              "      <td>balsamic vinegar (6 tbsp.)^pears (Asian pears ...</td>\n",
              "      <td>Over medium heat, simmer the balsamic vinegar ...</td>\n",
              "      <td>{'Calories': {'amount': '233', 'unit': None}, ...</td>\n",
              "    </tr>\n",
              "    <tr>\n",
              "      <th>182</th>\n",
              "      <td>Sunshine Chickpea Burgers</td>\n",
              "      <td>https://www.pcrm.org/sites/default/files/sunsh...</td>\n",
              "      <td>raw carrots, sliced (2 cups)^garlic, sliced (1...</td>\n",
              "      <td>In a food processor, combine the carrots and g...</td>\n",
              "      <td>{'Calories': {'amount': '137', 'unit': None}, ...</td>\n",
              "    </tr>\n",
              "    <tr>\n",
              "      <th>183</th>\n",
              "      <td>Baby Carrots with Chickpea Guacamole</td>\n",
              "      <td>https://www.pcrm.org/sites/default/files/garba...</td>\n",
              "      <td>chickpeas, rinsed and drained (1 15-ounce can)...</td>\n",
              "      <td>Place the chickpeas in a food processor or ble...</td>\n",
              "      <td>{'Calories': {'amount': '89', 'unit': None}, '...</td>\n",
              "    </tr>\n",
              "    <tr>\n",
              "      <th>184</th>\n",
              "      <td>Facon Bacon</td>\n",
              "      <td>https://www.pcrm.org/sites/default/files/Facon...</td>\n",
              "      <td>fennel seeds (1 tsp.)^cumin seeds (1 tsp.)^soy...</td>\n",
              "      <td>Toast fennel and cumin in a dry skillet over m...</td>\n",
              "      <td>{'Calories': {'amount': '118', 'unit': None}, ...</td>\n",
              "    </tr>\n",
              "    <tr>\n",
              "      <th>185</th>\n",
              "      <td>Tempeh Sloppy Joes</td>\n",
              "      <td>https://www.pcrm.org/sites/default/files/tempe...</td>\n",
              "      <td>water, divided (1 cup)^onion, chopped (1 small...</td>\n",
              "      <td>Heat 1/2 cup water in skillet. Add onion and b...</td>\n",
              "      <td>{'Calories': {'amount': '273', 'unit': None}, ...</td>\n",
              "    </tr>\n",
              "  </tbody>\n",
              "</table>\n",
              "<p>186 rows × 5 columns</p>\n",
              "</div>\n",
              "      <button class=\"colab-df-convert\" onclick=\"convertToInteractive('df-9f38aff4-f304-40ab-b0cf-6c4fcd903845')\"\n",
              "              title=\"Convert this dataframe to an interactive table.\"\n",
              "              style=\"display:none;\">\n",
              "        \n",
              "  <svg xmlns=\"http://www.w3.org/2000/svg\" height=\"24px\"viewBox=\"0 0 24 24\"\n",
              "       width=\"24px\">\n",
              "    <path d=\"M0 0h24v24H0V0z\" fill=\"none\"/>\n",
              "    <path d=\"M18.56 5.44l.94 2.06.94-2.06 2.06-.94-2.06-.94-.94-2.06-.94 2.06-2.06.94zm-11 1L8.5 8.5l.94-2.06 2.06-.94-2.06-.94L8.5 2.5l-.94 2.06-2.06.94zm10 10l.94 2.06.94-2.06 2.06-.94-2.06-.94-.94-2.06-.94 2.06-2.06.94z\"/><path d=\"M17.41 7.96l-1.37-1.37c-.4-.4-.92-.59-1.43-.59-.52 0-1.04.2-1.43.59L10.3 9.45l-7.72 7.72c-.78.78-.78 2.05 0 2.83L4 21.41c.39.39.9.59 1.41.59.51 0 1.02-.2 1.41-.59l7.78-7.78 2.81-2.81c.8-.78.8-2.07 0-2.86zM5.41 20L4 18.59l7.72-7.72 1.47 1.35L5.41 20z\"/>\n",
              "  </svg>\n",
              "      </button>\n",
              "      \n",
              "  <style>\n",
              "    .colab-df-container {\n",
              "      display:flex;\n",
              "      flex-wrap:wrap;\n",
              "      gap: 12px;\n",
              "    }\n",
              "\n",
              "    .colab-df-convert {\n",
              "      background-color: #E8F0FE;\n",
              "      border: none;\n",
              "      border-radius: 50%;\n",
              "      cursor: pointer;\n",
              "      display: none;\n",
              "      fill: #1967D2;\n",
              "      height: 32px;\n",
              "      padding: 0 0 0 0;\n",
              "      width: 32px;\n",
              "    }\n",
              "\n",
              "    .colab-df-convert:hover {\n",
              "      background-color: #E2EBFA;\n",
              "      box-shadow: 0px 1px 2px rgba(60, 64, 67, 0.3), 0px 1px 3px 1px rgba(60, 64, 67, 0.15);\n",
              "      fill: #174EA6;\n",
              "    }\n",
              "\n",
              "    [theme=dark] .colab-df-convert {\n",
              "      background-color: #3B4455;\n",
              "      fill: #D2E3FC;\n",
              "    }\n",
              "\n",
              "    [theme=dark] .colab-df-convert:hover {\n",
              "      background-color: #434B5C;\n",
              "      box-shadow: 0px 1px 3px 1px rgba(0, 0, 0, 0.15);\n",
              "      filter: drop-shadow(0px 1px 2px rgba(0, 0, 0, 0.3));\n",
              "      fill: #FFFFFF;\n",
              "    }\n",
              "  </style>\n",
              "\n",
              "      <script>\n",
              "        const buttonEl =\n",
              "          document.querySelector('#df-9f38aff4-f304-40ab-b0cf-6c4fcd903845 button.colab-df-convert');\n",
              "        buttonEl.style.display =\n",
              "          google.colab.kernel.accessAllowed ? 'block' : 'none';\n",
              "\n",
              "        async function convertToInteractive(key) {\n",
              "          const element = document.querySelector('#df-9f38aff4-f304-40ab-b0cf-6c4fcd903845');\n",
              "          const dataTable =\n",
              "            await google.colab.kernel.invokeFunction('convertToInteractive',\n",
              "                                                     [key], {});\n",
              "          if (!dataTable) return;\n",
              "\n",
              "          const docLinkHtml = 'Like what you see? Visit the ' +\n",
              "            '<a target=\"_blank\" href=https://colab.research.google.com/notebooks/data_table.ipynb>data table notebook</a>'\n",
              "            + ' to learn more about interactive tables.';\n",
              "          element.innerHTML = '';\n",
              "          dataTable['output_type'] = 'display_data';\n",
              "          await google.colab.output.renderOutput(dataTable, element);\n",
              "          const docLink = document.createElement('div');\n",
              "          docLink.innerHTML = docLinkHtml;\n",
              "          element.appendChild(docLink);\n",
              "        }\n",
              "      </script>\n",
              "    </div>\n",
              "  </div>\n",
              "  "
            ],
            "text/plain": [
              "                              recipe_name  ...                                         nutritions\n",
              "0                            Carrot Halwa  ...  {'Calories': {'amount': '97', 'unit': None}, '...\n",
              "1                        Huevos Rancheros  ...  {'Calories': {'amount': '255', 'unit': None}, ...\n",
              "2                                Ambrosia  ...  {'Calories': {'amount': '188', 'unit': None}, ...\n",
              "3                             Autumn Stew  ...  {'Calories': {'amount': '226', 'unit': None}, ...\n",
              "4                  Banana-Ginger Pancakes  ...  {'Calories': {'amount': '268', 'unit': None}, ...\n",
              "..                                    ...  ...                                                ...\n",
              "181                Arugula and Pear Salad  ...  {'Calories': {'amount': '233', 'unit': None}, ...\n",
              "182             Sunshine Chickpea Burgers  ...  {'Calories': {'amount': '137', 'unit': None}, ...\n",
              "183  Baby Carrots with Chickpea Guacamole  ...  {'Calories': {'amount': '89', 'unit': None}, '...\n",
              "184                           Facon Bacon  ...  {'Calories': {'amount': '118', 'unit': None}, ...\n",
              "185                    Tempeh Sloppy Joes  ...  {'Calories': {'amount': '273', 'unit': None}, ...\n",
              "\n",
              "[186 rows x 5 columns]"
            ]
          },
          "execution_count": 379,
          "metadata": {},
          "output_type": "execute_result"
        }
      ],
      "source": [
        "df"
      ]
    },
    {
      "cell_type": "code",
      "execution_count": null,
      "metadata": {
        "id": "6hgCRLFVthgI"
      },
      "outputs": [],
      "source": [
        "df.to_csv(\"/content/drive/MyDrive/Manual_Dataset/data_recipe_pcrm.csv\")"
      ]
    },
    {
      "cell_type": "markdown",
      "metadata": {
        "id": "HB48OQ0et9Jf"
      },
      "source": [
        "### Scrapping from https://www.eatingwell.com/recipes/ - Only Indian Recipes"
      ]
    },
    {
      "cell_type": "markdown",
      "metadata": {
        "id": "mzutpcg8u10g"
      },
      "source": [
        "#### Web Scrapping Recipe Links - https://www.eatingwell.com/recipes/19710/cuisines-regions/indian/"
      ]
    },
    {
      "cell_type": "code",
      "execution_count": null,
      "metadata": {
        "id": "Fqy5LruTu2n0"
      },
      "outputs": [],
      "source": [
        "import requests\n",
        "from bs4 import BeautifulSoup\n",
        "import pandas as pd"
      ]
    },
    {
      "cell_type": "code",
      "execution_count": null,
      "metadata": {
        "id": "tgNEwW0Y1e1r"
      },
      "outputs": [],
      "source": [
        "links = []"
      ]
    },
    {
      "cell_type": "code",
      "execution_count": null,
      "metadata": {
        "id": "-x1h_VZPvBCE"
      },
      "outputs": [],
      "source": [
        "url = 'https://www.eatingwell.com/recipes/19710/cuisines-regions/indian/'\n",
        "contents = requests.get(url).content"
      ]
    },
    {
      "cell_type": "code",
      "execution_count": null,
      "metadata": {
        "id": "f0j4w-KIvDKd"
      },
      "outputs": [],
      "source": [
        "soup = BeautifulSoup(contents,'html5lib')\n",
        "\n",
        "inspirations = soup.find_all('div', class_ = 'category-page-item')\n",
        "\n",
        "for recipe in inspirations:\n",
        "  link = recipe.find_all('a')[0]['href']\n",
        "  links.append(link)"
      ]
    },
    {
      "cell_type": "code",
      "execution_count": null,
      "metadata": {
        "id": "xtqYMkGV2LUI"
      },
      "outputs": [],
      "source": [
        "remaining = soup.find_all('div', class_ = 'component card card__category')\n",
        "\n",
        "for recipe in remaining:\n",
        "  link = recipe.find_all('a')[0]['href']\n",
        "  links.append(link)"
      ]
    },
    {
      "cell_type": "code",
      "execution_count": null,
      "metadata": {
        "id": "fHZdKl3S24b9"
      },
      "outputs": [],
      "source": [
        "for i in range(2, 9):\n",
        "  temp_link = \"https://www.eatingwell.com/recipes/19710/cuisines-regions/indian/?page=\" + str(i)\n",
        "  temp_contents = requests.get(temp_link).content\n",
        "\n",
        "  bs = BeautifulSoup(temp_contents, 'html5lib')\n",
        "  recipes = bs.find_all('div', class_ = 'component tout')\n",
        "\n",
        "  for recipe in recipes:\n",
        "    link = \"https://www.eatingwell.com/\" +  recipe.find_all('a')[0]['href']\n",
        "    links.append(link)"
      ]
    },
    {
      "cell_type": "code",
      "execution_count": null,
      "metadata": {
        "colab": {
          "base_uri": "https://localhost:8080/"
        },
        "id": "wJXT1o1T45v5",
        "outputId": "39b227b4-1474-4834-9d48-fbf3ba6e7207"
      },
      "outputs": [
        {
          "data": {
            "text/plain": [
              "203"
            ]
          },
          "execution_count": 387,
          "metadata": {},
          "output_type": "execute_result"
        }
      ],
      "source": [
        "len(links)"
      ]
    },
    {
      "cell_type": "code",
      "execution_count": null,
      "metadata": {
        "colab": {
          "base_uri": "https://localhost:8080/"
        },
        "id": "fipRv9kB5PD-",
        "outputId": "bd14cce5-6aa8-4bf2-b0f9-900f166f3b27"
      },
      "outputs": [
        {
          "name": "stdout",
          "output_type": "stream",
          "text": [
            "https://www.eatingwell.com/recipe/259674/tofu-chicken-eggplant-curry/\n",
            "https://www.eatingwell.com/recipe/270163/roti-bread/\n",
            "https://www.eatingwell.com/recipe/248778/rice-pilaf-with-lime-cashews/\n",
            "https://www.eatingwell.com/recipe/276815/slow-cooker-south-indian-tomato-chutney/\n",
            "https://www.eatingwell.com/recipe/255180/okra-fry-bhindi-masala/\n",
            "https://www.eatingwell.com/recipe/269658/coconut-chai-spiced-overnight-oats/\n",
            "https://www.eatingwell.com/recipe/252171/curried-lentil-stuffed-squash/\n",
            "https://www.eatingwell.com/recipe/252911/curried-potato-salad/\n",
            "http://www.eatingwell.com/recipe/275724/easy-chicken-tikka-masala/\n",
            "http://www.eatingwell.com/recipe/257820/mango-lassi-pie/\n",
            "http://www.eatingwell.com/recipe/276889/indian-grain-bowls-with-chicken-vegetables/\n",
            "https://www.eatingwell.com/recipe/251313/chicken-celery-root-tikka-masala/\n",
            "https://www.eatingwell.com/recipe/255182/cilantro-chutney-kothmiri-chatni/\n",
            "http://www.eatingwell.com/recipe/251281/indian-style-mustard-greens-kale-with-toasted-naan/\n",
            "http://www.eatingwell.com/recipe/276946/slow-cooker-indian-lamb-butternut-squash-stew/\n",
            "https://www.eatingwell.com/recipe/266844/curry-lime-chicken-kebobs/\n",
            "https://www.eatingwell.com/recipe/255184/cashew-butter-chicken-masala/\n",
            "https://www.eatingwell.com/recipe/267876/vegan-coconut-chickpea-curry/\n",
            "https://www.eatingwell.com/recipe/255186/chickpea-curry-chhole/\n",
            "https://www.eatingwell.com/recipe/256519/roasted-cauliflower-potato-curry-soup/\n"
          ]
        }
      ],
      "source": [
        "count = 0\n",
        "\n",
        "for link in links:\n",
        "  print(link)\n",
        "\n",
        "  count += 1\n",
        "  if count == 20:\n",
        "    break"
      ]
    },
    {
      "cell_type": "markdown",
      "metadata": {
        "id": "pQKeAyu652JV"
      },
      "source": [
        "#### Retrieving Informations About Single Recipes"
      ]
    },
    {
      "cell_type": "code",
      "execution_count": null,
      "metadata": {
        "id": "4H9iMLxF5ytJ"
      },
      "outputs": [],
      "source": [
        "temp_url = links[0]\n",
        "temp_contents = requests.get(temp_url).content\n",
        "\n",
        "bs = BeautifulSoup(temp_contents, 'html5lib')"
      ]
    },
    {
      "cell_type": "markdown",
      "metadata": {
        "id": "tjzSpk6456-S"
      },
      "source": [
        "##### Retrieving Name of a Single Recipe"
      ]
    },
    {
      "cell_type": "code",
      "execution_count": null,
      "metadata": {
        "id": "t9Fk4KeT6I-m"
      },
      "outputs": [],
      "source": [
        "def get_recipe_name_3(bs):\n",
        "  try:\n",
        "    recipe_name = bs.find('h1', class_ = 'headline heading-content elementFont__display').text.strip()\n",
        "\n",
        "    return recipe_name\n",
        "\n",
        "  except:\n",
        "    return -1"
      ]
    },
    {
      "cell_type": "code",
      "execution_count": null,
      "metadata": {
        "colab": {
          "base_uri": "https://localhost:8080/",
          "height": 35
        },
        "id": "wfgRo0mg6Xhn",
        "outputId": "dcc63af5-5538-4597-925b-e50ddbb33829"
      },
      "outputs": [
        {
          "data": {
            "application/vnd.google.colaboratory.intrinsic+json": {
              "type": "string"
            },
            "text/plain": [
              "'Tofu, Chicken & Eggplant Curry'"
            ]
          },
          "execution_count": 391,
          "metadata": {},
          "output_type": "execute_result"
        }
      ],
      "source": [
        "get_recipe_name_3(bs)"
      ]
    },
    {
      "cell_type": "markdown",
      "metadata": {
        "id": "lPbinBGz6dLH"
      },
      "source": [
        "##### Retrieving Image URL of a Single Recipe"
      ]
    },
    {
      "cell_type": "code",
      "execution_count": null,
      "metadata": {
        "id": "O6-wqDnv6ewA"
      },
      "outputs": [],
      "source": [
        "def get_recipe_image_3(bs):\n",
        "  try:\n",
        "    recipe_image = bs.find('div', class_ = 'primary-media-section').find('img')['src']\n",
        "\n",
        "    return recipe_image\n",
        "\n",
        "  except:\n",
        "    return -1"
      ]
    },
    {
      "cell_type": "code",
      "execution_count": null,
      "metadata": {
        "colab": {
          "base_uri": "https://localhost:8080/",
          "height": 35
        },
        "id": "RCEvetjW6h1T",
        "outputId": "c004b664-5716-4e0b-f4b5-ef5bc54da818"
      },
      "outputs": [
        {
          "data": {
            "application/vnd.google.colaboratory.intrinsic+json": {
              "type": "string"
            },
            "text/plain": [
              "'https://imagesvc.meredithcorp.io/v3/mm/image?url=https%3A%2F%2Fstatic.onecms.io%2Fwp-content%2Fuploads%2Fsites%2F44%2F2017%2F08%2F11%2F7881916.jpg'"
            ]
          },
          "execution_count": 393,
          "metadata": {},
          "output_type": "execute_result"
        }
      ],
      "source": [
        "get_recipe_image_3(bs)"
      ]
    },
    {
      "cell_type": "markdown",
      "metadata": {
        "id": "0NvhmJJ27LoE"
      },
      "source": [
        "##### Retrieving Nutritions of a Single Recipe"
      ]
    },
    {
      "cell_type": "code",
      "execution_count": null,
      "metadata": {
        "id": "8StEjS3x7Nom"
      },
      "outputs": [],
      "source": [
        "def get_recipe_nutritions_3(bs):\n",
        "  try:\n",
        "    n_containers = bs.find_all('div', class_ = 'recipeNutritionSectionBlock')\n",
        "\n",
        "    recipe_nutrients = dict()\n",
        "\n",
        "    for container in n_containers:\n",
        "      if \"Per Serving:\" in container.text:\n",
        "        nutrients = container.find('div', class_ = 'section-body').text\n",
        "\n",
        "        nutrients = nutrients.split(';')\n",
        "        for nutrient in nutrients:\n",
        "          nutr = nutrient.strip()\n",
        "\n",
        "          temp_nutr = nutr.split(\" \")\n",
        "          n = \" \".join(temp_nutr[:-1])\n",
        "          if n == 'vitamin a iu':\n",
        "            n = 'vitamin a'\n",
        "          quantity = temp_nutr[-1]\n",
        "\n",
        "          if quantity == 'calories':\n",
        "            continue\n",
        "\n",
        "          count = 0\n",
        "          for letter in quantity:\n",
        "            if ord(letter) not in range(48, 58) and letter != '.':\n",
        "              break\n",
        "            \n",
        "            count += 1\n",
        "\n",
        "          amount = quantity[:count]\n",
        "          unit = quantity[count:]\n",
        "\n",
        "          nutrient_info = dict()\n",
        "          nutrient_info['amount'] = amount\n",
        "          nutrient_info['unit'] = unit\n",
        "\n",
        "          recipe_nutrients[n] = nutrient_info\n",
        "\n",
        "    return recipe_nutrients\n",
        "\n",
        "  except:\n",
        "    return -1"
      ]
    },
    {
      "cell_type": "code",
      "execution_count": null,
      "metadata": {
        "colab": {
          "base_uri": "https://localhost:8080/"
        },
        "id": "PI977yoD7Nq9",
        "outputId": "38f1c309-028b-4248-c1be-598aacb7792d"
      },
      "outputs": [
        {
          "data": {
            "text/plain": [
              "{'calcium': {'amount': '218.4', 'unit': 'mg'},\n",
              " 'carbohydrates': {'amount': '18.1', 'unit': 'g'},\n",
              " 'cholesterol': {'amount': '58.5', 'unit': 'mg'},\n",
              " 'dietary fiber': {'amount': '5.9', 'unit': 'g'},\n",
              " 'fat': {'amount': '25.9', 'unit': 'g'},\n",
              " 'folate': {'amount': '35.7', 'unit': 'mcg'},\n",
              " 'iron': {'amount': '3.6', 'unit': 'mg'},\n",
              " 'magnesium': {'amount': '55.9', 'unit': 'mg'},\n",
              " 'potassium': {'amount': '780.1', 'unit': 'mg'},\n",
              " 'protein': {'amount': '25.3', 'unit': 'g'},\n",
              " 'saturated fat': {'amount': '4.9', 'unit': 'g'},\n",
              " 'sodium': {'amount': '527.7', 'unit': 'mg.'},\n",
              " 'sugars': {'amount': '8.1', 'unit': 'g'},\n",
              " 'vitamin a iu': {'amount': '987.3', 'unit': 'IU'},\n",
              " 'vitamin c': {'amount': '13.2', 'unit': 'mg'}}"
            ]
          },
          "execution_count": 395,
          "metadata": {},
          "output_type": "execute_result"
        }
      ],
      "source": [
        "get_recipe_nutritions_3(bs)"
      ]
    },
    {
      "cell_type": "markdown",
      "metadata": {
        "id": "7JGmeLB4-0fd"
      },
      "source": [
        "##### Retrieving Ingredients of a Single Recipe"
      ]
    },
    {
      "cell_type": "code",
      "execution_count": null,
      "metadata": {
        "id": "lDqea-pE-4gJ"
      },
      "outputs": [],
      "source": [
        "def get_recipe_ingredients_3(bs):\n",
        "  try:\n",
        "    recipe_ingredients = []\n",
        "\n",
        "    ingredients_container = bs.find('section', class_ = 'component recipe-ingredients recipeIngredients container')\n",
        "    ingredients = ingredients_container.find_all('span', class_ = 'ingredients-item-name elementFont__body')\n",
        "\n",
        "    for ingredient in ingredients:\n",
        "      recipe_ingredients.append(ingredient.text.strip())\n",
        "\n",
        "    return recipe_ingredients\n",
        "\n",
        "  except:\n",
        "    return -1"
      ]
    },
    {
      "cell_type": "code",
      "execution_count": null,
      "metadata": {
        "colab": {
          "base_uri": "https://localhost:8080/"
        },
        "id": "gUko9HbC-7Ck",
        "outputId": "39bdb1cd-fc77-4dd0-c2ab-702d84af0c5a"
      },
      "outputs": [
        {
          "data": {
            "text/plain": [
              "['1 14- to 16-ounce package extra-firm water-packed tofu, drained',\n",
              " '1 large eggplant, cut into 1 1/2-inch cubes',\n",
              " '2 teaspoons kosher salt, divided',\n",
              " '1\\u2009½ pounds boneless, skinless chicken thighs, cut into 1/2-inch strips',\n",
              " '9 tablespoons extra-virgin olive oil, divided',\n",
              " '1 tablespoon cornstarch',\n",
              " '2 cups thinly sliced onion',\n",
              " '2 tablespoons minced fresh ginger',\n",
              " '3 tablespoons minced garlic',\n",
              " '1 (28 ounce) can no-salt-added diced tomatoes',\n",
              " '1 cup low-sodium chicken broth',\n",
              " '1 cup finely chopped fresh cilantro stems plus 1/4 cup chopped leaves, divided',\n",
              " '½ cup whole-milk plain Greek yogurt',\n",
              " 'Freshly ground pepper to taste',\n",
              " '1 tablespoon coriander seeds',\n",
              " '1\\u2009½ teaspoons cumin seeds',\n",
              " '1 teaspoon fennel seeds',\n",
              " '1 teaspoon fenugreek seeds',\n",
              " '1 teaspoon whole black peppercorns',\n",
              " '½ teaspoon cardamom seeds (not pods)',\n",
              " '1 tablespoon New Mexico chile powder or paprika',\n",
              " '1\\u2009½ teaspoons ground turmeric',\n",
              " '½ teaspoon crushed red pepper',\n",
              " '⅛ teaspoon ground cinnamon']"
            ]
          },
          "execution_count": 397,
          "metadata": {},
          "output_type": "execute_result"
        }
      ],
      "source": [
        "get_recipe_ingredients_3(bs)"
      ]
    },
    {
      "cell_type": "markdown",
      "metadata": {
        "id": "hbL2BgUCApZL"
      },
      "source": [
        "##### Retrieving Instructions of a Single Recipe"
      ]
    },
    {
      "cell_type": "code",
      "execution_count": null,
      "metadata": {
        "id": "1MhIZ283ArBM"
      },
      "outputs": [],
      "source": [
        "def get_recipe_instructions_3(bs):\n",
        "  try:\n",
        "    recipe_instructions = []\n",
        "\n",
        "    instructions_container = bs.find('ul', class_ = 'instructions-section')\n",
        "    instructions = instructions_container.find_all('li')\n",
        "\n",
        "    for instruction in instructions:\n",
        "      temp_ins = instruction.find('div', class_ = 'paragraph').text.strip()\n",
        "      recipe_instructions.append(temp_ins)\n",
        "\n",
        "    return recipe_instructions\n",
        "\n",
        "  except Exception as e:\n",
        "    return -1"
      ]
    },
    {
      "cell_type": "code",
      "execution_count": null,
      "metadata": {
        "colab": {
          "base_uri": "https://localhost:8080/"
        },
        "id": "bVEsEOr3ArDw",
        "outputId": "bcdda009-8263-41ef-fb4a-9b43147d482f"
      },
      "outputs": [
        {
          "data": {
            "text/plain": [
              "['To prepare tofu & eggplant: Cut tofu crosswise into 8 equal pieces and press for 1 to 4 hours (see Tips).',\n",
              " 'Meanwhile, toss eggplant with 1/2 teaspoon salt in a colander. Drain for 30 minutes to 1 hour.',\n",
              " 'To prepare curry spice blend: Heat a small skillet over medium-high heat. Add coriander, cumin, fennel, fenugreek, peppercorns and cardamom. Toast the spices, stirring constantly, until aromatic and starting to smoke, 1 to 2 minutes. Transfer to a bowl to cool. Grind in a spice grinder (such as a clean coffee grinder) or mortar and pestle. Return to the bowl and stir in chile powder (or paprika), turmeric, crushed red pepper and cinnamon.',\n",
              " 'To prepare curry: Line a large baking sheet with parchment paper. Position racks in upper and lower thirds of oven; preheat to 400 degrees F.',\n",
              " 'Toss chicken with 1 tablespoon of the curry spice and 1/2 teaspoon salt in a medium bowl. Set aside.',\n",
              " 'Cut the tofu into cubes. Toss with 1 table-spoon oil in a medium bowl. Sprinkle with 1 tablespoon curry spice, cornstarch and 1/2 teaspoon salt and toss again. Spread on the prepared baking sheet.',\n",
              " 'Rinse the eggplant and pat dry. Toss with 4 tablespoons oil and 2 teaspoons curry spice in a medium bowl. Spread on another baking sheet.',\n",
              " 'Roast the tofu on the lower rack, turning once halfway, until lightly browned and beginning to crisp, about 30 minutes. Roast the eggplant on the upper rack, turning once halfway, until soft, about 30 minutes.',\n",
              " 'Meanwhile, heat 2 tablespoons oil in a large pot over medium-high heat. Add the chicken and cook, stirring often, until browned, about 10 minutes. Remove to a bowl. Add the remaining 2 tablespoons oil, onion and ginger; reduce heat to medium and cook, stirring often, until the onion is quite soft, 7 to 9 minutes. Add garlic and cook, stirring, for 1 minute more. Add the remaining curry spice and stir to coat.',\n",
              " 'Add tomatoes, broth and cilantro stems, stirring to scrape up any browned bits. Stir in yogurt, then the chicken and tofu. Bring to a boil. Reduce heat to a simmer and cook, stirring occasionally, for 20 minutes.',\n",
              " 'Stir in the eggplant and cook, stirring occasionally, for 5 minutes more. Stir in the remaining 1/2 teaspoon salt and pepper to taste. Serve topped with cilantro leaves.']"
            ]
          },
          "execution_count": 399,
          "metadata": {},
          "output_type": "execute_result"
        }
      ],
      "source": [
        "get_recipe_instructions_3(bs)"
      ]
    },
    {
      "cell_type": "markdown",
      "metadata": {
        "id": "I9Ni3hH-B-1m"
      },
      "source": [
        "#### Retrieving Information of all Recipes from the Links Scrapped"
      ]
    },
    {
      "cell_type": "code",
      "execution_count": null,
      "metadata": {
        "id": "n1elwI5eB_nW"
      },
      "outputs": [],
      "source": [
        "recipe_informations_3 = []"
      ]
    },
    {
      "cell_type": "code",
      "execution_count": null,
      "metadata": {
        "id": "cK4YxGSjCFed"
      },
      "outputs": [],
      "source": [
        "count = 0\n",
        "\n",
        "for link in links:\n",
        "  temp_contents = requests.get(link).content\n",
        "\n",
        "  bs = BeautifulSoup(temp_contents, 'html5lib')\n",
        "\n",
        "  recipe_name = get_recipe_name_3(bs)\n",
        "  recipe_image = get_recipe_image_3(bs)\n",
        "  recipe_nutritions = get_recipe_nutritions_3(bs)\n",
        "  recipe_ingredients = get_recipe_ingredients_3(bs)\n",
        "  recipe_instructions = get_recipe_instructions_3(bs)\n",
        "\n",
        "  if recipe_name == -1 or recipe_image == -1 or recipe_nutritions == -1 or recipe_ingredients == -1 or recipe_instructions == -1:\n",
        "    continue\n",
        "\n",
        "  count += 1\n",
        "  recipe_info = []\n",
        "  recipe_info.append(recipe_name)\n",
        "  recipe_info.append(recipe_image)\n",
        "  recipe_info.append(\"^\".join(recipe_ingredients))\n",
        "  recipe_info.append(\"^\".join(recipe_instructions))\n",
        "  recipe_info.append(recipe_nutritions)\n",
        "\n",
        "  recipe_informations_3.append(recipe_info)"
      ]
    },
    {
      "cell_type": "code",
      "execution_count": null,
      "metadata": {
        "colab": {
          "base_uri": "https://localhost:8080/"
        },
        "id": "zFQzYYXmCVd2",
        "outputId": "4e319bad-e41b-41ec-a33a-abeeea85b34f"
      },
      "outputs": [
        {
          "name": "stdout",
          "output_type": "stream",
          "text": [
            "['Tofu, Chicken & Eggplant Curry', 'https://imagesvc.meredithcorp.io/v3/mm/image?url=https%3A%2F%2Fstatic.onecms.io%2Fwp-content%2Fuploads%2Fsites%2F44%2F2017%2F08%2F11%2F7881916.jpg', '1 14- to 16-ounce package extra-firm water-packed tofu, drained^1 large eggplant, cut into 1 1/2-inch cubes^2 teaspoons kosher salt, divided^1\\u2009½ pounds boneless, skinless chicken thighs, cut into 1/2-inch strips^9 tablespoons extra-virgin olive oil, divided^1 tablespoon cornstarch^2 cups thinly sliced onion^2 tablespoons minced fresh ginger^3 tablespoons minced garlic^1 (28 ounce) can no-salt-added diced tomatoes^1 cup low-sodium chicken broth^1 cup finely chopped fresh cilantro stems plus 1/4 cup chopped leaves, divided^½ cup whole-milk plain Greek yogurt^Freshly ground pepper to taste^1 tablespoon coriander seeds^1\\u2009½ teaspoons cumin seeds^1 teaspoon fennel seeds^1 teaspoon fenugreek seeds^1 teaspoon whole black peppercorns^½ teaspoon cardamom seeds (not pods)^1 tablespoon New Mexico chile powder or paprika^1\\u2009½ teaspoons ground turmeric^½ teaspoon crushed red pepper^⅛ teaspoon ground cinnamon', 'To prepare tofu & eggplant: Cut tofu crosswise into 8 equal pieces and press for 1 to 4 hours (see Tips).^Meanwhile, toss eggplant with 1/2 teaspoon salt in a colander. Drain for 30 minutes to 1 hour.^To prepare curry spice blend: Heat a small skillet over medium-high heat. Add coriander, cumin, fennel, fenugreek, peppercorns and cardamom. Toast the spices, stirring constantly, until aromatic and starting to smoke, 1 to 2 minutes. Transfer to a bowl to cool. Grind in a spice grinder (such as a clean coffee grinder) or mortar and pestle. Return to the bowl and stir in chile powder (or paprika), turmeric, crushed red pepper and cinnamon.^To prepare curry: Line a large baking sheet with parchment paper. Position racks in upper and lower thirds of oven; preheat to 400 degrees F.^Toss chicken with 1 tablespoon of the curry spice and 1/2 teaspoon salt in a medium bowl. Set aside.^Cut the tofu into cubes. Toss with 1 table-spoon oil in a medium bowl. Sprinkle with 1 tablespoon curry spice, cornstarch and 1/2 teaspoon salt and toss again. Spread on the prepared baking sheet.^Rinse the eggplant and pat dry. Toss with 4 tablespoons oil and 2 teaspoons curry spice in a medium bowl. Spread on another baking sheet.^Roast the tofu on the lower rack, turning once halfway, until lightly browned and beginning to crisp, about 30 minutes. Roast the eggplant on the upper rack, turning once halfway, until soft, about 30 minutes.^Meanwhile, heat 2 tablespoons oil in a large pot over medium-high heat. Add the chicken and cook, stirring often, until browned, about 10 minutes. Remove to a bowl. Add the remaining 2 tablespoons oil, onion and ginger; reduce heat to medium and cook, stirring often, until the onion is quite soft, 7 to 9 minutes. Add garlic and cook, stirring, for 1 minute more. Add the remaining curry spice and stir to coat.^Add tomatoes, broth and cilantro stems, stirring to scrape up any browned bits. Stir in yogurt, then the chicken and tofu. Bring to a boil. Reduce heat to a simmer and cook, stirring occasionally, for 20 minutes.^Stir in the eggplant and cook, stirring occasionally, for 5 minutes more. Stir in the remaining 1/2 teaspoon salt and pepper to taste. Serve topped with cilantro leaves.', {'protein': {'amount': '25.3', 'unit': 'g'}, 'carbohydrates': {'amount': '18.1', 'unit': 'g'}, 'dietary fiber': {'amount': '5.9', 'unit': 'g'}, 'sugars': {'amount': '8.1', 'unit': 'g'}, 'fat': {'amount': '25.9', 'unit': 'g'}, 'saturated fat': {'amount': '4.9', 'unit': 'g'}, 'cholesterol': {'amount': '58.5', 'unit': 'mg'}, 'vitamin a iu': {'amount': '987.3', 'unit': 'IU'}, 'vitamin c': {'amount': '13.2', 'unit': 'mg'}, 'folate': {'amount': '35.7', 'unit': 'mcg'}, 'calcium': {'amount': '218.4', 'unit': 'mg'}, 'iron': {'amount': '3.6', 'unit': 'mg'}, 'magnesium': {'amount': '55.9', 'unit': 'mg'}, 'potassium': {'amount': '780.1', 'unit': 'mg'}, 'sodium': {'amount': '527.7', 'unit': 'mg.'}}]\n",
            "['Roti Bread', 'https://imagesvc.meredithcorp.io/v3/mm/image?url=https%3A%2F%2Fstatic.onecms.io%2Fwp-content%2Fuploads%2Fsites%2F44%2F2019%2F01%2F18%2F6288857.jpg', '1\\u2009½ cups whole-wheat flour^1 cup all-purpose flour, divided^¼ teaspoon salt^¾ cup water, plus more as needed', 'Stir together whole-wheat flour, 1/2 cup all-purpose flour, and the salt in a large bowl. Gradually stir in the 3/4 cup water to make a soft dough, adding additional water, 1 tablespoon at a time, if necessary. Shape the dough into a ball. Sprinkle some of the remaining 1/2 cup all-purpose flour on a work surface. Knead the dough on the floured surface until smooth, elastic, and slightly sticky. Cover and let stand 10 minutes.^Divide the dough into 12 portions. Roll each portion between the palms of your hands into a smooth ball. Press the balls to flatten and coat lightly with more of the remaining flour. Using a rolling pin, roll the dough into 6-inch circles, using the remaining flour as necessary.^Heat a griddle or skillet over medium heat. Add a dough circle; cook about 30 seconds or until lightly browned. Turn and cook about 30 seconds more or until lightly browned and firm. Using a clean, folded kitchen towel, press the roti down in several spots gently yet firmly. Repeat with the remaining dough circles.^Serve immediately or store in an airtight container at room temperature for up to 2 days or freeze for up to 2 months.', {'protein': {'amount': '3.1', 'unit': 'g'}, 'carbohydrates': {'amount': '18.7', 'unit': 'g'}, 'dietary fiber': {'amount': '1.9', 'unit': 'g'}, 'sugars': {'amount': '0.1', 'unit': 'g'}, 'fat': {'amount': '0.5', 'unit': 'g'}, 'saturated fat': {'amount': '0.1', 'unit': 'g'}, 'vitamin a iu': {'amount': '1.4', 'unit': 'IU'}, 'folate': {'amount': '36.9', 'unit': 'mcg'}, 'calcium': {'amount': '7.1', 'unit': 'mg'}, 'iron': {'amount': '1', 'unit': 'mg'}, 'magnesium': {'amount': '23', 'unit': 'mg'}, 'potassium': {'amount': '65.8', 'unit': 'mg'}, 'sodium': {'amount': '49.4', 'unit': 'mg.'}}]\n",
            "['Rice Pilaf with Lime & Cashews', 'https://imagesvc.meredithcorp.io/v3/mm/image?url=https%3A%2F%2Fstatic.onecms.io%2Fwp-content%2Fuploads%2Fsites%2F44%2F2016%2F06%2F03%2F3755561.jpg', '1 cup basmati rice^1\\u2009½ cups cold water^1 tablespoon canola oil^1 teaspoon black or yellow mustard seeds^2 tablespoons coarsely chopped cashews^2-3 tablespoons lime juice^2 tablespoons finely chopped fresh cilantro, or 12 fresh kari leaves (see Ingredient Note), chopped^2-3 fresh Thai, cayenne or serrano chiles, or 1 jalapeno pepper, seeded and minced^¼ teaspoon turmeric^¼ teaspoon salt', 'Place rice in a medium saucepan with enough water to cover by about 1 inch. Gently swish grains in the pan with your fingertips until the water becomes cloudy; drain. Repeat 3 or 4 times, until the water remains almost clear. Cover with 1 1/2 cups cold water; let soak for 30 minutes.^Bring the rice and water to a boil over medium-high heat. Cook, uncovered, stirring occasionally, until most of the liquid evaporates from the surface, 4 to 6 minutes. Cover the pan and reduce the heat to the lowest setting; cook for 5 minutes. Remove from the heat and let sit undisturbed for 5 minutes.^Meanwhile, heat oil in a small skillet over medium-high heat; add mustard seeds. When the seeds begin to pop, cover the pan until the popping stops. Reduce heat to medium; add cashews and cook, stirring, until golden brown, 30 seconds to 1 minute. Remove from the heat; add lime juice, cilantro (or kari leaves), chiles (or jalapeno), turmeric and salt. Add the mixture to the cooked rice; mix well.^Brown-Rice Variation: If using brown basmati rice, rinse as directed in Step 1 then soak in 2 cups water. In Step 2, bring rice and water to a boil over medium-high heat. Reduce the heat to low, cover and simmer until the water is absorbed and the rice is tender, 25 to 30 minutes. Remove from the heat and let sit for 5 minutes. Proceed with Step 3.', {'protein': {'amount': '2.6', 'unit': 'g'}, 'carbohydrates': {'amount': '25.4', 'unit': 'g'}, 'dietary fiber': {'amount': '0.2', 'unit': 'g'}, 'sugars': {'amount': '0.3', 'unit': 'g'}, 'fat': {'amount': '3.8', 'unit': 'g'}, 'saturated fat': {'amount': '0.4', 'unit': 'g'}, 'vitamin a iu': {'amount': '44.2', 'unit': 'IU'}, 'vitamin c': {'amount': '2.5', 'unit': 'mg'}, 'folate': {'amount': '2.3', 'unit': 'mcg'}, 'calcium': {'amount': '4.9', 'unit': 'mg'}, 'iron': {'amount': '0.5', 'unit': 'mg'}, 'magnesium': {'amount': '9.9', 'unit': 'mg'}, 'potassium': {'amount': '34.4', 'unit': 'mg'}, 'sodium': {'amount': '99.5', 'unit': 'mg.'}}]\n",
            "['Slow-Cooker South Indian Tomato Chutney', 'https://imagesvc.meredithcorp.io/v3/mm/image?url=https%3A%2F%2Fstatic.onecms.io%2Fwp-content%2Fuploads%2Fsites%2F44%2F2019%2F10%2F29%2F7213819.jpg', '6 cups chopped, seeded tomatoes (about 6 large tomatoes)^8 garlic cloves, peeled and smashed^2 tablespoons canola oil^1 tablespoon tamarind paste^2 teaspoons brown mustard seeds^2 teaspoons cumin seeds^1 teaspoon fenugreek seeds^1 teaspoon demerara sugar^3 dried red chiles (such as Guntur), seeded and broken into pieces (Optional)^Cooking spray^⅞ teaspoon kosher salt', 'Stir together the tomatoes, garlic, oil, tamarind paste, mustard seeds, cumin seeds, fenugreek seeds, sugar, and, if desired, chiles in a 6-quart slow cooker coated with cooking spray; stir gently. Cover and cook on LOW until well incorporated 8 hours.^Add the salt, and stir gently; transfer the mixture to a blender. Remove the center piece of the blender lid (to allow steam to escape); secure the lid on the blender, and place a clean towel over the opening in the lid (to avoid splatters). Process until smooth. Serve the chutney warm or at room temperature.', {'protein': {'amount': '1', 'unit': 'g'}, 'carbohydrates': {'amount': '6', 'unit': 'g'}, 'dietary fiber': {'amount': '2', 'unit': 'g'}, 'sugars': {'amount': '4', 'unit': 'g'}, 'fat': {'amount': '3', 'unit': 'g'}, 'sodium': {'amount': '147', 'unit': 'mg.'}}]\n",
            "['Okra Fry (Bhindi Masala)', 'https://imagesvc.meredithcorp.io/v3/mm/image?url=https%3A%2F%2Fstatic.onecms.io%2Fwp-content%2Fuploads%2Fsites%2F44%2F2019%2F08%2F27045023%2F3879375.jpg', '2 tablespoons safflower oil or grapeseed oil^½ teaspoon black or brown mustard seeds^½ teaspoon cumin seeds^8 -10 fresh curry leaves (optional)^1 large onion, thinly sliced^1 1/4 pounds okra, trimmed and sliced 1/2 inch thick (about 5 cups sliced), or two 10-ounce bags frozen sliced okra, thawed^2 teaspoons ground coriander^1 teaspoon paprika^¾ teaspoon kosher salt^½ teaspoon ground turmeric^1/2-1 teaspoon hot Indian chili powder, such as reshampatti, or 1/4 teaspoon cayenne pepper', 'Heat oil in a large nonstick skillet over medium-high heat until hot but not smoking. Sprinkle in a few mustard seeds to test the oil--it\\'s hot enough when the seeds sizzle and pop. Quickly add the remaining mustard seeds, cumin seeds and curry leaves (if using); cook, stirring, until very fragrant, about 1 minute, covering the pan as needed to contain any splattering.^Reduce heat to medium, add onion and cook, stirring, until it is starting to brown, 5 to 7 minutes. Add okra, increase heat to medium-high and cook, stirring often, until the \"goo\" or mucilage from the okra starts to release and the onion darkens, 4 to 6 minutes more.^Add coriander, paprika, salt, turmeric and chili powder to taste (or cayenne); cook, stirring often, until the okra is browned in spots and the vegetables look very dry, 6 to 10 minutes more.', {'protein': {'amount': '3.5', 'unit': 'g'}, 'carbohydrates': {'amount': '15.3', 'unit': 'g'}, 'dietary fiber': {'amount': '5.9', 'unit': 'g'}, 'sugars': {'amount': '3.8', 'unit': 'g'}, 'fat': {'amount': '7.5', 'unit': 'g'}, 'saturated fat': {'amount': '0.6', 'unit': 'g'}, 'vitamin a iu': {'amount': '1349.4', 'unit': 'IU'}, 'vitamin c': {'amount': '35.5', 'unit': 'mg'}, 'folate': {'amount': '92.7', 'unit': 'mcg'}, 'calcium': {'amount': '136.9', 'unit': 'mg'}, 'iron': {'amount': '1.5', 'unit': 'mg'}, 'magnesium': {'amount': '87.3', 'unit': 'mg'}, 'potassium': {'amount': '504.4', 'unit': 'mg'}, 'sodium': {'amount': '222.6', 'unit': 'mg'}, 'thiamin': {'amount': '0.3', 'unit': 'mg.'}}]\n",
            "['Coconut Chai-Spiced Overnight Oats', 'https://imagesvc.meredithcorp.io/v3/mm/image?url=https%3A%2F%2Fstatic.onecms.io%2Fwp-content%2Fuploads%2Fsites%2F44%2F2018%2F12%2F14%2F6111147.jpg', '½ cup old-fashioned rolled oats (see Tip)^½ cup water^Pinch of salt^3 tablespoons unsweetened coconut milk beverage^2 tablespoons toasted unsweetened coconut chips^2 teaspoons brown sugar^¼ teaspoon ground cinnamon^⅛ teaspoon ground ginger^Pinch of ground cardamom^Pinch of ground pepper', 'Combine oats, water and salt in a jar or bowl and stir. Cover and refrigerate overnight.^In the morning, heat the oats, if desired, or eat cold. Top with coconut milk, coconut, brown sugar, cinnamon, ginger, cardamom and pepper.', {'protein': {'amount': '5.8', 'unit': 'g'}, 'carbohydrates': {'amount': '39.6', 'unit': 'g'}, 'dietary fiber': {'amount': '6.3', 'unit': 'g'}, 'sugars': {'amount': '10.7', 'unit': 'g'}, 'fat': {'amount': '10.3', 'unit': 'g'}, 'saturated fat': {'amount': '7', 'unit': 'g'}, 'vitamin a iu': {'amount': '96.5', 'unit': 'IU'}, 'vitamin c': {'amount': '0.2', 'unit': 'mg'}, 'folate': {'amount': '25.1', 'unit': 'mcg'}, 'calcium': {'amount': '60.5', 'unit': 'mg'}, 'iron': {'amount': '2', 'unit': 'mg'}, 'magnesium': {'amount': '59.9', 'unit': 'mg'}, 'potassium': {'amount': '234.3', 'unit': 'mg'}, 'sodium': {'amount': '155.4', 'unit': 'mg'}, 'thiamin': {'amount': '0.2', 'unit': 'mg'}, 'added sugar': {'amount': '9', 'unit': 'g.'}}]\n",
            "['Curried Lentil Stuffed Squash', 'https://imagesvc.meredithcorp.io/v3/mm/image?url=https%3A%2F%2Fstatic.onecms.io%2Fwp-content%2Fuploads%2Fsites%2F44%2F2019%2F08%2F26230705%2F3958744.jpg', '2 small acorn squash^4 teaspoons butter, melted^2 teaspoons honey^1 teaspoon garam masala (see Tips)^¼ teaspoon salt^2\\u2009½ cups water^1 cup red lentils (see Tips)^¾ teaspoon salt, divided^2 tablespoons butter^2 teaspoons cumin seeds^2 cups chopped leeks, white and light green parts only^Freshly ground pepper to taste^½ cup finely diced carrots^¼ cup thinly sliced shallots^1\\u2009½ tablespoons minced fresh ginger^½ cup finely chopped jalape&#241;os^1\\u2009½ teaspoons ground coriander^1 teaspoon ground turmeric^2 medium tomatoes, diced^¼ cup thinly sliced jarred roasted red peppers^¼ cup nonfat plain Greek yogurt', \"Preheat oven to 350 degrees F.^To prepare squash: Halve squash through the stem end; scoop out seeds. Place cut-side up on a rimmed baking sheet. If necessary, cut a small slice off the bottom of each half so it rests flat. Combine melted butter, honey, garam masala and 1/4 teaspoon salt in a small bowl; brush all over the cut sides of the squash.^Bake the squash for 10 minutes. Brush again to redistribute the butter. Continue to bake until the squash is tender, 30 to 35 minutes more. To test if it's done, sample a little bit of the inside--it should be tender. Turn off the oven, tent the squash with foil and leave in the oven to keep warm.^To prepare stuffing: Bring water, lentils and 1/8 teaspoon salt to a boil in a medium saucepan. Adjust heat so the water is lightly boiling and cook until the lentils are not hard, but still maintain their shape, about 7 minutes. Drain, saving any lentil-cooking liquid; set lentils and liquid aside.^Heat a medium skillet over medium heat. Add 2 tablespoons butter and cumin seeds and cook, stirring, until fragrant, 1 to 2 minutes. Stir in leeks, carrots, shallots, ginger and 1/8 teaspoon salt. Cover and cook, stirring occasionally, until the carrots begin to soften, about 10 minutes. Stir in jalapenos, coriander and turmeric and cook, stirring, 1 minute more. Stir in tomatoes and 1 cup of the reserved cooking liquid (if there isn't enough, make up the difference with water). Bring to a simmer, stirring occasionally, then cook for 5 minutes. Stir in the reserved lentils and simmer until they are soft and tender but not falling apart, 3 to 5 minutes. If the mixture seems dry, add more cooking liquid (or water). Stir in roasted peppers. Season with the remaining 1/2 teaspoon salt and pepper. Divide the lentil stuffing among the squash (a generous 1 cup per half). Serve garnished with a dollop of yogurt.\", {'protein': {'amount': '18', 'unit': 'g'}, 'carbohydrates': {'amount': '64.7', 'unit': 'g'}, 'dietary fiber': {'amount': '12.7', 'unit': 'g'}, 'sugars': {'amount': '13.7', 'unit': 'g'}, 'fat': {'amount': '11.6', 'unit': 'g'}, 'saturated fat': {'amount': '6.2', 'unit': 'g'}, 'cholesterol': {'amount': '25.4', 'unit': 'mg'}, 'vitamin a iu': {'amount': '5631.4', 'unit': 'IU'}, 'vitamin c': {'amount': '55.2', 'unit': 'mg'}, 'folate': {'amount': '78.3', 'unit': 'mcg'}, 'calcium': {'amount': '155.6', 'unit': 'mg'}, 'iron': {'amount': '6.3', 'unit': 'mg'}, 'magnesium': {'amount': '89.2', 'unit': 'mg'}, 'potassium': {'amount': '1428', 'unit': 'mg'}, 'sodium': {'amount': '673.5', 'unit': 'mg'}, 'thiamin': {'amount': '0.4', 'unit': 'mg'}, 'added sugar': {'amount': '3', 'unit': 'g.'}}]\n",
            "['Curried Potato Salad', 'https://imagesvc.meredithcorp.io/v3/mm/image?url=https%3A%2F%2Fstatic.onecms.io%2Fwp-content%2Fuploads%2Fsites%2F44%2F2016%2F06%2F03%2F3759080.jpg', '2\\u2009½ pounds yellow or red potatoes, scrubbed and diced (1/2- to 1-inch)^¾ teaspoon salt, divided^½ cup mayonnaise^½ cup low-fat plain yogurt^¼ cup finely chopped onion^2 tablespoons Dijon mustard^2-3 teaspoons curry powder^½ teaspoon ground pepper^1 medium red bell pepper, chopped^¾ cup frozen peas, thawed', 'Bring 1 to 2 inches of water to a boil in a large saucepan (or pot) fitted with a steamer basket. Add potatoes, cover and cook until tender, 12 to 15 minutes. Spread in a single layer on a rimmed baking sheet and sprinkle with 1/4 teaspoon salt; let cool 15 minutes.^Meanwhile, whisk mayonnaise, yogurt, onion, mustard, curry powder to taste, pepper and the remaining 1/2 teaspoon salt in a large bowl. Add the potatoes, bell pepper and peas; stir well to coat. Serve at room temperature or refrigerate until cold.', {'protein': {'amount': '3.9', 'unit': 'g'}, 'carbohydrates': {'amount': '25.8', 'unit': 'g'}, 'dietary fiber': {'amount': '2.5', 'unit': 'g'}, 'sugars': {'amount': '3.9', 'unit': 'g'}, 'fat': {'amount': '3', 'unit': 'g'}, 'saturated fat': {'amount': '0.6', 'unit': 'g'}, 'cholesterol': {'amount': '3', 'unit': 'mg'}, 'vitamin a iu': {'amount': '568.3', 'unit': 'IU'}, 'vitamin c': {'amount': '22.9', 'unit': 'mg'}, 'folate': {'amount': '29.4', 'unit': 'mcg'}, 'calcium': {'amount': '44.4', 'unit': 'mg'}, 'iron': {'amount': '1.3', 'unit': 'mg'}, 'magnesium': {'amount': '34', 'unit': 'mg'}, 'potassium': {'amount': '556.8', 'unit': 'mg'}, 'sodium': {'amount': '316.1', 'unit': 'mg'}, 'thiamin': {'amount': '0.1', 'unit': 'mg'}, 'added sugar': {'amount': '1', 'unit': 'g.'}}]\n",
            "['Easy Chicken Tikka Masala', 'https://imagesvc.meredithcorp.io/v3/mm/image?url=https%3A%2F%2Fstatic.onecms.io%2Fwp-content%2Fuploads%2Fsites%2F44%2F2019%2F09%2F05%2F7007758.jpg', '1\\u2009½ tablespoons canola oil^1\\u2009½ pounds boneless, skinless chicken thighs, cut into 2-inch pieces^1\\u2009½ cups chopped yellow onion (from 1 medium onion)^5 medium garlic cloves, chopped^1 tablespoon grated fresh ginger^2 tablespoons canned no-salt-added tomato paste^1\\u2009½ teaspoons ground turmeric^1\\u2009½ teaspoons garam masala^¼ teaspoon cayenne pepper^1 (15 ounce) can no-salt-added tomato puree^1 cup unsalted chicken stock^¼ cup heavy cream^¾ teaspoon kosher salt^½ teaspoon black pepper^2 tablespoons chopped fresh cilantro^2 cups cooked long-grain brown rice', 'Heat oil in a large, heavy pot over high. Add chicken; cook, turning occasionally, until browned, 5 to 6 minutes. Add onion, garlic and ginger; cook, stirring constantly, 2 minutes. Add tomato paste, turmeric, garam masala and cayenne; cook, stirring constantly, until spices are toasted and fragrant, about 2 minutes. Stir in tomato puree, stock, cream, salt and pepper. Bring to a simmer over medium-high. Reduce heat to medium and simmer, stirring occasionally, until sauce is thickened slightly, about 10 minutes. Stir in cilantro; serve over rice.', {'protein': {'amount': '41', 'unit': 'g'}, 'carbohydrates': {'amount': '45', 'unit': 'g'}, 'dietary fiber': {'amount': '5', 'unit': 'g'}, 'sugars': {'amount': '10', 'unit': 'g'}, 'fat': {'amount': '19', 'unit': 'g'}, 'saturated fat': {'amount': '6', 'unit': 'g'}, 'calcium': {'amount': '71', 'unit': 'mg'}, 'potassium': {'amount': '1195', 'unit': 'mg'}, 'sodium': {'amount': '600', 'unit': 'mg.'}}]\n",
            "['Mango Lassi Pie', 'https://imagesvc.meredithcorp.io/v3/mm/image?url=https%3A%2F%2Fstatic.onecms.io%2Fwp-content%2Fuploads%2Fsites%2F44%2F2017%2F04%2F12%2F4502847.jpg', '1\\u2009¼ cups graham cracker crumbs (about 10 whole crackers)^4 tablespoons unsalted butter, melted^1 tablespoon granulated sugar^½ teaspoon kosher salt^¼ teaspoon lime zest^1 pound chopped ripe mango, fresh or frozen (about 3 cups; thawed and drained, if frozen), plus more for garnish^1 cup low-fat plain Greek yogurt^¾ cup reduced-fat cream cheese^½ cup honey^1 teaspoon lime zest, plus more for garnish^1 tablespoon lime juice^¾ teaspoon ground cardamom^Pinch of salt', 'Preheat oven to 350 degrees F. Coat a 9-inch pie pan (not deep-dish) with cooking spray.^To prepare crust: Combine graham cracker crumbs, butter, sugar, 1/2 teaspoon salt and 1/4 teaspoon lime zest in a large bowl. Press evenly into the bottom and up the sides of the prepared pan. Bake the crust until golden brown, 10 to 15 minutes. Let cool completely on a wire rack.^To prepare filling: Puree mango in a food processor until smooth. Strain through a fine-mesh sieve to remove any fibrous bits. Return the puree to the food processor and add yogurt, cream cheese, honey, lime zest and juice, cardamom and salt. Puree until very smooth. Scrape the filling into the cooled crust.^Freeze the pie until firm, about 12 hours. Once frozen, loosely cover with plastic wrap and freeze for up to 5 days.^To serve, let the pie stand at room temperature for about 30 minutes before slicing. Garnish with diced fresh mango and/or lime zest, if desired.', {'protein': {'amount': '6', 'unit': 'g'}, 'carbohydrates': {'amount': '41.7', 'unit': 'g'}, 'dietary fiber': {'amount': '1.6', 'unit': 'g'}, 'sugars': {'amount': '32.2', 'unit': 'g'}, 'fat': {'amount': '13.1', 'unit': 'g'}, 'saturated fat': {'amount': '7.1', 'unit': 'g'}, 'cholesterol': {'amount': '31', 'unit': 'mg'}, 'vitamin a iu': {'amount': '971.1', 'unit': 'IU'}, 'vitamin c': {'amount': '21.8', 'unit': 'mg'}, 'folate': {'amount': '50.4', 'unit': 'mcg'}, 'calcium': {'amount': '47.5', 'unit': 'mg'}, 'iron': {'amount': '0.8', 'unit': 'mg'}, 'magnesium': {'amount': '15.2', 'unit': 'mg'}, 'potassium': {'amount': '171.6', 'unit': 'mg'}, 'sodium': {'amount': '292.6', 'unit': 'mg'}, 'added sugar': {'amount': '21', 'unit': 'g.'}}]\n",
            "['Indian Grain Bowls with Chicken & Vegetables', 'https://imagesvc.meredithcorp.io/v3/mm/image?url=https%3A%2F%2Fstatic.onecms.io%2Fwp-content%2Fuploads%2Fsites%2F44%2F2019%2F10%2F30%2F7218335.jpg', '1 cup bulgur^1\\u2009½ cups water^1 pound boneless, skinless chicken breasts, trimmed^1 teaspoon garam masala^½ teaspoon salt^1/2 cup Cilantro Chutney (see Associated Recipes)^1 cup chopped cucumber^1 cup chopped red bell pepper^1 cup sliced grape tomatoes^1 lime, quartered', 'Combine bulgur and water in a small saucepan; bring to a boil. Reduce heat to low, cover and simmer until the bulgur is tender and the liquid has been absorbed, 10 to 15 minutes. Spread the bulgur on a sheet pan to cool before assembling lunch containers.^Meanwhile, position rack in upper third of oven and preheat broiler. Coat a broiler pan with cooking spray. Sprinkle chicken with garam masala and salt. Place the chicken on the prepared pan; broil until no longer pink in the center and an instant-read thermometer inserted into the thickest part registers 165 degrees F, 4 to 8 minutes per side. Transfer the chicken to a clean cutting board and let rest for 5 minutes, then slice.^Transfer 2 tablespoons chutney into each of 4 small lidded containers; refrigerate for up to 4 days.^Divide the cooled bulgur among 4 single-serving lidded containers. Top each with one-fourth of the chicken and equal portions of cucumber, bell pepper and tomatoes. Add a lime wedge to each container. Seal the containers and refrigerate for up to 4 days. Just before serving, top each bowl with 1 portion of chutney and a squeeze of fresh lime juice to taste.', {'protein': {'amount': '29.4', 'unit': 'g'}, 'carbohydrates': {'amount': '33.3', 'unit': 'g'}, 'dietary fiber': {'amount': '6.4', 'unit': 'g'}, 'sugars': {'amount': '3.9', 'unit': 'g'}, 'fat': {'amount': '5.7', 'unit': 'g'}, 'saturated fat': {'amount': '1.2', 'unit': 'g'}, 'cholesterol': {'amount': '1.3', 'unit': 'mg'}, 'vitamin a iu': {'amount': '1857.9', 'unit': 'IU'}, 'vitamin c': {'amount': '56.5', 'unit': 'mg'}, 'folate': {'amount': '48.2', 'unit': 'mcg'}, 'calcium': {'amount': '44', 'unit': 'mg'}, 'iron': {'amount': '2.1', 'unit': 'mg'}, 'magnesium': {'amount': '103.2', 'unit': 'mg'}, 'potassium': {'amount': '622.3', 'unit': 'mg'}, 'sodium': {'amount': '450.9', 'unit': 'mg'}, 'thiamin': {'amount': '0.2', 'unit': 'mg.'}}]\n",
            "['Chicken & Celery Root Tikka Masala', 'https://imagesvc.meredithcorp.io/v3/mm/image?url=https%3A%2F%2Fstatic.onecms.io%2Fwp-content%2Fuploads%2Fsites%2F44%2F2019%2F08%2F26231100%2F3902725.jpg', '2 tablespoons canola oil, divided^2 cups diced peeled celery root (1/2-inch; see Tip) or potato^1\\u2009¼ pounds boneless, skinless chicken thighs, trimmed and cut into 1-inch pieces^1 12- to 15-ounce jar Tikka Masala simmer sauce^1 cup frozen peas, thawed', 'Heat 1 tablespoon oil in a large nonstick skillet over medium-high heat. Add celery root (or potato) and cook, stirring occasionally, until browned, about 5 minutes. Add the remaining 1 tablespoon oil and chicken; cook, stirring occasionally, until no longer pink on the outside, about 4 minutes. Add sauce; adjust heat to maintain a gentle simmer, cover and cook until the celery root is tender and the chicken is cooked through, 8 to 10 minutes. Stir in peas and simmer for 1 minute more.', {'protein': {'amount': '31.4', 'unit': 'g'}, 'carbohydrates': {'amount': '18.5', 'unit': 'g'}, 'dietary fiber': {'amount': '2.9', 'unit': 'g'}, 'sugars': {'amount': '6.3', 'unit': 'g'}, 'fat': {'amount': '26.6', 'unit': 'g'}, 'saturated fat': {'amount': '5.7', 'unit': 'g'}, 'cholesterol': {'amount': '105.6', 'unit': 'mg'}, 'vitamin a iu': {'amount': '1202.1', 'unit': 'IU'}, 'vitamin c': {'amount': '16.3', 'unit': 'mg'}, 'folate': {'amount': '31.3', 'unit': 'mcg'}, 'calcium': {'amount': '97.2', 'unit': 'mg'}, 'iron': {'amount': '3.3', 'unit': 'mg'}, 'magnesium': {'amount': '46.3', 'unit': 'mg'}, 'potassium': {'amount': '477.2', 'unit': 'mg'}, 'sodium': {'amount': '651.7', 'unit': 'mg'}, 'thiamin': {'amount': '0.2', 'unit': 'mg'}, 'added sugar': {'amount': '2', 'unit': 'g.'}}]\n",
            "['Cilantro Chutney (Kothmiri Chatni)', 'https://imagesvc.meredithcorp.io/v3/mm/image?url=https%3A%2F%2Fstatic.onecms.io%2Fwp-content%2Fuploads%2Fsites%2F44%2F2019%2F08%2F26232329%2F3879372.jpg', '¼ cup unsalted raw peanuts^1 large bunch fresh cilantro^½ cup water^1/2-1 serrano chile, coarsely chopped^2 tablespoons coarsely chopped fresh ginger^2 teaspoons lime juice^1 teaspoon kosher salt^½ teaspoon sugar', \"Place peanuts in a blender or food processor. Pulse a few times to grind to a medium-fine powder, scraping down the sides as needed.^Trim the bottom 2 inches of stem off the cilantro and discard; coarsely chop the rest and add to the blender (or food processor) along with water, serrano to taste, ginger, lime juice, salt and sugar. Blend or process, scraping down the sides as needed, until it's the consistency of a thin sauce, adding more water by the tablespoon as needed.\", {'protein': {'amount': '0.6', 'unit': 'g'}, 'carbohydrates': {'amount': '0.9', 'unit': 'g'}, 'dietary fiber': {'amount': '0.3', 'unit': 'g'}, 'sugars': {'amount': '0.3', 'unit': 'g'}, 'fat': {'amount': '1.1', 'unit': 'g'}, 'saturated fat': {'amount': '0.2', 'unit': 'g'}, 'vitamin a iu': {'amount': '137.1', 'unit': 'IU'}, 'vitamin c': {'amount': '0.9', 'unit': 'mg'}, 'folate': {'amount': '3.6', 'unit': 'mcg'}, 'calcium': {'amount': '3.1', 'unit': 'mg'}, 'iron': {'amount': '0.1', 'unit': 'mg'}, 'magnesium': {'amount': '5.1', 'unit': 'mg'}, 'potassium': {'amount': '29.4', 'unit': 'mg'}, 'sodium': {'amount': '71.4', 'unit': 'mg.'}}]\n",
            "['Indian-Style Mustard Greens & Kale with Toasted Naan', 'https://imagesvc.meredithcorp.io/v3/mm/image?url=https%3A%2F%2Fstatic.onecms.io%2Fwp-content%2Fuploads%2Fsites%2F44%2F2016%2F06%2F03%2F3759161.jpg', '6 8-inch whole-grain naan flatbreads^4 tablespoons extra-virgin olive oil, divided^1-1 1/4 pounds mustard greens, stemmed and coarsely chopped^8 ounces kale, stemmed and coarsely chopped^2 tablespoons cornmeal^1 medium sweet onion, finely chopped^4 small cloves garlic, minced^1-2 serrano chile peppers, seeded and finely chopped^1 tablespoon minced fresh ginger^½ teaspoon ground turmeric^2 tablespoons lemon juice^¾ teaspoon salt^4 ounces paneer cheese, torn, or crumbled feta cheese (about 1 cup)', 'Position racks in upper and lower thirds of oven; preheat to 425 degrees F.^Lightly brush naan on both sides with 2 tablespoons oil. Cut each into 6 wedges and arrange on 2 large baking sheets. Bake, turning once and rotating top to bottom, until lightly browned, 8 to 10 minutes. Remove from oven. Turn broiler to high.^Meanwhile, bring a large pot of water to a boil. Add mustard greens and kale. Cook for 2 minutes. Transfer to a colander and drain well, pressing with a spoon to remove excess water. Place the greens in a food processor and process until very finely chopped. Add cornmeal and pulse to combine.^Heat the remaining 2 tablespoons oil in a large broiler-safe skillet over medium-high heat. Reduce heat to medium; add onion, garlic, chile to taste and ginger. Cook, stirring frequently, until soft and golden, 6 to 8 minutes. Add turmeric; cook, stirring, for 1 minute. Add the greens and cook, stirring, until the moisture evaporates, 1 to 2 minutes more. Stir in lemon juice and salt. Sprinkle with cheese. Broil until the cheese melts, 1 to 2 minutes. Serve the greens with the toasted naan wedges for scooping.', {'protein': {'amount': '8.8', 'unit': 'g'}, 'carbohydrates': {'amount': '31.5', 'unit': 'g'}, 'dietary fiber': {'amount': '4.6', 'unit': 'g'}, 'sugars': {'amount': '4.5', 'unit': 'g'}, 'fat': {'amount': '10.6', 'unit': 'g'}, 'saturated fat': {'amount': '3.6', 'unit': 'g'}, 'cholesterol': {'amount': '8.9', 'unit': 'mg'}, 'vitamin a iu': {'amount': '2473.5', 'unit': 'IU'}, 'vitamin c': {'amount': '43.8', 'unit': 'mg'}, 'folate': {'amount': '42.3', 'unit': 'mcg'}, 'calcium': {'amount': '146.6', 'unit': 'mg'}, 'iron': {'amount': '2', 'unit': 'mg'}, 'magnesium': {'amount': '60.5', 'unit': 'mg'}, 'potassium': {'amount': '354.4', 'unit': 'mg'}, 'sodium': {'amount': '494.7', 'unit': 'mg'}, 'thiamin': {'amount': '0.2', 'unit': 'mg.'}}]\n",
            "['Slow-Cooker Indian Lamb & Butternut Squash Stew', 'https://imagesvc.meredithcorp.io/v3/mm/image?url=https%3A%2F%2Fstatic.onecms.io%2Fwp-content%2Fuploads%2Fsites%2F44%2F2019%2F10%2F31%2F7240926.jpg', '1 tablespoon canola oil^2 pounds boneless lamb shoulder, trimmed and cut into 1-inch cubes^3 cups prechopped butternut squash (about 12 ounces)^2 cups chopped red onions (from 1 onion)^1 (15 ounce) can no-salt-added chickpeas (garbanzo beans), drained and rinsed^1 cup unsalted chicken stock^1 tablespoon Madras curry powder^1 tablespoon minced garlic (from 3 garlic cloves)^2 teaspoons kosher salt^2 teaspoons grated fresh ginger^1 (13.5 ounce) can light coconut milk^¼ cup fresh mint leaves^4 cups hot cooked brown basmati rice (Optional)', 'Heat the oil a large nonstick skillet over medium-high. Add half of the lamb to the skillet; cook, stirring once, until browned, 5 to 6 minutes. Using a slotted spoon, transfer the lamb to a 5- to 6-quart slow cooker. Repeat the procedure with the remaining lamb. Discard the drippings in the skillet.^Stir the squash, onions, chickpeas, stock, curry powder, garlic, salt, and ginger into the lamb mixture in the slow cooker. Cover and cook on LOW until the lamb is tender, about 6 hours and 30 minutes. Skim the fat from the surface of the cooking liquid. Stir in the coconut milk. Cook, uncovered, on HIGH, stirring occasionally, 30 minutes. Sprinkle with the mint, and, if desired, serve over the rice.', {'protein': {'amount': '28', 'unit': 'g'}, 'carbohydrates': {'amount': '21', 'unit': 'g'}, 'dietary fiber': {'amount': '4', 'unit': 'g'}, 'sugars': {'amount': '4', 'unit': 'g'}, 'fat': {'amount': '11', 'unit': 'g'}, 'saturated fat': {'amount': '5', 'unit': 'g'}, 'sodium': {'amount': '601', 'unit': 'mg.'}}]\n",
            "['Curry-Lime Chicken Kebobs', 'https://imagesvc.meredithcorp.io/v3/mm/image?url=https%3A%2F%2Fstatic.onecms.io%2Fwp-content%2Fuploads%2Fsites%2F44%2F2018%2F07%2F26%2F5592583.jpg', '1 pound skinless, boneless chicken breast halves, cut into 1 1/2-inch pieces^1 6-ounce carton plain yogurt^¼ cup snipped fresh cilantro^1 teaspoon finely shredded lime peel^2 tablespoons lime juice^2 tablespoons olive oil or vegetable oil^1 tablespoon honey^1 tablespoon Dijon-style mustard^2 cloves garlic, minced^½ teaspoon curry powder^¼ teaspoon salt^¼ teaspoon ground black pepper^2 medium green and/or red sweet peppers, cut into 1-inch pieces^1 medium zucchini, cut into 1/2-inch slices^8 yellow or red cherry tomatoes', 'Place chicken in a resealable plastic bag set in a large bowl. For marinade, in a small bowl, combine yogurt, cilantro, lime peel, lime juice, oil, honey, mustard, garlic, curry powder, salt and black pepper. Pour marinade over chicken. Seal bag; turn to coat chicken. Marinate in the refrigerator for 4 to 24 hours, turning bag occasionally. Drain chicken, reserving marinade.^On eight metal skewers, alternately thread chicken, sweet peppers and zucchini, leaving 1/4 inch between pieces. Brush vegetables with reserved marinade.^For a charcoal grill, arrange medium-hot coals around a drip pan. Test for medium heat above pan. Place chicken skewers on grill rack over drip pan. Cover and grill for 18 to 20 minutes or until chicken is no longer pink, turning once halfway through grilling and threading a tomato onto each skewer during the last 1 minute of grilling. For a gas grill, preheat grill. Reduce heat to medium. Adjust for indirect cooking. Grill as above.', {'protein': {'amount': '29.6', 'unit': 'g'}, 'carbohydrates': {'amount': '12.7', 'unit': 'g'}, 'dietary fiber': {'amount': '1.6', 'unit': 'g'}, 'sugars': {'amount': '8.8', 'unit': 'g'}, 'fat': {'amount': '10', 'unit': 'g'}, 'saturated fat': {'amount': '1.6', 'unit': 'g'}, 'cholesterol': {'amount': '84', 'unit': 'mg'}, 'vitamin a iu': {'amount': '88.8', 'unit': 'IU'}, 'vitamin c': {'amount': '15.5', 'unit': 'mg'}, 'folate': {'amount': '29.9', 'unit': 'mcg'}, 'calcium': {'amount': '60.3', 'unit': 'mg'}, 'iron': {'amount': '0.8', 'unit': 'mg'}, 'magnesium': {'amount': '45.9', 'unit': 'mg'}, 'potassium': {'amount': '605', 'unit': 'mg'}, 'sodium': {'amount': '299.4', 'unit': 'mg.'}}]\n",
            "['Cashew Butter Chicken Masala', 'https://imagesvc.meredithcorp.io/v3/mm/image?url=https%3A%2F%2Fstatic.onecms.io%2Fwp-content%2Fuploads%2Fsites%2F44%2F2019%2F08%2F27044848%2F3879369.jpg', '6 cloves garlic, finely grated or minced^1 2-inch piece fresh ginger, peeled and finely grated or minced^1 cup plain yogurt, preferably not Greek^1 serrano chile, minced^2 tablespoons chickpea flour (Optional)^1 tablespoon ground coriander^1 teaspoon kashmiri chili powder (see Tip)^1 teaspoon garam masala^½ teaspoon ground cinnamon^½ teaspoon ground cumin^½ teaspoon ground turmeric^½ teaspoon kosher salt^½ teaspoon crushed saffron^1\\u2009½ pounds boneless, skinless chicken thighs, trimmed and cut into 2-inch pieces^2 tablespoons coconut oil^6 whole cardamom pods, lightly crushed^4 whole cloves^3 2-inch cinnamon sticks^1 large white onion, finely chopped^1 serrano chile, julienned, plus more for garnish^2 tablespoons dried fenugreek leaves^1 teaspoon ground coriander^1 teaspoon garam masala^½ teaspoon Kashmiri chili powder^1 cup no-salt-added tomato sauce^¾ teaspoon kosher salt^⅔ cup water^2 tablespoons cashew butter', 'To marinate chicken: Combine garlic and ginger in a bowl. Press with a spoon to make a paste. Transfer 2 packed tablespoons to a large bowl and add yogurt, serrano, chickpea flour (if using), 1 tablespoon coriander, 1 teaspoon chili powder, garam masala, ground cinnamon, cumin, turmeric, 1/2 teaspoon salt and saffron; whisk until well combined. Add chicken and stir to coat. Cover and refrigerate at least 2 hours and up to 1 day. Refrigerate the remaining garlic-ginger paste.^To prepare chicken: Position a rack in upper third of oven; preheat broiler to high. Line a baking sheet with foil.^Spread the chicken on the prepared baking sheet. Broil until the chicken is cooked through and starting to brown, 10 to 12 minutes.^To prepare sauce: Heat oil in a large saucepan over medium heat. Add cardamom, cloves and cinnamon sticks; cook, stirring, until fragrant, about 1 minute. Add onion and cook, stirring occasionally, until translucent, 3 to 5 minutes. Stir in serrano, fenugreek, coriander, garam masala, chili powder and the reserved garlic-ginger paste. Cook, stirring, for 1 minute. Stir in tomato sauce and salt; cook for 2 minutes more. Add water and cashew butter; increase heat to medium-high and cook, stirring often, until the sauce looks creamy, about 5 minutes. Add the chicken and any accumulated juice to the sauce. Cook, stirring, until heated through, 2 to 3 minutes. Serve with sliced serrano chile, if desired.', {'protein': {'amount': '30.1', 'unit': 'g'}, 'carbohydrates': {'amount': '13.5', 'unit': 'g'}, 'dietary fiber': {'amount': '2.4', 'unit': 'g'}, 'sugars': {'amount': '7.1', 'unit': 'g'}, 'fat': {'amount': '19.9', 'unit': 'g'}, 'saturated fat': {'amount': '8.6', 'unit': 'g'}, 'cholesterol': {'amount': '93.6', 'unit': 'mg'}, 'vitamin a iu': {'amount': '382', 'unit': 'IU'}, 'vitamin c': {'amount': '8.8', 'unit': 'mg'}, 'folate': {'amount': '26.6', 'unit': 'mcg'}, 'calcium': {'amount': '139.4', 'unit': 'mg'}, 'iron': {'amount': '2.7', 'unit': 'mg'}, 'magnesium': {'amount': '55.7', 'unit': 'mg'}, 'potassium': {'amount': '537.9', 'unit': 'mg'}, 'sodium': {'amount': '418.1', 'unit': 'mg'}, 'thiamin': {'amount': '0.1', 'unit': 'mg.'}}]\n",
            "['Vegan Coconut Chickpea Curry', 'https://imagesvc.meredithcorp.io/v3/mm/image?url=https%3A%2F%2Fstatic.onecms.io%2Fwp-content%2Fuploads%2Fsites%2F44%2F2019%2F08%2F26232300%2F5694953.jpg', '2 teaspoons avocado oil or canola oil^1 cup chopped onion^1 cup diced bell pepper^1 medium zucchini, halved and sliced^1 (15 ounce) can chickpeas, drained and rinsed^1\\u2009½ cups coconut curry simmer sauce (see Tip)^½ cup vegetable broth^4 cups baby spinach^2 cups precooked brown rice, heated according to package instructions', 'Heat oil in a large skillet over medium-high heat. Add onion, pepper and zucchini; cook, stirring often, until the vegetables begin to brown, 5 to 6 minutes.^Add chickpeas, simmer sauce and broth and bring to a simmer, stirring. Reduce heat to medium-low and simmer until the vegetables are tender, 4 to 6 minutes. Stir in spinach just before serving. Serve over rice.', {'protein': {'amount': '10.9', 'unit': 'g'}, 'carbohydrates': {'amount': '65.8', 'unit': 'g'}, 'dietary fiber': {'amount': '10.7', 'unit': 'g'}, 'sugars': {'amount': '12.3', 'unit': 'g'}, 'fat': {'amount': '18', 'unit': 'g'}, 'saturated fat': {'amount': '8.2', 'unit': 'g'}, 'cholesterol': {'amount': '3.8', 'unit': 'mg'}, 'vitamin a iu': {'amount': '5023.5', 'unit': 'IU'}, 'vitamin c': {'amount': '79.2', 'unit': 'mg'}, 'folate': {'amount': '99.1', 'unit': 'mcg'}, 'calcium': {'amount': '119.1', 'unit': 'mg'}, 'iron': {'amount': '4.2', 'unit': 'mg'}, 'magnesium': {'amount': '119.8', 'unit': 'mg'}, 'potassium': {'amount': '489', 'unit': 'mg'}, 'sodium': {'amount': '576.2', 'unit': 'mg'}, 'thiamin': {'amount': '0.3', 'unit': 'mg'}, 'added sugar': {'amount': '7', 'unit': 'g.'}}]\n",
            "['Red Lentil & Cauliflower Curry', 'https://imagesvc.meredithcorp.io/v3/mm/image?url=https%3A%2F%2Fstatic.onecms.io%2Fwp-content%2Fuploads%2Fsites%2F44%2F2021%2F06%2F04%2Fcauliflower-red-lentil-curry.jpg', '½ cup red lentils, rinsed^1 small onion, chopped^2 teaspoons curry powder, preferably Madras^½ teaspoon salt^¼ teaspoon turmeric^2 cups water^4 plum tomatoes, seeded and chopped, or one 14-oz. can tomatoes, drained and chopped^4 cups cauliflower florets^1 jalapeno pepper, halved, seeded and thinly sliced^1 tablespoon canola oil^1 tablespoon cumin seeds^3 cloves garlic, minced^2 teaspoons minced fresh ginger^¼ teaspoon cayenne pepper^2 tablespoons lemon juice^1 tablespoon chopped fresh cilantro^1 teaspoon sugar', 'Combine lentils, onions, curry powder, salt, turmeric and water in a large saucepan over low heat; bring to a simmer. Cover and cook, stirring occasionally, until the lentils are soft and the sauce has thickened, about 45 minutes. Add tomatoes, cauliflower and jalapeno peppers and simmer, covered, until the cauliflower is tender, 8 to 10 minutes longer. Remove from heat.^Heat oil in a small skillet over medium-high heat. Add cumin seeds and cook for about 10 seconds. Add garlic and ginger; cook, stirring, until the garlic is lightly browned, about 1 minute. Stir in cayenne and immediately add the oil-spice mixture to the cauliflower mixture. Stir in lemon juice, cilantro and sugar. Taste and adjust seasonings with additional salt and cayenne.', {'protein': {'amount': '9.7', 'unit': 'g'}, 'carbohydrates': {'amount': '27.5', 'unit': 'g'}, 'dietary fiber': {'amount': '9.6', 'unit': 'g'}, 'sugars': {'amount': '7.2', 'unit': 'g'}, 'fat': {'amount': '4.8', 'unit': 'g'}, 'saturated fat': {'amount': '0.5', 'unit': 'g'}, 'vitamin a iu': {'amount': '644.6', 'unit': 'IU'}, 'vitamin c': {'amount': '70.5', 'unit': 'mg'}, 'folate': {'amount': '202.8', 'unit': 'mcg'}, 'calcium': {'amount': '76.3', 'unit': 'mg'}, 'iron': {'amount': '4.3', 'unit': 'mg'}, 'magnesium': {'amount': '61.6', 'unit': 'mg'}, 'potassium': {'amount': '825.6', 'unit': 'mg'}, 'sodium': {'amount': '335.6', 'unit': 'mg'}, 'thiamin': {'amount': '0.2', 'unit': 'mg'}, 'added sugar': {'amount': '1', 'unit': 'g.'}}]\n",
            "['Curried Sweet Potato & Peanut Soup', 'https://imagesvc.meredithcorp.io/v3/mm/image?url=https%3A%2F%2Fstatic.onecms.io%2Fwp-content%2Fuploads%2Fsites%2F44%2F2019%2F08%2F26232420%2F6349105.jpg', '2 tablespoons canola oil^1\\u2009½ cups diced yellow onion^1 tablespoon minced garlic^1 tablespoon minced fresh ginger^4 teaspoons red curry paste (see Tip)^1 serrano chile, ribs and seeds removed, minced^1 pound sweet potatoes, peeled and cubed (1/2-inch pieces)^3 cups water^1 cup \"lite\" coconut milk^¾ cup unsalted dry-roasted peanuts^1 (15 ounce) can white beans, rinsed^¾ teaspoon salt^¼ teaspoon ground pepper^¼ cup chopped fresh cilantro^2 tablespoons lime juice^¼ cup unsalted roasted pumpkin seeds^Lime wedges', 'Heat oil in a large pot over medium-high heat. Add onion and cook, stirring often, until softened and translucent, about 4 minutes.^Stir in garlic, ginger, curry paste, and serrano; cook, stirring, for 1 minute. Stir in sweet potatoes and water; bring to a boil. Reduce heat to medium-low and simmer, partially covered, until the sweet potatoes are soft, 10 to 12 minutes.^Transfer half of the soup to a blender, along with coconut milk and peanuts; puree. (Use caution when pureeing hot liquids.) Return to the pot with the remaining soup. Stir in beans, salt, and pepper; heat through. Remove from the heat. Stir in cilantro and lime juice. Serve with pumpkin seeds and lime wedges.', {'protein': {'amount': '12.6', 'unit': 'g'}, 'carbohydrates': {'amount': '37.4', 'unit': 'g'}, 'dietary fiber': {'amount': '8.4', 'unit': 'g'}, 'sugars': {'amount': '6.8', 'unit': 'g'}, 'fat': {'amount': '19.4', 'unit': 'g'}, 'saturated fat': {'amount': '4.3', 'unit': 'g'}, 'vitamin a iu': {'amount': '10785', 'unit': 'IU'}, 'vitamin c': {'amount': '7.5', 'unit': 'mg'}, 'folate': {'amount': '95', 'unit': 'mcg'}, 'calcium': {'amount': '87.9', 'unit': 'mg'}, 'iron': {'amount': '2.2', 'unit': 'mg'}, 'magnesium': {'amount': '90', 'unit': 'mg'}, 'potassium': {'amount': '699.2', 'unit': 'mg'}, 'sodium': {'amount': '593.7', 'unit': 'mg.'}}]\n"
          ]
        }
      ],
      "source": [
        "count = 0\n",
        "\n",
        "for recipe_info in recipe_informations_3:\n",
        "  print(recipe_info)\n",
        "\n",
        "  count += 1\n",
        "  if count == 20:\n",
        "    break"
      ]
    },
    {
      "cell_type": "code",
      "execution_count": null,
      "metadata": {
        "colab": {
          "base_uri": "https://localhost:8080/"
        },
        "id": "IRaXyeJrCZ5w",
        "outputId": "4d684f6b-fbeb-49ed-88d3-fef92a54b3ad"
      },
      "outputs": [
        {
          "data": {
            "text/plain": [
              "197"
            ]
          },
          "execution_count": 409,
          "metadata": {},
          "output_type": "execute_result"
        }
      ],
      "source": [
        "len(recipe_informations_3)"
      ]
    },
    {
      "cell_type": "markdown",
      "metadata": {
        "id": "xbfXm4fQCdBQ"
      },
      "source": [
        "#### Converting Recipe Information into CSV"
      ]
    },
    {
      "cell_type": "code",
      "execution_count": null,
      "metadata": {
        "id": "DTTBwvflCirt"
      },
      "outputs": [],
      "source": [
        "columns = ['recipe_name', 'image_url', 'ingredients', 'cooking_directions', 'nutritions']"
      ]
    },
    {
      "cell_type": "code",
      "execution_count": null,
      "metadata": {
        "id": "LfdczKZNCmia"
      },
      "outputs": [],
      "source": [
        "df = pd.DataFrame(recipe_informations_3, columns = columns)"
      ]
    },
    {
      "cell_type": "code",
      "execution_count": null,
      "metadata": {
        "colab": {
          "base_uri": "https://localhost:8080/",
          "height": 641
        },
        "id": "4M6QprLYCqBs",
        "outputId": "e67740bf-e16f-4bc4-f09f-47b41cec2a1a"
      },
      "outputs": [
        {
          "data": {
            "text/html": [
              "\n",
              "  <div id=\"df-ac9dda67-2efd-40d9-93b8-d45972900190\">\n",
              "    <div class=\"colab-df-container\">\n",
              "      <div>\n",
              "<style scoped>\n",
              "    .dataframe tbody tr th:only-of-type {\n",
              "        vertical-align: middle;\n",
              "    }\n",
              "\n",
              "    .dataframe tbody tr th {\n",
              "        vertical-align: top;\n",
              "    }\n",
              "\n",
              "    .dataframe thead th {\n",
              "        text-align: right;\n",
              "    }\n",
              "</style>\n",
              "<table border=\"1\" class=\"dataframe\">\n",
              "  <thead>\n",
              "    <tr style=\"text-align: right;\">\n",
              "      <th></th>\n",
              "      <th>recipe_name</th>\n",
              "      <th>image_url</th>\n",
              "      <th>ingredients</th>\n",
              "      <th>cooking_directions</th>\n",
              "      <th>nutritions</th>\n",
              "    </tr>\n",
              "  </thead>\n",
              "  <tbody>\n",
              "    <tr>\n",
              "      <th>0</th>\n",
              "      <td>Tofu, Chicken &amp; Eggplant Curry</td>\n",
              "      <td>https://imagesvc.meredithcorp.io/v3/mm/image?u...</td>\n",
              "      <td>1 14- to 16-ounce package extra-firm water-pac...</td>\n",
              "      <td>To prepare tofu &amp; eggplant: Cut tofu crosswise...</td>\n",
              "      <td>{'protein': {'amount': '25.3', 'unit': 'g'}, '...</td>\n",
              "    </tr>\n",
              "    <tr>\n",
              "      <th>1</th>\n",
              "      <td>Roti Bread</td>\n",
              "      <td>https://imagesvc.meredithcorp.io/v3/mm/image?u...</td>\n",
              "      <td>1 ½ cups whole-wheat flour^1 cup all-purpose f...</td>\n",
              "      <td>Stir together whole-wheat flour, 1/2 cup all-p...</td>\n",
              "      <td>{'protein': {'amount': '3.1', 'unit': 'g'}, 'c...</td>\n",
              "    </tr>\n",
              "    <tr>\n",
              "      <th>2</th>\n",
              "      <td>Rice Pilaf with Lime &amp; Cashews</td>\n",
              "      <td>https://imagesvc.meredithcorp.io/v3/mm/image?u...</td>\n",
              "      <td>1 cup basmati rice^1 ½ cups cold water^1 table...</td>\n",
              "      <td>Place rice in a medium saucepan with enough wa...</td>\n",
              "      <td>{'protein': {'amount': '2.6', 'unit': 'g'}, 'c...</td>\n",
              "    </tr>\n",
              "    <tr>\n",
              "      <th>3</th>\n",
              "      <td>Slow-Cooker South Indian Tomato Chutney</td>\n",
              "      <td>https://imagesvc.meredithcorp.io/v3/mm/image?u...</td>\n",
              "      <td>6 cups chopped, seeded tomatoes (about 6 large...</td>\n",
              "      <td>Stir together the tomatoes, garlic, oil, tamar...</td>\n",
              "      <td>{'protein': {'amount': '1', 'unit': 'g'}, 'car...</td>\n",
              "    </tr>\n",
              "    <tr>\n",
              "      <th>4</th>\n",
              "      <td>Okra Fry (Bhindi Masala)</td>\n",
              "      <td>https://imagesvc.meredithcorp.io/v3/mm/image?u...</td>\n",
              "      <td>2 tablespoons safflower oil or grapeseed oil^½...</td>\n",
              "      <td>Heat oil in a large nonstick skillet over medi...</td>\n",
              "      <td>{'protein': {'amount': '3.5', 'unit': 'g'}, 'c...</td>\n",
              "    </tr>\n",
              "    <tr>\n",
              "      <th>...</th>\n",
              "      <td>...</td>\n",
              "      <td>...</td>\n",
              "      <td>...</td>\n",
              "      <td>...</td>\n",
              "      <td>...</td>\n",
              "    </tr>\n",
              "    <tr>\n",
              "      <th>192</th>\n",
              "      <td>Tandoori Turkey Kebabs with Couscous</td>\n",
              "      <td>https://imagesvc.meredithcorp.io/v3/mm/image?u...</td>\n",
              "      <td>1 (6 ounce) container plain lowfat yogurt^2 te...</td>\n",
              "      <td>To prepare the marinade: In a small bowl, comb...</td>\n",
              "      <td>{'protein': {'amount': '36.4', 'unit': 'g'}, '...</td>\n",
              "    </tr>\n",
              "    <tr>\n",
              "      <th>193</th>\n",
              "      <td>Curried Chutney Eggs</td>\n",
              "      <td>/img/icons/generic-recipe.svg</td>\n",
              "      <td>12 hard-boiled eggs, (see Tip)^1/2 cup fresh b...</td>\n",
              "      <td>Halve eggs. Scoop out the yolks, reserving 6 f...</td>\n",
              "      <td>{'protein': {'amount': '2.7', 'unit': 'g'}, 'c...</td>\n",
              "    </tr>\n",
              "    <tr>\n",
              "      <th>194</th>\n",
              "      <td>Curried-Pear Chicken</td>\n",
              "      <td>/img/icons/generic-recipe.svg</td>\n",
              "      <td>2 boneless, skinless chicken breasts, trimmed ...</td>\n",
              "      <td>Season chicken on both sides with 1/8 teaspoon...</td>\n",
              "      <td>{'protein': {'amount': '24.5', 'unit': 'g'}, '...</td>\n",
              "    </tr>\n",
              "    <tr>\n",
              "      <th>195</th>\n",
              "      <td>Watercress &amp; Spring Onion Raita</td>\n",
              "      <td>https://imagesvc.meredithcorp.io/v3/mm/image?u...</td>\n",
              "      <td>1 cup nonfat or low-fat plain yogurt^½ cup gra...</td>\n",
              "      <td>Stir together yogurt, cucumber, watercress, on...</td>\n",
              "      <td>{'protein': {'amount': '2.5', 'unit': 'g'}, 'c...</td>\n",
              "    </tr>\n",
              "    <tr>\n",
              "      <th>196</th>\n",
              "      <td>Strawberry-Orange Compote with Cardamom Syrup</td>\n",
              "      <td>/img/icons/generic-recipe.svg</td>\n",
              "      <td>1 pint strawberries, sliced^4 oranges, peeled ...</td>\n",
              "      <td>Place fruit in a serving bowl. Heat sugar, wat...</td>\n",
              "      <td>{'protein': {'amount': '0.8', 'unit': 'g'}, 'c...</td>\n",
              "    </tr>\n",
              "  </tbody>\n",
              "</table>\n",
              "<p>197 rows × 5 columns</p>\n",
              "</div>\n",
              "      <button class=\"colab-df-convert\" onclick=\"convertToInteractive('df-ac9dda67-2efd-40d9-93b8-d45972900190')\"\n",
              "              title=\"Convert this dataframe to an interactive table.\"\n",
              "              style=\"display:none;\">\n",
              "        \n",
              "  <svg xmlns=\"http://www.w3.org/2000/svg\" height=\"24px\"viewBox=\"0 0 24 24\"\n",
              "       width=\"24px\">\n",
              "    <path d=\"M0 0h24v24H0V0z\" fill=\"none\"/>\n",
              "    <path d=\"M18.56 5.44l.94 2.06.94-2.06 2.06-.94-2.06-.94-.94-2.06-.94 2.06-2.06.94zm-11 1L8.5 8.5l.94-2.06 2.06-.94-2.06-.94L8.5 2.5l-.94 2.06-2.06.94zm10 10l.94 2.06.94-2.06 2.06-.94-2.06-.94-.94-2.06-.94 2.06-2.06.94z\"/><path d=\"M17.41 7.96l-1.37-1.37c-.4-.4-.92-.59-1.43-.59-.52 0-1.04.2-1.43.59L10.3 9.45l-7.72 7.72c-.78.78-.78 2.05 0 2.83L4 21.41c.39.39.9.59 1.41.59.51 0 1.02-.2 1.41-.59l7.78-7.78 2.81-2.81c.8-.78.8-2.07 0-2.86zM5.41 20L4 18.59l7.72-7.72 1.47 1.35L5.41 20z\"/>\n",
              "  </svg>\n",
              "      </button>\n",
              "      \n",
              "  <style>\n",
              "    .colab-df-container {\n",
              "      display:flex;\n",
              "      flex-wrap:wrap;\n",
              "      gap: 12px;\n",
              "    }\n",
              "\n",
              "    .colab-df-convert {\n",
              "      background-color: #E8F0FE;\n",
              "      border: none;\n",
              "      border-radius: 50%;\n",
              "      cursor: pointer;\n",
              "      display: none;\n",
              "      fill: #1967D2;\n",
              "      height: 32px;\n",
              "      padding: 0 0 0 0;\n",
              "      width: 32px;\n",
              "    }\n",
              "\n",
              "    .colab-df-convert:hover {\n",
              "      background-color: #E2EBFA;\n",
              "      box-shadow: 0px 1px 2px rgba(60, 64, 67, 0.3), 0px 1px 3px 1px rgba(60, 64, 67, 0.15);\n",
              "      fill: #174EA6;\n",
              "    }\n",
              "\n",
              "    [theme=dark] .colab-df-convert {\n",
              "      background-color: #3B4455;\n",
              "      fill: #D2E3FC;\n",
              "    }\n",
              "\n",
              "    [theme=dark] .colab-df-convert:hover {\n",
              "      background-color: #434B5C;\n",
              "      box-shadow: 0px 1px 3px 1px rgba(0, 0, 0, 0.15);\n",
              "      filter: drop-shadow(0px 1px 2px rgba(0, 0, 0, 0.3));\n",
              "      fill: #FFFFFF;\n",
              "    }\n",
              "  </style>\n",
              "\n",
              "      <script>\n",
              "        const buttonEl =\n",
              "          document.querySelector('#df-ac9dda67-2efd-40d9-93b8-d45972900190 button.colab-df-convert');\n",
              "        buttonEl.style.display =\n",
              "          google.colab.kernel.accessAllowed ? 'block' : 'none';\n",
              "\n",
              "        async function convertToInteractive(key) {\n",
              "          const element = document.querySelector('#df-ac9dda67-2efd-40d9-93b8-d45972900190');\n",
              "          const dataTable =\n",
              "            await google.colab.kernel.invokeFunction('convertToInteractive',\n",
              "                                                     [key], {});\n",
              "          if (!dataTable) return;\n",
              "\n",
              "          const docLinkHtml = 'Like what you see? Visit the ' +\n",
              "            '<a target=\"_blank\" href=https://colab.research.google.com/notebooks/data_table.ipynb>data table notebook</a>'\n",
              "            + ' to learn more about interactive tables.';\n",
              "          element.innerHTML = '';\n",
              "          dataTable['output_type'] = 'display_data';\n",
              "          await google.colab.output.renderOutput(dataTable, element);\n",
              "          const docLink = document.createElement('div');\n",
              "          docLink.innerHTML = docLinkHtml;\n",
              "          element.appendChild(docLink);\n",
              "        }\n",
              "      </script>\n",
              "    </div>\n",
              "  </div>\n",
              "  "
            ],
            "text/plain": [
              "                                       recipe_name  ...                                         nutritions\n",
              "0                   Tofu, Chicken & Eggplant Curry  ...  {'protein': {'amount': '25.3', 'unit': 'g'}, '...\n",
              "1                                       Roti Bread  ...  {'protein': {'amount': '3.1', 'unit': 'g'}, 'c...\n",
              "2                   Rice Pilaf with Lime & Cashews  ...  {'protein': {'amount': '2.6', 'unit': 'g'}, 'c...\n",
              "3          Slow-Cooker South Indian Tomato Chutney  ...  {'protein': {'amount': '1', 'unit': 'g'}, 'car...\n",
              "4                         Okra Fry (Bhindi Masala)  ...  {'protein': {'amount': '3.5', 'unit': 'g'}, 'c...\n",
              "..                                             ...  ...                                                ...\n",
              "192           Tandoori Turkey Kebabs with Couscous  ...  {'protein': {'amount': '36.4', 'unit': 'g'}, '...\n",
              "193                           Curried Chutney Eggs  ...  {'protein': {'amount': '2.7', 'unit': 'g'}, 'c...\n",
              "194                           Curried-Pear Chicken  ...  {'protein': {'amount': '24.5', 'unit': 'g'}, '...\n",
              "195                Watercress & Spring Onion Raita  ...  {'protein': {'amount': '2.5', 'unit': 'g'}, 'c...\n",
              "196  Strawberry-Orange Compote with Cardamom Syrup  ...  {'protein': {'amount': '0.8', 'unit': 'g'}, 'c...\n",
              "\n",
              "[197 rows x 5 columns]"
            ]
          },
          "execution_count": 412,
          "metadata": {},
          "output_type": "execute_result"
        }
      ],
      "source": [
        "df"
      ]
    },
    {
      "cell_type": "code",
      "execution_count": null,
      "metadata": {
        "id": "alRD4yelC4EV"
      },
      "outputs": [],
      "source": [
        "df.to_csv(\"/content/drive/MyDrive/Manual_Dataset/data_recipe_eatingwell.csv\")"
      ]
    },
    {
      "cell_type": "markdown",
      "metadata": {
        "id": "_54b-Go4xLHp"
      },
      "source": [
        "### Scrapping from https://www.bbcgoodfood.com/recipes/ - BBC Good Food"
      ]
    },
    {
      "cell_type": "markdown",
      "metadata": {
        "id": "j_HlJuhjxiY0"
      },
      "source": [
        "#### Web Scrapping Recipe Links - https://www.bbcgoodfood.com/recipes/collection/healthy-indian-recipes"
      ]
    },
    {
      "cell_type": "code",
      "execution_count": null,
      "metadata": {
        "id": "FTzrBa3vxomN"
      },
      "outputs": [],
      "source": [
        "import requests\n",
        "from bs4 import BeautifulSoup\n",
        "import pandas as pd"
      ]
    },
    {
      "cell_type": "code",
      "execution_count": null,
      "metadata": {
        "id": "kH1RaA58xpHb"
      },
      "outputs": [],
      "source": [
        "links = []"
      ]
    },
    {
      "cell_type": "code",
      "execution_count": null,
      "metadata": {
        "id": "3tqL6EHCxsqe"
      },
      "outputs": [],
      "source": [
        "url = 'https://www.bbcgoodfood.com/search/recipes/?q=Healthy+Indian+recipes&sort=-relevance'\n",
        "contents = requests.get(url).content"
      ]
    },
    {
      "cell_type": "code",
      "execution_count": null,
      "metadata": {
        "id": "6AobBLSXyhMk"
      },
      "outputs": [],
      "source": [
        "soup = BeautifulSoup(contents, 'html5lib')\n",
        "\n",
        "anchors = soup.find_all('a', class_ = 'standard-card-new__article-title')\n",
        "\n",
        "for anchor in anchors:\n",
        "  if anchor.get('href', None) != None:\n",
        "    links.append('https://www.bbcgoodfood.com/' + anchor['href'])"
      ]
    },
    {
      "cell_type": "code",
      "execution_count": null,
      "metadata": {
        "id": "F1pe5n0-zHet"
      },
      "outputs": [],
      "source": [
        "front_url = 'https://www.bbcgoodfood.com/search/recipes/page/'\n",
        "end_url = '/?q=Healthy+Indian+recipes&sort=-relevance'\n",
        "\n",
        "for i in range(2, 45):\n",
        "  temp_url = front_url + str(i) + end_url\n",
        "  temp_contents = requests.get(temp_url).content\n",
        "\n",
        "  bs = BeautifulSoup(temp_contents, 'html5lib')\n",
        "  anchors = bs.find_all('a', class_ = 'standard-card-new__article-title')\n",
        "\n",
        "  for anchor in anchors:\n",
        "    if anchor.get('href', None) != None:\n",
        "      links.append('https://www.bbcgoodfood.com/' + anchor['href'])"
      ]
    },
    {
      "cell_type": "code",
      "execution_count": null,
      "metadata": {
        "colab": {
          "base_uri": "https://localhost:8080/"
        },
        "id": "j0xPXlYd0LAA",
        "outputId": "25f21f49-40fe-4865-d2ba-3328e99a21d0"
      },
      "outputs": [
        {
          "name": "stdout",
          "output_type": "stream",
          "text": [
            "1039\n",
            "https://www.bbcgoodfood.com//recipes/chicken-jalfrezi\n",
            "https://www.bbcgoodfood.com//recipes/west-indian-spiced-aubergine-curry\n",
            "https://www.bbcgoodfood.com//recipes/sag-aloo\n",
            "https://www.bbcgoodfood.com//recipes/bombay-potato-frittata\n",
            "https://www.bbcgoodfood.com//recipes/healthy-chicken-pasta-bake\n",
            "https://www.bbcgoodfood.com//recipes/healthy-tikka-masala\n",
            "https://www.bbcgoodfood.com//recipes/chicken-noodle-soup\n",
            "https://www.bbcgoodfood.com//recipes/healthy-pancakes\n",
            "https://www.bbcgoodfood.com//recipes/healthy-shakshuka\n",
            "https://www.bbcgoodfood.com//recipes/chinese-chicken-curry\n",
            "https://www.bbcgoodfood.com//recipes/prawn-harissa-spaghetti\n",
            "https://www.bbcgoodfood.com//recipes/healthy-porridge-bowl\n",
            "https://www.bbcgoodfood.com//recipes/indian-chickpeas-poached-eggs\n",
            "https://www.bbcgoodfood.com//recipes/south-indian-aloo-masala-dosa-stuffing\n",
            "https://www.bbcgoodfood.com//recipes/meatball-tomato-soup\n",
            "https://www.bbcgoodfood.com//recipes/spiced-lentil-butternut-squash-soup\n",
            "https://www.bbcgoodfood.com//recipes/healthy-roast-dinner\n",
            "https://www.bbcgoodfood.com//recipes/healthy-lasagne\n",
            "https://www.bbcgoodfood.com//recipes/lemony-prawn-courgette-tagliatelle\n",
            "https://www.bbcgoodfood.com//recipes/5-veg-creamy-tomato-soup\n"
          ]
        }
      ],
      "source": [
        "print(len(links))\n",
        "count = 0\n",
        "\n",
        "for link in links:\n",
        "  print(link)\n",
        "\n",
        "  count += 1\n",
        "  if count == 20:\n",
        "    break"
      ]
    },
    {
      "cell_type": "markdown",
      "metadata": {
        "id": "Kxxv8cfc03To"
      },
      "source": [
        "#### Retrieving Informations About Single Recipes"
      ]
    },
    {
      "cell_type": "code",
      "execution_count": null,
      "metadata": {
        "id": "KpWI7HXL034m"
      },
      "outputs": [],
      "source": [
        "temp_url = links[0]\n",
        "temp_contents = requests.get(temp_url).content\n",
        "\n",
        "bs = BeautifulSoup(temp_contents, 'html5lib')"
      ]
    },
    {
      "cell_type": "markdown",
      "metadata": {
        "id": "BcA0e97j1FL0"
      },
      "source": [
        "##### Retrieving Name of a Single Recipe"
      ]
    },
    {
      "cell_type": "code",
      "execution_count": null,
      "metadata": {
        "id": "xoXQFZuR1KhT"
      },
      "outputs": [],
      "source": [
        "def get_recipe_name_4(bs):\n",
        "  try:\n",
        "    recipe_name = bs.find('h1', class_ = 'heading-1').text.strip()\n",
        "\n",
        "    return recipe_name\n",
        "\n",
        "  except:\n",
        "    return -1"
      ]
    },
    {
      "cell_type": "code",
      "execution_count": null,
      "metadata": {
        "colab": {
          "base_uri": "https://localhost:8080/",
          "height": 35
        },
        "id": "ySJT6S8p1UVO",
        "outputId": "aa3b47ca-20f8-4d4f-ef30-350b6853475f"
      },
      "outputs": [
        {
          "data": {
            "application/vnd.google.colaboratory.intrinsic+json": {
              "type": "string"
            },
            "text/plain": [
              "'Chicken jalfrezi'"
            ]
          },
          "execution_count": 16,
          "metadata": {},
          "output_type": "execute_result"
        }
      ],
      "source": [
        "get_recipe_name_4(bs)"
      ]
    },
    {
      "cell_type": "markdown",
      "metadata": {
        "id": "-ltN4wUf1Y7z"
      },
      "source": [
        "##### Retrieving Image URL of a Single Recipe"
      ]
    },
    {
      "cell_type": "code",
      "execution_count": null,
      "metadata": {
        "id": "NbmSTl_W1gbl"
      },
      "outputs": [],
      "source": [
        "def get_recipe_image_4(bs):\n",
        "  try:\n",
        "    recipe_image = bs.find('img', class_ = 'image__img')['src']\n",
        "\n",
        "    return recipe_image\n",
        "\n",
        "  except:\n",
        "    return -1"
      ]
    },
    {
      "cell_type": "code",
      "execution_count": null,
      "metadata": {
        "colab": {
          "base_uri": "https://localhost:8080/",
          "height": 53
        },
        "id": "S3EO3oKm1i75",
        "outputId": "a1c8ae76-abdf-4c83-ddac-b3ee38806d4b"
      },
      "outputs": [
        {
          "data": {
            "application/vnd.google.colaboratory.intrinsic+json": {
              "type": "string"
            },
            "text/plain": [
              "'https://images.immediate.co.uk/production/volatile/sites/30/2019/07/GoodFood-light-4f4a032.png?quality=90&resize=120,31'"
            ]
          },
          "execution_count": 18,
          "metadata": {},
          "output_type": "execute_result"
        }
      ],
      "source": [
        "get_recipe_image_4(bs)"
      ]
    },
    {
      "cell_type": "markdown",
      "metadata": {
        "id": "Z9GTsLR_1xye"
      },
      "source": [
        "##### Retrieving Nutritions of a Single Recipe"
      ]
    },
    {
      "cell_type": "code",
      "execution_count": null,
      "metadata": {
        "id": "W1M687hH1yOO"
      },
      "outputs": [],
      "source": [
        "def get_recipe_nutritions_4(bs):\n",
        "  try:\n",
        "    containers = bs.find_all('tr', class_ = 'key-value-blocks__item')\n",
        "\n",
        "    recipe_nutrients = dict()\n",
        "\n",
        "    for container in containers:\n",
        "      unit = ''\n",
        "      amount = ''\n",
        "      nutrient = container.find('td', class_ = 'key-value-blocks__key').text.strip()\n",
        "\n",
        "      if nutrient == 'kcal':\n",
        "        nutrient = 'calories'\n",
        "        unit = 'kcal'\n",
        "      elif nutrient == 'cal':\n",
        "        nutrient = 'calories'\n",
        "        unit = 'cal'\n",
        "      elif nutrient == 'fat':\n",
        "        nutrient = 'fat'\n",
        "      elif nutrient == 'saturates':\n",
        "        nutrient = 'saturatedFat'\n",
        "      elif nutrient == 'carbs':\n",
        "        nutrient = 'carbohydrates'\n",
        "      elif nutrient == 'sugars':\n",
        "        nutrient = 'sugars'\n",
        "      elif nutrient == 'fibre':\n",
        "        nutrient = 'fibre'\n",
        "      elif nutrient == 'protein':\n",
        "        nutrient = 'protein'\n",
        "      elif nutrient == 'salt':\n",
        "        nutrient = 'sodium'\n",
        "      else:\n",
        "        return -1\n",
        "\n",
        "      quantity = container.find('td', class_ = 'key-value-blocks__value')\n",
        "      quantity = quantity.text.strip()\n",
        "\n",
        "      if nutrient == 'calories':\n",
        "        amount = quantity\n",
        "      \n",
        "      else:\n",
        "        count = 0\n",
        "        for letter in quantity:\n",
        "          if ord(letter) not in range(48, 58) and letter != '.':\n",
        "            break\n",
        "            \n",
        "          count += 1\n",
        "\n",
        "        amount = quantity[:count]\n",
        "        unit = quantity[count:]\n",
        "      \n",
        "      nutrient_info = dict()\n",
        "      nutrient_info['amount'] = amount\n",
        "      nutrient_info['unit'] = unit\n",
        "\n",
        "      recipe_nutrients[nutrient] = nutrient_info\n",
        "\n",
        "    return recipe_nutrients\n",
        "\n",
        "  except Exception as e:\n",
        "    print(e)\n",
        "    return -1"
      ]
    },
    {
      "cell_type": "code",
      "execution_count": null,
      "metadata": {
        "colab": {
          "base_uri": "https://localhost:8080/"
        },
        "id": "le8lg6682qeO",
        "outputId": "0ef388b7-336a-4e71-9dab-83670e3e5793"
      },
      "outputs": [
        {
          "data": {
            "text/plain": [
              "{'calories': {'amount': '252', 'unit': 'kcal'},\n",
              " 'carbohydrates': {'amount': '11', 'unit': 'g'},\n",
              " 'fat': {'amount': '8', 'unit': 'g'},\n",
              " 'fibre': {'amount': '5', 'unit': 'g'},\n",
              " 'protein': {'amount': '30', 'unit': 'g'},\n",
              " 'saturatedFat': {'amount': '1', 'unit': 'g'},\n",
              " 'sodium': {'amount': '0.4', 'unit': 'g'},\n",
              " 'sugars': {'amount': '9', 'unit': 'g'}}"
            ]
          },
          "execution_count": 42,
          "metadata": {},
          "output_type": "execute_result"
        }
      ],
      "source": [
        "get_recipe_nutritions_4(bs)"
      ]
    },
    {
      "cell_type": "markdown",
      "metadata": {
        "id": "0qWNV7rk-T1e"
      },
      "source": [
        "##### Retrieving Ingredients of a Single Recipe"
      ]
    },
    {
      "cell_type": "code",
      "execution_count": null,
      "metadata": {
        "id": "wNm7OXzj-ULz"
      },
      "outputs": [],
      "source": [
        "def get_recipe_ingredients_4(bs):\n",
        "  try:\n",
        "    recipe_ingredients = []\n",
        "\n",
        "    ingredients_container = bs.find('section', class_ = 'recipe__ingredients')\n",
        "    ingredients = ingredients_container.find_all('li', class_ = 'list-item')\n",
        "\n",
        "    for ingredient in ingredients:\n",
        "      recipe_ingredients.append(ingredient.text.strip())\n",
        "\n",
        "    return recipe_ingredients\n",
        "\n",
        "  except:\n",
        "    return -1"
      ]
    },
    {
      "cell_type": "code",
      "execution_count": null,
      "metadata": {
        "colab": {
          "base_uri": "https://localhost:8080/"
        },
        "id": "CW8XZaTC-7Yp",
        "outputId": "d5ff73f4-6a68-444d-ebfb-fb0130951e61"
      },
      "outputs": [
        {
          "data": {
            "text/plain": [
              "['½ large onion, roughly chopped',\n",
              " '2 garlic cloves, chopped',\n",
              " '1 green chilli, finely chopped',\n",
              " 'vegetable oil, for frying',\n",
              " '400g can plum tomatoes',\n",
              " '1 tbsp ground coriander',\n",
              " '1 tbsp ground cumin',\n",
              " '1 tsp turmeric',\n",
              " '2-3 chicken breasts, diced',\n",
              " '1 tsp ground cumin',\n",
              " '1 tsp ground coriander',\n",
              " '1 tsp turmeric',\n",
              " '½ large onion, sliced',\n",
              " '1 red pepper, chopped',\n",
              " '2 red chillies, finely chopped (optional)',\n",
              " '2 tsp garam masala',\n",
              " 'handful of fresh, chopped coriander leaves',\n",
              " 'cooked basmati rice or naan bread to serve']"
            ]
          },
          "execution_count": 44,
          "metadata": {},
          "output_type": "execute_result"
        }
      ],
      "source": [
        "get_recipe_ingredients_4(bs)"
      ]
    },
    {
      "cell_type": "markdown",
      "metadata": {
        "id": "G-xss2Ot_Dza"
      },
      "source": [
        "##### Retrieving Instructions of a Single Recipe"
      ]
    },
    {
      "cell_type": "code",
      "execution_count": null,
      "metadata": {
        "id": "159zYf3d_EN3"
      },
      "outputs": [],
      "source": [
        "def get_recipe_instructions_4(bs):\n",
        "  try:\n",
        "    recipe_instructions = []\n",
        "\n",
        "    instructions_container = bs.find('section', class_ = 'recipe__method-steps')\n",
        "    instructions = instructions_container.find_all('li', class_ = 'list-item')\n",
        "\n",
        "    for instruction in instructions:\n",
        "      temp_ins = instruction.find('p').text.strip()\n",
        "      recipe_instructions.append(temp_ins)\n",
        "\n",
        "    return recipe_instructions\n",
        "\n",
        "  except Exception as e:\n",
        "    print(e)\n",
        "    return -1"
      ]
    },
    {
      "cell_type": "code",
      "execution_count": null,
      "metadata": {
        "colab": {
          "base_uri": "https://localhost:8080/"
        },
        "id": "TumRsSzG_Iu6",
        "outputId": "a6630a2a-5dbe-4ca7-b1a0-622a9b9bb83b"
      },
      "outputs": [
        {
          "data": {
            "text/plain": [
              "['Take 2-3 diced chicken breasts and coat in 1 tsp\\xa0cumin, 1 tsp coriander and 1 tsp turmeric then leave it to marinate in the fridge while you make the sauce.',\n",
              " 'To make the sauce, fry ½ roughly chopped\\xa0large\\xa0onion, 2\\xa0chopped garlic cloves and 1 finely chopped green chilli in a large pan with a little vegetable oil, for around 5 mins, until browned.',\n",
              " 'Add 300ml water to the onion mixture and simmer\\xa0for around 20 minutes.',\n",
              " 'Meanwhile, put a 400g can\\xa0plum tomatoes in a food processor and give it a good whizz (aim\\xa0for a smooth consistency).',\n",
              " 'Heat another large pan and gently fry 1 tbsp coriander, 1 tbsp cumin and 1 tsp turmeric in a splash of oil for about a minute. Add the tomatoes to this\\xa0pan and simmer for around 10 minutes.',\n",
              " 'Next, whizz your onion mixture in the food processor\\xa0and add it to the spiced tomato sauce. Season generously, stir, then\\xa0simmer for 20 minutes. You can make large batches of this sauce and freeze it for later use.',\n",
              " 'Fry the marinated chicken in vegetable oil and stir continuously. After a few minutes, turn down the heat and add the remaining ½\\xa0sliced onion, 1 chopped\\xa0red pepper and 2 finely chopped red chillies.\\xa0Stir\\xa0until the onions and pepper soften.',\n",
              " 'Add the sauce you prepared earlier\\xa0to the cooked chicken and simmer for around 10-20 minutes, adding a splash of water if it gets too thick.',\n",
              " 'Just before you dish it up, stir in 2 tsp\\xa0garam masala and handful of chopped coriander leaves. Serve with basmati rice or naan bread.']"
            ]
          },
          "execution_count": 50,
          "metadata": {},
          "output_type": "execute_result"
        }
      ],
      "source": [
        "get_recipe_instructions_4(bs)"
      ]
    },
    {
      "cell_type": "markdown",
      "metadata": {
        "id": "Ki0f29Qi_3Ew"
      },
      "source": [
        "#### Retrieving Information of all Recipes from the Links Scrapped"
      ]
    },
    {
      "cell_type": "code",
      "execution_count": null,
      "metadata": {
        "id": "nS7wWx_9_3Yq"
      },
      "outputs": [],
      "source": [
        "recipe_informations_4 = []"
      ]
    },
    {
      "cell_type": "code",
      "execution_count": null,
      "metadata": {
        "colab": {
          "base_uri": "https://localhost:8080/"
        },
        "id": "8lxsQwJr_6g_",
        "outputId": "e8fe4404-5507-4728-fe05-ec257e569201"
      },
      "outputs": [
        {
          "name": "stdout",
          "output_type": "stream",
          "text": [
            "'NoneType' object has no attribute 'find_all'\n",
            "'NoneType' object has no attribute 'find_all'\n",
            "'NoneType' object has no attribute 'find_all'\n"
          ]
        }
      ],
      "source": [
        "for link in links:\n",
        "  temp_contents = requests.get(link).content\n",
        "\n",
        "  bs = BeautifulSoup(temp_contents, 'html5lib')\n",
        "\n",
        "  recipe_name = get_recipe_name_4(bs)\n",
        "  recipe_image = get_recipe_image_4(bs)\n",
        "  recipe_nutritions = get_recipe_nutritions_4(bs)\n",
        "  recipe_ingredients = get_recipe_ingredients_4(bs)\n",
        "  recipe_instructions = get_recipe_instructions_4(bs)\n",
        "\n",
        "  if recipe_name == -1 or recipe_image == -1 or recipe_nutritions == -1 or recipe_ingredients == -1 or recipe_instructions == -1:\n",
        "    continue\n",
        "\n",
        "  count += 1\n",
        "  recipe_info = []\n",
        "  recipe_info.append(recipe_name)\n",
        "  recipe_info.append(recipe_image)\n",
        "  recipe_info.append(\"^\".join(recipe_ingredients))\n",
        "  recipe_info.append(\"^\".join(recipe_instructions))\n",
        "  recipe_info.append(recipe_nutritions)\n",
        "\n",
        "  recipe_informations_4.append(recipe_info)"
      ]
    },
    {
      "cell_type": "code",
      "execution_count": null,
      "metadata": {
        "colab": {
          "base_uri": "https://localhost:8080/"
        },
        "id": "7NCM9KB9__l7",
        "outputId": "2e9d2bdc-a3ed-4a30-ce03-479786675c7c"
      },
      "outputs": [
        {
          "name": "stdout",
          "output_type": "stream",
          "text": [
            "['Chicken jalfrezi', 'https://images.immediate.co.uk/production/volatile/sites/30/2019/07/GoodFood-light-4f4a032.png?quality=90&resize=120,31', '½ large onion, roughly chopped^2 garlic cloves, chopped^1 green chilli, finely chopped^vegetable oil, for frying^400g can plum tomatoes^1 tbsp ground coriander^1 tbsp ground cumin^1 tsp turmeric^2-3 chicken breasts, diced^1 tsp ground cumin^1 tsp ground coriander^1 tsp turmeric^½ large onion, sliced^1 red pepper, chopped^2 red chillies, finely chopped (optional)^2 tsp garam masala^handful of fresh, chopped coriander leaves^cooked basmati rice or naan bread to serve', 'Take 2-3 diced chicken breasts and coat in 1 tsp\\xa0cumin, 1 tsp coriander and 1 tsp turmeric then leave it to marinate in the fridge while you make the sauce.^To make the sauce, fry ½ roughly chopped\\xa0large\\xa0onion, 2\\xa0chopped garlic cloves and 1 finely chopped green chilli in a large pan with a little vegetable oil, for around 5 mins, until browned.^Add 300ml water to the onion mixture and simmer\\xa0for around 20 minutes.^Meanwhile, put a 400g can\\xa0plum tomatoes in a food processor and give it a good whizz (aim\\xa0for a smooth consistency).^Heat another large pan and gently fry 1 tbsp coriander, 1 tbsp cumin and 1 tsp turmeric in a splash of oil for about a minute. Add the tomatoes to this\\xa0pan and simmer for around 10 minutes.^Next, whizz your onion mixture in the food processor\\xa0and add it to the spiced tomato sauce. Season generously, stir, then\\xa0simmer for 20 minutes. You can make large batches of this sauce and freeze it for later use.^Fry the marinated chicken in vegetable oil and stir continuously. After a few minutes, turn down the heat and add the remaining ½\\xa0sliced onion, 1 chopped\\xa0red pepper and 2 finely chopped red chillies.\\xa0Stir\\xa0until the onions and pepper soften.^Add the sauce you prepared earlier\\xa0to the cooked chicken and simmer for around 10-20 minutes, adding a splash of water if it gets too thick.^Just before you dish it up, stir in 2 tsp\\xa0garam masala and handful of chopped coriander leaves. Serve with basmati rice or naan bread.', {'calories': {'amount': '252', 'unit': 'kcal'}, 'fat': {'amount': '8', 'unit': 'g'}, 'saturatedFat': {'amount': '1', 'unit': 'g'}, 'carbohydrates': {'amount': '11', 'unit': 'g'}, 'sugars': {'amount': '9', 'unit': 'g'}, 'fibre': {'amount': '5', 'unit': 'g'}, 'protein': {'amount': '30', 'unit': 'g'}, 'sodium': {'amount': '0.4', 'unit': 'g'}}]\n",
            "['West Indian spiced aubergine curry', 'https://images.immediate.co.uk/production/volatile/sites/30/2019/07/GoodFood-light-4f4a032.png?quality=90&resize=120,31', '1 tsp ground cumin^1 tsp ground coriander^½ tsp ground turmeric^1 large aubergine^2 tbsp tomato purée^½ green chilli , finely chopped^1cm piece ginger , peeled and finely chopped^2 tsp caster sugar^½-1 tbsp  rapeseed oil^3 spring onions , chopped^½ bunch of coriander , shredded^cooked rice , natural yogurt, roti and lime wedges, to serve', 'Mix the dry spices and 1 tsp salt together in a bowl and set aside.^Slice the aubergine into 1cm rounds, then score both sides of each round with the tip of a sharp knife. Rub with the spice mix until well coated (you should use all of the mix), then transfer to a board. Put 150ml water in the empty spice bowl with the tomato purée, chilli, ginger and sugar. Set aside.^Heat the oil in a large non-stick frying pan over a medium heat and arrange the aubergine in the pan, overlapping the rounds if needed. Fry for 5 mins on each side, or until golden. Add the liquid mix from the bowl, bring to a simmer, cover and cook for 15-20 mins, turning the aubergine occasionally until it’s cooked through. If it seems dry, you may need to add up to 100ml more water to make it saucier. Season.^Scatter over the spring onions and coriander, and serve with rice, yogurt, roti and lime wedges for squeezing over.', {'calories': {'amount': '157', 'unit': 'kcal'}, 'fat': {'amount': '9', 'unit': 'g'}, 'saturatedFat': {'amount': '1', 'unit': 'g'}, 'carbohydrates': {'amount': '13', 'unit': 'g'}, 'sugars': {'amount': '12', 'unit': 'g'}, 'fibre': {'amount': '7', 'unit': 'g'}, 'protein': {'amount': '4', 'unit': 'g'}, 'sodium': {'amount': '2.5', 'unit': 'g'}}]\n",
            "['Saag aloo', 'https://images.immediate.co.uk/production/volatile/sites/30/2019/07/GoodFood-light-4f4a032.png?quality=90&resize=120,31', '2 tbsp sunflower oil^1 onion, finely chopped^2 garlic cloves, sliced^1 tbsp chopped ginger^500g potato, cut into 2cm (¾in) chunks^1 large red chilli, halved, deseeded and finely sliced^½ tsp each black mustard seeds, cumin seeds,  turmeric^250g spinach leaves', 'Heat 2 tbsp sunflower oil in a large pan, add 1 finely chopped onion, 2 sliced garlic cloves and 1 tbsp chopped ginger, and fry for about 3 mins.^Stir in 500g potatoes, cut into 2cm chunks, 1 halved, deseeded and finely sliced red chilli, ½ tsp black mustard seeds, ½ tsp cumin seeds, ½ tsp turmeric and ½ tsp salt and continue cooking and stirring for 5 mins more.^Add a splash of water, cover, and cook for 8-10 mins.^Check the potatoes are ready by spearing with the point of a knife, and if they are, add 250g\\xa0spinach leaves and let it wilt into the pan. Take off the heat and serve.', {'calories': {'amount': '201', 'unit': 'kcal'}, 'fat': {'amount': '7', 'unit': 'g'}, 'saturatedFat': {'amount': '1', 'unit': 'g'}, 'carbohydrates': {'amount': '27', 'unit': 'g'}, 'sugars': {'amount': '6', 'unit': 'g'}, 'fibre': {'amount': '5', 'unit': 'g'}, 'protein': {'amount': '7', 'unit': 'g'}, 'sodium': {'amount': '1.1', 'unit': 'g'}}]\n",
            "['Bombay potato frittata', 'https://images.immediate.co.uk/production/volatile/sites/30/2019/07/GoodFood-light-4f4a032.png?quality=90&resize=120,31', '4 new potatoes , sliced into 5mm rounds^100g baby spinach , chopped^1 tbsp rapeseed oil^1 onion , halved and sliced^1 large garlic clove , finely grated^½ tsp ground coriander^½ tsp ground cumin^¼ tsp  black mustard seeds^¼ tsp turmeric^3 tomatoes , roughly chopped^2 large eggs^½ green chilli , deseeded and finely chopped^1 small bunch of coriander , finely chopped^1 tbsp mango chutney^3 tbsp fat-free  Greek yogurt', 'Cook the potatoes in a pan of boiling water for 6 mins, or until tender. Drain and leave to steam-dry. Meanwhile, put the spinach in a heatproof bowl with 1 tbsp water. Cover and microwave for 3 mins on high, or until wilted.^Heat the rapeseed oil in a medium non-stick frying pan. Add the onion and cook over a medium heat for 10 mins until golden and sticky. Stir in the garlic, ground coriander, ground cumin, mustard seeds and turmeric, and cook for 1 min more. Add the tomatoes and wilted spinach and cook\\xa0for another 3 mins, then add the potatoes.^Heat the grill to medium. Lightly beat the eggs with the chilli and most of the fresh coriander and pour over the potato mixture. Grill for 4-5 mins, or until golden and just set, with a very slight wobble in the middle.^Leave to cool, then slice into wedges. Mix the mango chutney, yogurt and remaining fresh coriander together. Serve with the frittata wedges.', {'calories': {'amount': '317', 'unit': 'kcal'}, 'fat': {'amount': '12', 'unit': 'g'}, 'saturatedFat': {'amount': '2', 'unit': 'g'}, 'carbohydrates': {'amount': '29', 'unit': 'g'}, 'sugars': {'amount': '16', 'unit': 'g'}, 'fibre': {'amount': '6', 'unit': 'g'}, 'protein': {'amount': '20', 'unit': 'g'}, 'sodium': {'amount': '0.6', 'unit': 'g'}}]\n",
            "['Healthy chicken pasta bake', 'https://images.immediate.co.uk/production/volatile/sites/30/2019/07/GoodFood-light-4f4a032.png?quality=90&resize=120,31', '300g wholemeal penne^2 tsp olive oil^2 peppers (we used 1 yellow and 1 orange), deseeded and chopped^1 large  courgette (160g), coarsely grated^3 large garlic cloves, finely grated^500g carton passata^1 tbsp smoked paprika^1½ tsp vegetable bouillon powder^1 tsp chilli powder (optional)^25g Kalamata olives (about 8), sliced^400g chicken breasts (2 large), cut into pieces^large handful of basil, chopped, plus extra to serve^100g ricotta^20g finely grated mature cheddar', 'Cook the pasta following pack instructions. Heat the oven to 180C/160C fan/gas 4.^Meanwhile, heat the oil in a large pan over a medium heat and fry the peppers for 8 mins, stirring until they start to soften. Add the courgette and garlic, stir for a few minutes more, then tip in the passata and stir in the smoked paprika, bouillon, chilli, if using, and olives. Simmer for 3-4 mins.^Drain the pasta, reserving the pasta water. Tip the pasta into the passata mixture along with the chicken, half a mug of the pasta water and the basil. Stir together well, then tip into baking dish.^Mix the ricotta in a bowl with 5 tbsp of the pasta water and spread across the top of the pasta. Sprinkle over the cheddar, then bake for 35 mins. Scatter with a few extra basil leaves, if you like, and serve.', {'calories': {'amount': '480', 'unit': 'kcal'}, 'fat': {'amount': '13', 'unit': 'g'}, 'saturatedFat': {'amount': '5', 'unit': 'g'}, 'carbohydrates': {'amount': '51', 'unit': 'g'}, 'sugars': {'amount': '11', 'unit': 'g'}, 'fibre': {'amount': '11', 'unit': 'g'}, 'protein': {'amount': '35', 'unit': 'g'}, 'sodium': {'amount': '1.3', 'unit': 'g'}}]\n",
            "['Healthy tikka masala', 'https://images.immediate.co.uk/production/volatile/sites/30/2019/07/GoodFood-light-4f4a032.png?quality=90&resize=120,31', '1 large onion , chopped^4 large garlic cloves^thumb-sized piece of ginger^2 tbsp rapeseed oil^4 small skinless chicken breasts, cut into chunks^2 tbsp tikka spice powder^1 tsp cayenne pepper^400g can chopped tomatoes^40g ground almonds^200g spinach^3 tbsp fat-free natural yogurt^½ small bunch of coriander , chopped^brown basmati rice , to serve', 'Put the onion, garlic and ginger in a food processor and whizz to a smooth paste.^Heat 1 tbsp of the oil in a flameproof casserole dish over a medium heat. Add the onion mixture and fry for 15 mins. Tip into a bowl and wipe out the pan.^Add the remaining oil and the chicken and fry for 5-7 mins, or until lightly brown. Stir in the tikka spice and cayenne and fry for a further minute. Tip the onion mixture back into the pan, along with the tomatoes and 1 can full of water. Bring to the boil, then reduce to a simmer and cook, uncovered, for 15 mins. Stir in the almonds and spinach and cook for a further 10 mins. Season, then stir though the yogurt and coriander. Serve with brown rice.', {'calories': {'amount': '365', 'unit': 'kcal'}, 'fat': {'amount': '17', 'unit': 'g'}, 'saturatedFat': {'amount': '1', 'unit': 'g'}, 'carbohydrates': {'amount': '13', 'unit': 'g'}, 'sugars': {'amount': '10', 'unit': 'g'}, 'fibre': {'amount': '4', 'unit': 'g'}, 'protein': {'amount': '38', 'unit': 'g'}, 'sodium': {'amount': '0.3', 'unit': 'g'}}]\n",
            "['Warming chicken noodle soup', 'https://images.immediate.co.uk/production/volatile/sites/30/2019/07/GoodFood-light-4f4a032.png?quality=90&resize=120,31', \"4 boneless skinless chicken breasts^60ml sake (if you don't have sake, use vodka)^thumb-sized piece ginger , peeled and sliced into matchsticks^3 spring onions , finely sliced on the diagonal, and white and green parts separated^150ml soy sauce^4 tsp sesame oil^2 garlic cloves , grated^600g thick white noodles (such as udon)^2 large long red Serrano chillies , seeds left in and sliced on the diagonal^1 large egg , beaten^small pack coriander^2 tbsp toasted sesame seeds^seaweed flakes, to serve (optional)\", 'Slice the chicken breasts into strips about 1cm wide and the full length of the breast. Briefly marinate the chicken in the sake and leave to one side for a few mins.^Mix the ginger with the whites of the spring onions, soy sauce, sesame oil and garlic.^Put 2 litres of water in a saucepan and bring to the boil. Pour in the ginger soy mixture, reduce the heat and cook just below a simmer for 5 mins.^Add the chicken and sake mix, noodles and chillies to the stock and turn the heat up. As soon as the broth comes to the boil, turn off the heat. Slowly pour the egg into the broth, stirring all the time. Add the green parts of the spring onions and stir through. Leave to sit for 2 mins.^Ladle the soup evenly into six bowls. Sprinkle with the toasted sesame seeds and coriander, with a few seaweed flakes, if you like.', {'calories': {'amount': '297', 'unit': 'kcal'}, 'fat': {'amount': '6', 'unit': 'g'}, 'saturatedFat': {'amount': '1', 'unit': 'g'}, 'carbohydrates': {'amount': '29', 'unit': 'g'}, 'sugars': {'amount': '5', 'unit': 'g'}, 'fibre': {'amount': '3', 'unit': 'g'}, 'protein': {'amount': '28', 'unit': 'g'}, 'sodium': {'amount': '3.8', 'unit': 'g'}}]\n",
            "['Healthy pancakes', 'https://images.immediate.co.uk/production/volatile/sites/30/2019/07/GoodFood-light-4f4a032.png?quality=90&resize=120,31', '50g self-raising flour^50g wholemeal or wholegrain flour^2 small eggs, separated^150ml skimmed milk^berries and low-fat yogurt or fromage frais to serve', 'Sift the flours into a bowl or wide jug and\\xa0tip\\xa0any bits in the sieve back into the bowl. Add the egg yolks and a splash of milk then stir to a thick paste.\\xa0Add the remaining milk a little at a time so you don’t make lumps in the batter.^Whisk the egg whites until they stand up in stiff peaks,\\xa0then fold them carefully into the batter –\\xa0try not to squash out all the air.^Heat a non-stick pan over a medium heat and\\xa0pour in enough batter to make a pancake about 10 cm across. Cook for just under a minute until bubbles begin to pop on the surface and the edges are looking a little dry. Carefully turn the pancake over.\\xa0If it is a bit wet on top, it may squirt out a little batter as you do so.\\xa0In that case,\\xa0leave it on the other side a little longer. Keep warm while you make the remaining pancakes. Serve with your favourite healthy toppings.', {'calories': {'amount': '53', 'unit': 'kcal'}, 'fat': {'amount': '1', 'unit': 'g'}, 'saturatedFat': {'amount': '0.3', 'unit': 'g'}, 'carbohydrates': {'amount': '8', 'unit': 'g'}, 'sugars': {'amount': '0.8', 'unit': 'g'}, 'fibre': {'amount': '0.4', 'unit': 'g'}, 'protein': {'amount': '3', 'unit': 'g'}, 'sodium': {'amount': '0.1', 'unit': 'g'}}]\n",
            "['Healthy shakshuka', 'https://images.immediate.co.uk/production/volatile/sites/30/2019/07/GoodFood-light-4f4a032.png?quality=90&resize=120,31', '1 tbsp cold pressed rapeseed oil^1 red onion , cut into thin wedges^1 red pepper , finely sliced^1 yellow pepper , finely sliced^3 large garlic cloves , crushed^1 tsp cumin seeds^1 tsp coriander seeds , crushed^1 heaped tsp sweet smoked paprika^400g can cherry tomatoes^115g baby spinach^4 medium eggs^½ small bunch coriander , roughly chopped^½  small bunch dill , roughly chopped', 'Heat the oil in a large, non-stick frying pan. Add the onion and peppers and fry over a medium heat for 8-10 mins until the veg is beginning to soften. Add the garlic, cumin, coriander and paprika and fry for 1 min more. Tip in the tomatoes, spinach and 100ml water and bubble until the spinach has wilted, then lower to a simmer and cook, uncovered, for 10 mins. Season to taste.^Make four indentations in the tomato mixture and gently crack an egg into each one. Cover with a lid or foil and cook over a gentle heat for 8-10 mins, or until the eggs are just set. Uncover, scatter with the fresh herbs and serve.', {'calories': {'amount': '342', 'unit': 'kcal'}, 'fat': {'amount': '17', 'unit': 'g'}, 'saturatedFat': {'amount': '3', 'unit': 'g'}, 'carbohydrates': {'amount': '21', 'unit': 'g'}, 'sugars': {'amount': '19', 'unit': 'g'}, 'fibre': {'amount': '10', 'unit': 'g'}, 'protein': {'amount': '21', 'unit': 'g'}, 'sodium': {'amount': '0.5', 'unit': 'g'}}]\n",
            "['Chinese chicken curry', 'https://images.immediate.co.uk/production/volatile/sites/30/2019/07/GoodFood-light-4f4a032.png?quality=90&resize=120,31', '4 skinless chicken breasts, cut into chunks (or use thighs or drumsticks)^2 tsp cornflour^1 onion, diced^2 tbsp rapeseed oil^1 garlic clove, crushed^2 tsp curry powder^1 tsp turmeric^½ tsp ground ginger^pinch sugar^400ml chicken stock^1 tsp soy sauce^handful frozen peas^rice to serve', 'Toss the chicken pieces in the cornflour and season well.\\xa0Set them aside.^Fry the onion in half of the oil in a wok on a low to medium heat, until it softens –\\xa0about 5-6 minutes – then add the garlic and cook for a minute. Stir in the spices and sugar and cook for another minute, then add the stock and soy sauce, bring to a simmer and cook for 20 minutes. Tip everything into a blender and blitz until smooth.^Wipe out the pan and fry the chicken in the remaining oil until it is browned all over. Tip the sauce back into the pan and bring everything to a simmer, stir in the peas\\xa0and cook for 5 minutes.\\xa0Add a little water if you need to thin the sauce. Serve with rice.', {'calories': {'amount': '264', 'unit': 'kcal'}, 'fat': {'amount': '8', 'unit': 'g'}, 'saturatedFat': {'amount': '1', 'unit': 'g'}, 'carbohydrates': {'amount': '7', 'unit': 'g'}, 'sugars': {'amount': '3', 'unit': 'g'}, 'fibre': {'amount': '2', 'unit': 'g'}, 'protein': {'amount': '40', 'unit': 'g'}, 'sodium': {'amount': '0.7', 'unit': 'g'}}]\n",
            "['Prawn & harissa spaghetti', 'https://images.immediate.co.uk/production/volatile/sites/30/2019/07/GoodFood-light-4f4a032.png?quality=90&resize=120,31', '100g long-stem broccoli , cut into thirds^180g dried spaghetti , regular or wholemeal^2 tbsp olive oil^1 large garlic clove , lightly bashed^150g cherry tomatoes , halved^150g raw king prawns^1 heaped tbsp rose harissa paste^1 lemon , finely zested', 'Bring a pan of lightly salted water to the boil. Add the broccoli and boil for 1 min 30 secs, or until tender. Drain and set aside. Cook the pasta following pack instructions, then drain, reserving a ladleful of cooking water.^Heat the oil in a large frying pan, add the garlic clove and fry over a low heat for 2 mins. Remove with a slotted spoon and discard, leaving the flavoured oil.^Add the tomatoes to the pan and fry over a medium heat for 5 mins, or until beginning to soften and turn juicy. Stir through the prawns and cook for 2 mins, or until turning pink. Add the harissa and lemon zest, stirring to coat.^Toss the cooked spaghetti and pasta water through the prawns and harissa. Stir through the broccoli, season to taste and serve.', {'calories': {'amount': '511', 'unit': 'kcal'}, 'fat': {'amount': '13', 'unit': 'g'}, 'saturatedFat': {'amount': '2', 'unit': 'g'}, 'carbohydrates': {'amount': '72', 'unit': 'g'}, 'sugars': {'amount': '6', 'unit': 'g'}, 'fibre': {'amount': '7', 'unit': 'g'}, 'protein': {'amount': '22', 'unit': 'g'}, 'sodium': {'amount': '0.9', 'unit': 'g'}}]\n",
            "['Healthy porridge bowl', 'https://images.immediate.co.uk/production/volatile/sites/30/2019/07/GoodFood-light-4f4a032.png?quality=90&resize=120,31', '100g frozen raspberries^1 orange , ½ sliced and ½ juiced^150g porridge oats^100ml milk^½ banana , sliced^2 tbsp smooth almond butter^1 tbsp goji berries^1 tbsp chia seeds', 'Tip half the raspberries and all of the orange juice in a pan. Simmer until the raspberries soften, about 5 mins.^Meanwhile stir the oats, milk and 450ml water in a pan over a low heat until creamy. Top with the raspberry compote, remaining raspberries, orange slices, banana, almond butter, goji berries and chia seeds.', {'calories': {'amount': '533', 'unit': 'kcal'}, 'fat': {'amount': '19', 'unit': 'g'}, 'saturatedFat': {'amount': '3', 'unit': 'g'}, 'carbohydrates': {'amount': '66', 'unit': 'g'}, 'sugars': {'amount': '14', 'unit': 'g'}, 'fibre': {'amount': '13', 'unit': 'g'}, 'protein': {'amount': '17', 'unit': 'g'}, 'sodium': {'amount': '0.1', 'unit': 'g'}}]\n",
            "['Indian chickpeas with poached eggs', 'https://images.immediate.co.uk/production/volatile/sites/30/2019/07/GoodFood-light-4f4a032.png?quality=90&resize=120,31', '1 tbsp rapeseed oil^2 garlic cloves, chopped^1 yellow pepper, deseeded and diced^½ - 1 red chilli, deseeded and chopped^½ bunch spring onions (about 5), tops and whites sliced but kept separate^1 tsp cumin, plus a little extra to serve (optional)^1 tsp coriander^½ tsp turmeric^3 tomatoes, cut into wedges^⅓ pack coriander, chopped^400g can chickpeas in water, drained but liquid reserved^½ tsp reduced-salt bouillon powder (we used Marigold)^4 large  eggs', 'Heat the oil in a non-stick sauté pan, add the garlic, pepper, chilli and the whites from the spring onions, and fry for 5 mins over a medium-high heat. Meanwhile, put a large pan of water on to boil.^Add the spices, tomatoes, most of the coriander and the chickpeas to the sauté pan and cook for 1-2 mins more. Stir in the bouillon powder and enough liquid from the chickpeas to moisten everything, and leave to simmer gently.^Once the water is at a rolling boil, crack in your eggs and poach for 2 mins, then remove with a slotted spoon. Stir the spring onion tops into the chickpeas, then very lightly crush a few of the chickpeas with a fork or potato masher. Spoon the chickpea mixture onto plates, scatter with the reserved coriander and top with the eggs. Serve with an extra sprinkle of cumin, if you like.', {'calories': {'amount': '412', 'unit': 'kcal'}, 'fat': {'amount': '20', 'unit': 'g'}, 'saturatedFat': {'amount': '4', 'unit': 'g'}, 'carbohydrates': {'amount': '27', 'unit': 'g'}, 'sugars': {'amount': '8', 'unit': 'g'}, 'fibre': {'amount': '10', 'unit': 'g'}, 'protein': {'amount': '24', 'unit': 'g'}, 'sodium': {'amount': '0.3', 'unit': 'g'}}]\n",
            "['South Indian aloo masala (dosa stuffing)', 'https://images.immediate.co.uk/production/volatile/sites/30/2019/07/GoodFood-light-4f4a032.png?quality=90&resize=120,31', '4 tbsp vegetable oil^1 tsp mustard seeds^10-15 curry leaves^¼ tsp asafoetida^1 onion , thinly sliced^1 heaped tbsp tomato purée^3 tsp sambar masala mixed with ¼ cup water^4 large potatoes , boiled and cut into bite size chunks^handful fresh coriander , finely chopped', 'Heat the oil in a pan over a medium heat. Fry\\xa0the mustard seeds, curry leaves and asafoetida until they\\xa0begin to crackle, then add the onions. Cook for 3-4 mins until the onions are slightly golden.^Stir in the tomato purée along with the diluted sambar masala. Tip in\\xa0the potatoes, 1¼ tsp of salt\\xa0and mix well. Lightly crush the potatoes\\xa0with a wooden spoon and\\xa0cook for a further 3-4 mins. Taste for seasoning. Serve garnished\\xa0with the\\xa0coriander.', {'calories': {'amount': '119', 'unit': 'kcal'}, 'fat': {'amount': '5', 'unit': 'g'}, 'saturatedFat': {'amount': '0.3', 'unit': 'g'}, 'carbohydrates': {'amount': '16', 'unit': 'g'}, 'sugars': {'amount': '2', 'unit': 'g'}, 'fibre': {'amount': '2', 'unit': 'g'}, 'protein': {'amount': '2', 'unit': 'g'}, 'sodium': {'amount': '0.65', 'unit': 'g'}}]\n",
            "['Meatball & tomato soup', 'https://images.immediate.co.uk/production/volatile/sites/30/2019/07/GoodFood-light-4f4a032.png?quality=90&resize=120,31', '1½ tbsp rapeseed oil^1 onion, finely chopped^2 red peppers, deseeded and sliced^1 garlic clove, crushed^½ tsp chilli flakes^2 x 400g cans chopped tomatoes^100g giant couscous^500ml hot vegetable stock^12 pork meatballs^150g baby spinach^½ small bunch of basil^grated parmesan, to serve (optional)', 'Heat the oil in a saucepan. Fry the onion and peppers for 7 mins, then stir through the garlic and chilli flakes and cook for 1 min. Add the tomatoes, giant couscous and veg stock and bring to a simmer.^Season to taste, then add the meatballs and spinach. Simmer for 5-7 mins or until cooked through. Ladle into bowls and top with the basil and some parmesan, if you like.', {'calories': {'amount': '330', 'unit': 'kcal'}, 'fat': {'amount': '12', 'unit': 'g'}, 'saturatedFat': {'amount': '3', 'unit': 'g'}, 'carbohydrates': {'amount': '36', 'unit': 'g'}, 'sugars': {'amount': '14', 'unit': 'g'}, 'fibre': {'amount': '6', 'unit': 'g'}, 'protein': {'amount': '17', 'unit': 'g'}, 'sodium': {'amount': '0.7', 'unit': 'g'}}]\n",
            "['Spiced lentil & butternut squash soup', 'https://images.immediate.co.uk/production/volatile/sites/30/2019/07/GoodFood-light-4f4a032.png?quality=90&resize=120,31', '2 tbsp olive oil^2 onions, finely chopped^2 garlic cloves, crushed^¼ tsp hot chilli powder^1 tbsp ras el hanout^1 butternut squash, peeled and cut into 2cm pieces^100g red lentils^1l hot vegetable stock^1 small bunch coriander, leaves chopped, plus extra to serve^dukkah (see tip) and natural yogurt, to serve', 'Heat the oil in a large flameproof casserole dish or saucepan over a medium-high heat. Fry the onions with a pinch of salt for 7 mins, or until softened and just caramelised. Add the garlic, chilli and ras el hanout, and cook for 1 min more.^Stir in the squash and lentils. Pour over the stock and season to taste. Bring to the boil, then reduce the heat to a simmer and cook, covered, for 25 mins or until the squash is soft. Blitz the soup with a stick blender until smooth, then season to taste. To freeze, leave to cool completely and transfer to large freezerproof bags.^Stir in the coriander leaves and ladle the soup into bowls. Serve topped with the dukkah, yogurt\\xa0and extra coriander leaves.', {'calories': {'amount': '167', 'unit': 'kcal'}, 'fat': {'amount': '5', 'unit': 'g'}, 'saturatedFat': {'amount': '1', 'unit': 'g'}, 'carbohydrates': {'amount': '23', 'unit': 'g'}, 'sugars': {'amount': '4', 'unit': 'g'}, 'fibre': {'amount': '3', 'unit': 'g'}, 'protein': {'amount': '6', 'unit': 'g'}, 'sodium': {'amount': '0.5', 'unit': 'g'}}]\n",
            "['Healthy roast dinner', 'https://images.immediate.co.uk/production/volatile/sites/30/2019/07/GoodFood-light-4f4a032.png?quality=90&resize=120,31', '285g medium potatoes, thickly sliced^4 small carrots (160g), halved lengthways^2 x 80g red onions, cut into quarters^170g large Brussels sprouts (about 8-10), trimmed^2½ tsp rapeseed oil^2 tsp thyme leaves^2 tsp balsamic vinegar^1 large garlic clove,  finely grated^2 pinches of English mustard powder^170g thick, lean fillet steak^½ tsp vegetable bouillon powder', 'Heat the oven to 180C/160C fan/gas 4. Bring a large pan of water to the boil and cook the potatoes for 5 mins. Drain, reserving the water.^Toss the potatoes, carrots, onions and sprouts with 2 tsp of the oil to coat. Arrange on a non-stick baking sheet, spaced apart. Scatter with 1 tsp of the thyme, grind over some black pepper, then roast for 30 mins.^Meanwhile, mix 1 tsp of the vinegar with the garlic, remaining thyme and oil, the mustard and plenty of black pepper. Rub this over the steak, put in a shallow dish and set aside. Mix the rest of the vinegar with the bouillon and 125ml of the reserved water from step 1, then set aside. After 30 mins, turn the veg over and roast for 15 mins more.^Meanwhile, heat a small non-stick frying pan over a medium-high heat. Lift the steak out of the marinade, shake off the excess and fry for 2-3 mins on each side until cooked to your liking. Remove to a board and leave to rest. Pour the leftover marinade into the frying pan and bubble until thickened slightly to make a gravy. Slice the steak and serve with the roast veg and gravy on the side.', {'calories': {'amount': '370', 'unit': 'kcal'}, 'fat': {'amount': '11', 'unit': 'g'}, 'saturatedFat': {'amount': '3', 'unit': 'g'}, 'carbohydrates': {'amount': '38', 'unit': 'g'}, 'sugars': {'amount': '15', 'unit': 'g'}, 'fibre': {'amount': '12', 'unit': 'g'}, 'protein': {'amount': '24', 'unit': 'g'}, 'sodium': {'amount': '0.6', 'unit': 'g'}}]\n",
            "['Healthy lasagne', 'https://images.immediate.co.uk/production/volatile/sites/30/2019/07/GoodFood-light-4f4a032.png?quality=90&resize=120,31', '1 tbsp olive oil^1 large onion (250g), finely chopped^320g carrots, finely chopped^2 celery sticks (140g), finely chopped^2 bay leaves^500g 5%  beef mince^3 large garlic cloves, finely grated^400g can  chopped tomatoes^2 tbsp  tomato purée^1½ tsp vegetable bouillon powder^400ml semi-skimmed milk^30g wholemeal flour^generous pinch of  nutmeg^6 sheets wholemeal  lasagne (125g)^25g finely grated parmesan', 'Heat the oven to 180C/160C fan/gas 4. Heat the oil in a large frying pan over a medium heat and fry the onion, carrots, celery and one of the bay leaves for 8-10 mins until the veg softens and is starting to turn golden. Add the mince and garlic, and stir-fry until the beef browns, about 5 mins. Tip in the tomatoes and a canful of water, the tomato purée and bouillon, bring to the boil, then cover and simmer for 20 mins, removing the lid after 10 mins to reduce the mixture slightly.^Meanwhile, pour the milk into a medium pan with the flour and whisk over a low heat until the mixture is lump-free. Add the second bay leaf and a good pinch of nutmeg, and continue to cook, whisking, for 8-10 mins until thick.^Remove the bay from the mince and white sauce, and discard. Spoon a third of the mince into the base of a 19 x 24cm baking dish and top with two lasagne sheets. Spoon over half of the remaining mince, then top with two more lasagne sheets, the rest of the mince and the remaining lasagne sheets. Spoon over the white sauce and sprinkle with the cheese. Bake for 40 mins until bubbling and golden.', {'calories': {'amount': '487', 'unit': 'kcal'}, 'fat': {'amount': '13', 'unit': 'g'}, 'saturatedFat': {'amount': '6', 'unit': 'g'}, 'carbohydrates': {'amount': '47', 'unit': 'g'}, 'sugars': {'amount': '20', 'unit': 'g'}, 'fibre': {'amount': '10', 'unit': 'g'}, 'protein': {'amount': '41', 'unit': 'g'}, 'sodium': {'amount': '1.3', 'unit': 'g'}}]\n",
            "['Lemony prawn & courgette tagliatelle', 'https://images.immediate.co.uk/production/volatile/sites/30/2019/07/GoodFood-light-4f4a032.png?quality=90&resize=120,31', '2 tbsp olive oil^2 courgettes (about 500g), trimmed and coarsely grated^1 large garlic clove , finely grated^1 small red  chilli , finely chopped^180g tagliatelle^150g raw king  prawns , peeled and deveined^1 lemon , zested and juiced^½ small bunch of parsley , finely chopped', 'Heat the oil in a frying pan and fry the courgette for 4-5 mins, then stir through the garlic and chilli.^Cook the tagliatelle following pack instructions. Drain, reserving some of the cooking water.^Add the prawns to the courgette mixture, and cook for 2 mins until pink. Toss through the tagliatelle, the lemon zest and juice, parsley, some seasoning and a splash of the reserved cooking water. Divide between bowls and serve.', {'calories': {'amount': '478', 'unit': 'kcal'}, 'fat': {'amount': '15', 'unit': 'g'}, 'saturatedFat': {'amount': '2', 'unit': 'g'}, 'carbohydrates': {'amount': '54', 'unit': 'g'}, 'sugars': {'amount': '5', 'unit': 'g'}, 'fibre': {'amount': '7', 'unit': 'g'}, 'protein': {'amount': '28', 'unit': 'g'}, 'sodium': {'amount': '1.3', 'unit': 'g'}}]\n",
            "['Healthy tomato soup', 'https://images.immediate.co.uk/production/volatile/sites/30/2019/07/GoodFood-light-4f4a032.png?quality=90&resize=120,31', '2 tbsp olive oil^2 onions , chopped^2 carrots , chopped^2 garlic cloves , crushed^2 red peppers , chopped^1 large  sweet potato , peeled and chopped^2 x 400g cans tomatoes^1 low-salt veg or  chicken stock cube^1 tsp dried oregano^3 rosemary sprigs , leaves picked and chopped^70ml double cream', 'Heat the oil in a large pan and cook the onion for 8-10 mins until softened and starting to take on a little colour. Add the carrots, garlic, peppers and sweet potato. Cook for a further 10 mins, stirring often and taking care not to burn the garlic. Add the tomatoes, stock, herbs and 1 litre of water. Bring to a simmer. Cover and cook for 20 mins until the sweet potato is soft.^Use a hand blender to whizz the soup until smooth. Stir in the cream and season to taste. Can be chilled for three days or frozen for up to three months.', {'calories': {'amount': '198', 'unit': 'kcal'}, 'fat': {'amount': '10', 'unit': 'g'}, 'saturatedFat': {'amount': '5', 'unit': 'g'}, 'carbohydrates': {'amount': '20', 'unit': 'g'}, 'sugars': {'amount': '14', 'unit': 'g'}, 'fibre': {'amount': '5', 'unit': 'g'}, 'protein': {'amount': '3', 'unit': 'g'}, 'sodium': {'amount': '0.2', 'unit': 'g'}}]\n"
          ]
        }
      ],
      "source": [
        "count = 0\n",
        "\n",
        "for recipe_info in recipe_informations_4:\n",
        "  print(recipe_info)\n",
        "\n",
        "  count += 1\n",
        "  if count == 20:\n",
        "    break"
      ]
    },
    {
      "cell_type": "code",
      "execution_count": null,
      "metadata": {
        "colab": {
          "base_uri": "https://localhost:8080/"
        },
        "id": "s54xZ-hRAF4Z",
        "outputId": "102d3ab0-63c7-4a69-e2c0-f6aa5b9cd5ef"
      },
      "outputs": [
        {
          "data": {
            "text/plain": [
              "1036"
            ]
          },
          "execution_count": 58,
          "metadata": {},
          "output_type": "execute_result"
        }
      ],
      "source": [
        "len(recipe_informations_4)"
      ]
    },
    {
      "cell_type": "markdown",
      "metadata": {
        "id": "RkRhAH-pAaDH"
      },
      "source": [
        "#### Converting Recipe Information into CSV"
      ]
    },
    {
      "cell_type": "code",
      "execution_count": null,
      "metadata": {
        "colab": {
          "base_uri": "https://localhost:8080/",
          "height": 1000
        },
        "id": "fmrE4ijfAahX",
        "outputId": "45c5c245-0bd4-482d-8884-43c8deac89d7"
      },
      "outputs": [
        {
          "data": {
            "text/html": [
              "\n",
              "  <div id=\"df-fb32c834-596c-459a-830c-d62752279577\">\n",
              "    <div class=\"colab-df-container\">\n",
              "      <div>\n",
              "<style scoped>\n",
              "    .dataframe tbody tr th:only-of-type {\n",
              "        vertical-align: middle;\n",
              "    }\n",
              "\n",
              "    .dataframe tbody tr th {\n",
              "        vertical-align: top;\n",
              "    }\n",
              "\n",
              "    .dataframe thead th {\n",
              "        text-align: right;\n",
              "    }\n",
              "</style>\n",
              "<table border=\"1\" class=\"dataframe\">\n",
              "  <thead>\n",
              "    <tr style=\"text-align: right;\">\n",
              "      <th></th>\n",
              "      <th>recipe_name</th>\n",
              "      <th>image_url</th>\n",
              "      <th>ingredients</th>\n",
              "      <th>cooking_directions</th>\n",
              "      <th>nutritions</th>\n",
              "    </tr>\n",
              "  </thead>\n",
              "  <tbody>\n",
              "    <tr>\n",
              "      <th>0</th>\n",
              "      <td>Chicken jalfrezi</td>\n",
              "      <td>https://images.immediate.co.uk/production/vola...</td>\n",
              "      <td>½ large onion, roughly chopped^2 garlic cloves...</td>\n",
              "      <td>Take 2-3 diced chicken breasts and coat in 1 t...</td>\n",
              "      <td>{'calories': {'amount': '252', 'unit': 'kcal'}...</td>\n",
              "    </tr>\n",
              "    <tr>\n",
              "      <th>1</th>\n",
              "      <td>West Indian spiced aubergine curry</td>\n",
              "      <td>https://images.immediate.co.uk/production/vola...</td>\n",
              "      <td>1 tsp ground cumin^1 tsp ground coriander^½ ts...</td>\n",
              "      <td>Mix the dry spices and 1 tsp salt together in ...</td>\n",
              "      <td>{'calories': {'amount': '157', 'unit': 'kcal'}...</td>\n",
              "    </tr>\n",
              "    <tr>\n",
              "      <th>2</th>\n",
              "      <td>Saag aloo</td>\n",
              "      <td>https://images.immediate.co.uk/production/vola...</td>\n",
              "      <td>2 tbsp sunflower oil^1 onion, finely chopped^2...</td>\n",
              "      <td>Heat 2 tbsp sunflower oil in a large pan, add ...</td>\n",
              "      <td>{'calories': {'amount': '201', 'unit': 'kcal'}...</td>\n",
              "    </tr>\n",
              "    <tr>\n",
              "      <th>3</th>\n",
              "      <td>Bombay potato frittata</td>\n",
              "      <td>https://images.immediate.co.uk/production/vola...</td>\n",
              "      <td>4 new potatoes , sliced into 5mm rounds^100g b...</td>\n",
              "      <td>Cook the potatoes in a pan of boiling water fo...</td>\n",
              "      <td>{'calories': {'amount': '317', 'unit': 'kcal'}...</td>\n",
              "    </tr>\n",
              "    <tr>\n",
              "      <th>4</th>\n",
              "      <td>Healthy chicken pasta bake</td>\n",
              "      <td>https://images.immediate.co.uk/production/vola...</td>\n",
              "      <td>300g wholemeal penne^2 tsp olive oil^2 peppers...</td>\n",
              "      <td>Cook the pasta following pack instructions. He...</td>\n",
              "      <td>{'calories': {'amount': '480', 'unit': 'kcal'}...</td>\n",
              "    </tr>\n",
              "    <tr>\n",
              "      <th>...</th>\n",
              "      <td>...</td>\n",
              "      <td>...</td>\n",
              "      <td>...</td>\n",
              "      <td>...</td>\n",
              "      <td>...</td>\n",
              "    </tr>\n",
              "    <tr>\n",
              "      <th>1031</th>\n",
              "      <td>Moroccan roasted vegetable soup</td>\n",
              "      <td>https://images.immediate.co.uk/production/vola...</td>\n",
              "      <td>1 red onion, cut into 8 wedges^300g carrot, cu...</td>\n",
              "      <td>Heat oven to 200C/180C fan/gas 6. Tip all the ...</td>\n",
              "      <td>{'calories': {'amount': '187', 'unit': 'kcal'}...</td>\n",
              "    </tr>\n",
              "    <tr>\n",
              "      <th>1032</th>\n",
              "      <td>Spinach &amp; sweet potato tortilla</td>\n",
              "      <td>https://images.immediate.co.uk/production/vola...</td>\n",
              "      <td>300g bag baby spinach leaves^8 tbsp light  oli...</td>\n",
              "      <td>Put the spinach in a large colander and pour o...</td>\n",
              "      <td>{'calories': {'amount': '306', 'unit': 'kcal'}...</td>\n",
              "    </tr>\n",
              "    <tr>\n",
              "      <th>1033</th>\n",
              "      <td>Black bean burritos</td>\n",
              "      <td>https://images.immediate.co.uk/production/vola...</td>\n",
              "      <td>300g brown rice^½ small pack  coriander , chop...</td>\n",
              "      <td>Put the rice in a medium saucepan with 600ml c...</td>\n",
              "      <td>{'calories': {'amount': '518', 'unit': 'kcal'}...</td>\n",
              "    </tr>\n",
              "    <tr>\n",
              "      <th>1034</th>\n",
              "      <td>Herbed pork fillet with roast vegetables</td>\n",
              "      <td>https://images.immediate.co.uk/production/vola...</td>\n",
              "      <td>4  medium parsnips, peeled and quartered lengt...</td>\n",
              "      <td>Preheat the oven to 200C/ gas 6/fan 180C. Put ...</td>\n",
              "      <td>{'calories': {'amount': '397', 'unit': 'kcal'}...</td>\n",
              "    </tr>\n",
              "    <tr>\n",
              "      <th>1035</th>\n",
              "      <td>Piri-piri chicken with spicy rice</td>\n",
              "      <td>https://images.immediate.co.uk/production/vola...</td>\n",
              "      <td>about 4 skin-on  chicken thighs and 4 drumstic...</td>\n",
              "      <td>Heat oven to 200C/180C fan/gas 6. Slash each p...</td>\n",
              "      <td>{'calories': {'amount': '606', 'unit': 'kcal'}...</td>\n",
              "    </tr>\n",
              "  </tbody>\n",
              "</table>\n",
              "<p>1036 rows × 5 columns</p>\n",
              "</div>\n",
              "      <button class=\"colab-df-convert\" onclick=\"convertToInteractive('df-fb32c834-596c-459a-830c-d62752279577')\"\n",
              "              title=\"Convert this dataframe to an interactive table.\"\n",
              "              style=\"display:none;\">\n",
              "        \n",
              "  <svg xmlns=\"http://www.w3.org/2000/svg\" height=\"24px\"viewBox=\"0 0 24 24\"\n",
              "       width=\"24px\">\n",
              "    <path d=\"M0 0h24v24H0V0z\" fill=\"none\"/>\n",
              "    <path d=\"M18.56 5.44l.94 2.06.94-2.06 2.06-.94-2.06-.94-.94-2.06-.94 2.06-2.06.94zm-11 1L8.5 8.5l.94-2.06 2.06-.94-2.06-.94L8.5 2.5l-.94 2.06-2.06.94zm10 10l.94 2.06.94-2.06 2.06-.94-2.06-.94-.94-2.06-.94 2.06-2.06.94z\"/><path d=\"M17.41 7.96l-1.37-1.37c-.4-.4-.92-.59-1.43-.59-.52 0-1.04.2-1.43.59L10.3 9.45l-7.72 7.72c-.78.78-.78 2.05 0 2.83L4 21.41c.39.39.9.59 1.41.59.51 0 1.02-.2 1.41-.59l7.78-7.78 2.81-2.81c.8-.78.8-2.07 0-2.86zM5.41 20L4 18.59l7.72-7.72 1.47 1.35L5.41 20z\"/>\n",
              "  </svg>\n",
              "      </button>\n",
              "      \n",
              "  <style>\n",
              "    .colab-df-container {\n",
              "      display:flex;\n",
              "      flex-wrap:wrap;\n",
              "      gap: 12px;\n",
              "    }\n",
              "\n",
              "    .colab-df-convert {\n",
              "      background-color: #E8F0FE;\n",
              "      border: none;\n",
              "      border-radius: 50%;\n",
              "      cursor: pointer;\n",
              "      display: none;\n",
              "      fill: #1967D2;\n",
              "      height: 32px;\n",
              "      padding: 0 0 0 0;\n",
              "      width: 32px;\n",
              "    }\n",
              "\n",
              "    .colab-df-convert:hover {\n",
              "      background-color: #E2EBFA;\n",
              "      box-shadow: 0px 1px 2px rgba(60, 64, 67, 0.3), 0px 1px 3px 1px rgba(60, 64, 67, 0.15);\n",
              "      fill: #174EA6;\n",
              "    }\n",
              "\n",
              "    [theme=dark] .colab-df-convert {\n",
              "      background-color: #3B4455;\n",
              "      fill: #D2E3FC;\n",
              "    }\n",
              "\n",
              "    [theme=dark] .colab-df-convert:hover {\n",
              "      background-color: #434B5C;\n",
              "      box-shadow: 0px 1px 3px 1px rgba(0, 0, 0, 0.15);\n",
              "      filter: drop-shadow(0px 1px 2px rgba(0, 0, 0, 0.3));\n",
              "      fill: #FFFFFF;\n",
              "    }\n",
              "  </style>\n",
              "\n",
              "      <script>\n",
              "        const buttonEl =\n",
              "          document.querySelector('#df-fb32c834-596c-459a-830c-d62752279577 button.colab-df-convert');\n",
              "        buttonEl.style.display =\n",
              "          google.colab.kernel.accessAllowed ? 'block' : 'none';\n",
              "\n",
              "        async function convertToInteractive(key) {\n",
              "          const element = document.querySelector('#df-fb32c834-596c-459a-830c-d62752279577');\n",
              "          const dataTable =\n",
              "            await google.colab.kernel.invokeFunction('convertToInteractive',\n",
              "                                                     [key], {});\n",
              "          if (!dataTable) return;\n",
              "\n",
              "          const docLinkHtml = 'Like what you see? Visit the ' +\n",
              "            '<a target=\"_blank\" href=https://colab.research.google.com/notebooks/data_table.ipynb>data table notebook</a>'\n",
              "            + ' to learn more about interactive tables.';\n",
              "          element.innerHTML = '';\n",
              "          dataTable['output_type'] = 'display_data';\n",
              "          await google.colab.output.renderOutput(dataTable, element);\n",
              "          const docLink = document.createElement('div');\n",
              "          docLink.innerHTML = docLinkHtml;\n",
              "          element.appendChild(docLink);\n",
              "        }\n",
              "      </script>\n",
              "    </div>\n",
              "  </div>\n",
              "  "
            ],
            "text/plain": [
              "                                   recipe_name  ...                                         nutritions\n",
              "0                             Chicken jalfrezi  ...  {'calories': {'amount': '252', 'unit': 'kcal'}...\n",
              "1           West Indian spiced aubergine curry  ...  {'calories': {'amount': '157', 'unit': 'kcal'}...\n",
              "2                                    Saag aloo  ...  {'calories': {'amount': '201', 'unit': 'kcal'}...\n",
              "3                       Bombay potato frittata  ...  {'calories': {'amount': '317', 'unit': 'kcal'}...\n",
              "4                   Healthy chicken pasta bake  ...  {'calories': {'amount': '480', 'unit': 'kcal'}...\n",
              "...                                        ...  ...                                                ...\n",
              "1031           Moroccan roasted vegetable soup  ...  {'calories': {'amount': '187', 'unit': 'kcal'}...\n",
              "1032           Spinach & sweet potato tortilla  ...  {'calories': {'amount': '306', 'unit': 'kcal'}...\n",
              "1033                       Black bean burritos  ...  {'calories': {'amount': '518', 'unit': 'kcal'}...\n",
              "1034  Herbed pork fillet with roast vegetables  ...  {'calories': {'amount': '397', 'unit': 'kcal'}...\n",
              "1035         Piri-piri chicken with spicy rice  ...  {'calories': {'amount': '606', 'unit': 'kcal'}...\n",
              "\n",
              "[1036 rows x 5 columns]"
            ]
          },
          "execution_count": 60,
          "metadata": {},
          "output_type": "execute_result"
        }
      ],
      "source": [
        "columns = ['recipe_name', 'image_url', 'ingredients', 'cooking_directions', 'nutritions']\n",
        "df = pd.DataFrame(recipe_informations_4, columns = columns)\n",
        "df"
      ]
    },
    {
      "cell_type": "code",
      "execution_count": null,
      "metadata": {
        "id": "LnNEjfd6AleU"
      },
      "outputs": [],
      "source": [
        "df.to_csv(\"/content/drive/MyDrive/Manual_Dataset/data_recipe_bbcgoodfood.csv\")"
      ]
    },
    {
      "cell_type": "markdown",
      "metadata": {
        "id": "ZbVyxD9kx1Dx"
      },
      "source": [
        "### Scrapping from https://www.tarladalal.com/recipes-for-healthy-low-calorie-weight-loss-383 - Tarladalal"
      ]
    },
    {
      "cell_type": "markdown",
      "metadata": {
        "id": "PGMM-h5-yG2g"
      },
      "source": [
        "#### Web Scrapping Recipe Links - https://www.tarladalal.com/recipes-for-healthy-low-calorie-weight-loss-383?pageindex=1"
      ]
    },
    {
      "cell_type": "code",
      "execution_count": null,
      "metadata": {
        "id": "PzAh91_uyqwj"
      },
      "outputs": [],
      "source": [
        "import requests\n",
        "from bs4 import BeautifulSoup\n",
        "import pandas as pd"
      ]
    },
    {
      "cell_type": "code",
      "execution_count": null,
      "metadata": {
        "id": "7yEod8OM0LWR"
      },
      "outputs": [],
      "source": [
        "links = []"
      ]
    },
    {
      "cell_type": "code",
      "execution_count": null,
      "metadata": {
        "id": "HGFunF4Py0p9"
      },
      "outputs": [],
      "source": [
        "url = 'https://www.tarladalal.com/recipes-for-healthy-low-calorie-weight-loss-383?pageindex='"
      ]
    },
    {
      "cell_type": "code",
      "execution_count": null,
      "metadata": {
        "id": "zd2AsY-10Pyy"
      },
      "outputs": [],
      "source": [
        "front_url = 'https://www.tarladalal.com/'\n",
        "\n",
        "for i in range(1, 23):\n",
        "  temp_url = url + str(i)\n",
        "  temp_contents = requests.get(temp_url).content\n",
        "\n",
        "  bs = BeautifulSoup(temp_contents, 'html5lib')\n",
        "\n",
        "  container = bs.find('div', class_ = 'recipelist')\n",
        "  cards = container.find_all('article', class_ = 'rcc_recipecard')\n",
        "\n",
        "  for card in cards:\n",
        "    recipe_name = card.find('span', class_ = 'rcc_recipename')\n",
        "    link = recipe_name.find('a').get('href', None)\n",
        "\n",
        "    if link != None:\n",
        "      links.append(front_url + link)"
      ]
    },
    {
      "cell_type": "code",
      "execution_count": null,
      "metadata": {
        "colab": {
          "base_uri": "https://localhost:8080/"
        },
        "id": "gC5anqdF2zrb",
        "outputId": "6b20d8d6-ab53-499b-bbdd-89f144635be4"
      },
      "outputs": [
        {
          "output_type": "execute_result",
          "data": {
            "text/plain": [
              "524"
            ]
          },
          "metadata": {},
          "execution_count": 6
        }
      ],
      "source": [
        "len(links)"
      ]
    },
    {
      "cell_type": "code",
      "execution_count": null,
      "metadata": {
        "colab": {
          "base_uri": "https://localhost:8080/"
        },
        "id": "5213j9SM21i6",
        "outputId": "85b55e11-4d30-4ed9-8e3e-3c0700524c63"
      },
      "outputs": [
        {
          "output_type": "stream",
          "name": "stdout",
          "text": [
            "https://www.tarladalal.com/low-fat-curds-3962r\n",
            "https://www.tarladalal.com/low-cal-tomato-soup-4056r\n",
            "https://www.tarladalal.com/garlic-vegetable-soup---healthy-heart-5535r\n",
            "https://www.tarladalal.com/spicy-stir-fry-soup-cabbage-and-capsicum-stir-fry-soup-4624r\n",
            "https://www.tarladalal.com/homemade-almond-butter--for-weight-loss-and-athletes-41117r\n",
            "https://www.tarladalal.com/moong-dal-and-spinach-soup-1339r\n",
            "https://www.tarladalal.com/basic-kadai-gravy-popular-restaurant-style-kadai-gravy-recipe-33501r\n",
            "https://www.tarladalal.com/paneer-capsicum-sabzi-shimla-mirch-paneer-sabzi-33001r\n",
            "https://www.tarladalal.com/lemon-and-coriander-soup--vitamin-c-rich-4622r\n",
            "https://www.tarladalal.com/bajra-roti-3892r\n",
            "https://www.tarladalal.com/brown-bread--low-calorie-1320r\n",
            "https://www.tarladalal.com/spinach-and-chick-pea-soup-39143r\n",
            "https://www.tarladalal.com/lettuce-and-cauliflower-soup-39641r\n",
            "https://www.tarladalal.com/karela-tikkis-bitter-gourd-tikki-recipe-22273r\n",
            "https://www.tarladalal.com/carrot-onion-soup-22228r\n",
            "https://www.tarladalal.com/pumpkin-soup-low-calorie-soup-32987r\n",
            "https://www.tarladalal.com/how-to-make-homemade-skimmed-milk-42374r\n",
            "https://www.tarladalal.com/ginger-cinnamon-tea-41753r\n",
            "https://www.tarladalal.com/onion-tomato-koshimbir-40185r\n",
            "https://www.tarladalal.com/how-to-make-karela-juice-bitter-gourd-juice-for-diabetes-42323r\n"
          ]
        }
      ],
      "source": [
        "count = 0\n",
        "\n",
        "for link in links:\n",
        "  print(link)\n",
        "\n",
        "  count += 1\n",
        "  if count == 20:\n",
        "    break"
      ]
    },
    {
      "cell_type": "markdown",
      "metadata": {
        "id": "xfxPvvGY4U79"
      },
      "source": [
        "#### Retrieving Informations About Single Recipes"
      ]
    },
    {
      "cell_type": "code",
      "execution_count": null,
      "metadata": {
        "id": "t83SEo5S4Voj"
      },
      "outputs": [],
      "source": [
        "temp_url = links[0]\n",
        "temp_contents = requests.get(temp_url).content\n",
        "\n",
        "bs = BeautifulSoup(temp_contents, 'html5lib')"
      ]
    },
    {
      "cell_type": "markdown",
      "metadata": {
        "id": "4Cjb8GLk4sih"
      },
      "source": [
        "##### Retrieving Name of a Single Recipe"
      ]
    },
    {
      "cell_type": "code",
      "execution_count": null,
      "metadata": {
        "id": "In8Idk5R4v-J"
      },
      "outputs": [],
      "source": [
        "def get_recipe_name_5(bs):\n",
        "  try:\n",
        "    recipe_name_words = bs.find('div', id = 'recipehead').find('h1').find_all('span')[1].text\n",
        "\n",
        "    recipe_name = recipe_name_words.split('|')[0].split()\n",
        "\n",
        "    return \" \".join(recipe_name[:-1])\n",
        "\n",
        "  except:\n",
        "    return -1"
      ]
    },
    {
      "cell_type": "code",
      "execution_count": null,
      "metadata": {
        "colab": {
          "base_uri": "https://localhost:8080/",
          "height": 35
        },
        "id": "BYOrzOwC93B3",
        "outputId": "aa6dbb16-c80e-4da3-8874-a50bc8ca8fe0"
      },
      "outputs": [
        {
          "output_type": "execute_result",
          "data": {
            "application/vnd.google.colaboratory.intrinsic+json": {
              "type": "string"
            },
            "text/plain": [
              "'Low Fat'"
            ]
          },
          "metadata": {},
          "execution_count": 10
        }
      ],
      "source": [
        "get_recipe_name_5(bs)"
      ]
    },
    {
      "cell_type": "markdown",
      "metadata": {
        "id": "XlcbeWac-QCT"
      },
      "source": [
        "##### Retrieving Image URL of a Single Recipe"
      ]
    },
    {
      "cell_type": "code",
      "execution_count": null,
      "metadata": {
        "id": "I9EZ1uCB-QpA"
      },
      "outputs": [],
      "source": [
        "def get_recipe_image_5(bs):\n",
        "  try:\n",
        "    recipe_image = bs.find('div', id = 'rcpimg').find('img')['src']\n",
        "\n",
        "    return recipe_image\n",
        "\n",
        "  except:\n",
        "    return -1"
      ]
    },
    {
      "cell_type": "code",
      "execution_count": null,
      "metadata": {
        "colab": {
          "base_uri": "https://localhost:8080/"
        },
        "id": "VqHW9klz_Hud",
        "outputId": "07e65e04-b804-45b6-a042-f7d683bf3301"
      },
      "outputs": [
        {
          "output_type": "stream",
          "name": "stdout",
          "text": [
            "https://cdn.tarladalal.com/members/9306/big/big_low_fat_curds-14065.jpg?size=696X905\n"
          ]
        }
      ],
      "source": [
        "print(get_recipe_image_5(bs))"
      ]
    },
    {
      "cell_type": "markdown",
      "metadata": {
        "id": "yoK97eKZv_5J"
      },
      "source": [
        "##### Retrieving Nutritions of a Single Recipe"
      ]
    },
    {
      "cell_type": "code",
      "execution_count": null,
      "metadata": {
        "id": "i10SMwpJwLpS"
      },
      "outputs": [],
      "source": [
        "def get_recipe_nutritions_5(bs):\n",
        "  try:\n",
        "    containers = bs.find_all('div', id = 'rcpnuts')[0].find('tbody').find_all('tr')\n",
        "\n",
        "    recipe_nutrients = dict()\n",
        "\n",
        "    for container in containers:\n",
        "      unit = ''\n",
        "      amount = ''\n",
        "      nutrient, quantity = container.find_all('td')\n",
        "      nutrient = nutrient.text\n",
        "      quantity = quantity.find('span').text.split()\n",
        "\n",
        "      if nutrient == 'Energy':\n",
        "        nutrient = 'calories'\n",
        "\n",
        "      amount = quantity[0]\n",
        "      unit = quantity[1]\n",
        "      \n",
        "      nutrient_info = dict()\n",
        "      nutrient_info['amount'] = amount\n",
        "      nutrient_info['unit'] = unit\n",
        "\n",
        "      recipe_nutrients[nutrient] = nutrient_info\n",
        "\n",
        "    return recipe_nutrients\n",
        "\n",
        "  except Exception as e:\n",
        "    return -1"
      ]
    },
    {
      "cell_type": "code",
      "execution_count": null,
      "metadata": {
        "colab": {
          "base_uri": "https://localhost:8080/"
        },
        "id": "sRyHRBgZy-oA",
        "outputId": "31a01aee-d10b-41f4-cc5c-a169e476b5e6"
      },
      "outputs": [
        {
          "output_type": "execute_result",
          "data": {
            "text/plain": [
              "{'Carbohydrates': {'amount': '10.2', 'unit': 'g'},\n",
              " 'Cholesterol': {'amount': '0.5', 'unit': 'mg'},\n",
              " 'Fat': {'amount': '0.4', 'unit': 'g'},\n",
              " 'Fiber': {'amount': '0', 'unit': 'g'},\n",
              " 'Protein': {'amount': '7.1', 'unit': 'g'},\n",
              " 'Sodium': {'amount': '100.6', 'unit': 'mg'},\n",
              " 'calories': {'amount': '74', 'unit': 'cal'}}"
            ]
          },
          "metadata": {},
          "execution_count": 14
        }
      ],
      "source": [
        "get_recipe_nutritions_5(bs)"
      ]
    },
    {
      "cell_type": "markdown",
      "metadata": {
        "id": "aA1jEzsMz8wb"
      },
      "source": [
        "##### Retrieving Ingredients of a Single Recipe"
      ]
    },
    {
      "cell_type": "code",
      "execution_count": null,
      "metadata": {
        "id": "_RI0VSKE0AzK"
      },
      "outputs": [],
      "source": [
        "def get_recipe_ingredients_5(bs):\n",
        "  try:\n",
        "    recipe_ingredients = []\n",
        "\n",
        "    ingredients_container = bs.find('div', id = 'rcpinglist')\n",
        "    ingredients = ingredients_container.find_all('span', itemprop = \"recipeIngredient\")\n",
        "\n",
        "    for ingredient in ingredients:\n",
        "      recipe_ingredients.append(ingredient.text.strip())\n",
        "\n",
        "    return recipe_ingredients\n",
        "\n",
        "  except Exception as e:\n",
        "    return -1"
      ]
    },
    {
      "cell_type": "code",
      "execution_count": null,
      "metadata": {
        "colab": {
          "base_uri": "https://localhost:8080/"
        },
        "id": "4kqwzYWO0lfa",
        "outputId": "ba1adf14-ff24-4d9f-cafc-88821fdfe00c"
      },
      "outputs": [
        {
          "output_type": "execute_result",
          "data": {
            "text/plain": [
              "['5 cups low fat milk', '1 tbsp curd (dahi)']"
            ]
          },
          "metadata": {},
          "execution_count": 16
        }
      ],
      "source": [
        "get_recipe_ingredients_5(bs)"
      ]
    },
    {
      "cell_type": "markdown",
      "metadata": {
        "id": "jcrjkkYE09wG"
      },
      "source": [
        "##### Retrieving Instructions of a Single Recipe"
      ]
    },
    {
      "cell_type": "code",
      "execution_count": null,
      "metadata": {
        "id": "NzKNZf-Q0-MU"
      },
      "outputs": [],
      "source": [
        "def get_recipe_instructions_5(bs):\n",
        "  try:\n",
        "    recipe_instructions = []\n",
        "\n",
        "    instructions_container = bs.find('ol', itemprop = \"recipeInstructions\")\n",
        "    instructions = instructions_container.find_all('li', itemprop = \"itemListElement\")\n",
        "\n",
        "    for instruction in instructions:\n",
        "      temp_ins = instruction.find('span', itemprop = \"text\").text.strip()\n",
        "      recipe_instructions.append(temp_ins)\n",
        "\n",
        "    return recipe_instructions\n",
        "\n",
        "  except Exception as e:\n",
        "    return -1"
      ]
    },
    {
      "cell_type": "code",
      "execution_count": null,
      "metadata": {
        "colab": {
          "base_uri": "https://localhost:8080/"
        },
        "id": "RksMNAOq1EgW",
        "outputId": "045e2693-53da-49a5-8972-ab7aaec45116"
      },
      "outputs": [
        {
          "output_type": "execute_result",
          "data": {
            "text/plain": [
              "['To make low fat curds, heat the milk in a deep non-stick pan on a medium flame for 6 to 8 minutes, while stirring occasionally. Allow it to cool slightly.',\n",
              " 'Add the curd in a bowl and spread it evenly with the help of a spoon.',\n",
              " 'Pour the luke warm milk over it and mix it very well using a whisk or a spoon.',\n",
              " 'Cover with a lid and keep in a warm place for atleast 6 to 8 hours.',\n",
              " 'Refrigerate the low fat curds for atleast 1 hour and serve chilled.']"
            ]
          },
          "metadata": {},
          "execution_count": 18
        }
      ],
      "source": [
        "get_recipe_instructions_5(bs)"
      ]
    },
    {
      "cell_type": "markdown",
      "metadata": {
        "id": "EXMXfQ9E1Ip0"
      },
      "source": [
        "#### Retrieving Information of all Recipes from the Links Scrapped"
      ]
    },
    {
      "cell_type": "code",
      "execution_count": null,
      "metadata": {
        "id": "iyo7fDEG1Pm0"
      },
      "outputs": [],
      "source": [
        "recipe_informations_5 = []"
      ]
    },
    {
      "cell_type": "code",
      "execution_count": null,
      "metadata": {
        "id": "DI-4wPoa1ZBO"
      },
      "outputs": [],
      "source": [
        "for link in links:\n",
        "  temp_contents = requests.get(link).content\n",
        "\n",
        "  bs = BeautifulSoup(temp_contents, 'html5lib')\n",
        "\n",
        "  recipe_name = get_recipe_name_5(bs)\n",
        "  recipe_image = get_recipe_image_5(bs)\n",
        "  recipe_nutritions = get_recipe_nutritions_5(bs)\n",
        "  recipe_ingredients = get_recipe_ingredients_5(bs)\n",
        "  recipe_instructions = get_recipe_instructions_5(bs)\n",
        "\n",
        "  if recipe_name == -1 or recipe_image == -1 or recipe_nutritions == -1 or recipe_ingredients == -1 or recipe_instructions == -1:\n",
        "    continue\n",
        "\n",
        "  count += 1\n",
        "  recipe_info = []\n",
        "  recipe_info.append(recipe_name)\n",
        "  recipe_info.append(recipe_image)\n",
        "  recipe_info.append(\"^\".join(recipe_ingredients))\n",
        "  recipe_info.append(\"^\".join(recipe_instructions))\n",
        "  recipe_info.append(recipe_nutritions)\n",
        "\n",
        "  recipe_informations_5.append(recipe_info)"
      ]
    },
    {
      "cell_type": "code",
      "execution_count": null,
      "metadata": {
        "colab": {
          "base_uri": "https://localhost:8080/"
        },
        "id": "LJ4ZKE_31kOL",
        "outputId": "2ef59bd8-0f45-49b3-c5e5-b1230c0aa058"
      },
      "outputs": [
        {
          "output_type": "stream",
          "name": "stdout",
          "text": [
            "['Low Fat', 'https://cdn.tarladalal.com/members/9306/big/big_low_fat_curds-14065.jpg?size=696X905', '5 cups low fat milk^1 tbsp curd (dahi)', 'To make low fat curds, heat the milk in a deep non-stick pan on a medium flame for 6 to 8 minutes, while stirring occasionally. Allow it to cool slightly.^Add the curd in a bowl and spread it evenly with the help of a spoon.^Pour the luke warm milk over it and mix it very well using a whisk or a spoon.^Cover with a lid and keep in a warm place for atleast 6 to 8 hours.^Refrigerate the low fat curds for atleast 1 hour and serve chilled.', {'calories': {'amount': '74', 'unit': 'cal'}, 'Protein': {'amount': '7.1', 'unit': 'g'}, 'Carbohydrates': {'amount': '10.2', 'unit': 'g'}, 'Fiber': {'amount': '0', 'unit': 'g'}, 'Fat': {'amount': '0.4', 'unit': 'g'}, 'Cholesterol': {'amount': '0.5', 'unit': 'mg'}, 'Sodium': {'amount': '100.6', 'unit': 'mg'}}]\n",
            "['Low Cal Tomato', 'https://cdn.tarladalal.com/members/9306/big/big_low_cal_tomato_soup-15281.jpg?size=696X905', '5 cups roughly chopped tomatoes^1/4 cup yellow moong dal (split yellow gram) , washed and drained^1 tsp olive oil^1/2 cup finely chopped onions^1/2 cup low-fat milk , 99.7% fat-free^salt and taste', 'To make low cal tomato soup, combine 4 cups of water, tomatoes and moong dal in a deep non-stick kadhai , mix well and cook on a medium flame for 8 to 10 minutes or till the tomatoes are soft, while stirring occasionally.^Remove from the flame and keep aside to cool.^Blend in a mixer to a smooth mixture. Do not strain and keep aside.^Heat the olive oil in a deep non-stick kadhai, add the onions and sauté on a medium flame for 1 to 2 minutes or till they turn light brown in colour.^Add the tomato-moong dal mixture, low-fat milk, salt and pepper and mix well.^Bring to a boil, while stirring occasionally and simmer for 5 minutes.^Serve the low cal tomato soup hot.', {'calories': {'amount': '66', 'unit': 'calories'}, 'Protein': {'amount': '3.1', 'unit': 'gm'}, 'Carbohydrates': {'amount': '10.9', 'unit': 'gm'}, 'Fat': {'amount': '1.0', 'unit': 'gm'}, 'Vitamin A': {'amount': '506.9', 'unit': 'mcg'}, 'Vitamin C': {'amount': '36.3', 'unit': 'mg'}, 'Iron': {'amount': '1.1', 'unit': 'mg'}, 'Fibre': {'amount': '2.8', 'unit': 'gm'}}]\n",
            "['garlic vegetable soup', 'https://cdn.tarladalal.com/members/9306/big/big_garlic_vegetable_soup_(__healthy_heart)-15077.jpg?size=696X905', '2 tsp finely chopped garlic (lehsun)^1 cup chopped and boiled mixed vegetables^1 tsp oil^1/4 cup finely chopped onions^salt and to taste^2 tbsp quick cooking rolled oats^2 tbsp chopped coriander (dhania)', 'To make garlic vegetable soup, heat the oil in a deep non-stick pan, add the garlic and onions and sautÃ© on a medium flame for 1 to 2 minutes.^Add the mixed vegetables, 3 cups of water, salt and pepper, mix well and cook on a medium flame for 2 minutes, while stirring occasionally.^Add the oats and coriander, mix well and cook on a medium flame for another 1 minute.^Serve the garlic vegetable soup hot.', {'calories': {'amount': '43', 'unit': 'cal'}, 'Protein': {'amount': '1.7', 'unit': 'g'}, 'Carbohydrates': {'amount': '5.8', 'unit': 'g'}, 'Fiber': {'amount': '1.9', 'unit': 'g'}, 'Fat': {'amount': '1.5', 'unit': 'g'}, 'Cholesterol': {'amount': '0', 'unit': 'mg'}, 'Sodium': {'amount': '8.8', 'unit': 'mg'}}]\n",
            "['Homemade Almond Butter, for Weight Loss and', 'https://cdn.tarladalal.com/members/9306/big/big_homemade_almond_butter,__for_weight_loss_and_athletes-12052.jpg?size=696X905', '2 cups almonds (badam)^1 tbsp organic coconut oil', 'Roast the almonds in a broad non-stick pan for 5 minutes on a medium flame.^Cool completely.^Once cooled, blend in a mixer till coarse.^Add the coconut oil and blend for 10 minutes, while switching the knob on and off after every half minute or else the mixer motor will tend to burn.^Wait for a minute, blend again for 5 minutes, while switching the knob on and off after every half minute.^Wait for another minute and finally blend again for 5 minutes, while switching the knob on and off after every half minute.^Store in a glass bottle covered with a lid in the refrigerator.^Use as required.', {'calories': {'amount': '103', 'unit': 'cal'}, 'Protein': {'amount': '3', 'unit': 'g'}, 'Carbohydrates': {'amount': '1.5', 'unit': 'g'}, 'Fiber': {'amount': '0.2', 'unit': 'g'}, 'Fat': {'amount': '9.5', 'unit': 'g'}, 'Cholesterol': {'amount': '0', 'unit': 'mg'}, 'Sodium': {'amount': '0', 'unit': 'mg'}}]\n",
            "['Moong Dal and Spinach', 'https://cdn.tarladalal.com/members/9306/big/big_moong_dal_and_spinach_soup-9544.jpg?size=696X905', '4 tbsp yellow moong dal (split yellow gram) , soaked for 10 minutes and drained^1/2 cup finely chopped spinach (palak)^1 tsp cornflour^1/4 cup low-fat milk , 99.7% fat-free^salt and to taste', 'Combine the cornflour and milk in a bowl, mix well and keep aside.^Combine the yellow moong dal and 2 cups of hot water in a pressure cooker, mix well and pressure cook for 2 whistles.^Allow the steam to escape before opening the lid^Mix the dal very well with help of a whisk.^Add the spinach, cornflour-milk mixture, salt and pepper powder, mix well and cook on a medium flame for 3 to 4 minutes, while stirring continuously.^Serve hot.', {'calories': {'amount': '120', 'unit': 'cal'}, 'Protein': {'amount': '8.3', 'unit': 'g'}, 'Carbohydrates': {'amount': '20.4', 'unit': 'g'}, 'Fiber': {'amount': '3', 'unit': 'g'}, 'Fat': {'amount': '0.6', 'unit': 'g'}, 'Cholesterol': {'amount': '0', 'unit': 'mg'}, 'Sodium': {'amount': '30.3', 'unit': 'mg'}}]\n",
            "['basic kadai gravy', 'https://cdn.tarladalal.com/members/9306/big/big_basic_kadhai_gravy_(_popular_restauant_recipes_)-11010.jpg?size=696X905', '1 tbsp coriander (dhania) seeds^10 whole dry kashmiri red chillies^2 1/2 tbsp oil^2 tbsp finely chopped garlic (lehsun)^1 tbsp finely chopped green chillies^2 1/2 cups finely chopped tomatoes^1/4cup tomato puree^1 tsp dried fenugreek leaves (kasuri methi)^1 tsp garam masala^salt to taste', 'To make kadai gravy, combine the red chillies and coriander seeds and dry roast on a hot tava (griddle), for 30 seconds.^Remove and keep aside to cool.^Blend in a mixer to a fine powder. Keep aside.^Heat the oil in a kadhai, add the garlic and sauté on a medium flame for a few seconds.^Add the prepared powder and sauté on a medium flame for a few seconds.^Add the green chillies and sauté on a medium flame for another 30 seconds.^Add the tomatoes, mix well and cook on a medium flame for 10 to 12 minutes or till the oil separates, while stirring occasionally.^Mash it a little using a potato masher.^Add the tomato puree, dried fenugreek leaves, garam masala, salt and approx 2 tbsp water, mix well and cook on a medium flame for 1 to 2 minutes. Use the kadai gravy as required.', {'calories': {'amount': '435', 'unit': 'cal'}, 'Protein': {'amount': '4.3', 'unit': 'g'}, 'Carbohydrates': {'amount': '16.7', 'unit': 'g'}, 'Fiber': {'amount': '7.3', 'unit': 'g'}, 'Fat': {'amount': '38.8', 'unit': 'g'}, 'Cholesterol': {'amount': '0', 'unit': 'mg'}, 'Sodium': {'amount': '51.4', 'unit': 'mg'}}]\n",
            "['paneer capsicum sabzi', 'https://cdn.tarladalal.com/members/9306/big/big_paneer_capsicum_sabzi,_shimla_mirch_paneer_sabzi-15497.jpg?size=696X905', '3/4 cup low fat paneer (cottage cheese) cubes^1 tbsp dried fenugreek leaves (kasuri methi)^1/2 tsp chilli powder^1/2 tsp turmeric powder (haldi)^1/2 tsp chaat masala^salt to taste^1 tsp oil^2 cups capsicum cubes (red , yellow and green)^1 tsp oil^1/2 tsp cumin seeds (jeera)^1/2 tsp carom seeds (ajwain)^1 tsp garlic (lehsun) paste^1 tsp finely chopped green chillies^1/2 cup onion cubes^1 tsp coriander powder^1 cup fresh tomato pulp^a sprig of coriander (dhania)', 'Combine the paneer, dried fenugreek leaves, chilli powder, turmeric powder, chaat masala and salt in a deep bowl, mix gently and keep aside for 5 minutes.^Heat the oil on a non-stick tava (griddle), add the marinated paneer, toss gently and cook on a on medium flame for 1 to 2 minutes, while stirring occasionally. Remove and keep aside.', {'calories': {'amount': '80', 'unit': 'cal'}, 'Protein': {'amount': '3', 'unit': 'g'}, 'Carbohydrates': {'amount': '10.5', 'unit': 'g'}, 'Fiber': {'amount': '3.4', 'unit': 'g'}, 'Fat': {'amount': '3', 'unit': 'g'}, 'Cholesterol': {'amount': '0', 'unit': 'mg'}, 'Sodium': {'amount': '1483.6', 'unit': 'mg'}}]\n",
            "['lemon and coriander soup', 'https://cdn.tarladalal.com/members/9306/big/big_lemon_and_coriander_soup_(_vitamin_c_rich)-10291.jpg?size=696X905', '1 tbsp lemon juice^1/4 cup finely chopped coriander (dhania)^2 tsp oil^2 tsp finely chopped garlic (lehsun)^2 tsp finely chopped green chillies^1/4 cup finely chopped onions^1/4 cup finely chopped cabbage^1/4 cup finely chopped carrot^3 cups basic vegetable stock^salt to taste^2 tsp cornflour dissolved in 2 tbsp water (optional)', 'To make lemon and coriander soup, heat the oil in a deep non-stick pan, add the garlic and green chillies and sautÃ© on a medium flame for a few seconds.^Add the onions and sautÃ© on a medium flame for 1 to 2 minutes.^Add the cabbage and carrots and sautÃ© on a medium flame for 1 minute.^Add the basic vegetable stock, lemon juice, salt and cornflour-water mixture, mix well and cook on a medium flame for 2 to 3 minutes, while stirring occasionally. Add the coriander and mix well.^Serve the lemon and coriander soup immediately.', {'calories': {'amount': '67', 'unit': 'cal'}, 'Protein': {'amount': '1.4', 'unit': 'g'}, 'Carbohydrates': {'amount': '9.1', 'unit': 'g'}, 'Fiber': {'amount': '2.5', 'unit': 'g'}, 'Fat': {'amount': '2.8', 'unit': 'g'}, 'Cholesterol': {'amount': '0', 'unit': 'mg'}, 'Sodium': {'amount': '23.8', 'unit': 'mg'}}]\n",
            "['bajra roti', 'https://cdn.tarladalal.com/members/9306/big/big_bajra_roti-15827.jpg?size=696X905', '2 cups bajra (black millet) flour^1/4 cup whole wheat flour (gehun ka atta)^salt to taste^whole wheat flour (gehun ka atta) for rolling^4 tsp ghee for smearing^white butter', 'Combine the bajra flour, whole wheat flour and salt in a deep bowl and knead into a soft dough using approx. ¾ cup of warm water.^Divide the dough into 8 equal portions.^Roll out a portion of the dough into a 150 mm. (6\") diameter thick roti using a little whole wheat flour for rolling.^Heat a non-stick tava (griddle), place the roti over it and cook it for a few seconds or till a few bristles appear on top.^Turn over the roti and cook the other side for a few more seconds.^Lift the roti with a pair of flat tongs and roast over an open flame till brown spots appear on both the sides.^Smear 1/2 tsp ghee on top.^Repeat steps 3 to 7 to make 7 more bajra rotis.^Serve bajra roti | bajre ki roti | healthy pearl millet roti | rajasthani bajra roti immediately with white butter.', {'calories': {'amount': '123', 'unit': 'cal'}, 'Protein': {'amount': '3.3', 'unit': 'g'}, 'Carbohydrates': {'amount': '19.1', 'unit': 'g'}, 'Fiber': {'amount': '3.2', 'unit': 'g'}, 'Fat': {'amount': '3.8', 'unit': 'g'}, 'Cholesterol': {'amount': '0', 'unit': 'mg'}, 'Sodium': {'amount': '3.4', 'unit': 'mg'}}]\n",
            "['low calorie brown', 'https://cdn.tarladalal.com/members/9306/big/big_brown_bread_(_low_calorie)-15599.jpg?size=696X905', '2 1/2 cups whole wheat flour (gehun ka atta)^1 tbsp instant dry yeast^2 tsp sugar^3/4 tsp salt^1 tsp olive oil^whole wheat flour (gehun ka atta) for sprinkling^1/4 tsp olive oil for brushing', 'To make low calorie brown bread, combine the yeast, sugar and ¼ cup of warm water in a bowl, cover it with a lid and keep aside for 10 minutes.^Combine the whole wheat flour, salt and yeast-sugar mixture in a deep bowl, mix well and knead into a soft dough using enough warm water.^Add the olive oil and knead very well till the dough is smooth.^Shape the dough into a proper round using both your hands while tucking the edges at the bottom.^Cover it with a dry muslin cloth and keep aside in a warm place for 45 minutes or till the dough is double in size.^Sprinkle the whole wheat flour over a smooth, flat surface, place the dough over it and knead it very well using both your hands. If the dough is getting sticky while kneading, then sprinkle little whole wheat flour as required.^Tap the dough with your fingers and spread it to make a 250 mm. X 200 mm. (10” x 8”) diameter oval shape.^Roll the dough to make a 200 mm. (8”) long cylindrical roll and place it in a greased bread loaf tin. Cover it with a dry muslin cloth and again keep aside in a warm place for 30 minutes.^Bake it in a pre-heated oven at 200°c (400°f) for 10 minutes.^Lower the temperature to 180°c (360°f) and bake it for 20 minutes.^Once the bread loaf is slightly cooled, de-mould it and keep aside to cool slightly.^Brush the bread loaf with little olive oil.^Once the bread loaf has cooled completely, cut it into 13 mm. ( ½’) bread slices.^Serve the low calorie brown bread immediately or use as required.', {'calories': {'amount': '75', 'unit': 'cal'}, 'Protein': {'amount': '2.5', 'unit': 'g'}, 'Carbohydrates': {'amount': '15.4', 'unit': 'g'}, 'Fiber': {'amount': '2.5', 'unit': 'g'}, 'Fat': {'amount': '0.8', 'unit': 'g'}, 'Cholesterol': {'amount': '0', 'unit': 'mg'}, 'Sodium': {'amount': '125.2', 'unit': 'mg'}}]\n",
            "['Spinach and Chick Pea', 'https://cdn.tarladalal.com/members/9306/big/big_spinach_and_chick_pea_soup-7813.jpg?size=696X905', '1 1/2 cups shredded spinach (palak)^3/4 cup soaked and boiled kabuli chana (white chick peas)^2 tsp olive oil^2 tsp finely chopped garlic (lehsun)^1 tsp finely chopped green chillies^1/4 cup finely chopped spring onions whites^3 cups basic vegetable stock^salt and to taste^1 tsp dried oregano^1 tbsp lemon juice', 'Heat the olive oil in a deep non-stick kadhai, add the garlic, green chillies and spring onion whites^And sauté on a medium flame for a minute.^Add the spinach and kabulichana and sauté on a medium flame for another 2 minutes.^Add the basic vegetable stock, salt, pepper, oregano and lemon juice, mix well and bring to a^Boil.^Serve immediately.', {'calories': {'amount': '108', 'unit': 'cal'}, 'Protein': {'amount': '3.9', 'unit': 'g'}, 'Carbohydrates': {'amount': '15', 'unit': 'g'}, 'Fiber': {'amount': '6.5', 'unit': 'g'}, 'Fat': {'amount': '3.6', 'unit': 'g'}, 'Cholesterol': {'amount': '0', 'unit': 'mg'}, 'Sodium': {'amount': '35.1', 'unit': 'mg'}}]\n",
            "['Lettuce and Cauliflower', 'https://cdn.tarladalal.com/members/9306/big/big_lettuce_and_cauliflower_soup-8852.jpg?size=696X905', '3 cups iceberg lettuce , torn into pieces^1 cup finely chopped cauliflower^2 tsp oil^1/4 cup finely chopped onions^salt and freshly ground black pepper (kalimirch) to taste', 'Heat the oil in a deep non-stick pan, add the onions and sautÃ© on a medium flame for 1 minute.^Add the lettuce and cauliflower and sautÃ© on a medium flame for 2 minutes^Add 3 cups of water and salt, mix well and cook on a medium flame for 10 minutes, while stirring occasionally.^Allow the mixture to cool completely and blend in a mixer to a smooth purÃ©e.^Transfer the purÃ©e into a deep non-stick pan, add the pepper powder, mix well and cook on a medium flame for 5 minutes, while stirring occasionally.^Serve hot.', {'calories': {'amount': '50', 'unit': 'cal'}, 'Protein': {'amount': '2.3', 'unit': 'g'}, 'Carbohydrates': {'amount': '3.9', 'unit': 'g'}, 'Fiber': {'amount': '1.7', 'unit': 'g'}, 'Fat': {'amount': '2.8', 'unit': 'g'}, 'Cholesterol': {'amount': '0', 'unit': 'mg'}, 'Sodium': {'amount': '55', 'unit': 'mg'}}]\n",
            "['karela tikki', 'https://cdn.tarladalal.com/members/9306/big/big_karela_tikkis,_bitter_gourd_tikki_recipe-14348.jpg?size=696X905', '1/2 cup grated bitter gourd (karela) , unpeeled^salt to taste^3/4 cup grated carrot^3/4 cup boiled and coarsely mashed green peas^1/2 cup crumbled low fat paneer (cottage cheese)^2 tbsp finely chopped coriander (dhania)^1/2 cup quick cooking rolled oats^1 tsp green chilli paste^1 tbsp lemon juice^1 1/2 tsp peanut oil or for greasing and cooking^1 1/2 tbsp finely chopped garlic (lehsun)^1 cup finely chopped tomatoes^1 tsp oil^1/4 cup finely chopped spring onions whites^2 whole dry kashmiri red chillies , soaked and finely chopped^salt to taste^1 tbsp finely chopped coriander (dhania)^1 tbsp finely chopped spring onion greens', 'Apply a little salt to the bitter gourd, mix well and keep aside for 2 to 3 minutes. Squeeze and keep the water aside. This water can be used as given in the handy tip.^Combine the bitter gourd, carrot, green peas, paneer, coriander, oats, green chilli paste, lemon juice and salt in a bowl and mix well.^Divide the mixture into 16 equal portions and shape each portion into 50 mm. (2”) flat round tikkis.^Heat a non-stick tava (griddle) and grease it using ¼ tsp of oil.^Place 8 karela tikkis and cook them, using ½ tsp of oil, till they turn golden brown in colour from both the sides.^Repeat step 4 and 5 to cook 8 more karela tikkis. Keep aside.', {'calories': {'amount': '75', 'unit': 'kcal'}, 'Protein': {'amount': '3.6', 'unit': 'gm'}, 'Carbohydrates': {'amount': '11.5', 'unit': 'gm'}, 'Fat': {'amount': '2.4', 'unit': 'gm'}, 'Fibre': {'amount': '2.5', 'unit': 'gm'}, 'Vitamin A': {'amount': '410.4', 'unit': 'mcg'}, 'Vitamin C': {'amount': '14.5', 'unit': 'mg'}}]\n",
            "['carrot onion soup', 'https://cdn.tarladalal.com/members/9306/big/big_carrot_onion_soup-14644.jpg?size=696X905', '1 1/2 cups chopped carrot^3/4 cup roughly chopped onions^1 tsp olive oil^1/2 cup chopped apple^salt to taste^1/2 tsp dried mixed herbs^1/2 cup low fat milk , 99.7% fat-free^freshly ground black pepper (kalimirch) to taste', 'To make carrot onion soup, heat the oil pressure cooker on a medium flame and when hot, add the onions and sauté on a medium flame for 2 minutes.^Add the carrot, apple, little salt and 1½ cups of water, mix well and pressure cook for 3 whistles.^Allow the steam to escape before opening the lid.^Cool slightly and blend in a mixer till smooth.^Transfer the mixture into a deep non-stick pan, add the mixed herbs, milk, ½ cup of water, salt and pepper powder, mix well and cook on a medium flame for 3 minutes, while stirring occasionally.^Serve the carrot onion soup hot.', {'calories': {'amount': '68', 'unit': 'cal'}, 'Protein': {'amount': '1.7', 'unit': 'g'}, 'Carbohydrates': {'amount': '12.1', 'unit': 'g'}, 'Fiber': {'amount': '3.2', 'unit': 'g'}, 'Fat': {'amount': '1.5', 'unit': 'g'}, 'Cholesterol': {'amount': '0', 'unit': 'mg'}, 'Sodium': {'amount': '38.1', 'unit': 'mg'}}]\n",
            "['pumpkin soup', 'https://cdn.tarladalal.com/members/9306/big/big_pumpkin_soup,_low_calorie_soup-15552.jpg?size=696X905', '2 cups red pumpkin (bhopla / kaddu) cubes^1 tsp low fat butter^1/4 cup finely chopped onions^salt and to taste^1 tsp dried oregano', 'To make the pumpkin soup, heat the butter in a deep non-stick pan, add the onions and saut├й on a medium flame for 1 minute.^Add the pumpkin and cook on a medium flame for 3 minutes, while stirring occasionally.^Add 3 cups of hot water, salt and pepper and mix well.^Cover with a lid and cook on a medium flame for 10 minutes, while stirring occasionally.^Remove from the flame and keep aside to cool completely.^Once cooled, blend in a mixer till smooth.^Transfer the mixture back into the same deep non-stick pan, add the oregano and mix well.^Cook the pumpkin soup on a medium flame for 1 minute or till it comes to boil, while stirring continuously.^Serve the pumpkin soup immediately.', {'calories': {'amount': '34', 'unit': 'cal'}, 'Protein': {'amount': '1.3', 'unit': 'g'}, 'Carbohydrates': {'amount': '5.1', 'unit': 'g'}, 'Fiber': {'amount': '0.6', 'unit': 'g'}, 'Fat': {'amount': '0.9', 'unit': 'g'}, 'Cholesterol': {'amount': '2.5', 'unit': 'mg'}, 'Sodium': {'amount': '13.4', 'unit': 'mg'}}]\n",
            "['how to make skimmed milk', 'https://cdn.tarladalal.com/members/9306/big/big_how_to_make_homemade_skimmed_milk-13631.jpg?size=696X905', '4 1/2 cups full-fat milk', 'To make skimmed milk, boil the milk in a deep non-stick pan, which will take 8 to 10 minutes.^Cool for atleast 2 to 3 hours.^Put it in the refrigerator for atleast 10 to 12 hours.^Remove the cream from the top.^Repeat steps 1 to 4 two more times to get the skimmed milk. Use as required.', {'calories': {'amount': '351', 'unit': 'cal'}, 'Protein': {'amount': '12.9', 'unit': 'g'}, 'Carbohydrates': {'amount': '15', 'unit': 'g'}, 'Fiber': {'amount': '0', 'unit': 'g'}, 'Fat': {'amount': '19.5', 'unit': 'g'}, 'Cholesterol': {'amount': '48', 'unit': 'mg'}, 'Sodium': {'amount': '57', 'unit': 'mg'}}]\n",
            "['ginger cinnamon tea', 'https://cdn.tarladalal.com/members/9306/big/big_ginger_cinnamon_tea-15822.jpg?size=696X905', '2 tbsp ginger (adrak) roundels^1 small stick cinnamon (dalchini)^1 tsp honey , optional', 'To make ginger cinnamon tea, combine the ginger, cinnamon and 2 cups of water in a non-stick saucepan. Mix well, cover with a lid and cook on a medium flame for 8 minutes.^Strain the mixture.^Add the honey and mix well.^Serve the ginger cinnamon tea warm.', {'calories': {'amount': '5', 'unit': 'cal'}, 'Protein': {'amount': '0', 'unit': 'g'}, 'Carbohydrates': {'amount': '1.4', 'unit': 'g'}, 'Fiber': {'amount': '0', 'unit': 'g'}, 'Fat': {'amount': '0', 'unit': 'g'}, 'Cholesterol': {'amount': '0', 'unit': 'mg'}, 'Sodium': {'amount': '0.1', 'unit': 'mg'}}]\n",
            "['onion tomato koshimbir', 'https://cdn.tarladalal.com/members/9306/big/big_onion_tomato_koshimbir-14928.jpg?size=696X905', '1/2 cup chopped onions^1 1/4 cups chopped tomatoes^2 tbsp finely chopped coriander (dhania)^salt to taste^1 1/2 tsp oil^1/2 tsp mustard seeds ( rai / sarson)^1/4 tsp asafoetida (hing)^1 1/2 tsp roughly chopped green chillies', 'To make onion tomato koshimbir, combine the onions, tomatoes, coriander and salt in a deep bowl and mix well. Keep aside.^Heat the oil in a small non-stick pan and add the mustard seeds.^When the seeds crackle, add the asafoetida, green chillies and sauté on a medium flame for a few seconds.^Pour the tempering over the tomato-onion mixture and mix well.^Serve the onion tomato koshimbir immediately.', {'calories': {'amount': '42', 'unit': 'cal'}, 'Protein': {'amount': '0.7', 'unit': 'g'}, 'Carbohydrates': {'amount': '4.9', 'unit': 'g'}, 'Fiber': {'amount': '1', 'unit': 'g'}, 'Fat': {'amount': '2.1', 'unit': 'g'}, 'Cholesterol': {'amount': '0', 'unit': 'mg'}, 'Sodium': {'amount': '7.8', 'unit': 'mg'}}]\n",
            "['karela juice recipe for', 'https://cdn.tarladalal.com/members/9306/big/big_how_to_make_karela_juice,_bitter_gourd_juice_for_diabetes-14291.jpg?size=696X905', '1 cup deseeded and roughly chopped bitter gourd (karela)^1/2 tsp lemon juice^salt to taste', 'To make karela juice, combine the karela and ½ cup of water in mixer and blend till smooth.^Strain the mixture using ½ cup of water.^Add the lemon juice and salt and mix well.^Pour equal quantities of the karela juice into 2 small glasses and serve immediately.', {'calories': {'amount': '15', 'unit': 'cal'}, 'Protein': {'amount': '0.9', 'unit': 'g'}, 'Carbohydrates': {'amount': '2.6', 'unit': 'g'}, 'Fiber': {'amount': '2.5', 'unit': 'g'}, 'Fat': {'amount': '0.1', 'unit': 'g'}, 'Cholesterol': {'amount': '0', 'unit': 'mg'}, 'Sodium': {'amount': '1.4', 'unit': 'mg'}}]\n",
            "['Strawberry Lemon Basil Infused', 'https://cdn.tarladalal.com/members/9306/big/big_strawberry_lemon_basil_infused_water-13047.jpg?size=696X905', '6 big strawberries , pressed lightly and cut into halves vertically^1 lemon slice^4 basil leaves , torn into pieces', \"Put half the strawberry halves, lemon slice, basil leaves and the remaining strawberry halves in the infusing tube and close the lid.^Fill ¾ of the bottle with water, place the infusing tube in it, close the lid of the bottle tightly and shake it lightly.^Keep aside to infuse for 2 hours.^Once the water has been infused with the flavor of lemon slice, remove the peel of the lemon slice and discard it so that the infused water doesn't turn too sour or bitter.^Put the peeled lemon slice back into the infusing tube.\", {'calories': {'amount': '5', 'unit': 'cal'}, 'Protein': {'amount': '0.1', 'unit': 'g'}, 'Carbohydrates': {'amount': '1.2', 'unit': 'g'}, 'Fiber': {'amount': '0.3', 'unit': 'g'}, 'Fat': {'amount': '0', 'unit': 'g'}, 'Cholesterol': {'amount': '0', 'unit': 'mg'}, 'Sodium': {'amount': '0.1', 'unit': 'mg'}}]\n"
          ]
        }
      ],
      "source": [
        "count = 0\n",
        "\n",
        "for recipe_info in recipe_informations_5:\n",
        "  print(recipe_info)\n",
        "\n",
        "  count += 1\n",
        "  if count == 20:\n",
        "    break"
      ]
    },
    {
      "cell_type": "code",
      "execution_count": null,
      "metadata": {
        "colab": {
          "base_uri": "https://localhost:8080/"
        },
        "id": "aGXmszZg1vVl",
        "outputId": "2e1f4a0a-b8fe-400c-9a88-db6ee552188b"
      },
      "outputs": [
        {
          "output_type": "execute_result",
          "data": {
            "text/plain": [
              "495"
            ]
          },
          "metadata": {},
          "execution_count": 22
        }
      ],
      "source": [
        "len(recipe_informations_5)"
      ]
    },
    {
      "cell_type": "markdown",
      "metadata": {
        "id": "ImKL-9ew1vcH"
      },
      "source": [
        "#### Converting Recipe Information into CSV"
      ]
    },
    {
      "cell_type": "code",
      "execution_count": null,
      "metadata": {
        "id": "20br9fmw19h6",
        "colab": {
          "base_uri": "https://localhost:8080/",
          "height": 641
        },
        "outputId": "7fe82227-831c-441c-c2ad-a7c15f32e94c"
      },
      "outputs": [
        {
          "output_type": "execute_result",
          "data": {
            "text/html": [
              "\n",
              "  <div id=\"df-8bfdd19d-9d02-4e9c-8cbf-afdaf8ad3b68\">\n",
              "    <div class=\"colab-df-container\">\n",
              "      <div>\n",
              "<style scoped>\n",
              "    .dataframe tbody tr th:only-of-type {\n",
              "        vertical-align: middle;\n",
              "    }\n",
              "\n",
              "    .dataframe tbody tr th {\n",
              "        vertical-align: top;\n",
              "    }\n",
              "\n",
              "    .dataframe thead th {\n",
              "        text-align: right;\n",
              "    }\n",
              "</style>\n",
              "<table border=\"1\" class=\"dataframe\">\n",
              "  <thead>\n",
              "    <tr style=\"text-align: right;\">\n",
              "      <th></th>\n",
              "      <th>recipe_name</th>\n",
              "      <th>image_url</th>\n",
              "      <th>ingredients</th>\n",
              "      <th>cooking_directions</th>\n",
              "      <th>nutritions</th>\n",
              "    </tr>\n",
              "  </thead>\n",
              "  <tbody>\n",
              "    <tr>\n",
              "      <th>0</th>\n",
              "      <td>Low Fat</td>\n",
              "      <td>https://cdn.tarladalal.com/members/9306/big/bi...</td>\n",
              "      <td>5 cups low fat milk^1 tbsp curd (dahi)</td>\n",
              "      <td>To make low fat curds, heat the milk in a deep...</td>\n",
              "      <td>{'calories': {'amount': '74', 'unit': 'cal'}, ...</td>\n",
              "    </tr>\n",
              "    <tr>\n",
              "      <th>1</th>\n",
              "      <td>Low Cal Tomato</td>\n",
              "      <td>https://cdn.tarladalal.com/members/9306/big/bi...</td>\n",
              "      <td>5 cups roughly chopped tomatoes^1/4 cup yellow...</td>\n",
              "      <td>To make low cal tomato soup, combine 4 cups of...</td>\n",
              "      <td>{'calories': {'amount': '66', 'unit': 'calorie...</td>\n",
              "    </tr>\n",
              "    <tr>\n",
              "      <th>2</th>\n",
              "      <td>garlic vegetable soup</td>\n",
              "      <td>https://cdn.tarladalal.com/members/9306/big/bi...</td>\n",
              "      <td>2 tsp finely chopped garlic (lehsun)^1 cup cho...</td>\n",
              "      <td>To make garlic vegetable soup, heat the oil in...</td>\n",
              "      <td>{'calories': {'amount': '43', 'unit': 'cal'}, ...</td>\n",
              "    </tr>\n",
              "    <tr>\n",
              "      <th>3</th>\n",
              "      <td>Homemade Almond Butter, for Weight Loss and</td>\n",
              "      <td>https://cdn.tarladalal.com/members/9306/big/bi...</td>\n",
              "      <td>2 cups almonds (badam)^1 tbsp organic coconut oil</td>\n",
              "      <td>Roast the almonds in a broad non-stick pan for...</td>\n",
              "      <td>{'calories': {'amount': '103', 'unit': 'cal'},...</td>\n",
              "    </tr>\n",
              "    <tr>\n",
              "      <th>4</th>\n",
              "      <td>Moong Dal and Spinach</td>\n",
              "      <td>https://cdn.tarladalal.com/members/9306/big/bi...</td>\n",
              "      <td>4 tbsp yellow moong dal (split yellow gram) , ...</td>\n",
              "      <td>Combine the cornflour and milk in a bowl, mix ...</td>\n",
              "      <td>{'calories': {'amount': '120', 'unit': 'cal'},...</td>\n",
              "    </tr>\n",
              "    <tr>\n",
              "      <th>...</th>\n",
              "      <td>...</td>\n",
              "      <td>...</td>\n",
              "      <td>...</td>\n",
              "      <td>...</td>\n",
              "      <td>...</td>\n",
              "    </tr>\n",
              "    <tr>\n",
              "      <th>490</th>\n",
              "      <td>Methi</td>\n",
              "      <td>https://cdn.tarladalal.com/members/9306/big/bi...</td>\n",
              "      <td>1 bunch chopped fenugreek (methi)^1/2 cup crus...</td>\n",
              "      <td></td>\n",
              "      <td>{'calories': {'amount': '264', 'unit': 'cal'},...</td>\n",
              "    </tr>\n",
              "    <tr>\n",
              "      <th>491</th>\n",
              "      <td>Wholesome</td>\n",
              "      <td>https://cdn.tarladalal.com/members/9306/big/bi...</td>\n",
              "      <td>2 whole wheat hot dog rolls^1 tsp melted butte...</td>\n",
              "      <td>Heat the butter in a broad non-stick pan, add ...</td>\n",
              "      <td>{'calories': {'amount': '161', 'unit': 'cal'},...</td>\n",
              "    </tr>\n",
              "    <tr>\n",
              "      <th>492</th>\n",
              "      <td>Baked Palak Methi</td>\n",
              "      <td>https://cdn.tarladalal.com/members/9306/big/bi...</td>\n",
              "      <td>1/2 cup chopped spinach (palak)^1/4 cup choppe...</td>\n",
              "      <td>Combine all the ingredients in a deep bowl and...</td>\n",
              "      <td>{'calories': {'amount': '37', 'unit': 'cal'}, ...</td>\n",
              "    </tr>\n",
              "    <tr>\n",
              "      <th>493</th>\n",
              "      <td>Sweet Lime and Pepper</td>\n",
              "      <td>https://cdn.tarladalal.com/members/9306/big/bi...</td>\n",
              "      <td>1 cup sweet lime (mosambi) segments^1 cup yell...</td>\n",
              "      <td>Combine all the ingredients for the salad in a...</td>\n",
              "      <td>{'calories': {'amount': '44', 'unit': 'cal'}, ...</td>\n",
              "    </tr>\n",
              "    <tr>\n",
              "      <th>494</th>\n",
              "      <td>Dosakaya</td>\n",
              "      <td>https://cdn.tarladalal.com/members/496726/imag...</td>\n",
              "      <td>1 medium yellow cucumber^8 to 10 green chillie...</td>\n",
              "      <td>Chop the yellow cucumber into fine cubes.^Grin...</td>\n",
              "      <td>{'calories': {'amount': '24', 'unit': 'cal'}, ...</td>\n",
              "    </tr>\n",
              "  </tbody>\n",
              "</table>\n",
              "<p>495 rows × 5 columns</p>\n",
              "</div>\n",
              "      <button class=\"colab-df-convert\" onclick=\"convertToInteractive('df-8bfdd19d-9d02-4e9c-8cbf-afdaf8ad3b68')\"\n",
              "              title=\"Convert this dataframe to an interactive table.\"\n",
              "              style=\"display:none;\">\n",
              "        \n",
              "  <svg xmlns=\"http://www.w3.org/2000/svg\" height=\"24px\"viewBox=\"0 0 24 24\"\n",
              "       width=\"24px\">\n",
              "    <path d=\"M0 0h24v24H0V0z\" fill=\"none\"/>\n",
              "    <path d=\"M18.56 5.44l.94 2.06.94-2.06 2.06-.94-2.06-.94-.94-2.06-.94 2.06-2.06.94zm-11 1L8.5 8.5l.94-2.06 2.06-.94-2.06-.94L8.5 2.5l-.94 2.06-2.06.94zm10 10l.94 2.06.94-2.06 2.06-.94-2.06-.94-.94-2.06-.94 2.06-2.06.94z\"/><path d=\"M17.41 7.96l-1.37-1.37c-.4-.4-.92-.59-1.43-.59-.52 0-1.04.2-1.43.59L10.3 9.45l-7.72 7.72c-.78.78-.78 2.05 0 2.83L4 21.41c.39.39.9.59 1.41.59.51 0 1.02-.2 1.41-.59l7.78-7.78 2.81-2.81c.8-.78.8-2.07 0-2.86zM5.41 20L4 18.59l7.72-7.72 1.47 1.35L5.41 20z\"/>\n",
              "  </svg>\n",
              "      </button>\n",
              "      \n",
              "  <style>\n",
              "    .colab-df-container {\n",
              "      display:flex;\n",
              "      flex-wrap:wrap;\n",
              "      gap: 12px;\n",
              "    }\n",
              "\n",
              "    .colab-df-convert {\n",
              "      background-color: #E8F0FE;\n",
              "      border: none;\n",
              "      border-radius: 50%;\n",
              "      cursor: pointer;\n",
              "      display: none;\n",
              "      fill: #1967D2;\n",
              "      height: 32px;\n",
              "      padding: 0 0 0 0;\n",
              "      width: 32px;\n",
              "    }\n",
              "\n",
              "    .colab-df-convert:hover {\n",
              "      background-color: #E2EBFA;\n",
              "      box-shadow: 0px 1px 2px rgba(60, 64, 67, 0.3), 0px 1px 3px 1px rgba(60, 64, 67, 0.15);\n",
              "      fill: #174EA6;\n",
              "    }\n",
              "\n",
              "    [theme=dark] .colab-df-convert {\n",
              "      background-color: #3B4455;\n",
              "      fill: #D2E3FC;\n",
              "    }\n",
              "\n",
              "    [theme=dark] .colab-df-convert:hover {\n",
              "      background-color: #434B5C;\n",
              "      box-shadow: 0px 1px 3px 1px rgba(0, 0, 0, 0.15);\n",
              "      filter: drop-shadow(0px 1px 2px rgba(0, 0, 0, 0.3));\n",
              "      fill: #FFFFFF;\n",
              "    }\n",
              "  </style>\n",
              "\n",
              "      <script>\n",
              "        const buttonEl =\n",
              "          document.querySelector('#df-8bfdd19d-9d02-4e9c-8cbf-afdaf8ad3b68 button.colab-df-convert');\n",
              "        buttonEl.style.display =\n",
              "          google.colab.kernel.accessAllowed ? 'block' : 'none';\n",
              "\n",
              "        async function convertToInteractive(key) {\n",
              "          const element = document.querySelector('#df-8bfdd19d-9d02-4e9c-8cbf-afdaf8ad3b68');\n",
              "          const dataTable =\n",
              "            await google.colab.kernel.invokeFunction('convertToInteractive',\n",
              "                                                     [key], {});\n",
              "          if (!dataTable) return;\n",
              "\n",
              "          const docLinkHtml = 'Like what you see? Visit the ' +\n",
              "            '<a target=\"_blank\" href=https://colab.research.google.com/notebooks/data_table.ipynb>data table notebook</a>'\n",
              "            + ' to learn more about interactive tables.';\n",
              "          element.innerHTML = '';\n",
              "          dataTable['output_type'] = 'display_data';\n",
              "          await google.colab.output.renderOutput(dataTable, element);\n",
              "          const docLink = document.createElement('div');\n",
              "          docLink.innerHTML = docLinkHtml;\n",
              "          element.appendChild(docLink);\n",
              "        }\n",
              "      </script>\n",
              "    </div>\n",
              "  </div>\n",
              "  "
            ],
            "text/plain": [
              "                                     recipe_name  ...                                         nutritions\n",
              "0                                        Low Fat  ...  {'calories': {'amount': '74', 'unit': 'cal'}, ...\n",
              "1                                 Low Cal Tomato  ...  {'calories': {'amount': '66', 'unit': 'calorie...\n",
              "2                          garlic vegetable soup  ...  {'calories': {'amount': '43', 'unit': 'cal'}, ...\n",
              "3    Homemade Almond Butter, for Weight Loss and  ...  {'calories': {'amount': '103', 'unit': 'cal'},...\n",
              "4                          Moong Dal and Spinach  ...  {'calories': {'amount': '120', 'unit': 'cal'},...\n",
              "..                                           ...  ...                                                ...\n",
              "490                                        Methi  ...  {'calories': {'amount': '264', 'unit': 'cal'},...\n",
              "491                                    Wholesome  ...  {'calories': {'amount': '161', 'unit': 'cal'},...\n",
              "492                            Baked Palak Methi  ...  {'calories': {'amount': '37', 'unit': 'cal'}, ...\n",
              "493                        Sweet Lime and Pepper  ...  {'calories': {'amount': '44', 'unit': 'cal'}, ...\n",
              "494                                     Dosakaya  ...  {'calories': {'amount': '24', 'unit': 'cal'}, ...\n",
              "\n",
              "[495 rows x 5 columns]"
            ]
          },
          "metadata": {},
          "execution_count": 23
        }
      ],
      "source": [
        "columns = ['recipe_name', 'image_url', 'ingredients', 'cooking_directions', 'nutritions']\n",
        "df = pd.DataFrame(recipe_informations_5, columns = columns)\n",
        "df"
      ]
    },
    {
      "cell_type": "code",
      "execution_count": null,
      "metadata": {
        "id": "fXBJU9YR2CDf"
      },
      "outputs": [],
      "source": [
        "df.to_csv(\"/content/drive/MyDrive/Manual_Dataset/data_recipe_tarladalal.csv\")"
      ]
    }
  ],
  "metadata": {
    "colab": {
      "collapsed_sections": [],
      "provenance": []
    },
    "kernelspec": {
      "display_name": "Python 3",
      "name": "python3"
    },
    "language_info": {
      "name": "python"
    }
  },
  "nbformat": 4,
  "nbformat_minor": 0
}